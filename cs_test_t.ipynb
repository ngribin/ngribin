{
 "cells": [
  {
   "cell_type": "markdown",
   "id": "55e06af7",
   "metadata": {},
   "source": [
    "<h1>Содержание<span class=\"tocSkip\"></span></h1>\n",
    "<div class=\"toc\"><ul class=\"toc-item\"><li><span><a href=\"#Подготовка-данных\" data-toc-modified-id=\"Подготовка-данных-1\"><span class=\"toc-item-num\">1&nbsp;&nbsp;</span>Подготовка данных</a></span></li><li><span><a href=\"#Исследование-задачи\" data-toc-modified-id=\"Исследование-задачи-2\"><span class=\"toc-item-num\">2&nbsp;&nbsp;</span>Исследование задачи</a></span></li><li><span><a href=\"#Подбор Features importances\" data-toc-modified-id=\"#Подбор Features importances\"><span class=\"toc-item-num\">3&nbsp;&nbsp;</span>Подбор Features importances</a></span></li><li><span><a href=\"#Тестирование-модели\" data-toc-modified-id=\"Тестирование-модели-4\"><span class=\"toc-item-num\">4&nbsp;&nbsp;</span>Тестирование модели</a></span></li></ul></div>"
   ]
  },
  {
   "cell_type": "code",
   "execution_count": 1,
   "id": "ef5aa5f7",
   "metadata": {},
   "outputs": [],
   "source": [
    "import pandas as pd\n",
    "import numpy as np\n",
    "import matplotlib.pyplot as plt\n",
    "import seaborn as sns\n",
    "from sklearn.tree import DecisionTreeClassifier \n",
    "from sklearn.ensemble import RandomForestClassifier\n",
    "from sklearn.linear_model import LogisticRegression\n",
    "from sklearn.model_selection import train_test_split\n",
    "from sklearn.metrics import accuracy_score, classification_report \n",
    "from sklearn.model_selection import GridSearchCV\n",
    "import xgboost as xgb\n",
    "\n",
    "from sklearn.metrics import accuracy_score, f1_score, recall_score, precision_score, roc_auc_score, roc_curve, precision_recall_curve\n",
    "from sklearn.impute import SimpleImputer\n",
    "from sklearn.pipeline import Pipeline\n",
    "from sklearn.preprocessing import OneHotEncoder\n",
    "from sklearn.preprocessing import StandardScaler\n",
    "from sklearn.compose import ColumnTransformer\n",
    "\n",
    "from sklearn.model_selection import train_test_split\n",
    "from sklearn.metrics import accuracy_score\n",
    "\n",
    "from tqdm import tqdm\n",
    "\n",
    "pd.set_option('display.max_rows', 500)\n",
    "pd.set_option('display.max_columns', 500)\n",
    "pd.set_option('display.width', 1000)\n",
    "\n",
    "color_pal = sns.color_palette()\n",
    "plt.style.use('fivethirtyeight')"
   ]
  },
  {
   "cell_type": "markdown",
   "id": "8cf63a08",
   "metadata": {},
   "source": [
    "# Подготовка данных"
   ]
  },
  {
   "cell_type": "code",
   "execution_count": 2,
   "id": "d992e38d",
   "metadata": {},
   "outputs": [],
   "source": [
    "# импортируем датасеты\n",
    "cs = pd.read_csv('D:\\Data Science\\Тестовые\\csgo_dataset\\players_feats.csv')\n",
    "cs_train = pd.read_csv(r'D:\\Data Science\\Тестовые\\csgo_dataset\\train.csv', delimiter=',')\n",
    "cs_test = pd.read_csv(r'D:\\Data Science\\Тестовые\\csgo_dataset\\test.csv', delimiter=',')"
   ]
  },
  {
   "cell_type": "code",
   "execution_count": 3,
   "id": "f3a20a70",
   "metadata": {},
   "outputs": [
    {
     "data": {
      "text/plain": [
       "(14823, 136)"
      ]
     },
     "execution_count": 3,
     "metadata": {},
     "output_type": "execute_result"
    }
   ],
   "source": [
    "# мердж датасетов с признаками и результатми on map_id and team_id\n",
    "\n",
    "merge_ord = cs.merge(cs_train, left_on=['map_id','team_id'], right_on=['map_id','team1_id'], how='inner' ).merge(cs_train, on='team2_id', how='left')\n",
    "\n",
    "merge_ord.shape"
   ]
  },
  {
   "cell_type": "code",
   "execution_count": 4,
   "id": "b79beb15",
   "metadata": {
    "scrolled": false
   },
   "outputs": [
    {
     "data": {
      "text/html": [
       "<div>\n",
       "<style scoped>\n",
       "    .dataframe tbody tr th:only-of-type {\n",
       "        vertical-align: middle;\n",
       "    }\n",
       "\n",
       "    .dataframe tbody tr th {\n",
       "        vertical-align: top;\n",
       "    }\n",
       "\n",
       "    .dataframe thead th {\n",
       "        text-align: right;\n",
       "    }\n",
       "</style>\n",
       "<table border=\"1\" class=\"dataframe\">\n",
       "  <thead>\n",
       "    <tr style=\"text-align: right;\">\n",
       "      <th></th>\n",
       "      <th>p1_id</th>\n",
       "      <th>p1_total_kills</th>\n",
       "      <th>p1_headshots</th>\n",
       "      <th>p1_total_deaths</th>\n",
       "      <th>p1_kd_ratio</th>\n",
       "      <th>p1_damage_per_round</th>\n",
       "      <th>p1_grenade_damage_per_round</th>\n",
       "      <th>p1_maps_played</th>\n",
       "      <th>p1_rounds_played</th>\n",
       "      <th>p1_kills_per_round</th>\n",
       "      <th>p1_assists_per_round</th>\n",
       "      <th>p1_deaths_per_round</th>\n",
       "      <th>p1_saved_by_teammate_per_round</th>\n",
       "      <th>p1_saved_teammates_per_round</th>\n",
       "      <th>p1_rating</th>\n",
       "      <th>p1_kill_death</th>\n",
       "      <th>p1_kill_round</th>\n",
       "      <th>p1_rounds_with_kills</th>\n",
       "      <th>p1_kill_death_difference</th>\n",
       "      <th>p1_total_opening_kills</th>\n",
       "      <th>p1_total_opening_deaths</th>\n",
       "      <th>p1_opening_kill_ratio</th>\n",
       "      <th>p1_opening_kill_rating</th>\n",
       "      <th>p1_team_win_percent_after_first_kill</th>\n",
       "      <th>p1_first_kill_in_won_rounds</th>\n",
       "      <th>p2_id</th>\n",
       "      <th>p2_total_kills</th>\n",
       "      <th>p2_headshots</th>\n",
       "      <th>p2_total_deaths</th>\n",
       "      <th>p2_kd_ratio</th>\n",
       "      <th>p2_damage_per_round</th>\n",
       "      <th>p2_grenade_damage_per_round</th>\n",
       "      <th>p2_maps_played</th>\n",
       "      <th>p2_rounds_played</th>\n",
       "      <th>p2_kills_per_round</th>\n",
       "      <th>p2_assists_per_round</th>\n",
       "      <th>p2_deaths_per_round</th>\n",
       "      <th>p2_saved_by_teammate_per_round</th>\n",
       "      <th>p2_saved_teammates_per_round</th>\n",
       "      <th>p2_rating</th>\n",
       "      <th>p2_kill_death</th>\n",
       "      <th>p2_kill_round</th>\n",
       "      <th>p2_rounds_with_kills</th>\n",
       "      <th>p2_kill_death_difference</th>\n",
       "      <th>p2_total_opening_kills</th>\n",
       "      <th>p2_total_opening_deaths</th>\n",
       "      <th>p2_opening_kill_ratio</th>\n",
       "      <th>p2_opening_kill_rating</th>\n",
       "      <th>p2_team_win_percent_after_first_kill</th>\n",
       "      <th>p2_first_kill_in_won_rounds</th>\n",
       "      <th>p3_id</th>\n",
       "      <th>p3_total_kills</th>\n",
       "      <th>p3_headshots</th>\n",
       "      <th>p3_total_deaths</th>\n",
       "      <th>p3_kd_ratio</th>\n",
       "      <th>p3_damage_per_round</th>\n",
       "      <th>p3_grenade_damage_per_round</th>\n",
       "      <th>p3_maps_played</th>\n",
       "      <th>p3_rounds_played</th>\n",
       "      <th>p3_kills_per_round</th>\n",
       "      <th>p3_assists_per_round</th>\n",
       "      <th>p3_deaths_per_round</th>\n",
       "      <th>p3_saved_by_teammate_per_round</th>\n",
       "      <th>p3_saved_teammates_per_round</th>\n",
       "      <th>p3_rating</th>\n",
       "      <th>p3_kill_death</th>\n",
       "      <th>p3_kill_round</th>\n",
       "      <th>p3_rounds_with_kills</th>\n",
       "      <th>p3_kill_death_difference</th>\n",
       "      <th>p3_total_opening_kills</th>\n",
       "      <th>p3_total_opening_deaths</th>\n",
       "      <th>p3_opening_kill_ratio</th>\n",
       "      <th>p3_opening_kill_rating</th>\n",
       "      <th>p3_team_win_percent_after_first_kill</th>\n",
       "      <th>p3_first_kill_in_won_rounds</th>\n",
       "      <th>p4_id</th>\n",
       "      <th>p4_total_kills</th>\n",
       "      <th>p4_headshots</th>\n",
       "      <th>p4_total_deaths</th>\n",
       "      <th>p4_kd_ratio</th>\n",
       "      <th>p4_damage_per_round</th>\n",
       "      <th>p4_grenade_damage_per_round</th>\n",
       "      <th>p4_maps_played</th>\n",
       "      <th>p4_rounds_played</th>\n",
       "      <th>p4_kills_per_round</th>\n",
       "      <th>p4_assists_per_round</th>\n",
       "      <th>p4_deaths_per_round</th>\n",
       "      <th>p4_saved_by_teammate_per_round</th>\n",
       "      <th>p4_saved_teammates_per_round</th>\n",
       "      <th>p4_rating</th>\n",
       "      <th>p4_kill_death</th>\n",
       "      <th>p4_kill_round</th>\n",
       "      <th>p4_rounds_with_kills</th>\n",
       "      <th>p4_kill_death_difference</th>\n",
       "      <th>p4_total_opening_kills</th>\n",
       "      <th>p4_total_opening_deaths</th>\n",
       "      <th>p4_opening_kill_ratio</th>\n",
       "      <th>p4_opening_kill_rating</th>\n",
       "      <th>p4_team_win_percent_after_first_kill</th>\n",
       "      <th>p4_first_kill_in_won_rounds</th>\n",
       "      <th>p5_id</th>\n",
       "      <th>p5_total_kills</th>\n",
       "      <th>p5_headshots</th>\n",
       "      <th>p5_total_deaths</th>\n",
       "      <th>p5_kd_ratio</th>\n",
       "      <th>p5_damage_per_round</th>\n",
       "      <th>p5_grenade_damage_per_round</th>\n",
       "      <th>p5_maps_played</th>\n",
       "      <th>p5_rounds_played</th>\n",
       "      <th>p5_kills_per_round</th>\n",
       "      <th>p5_assists_per_round</th>\n",
       "      <th>p5_deaths_per_round</th>\n",
       "      <th>p5_saved_by_teammate_per_round</th>\n",
       "      <th>p5_saved_teammates_per_round</th>\n",
       "      <th>p5_rating</th>\n",
       "      <th>p5_kill_death</th>\n",
       "      <th>p5_kill_round</th>\n",
       "      <th>p5_rounds_with_kills</th>\n",
       "      <th>p5_kill_death_difference</th>\n",
       "      <th>p5_total_opening_kills</th>\n",
       "      <th>p5_total_opening_deaths</th>\n",
       "      <th>p5_opening_kill_ratio</th>\n",
       "      <th>p5_opening_kill_rating</th>\n",
       "      <th>p5_team_win_percent_after_first_kill</th>\n",
       "      <th>p5_first_kill_in_won_rounds</th>\n",
       "      <th>team_id</th>\n",
       "      <th>map_name_x</th>\n",
       "      <th>map_id_x</th>\n",
       "      <th>team1_id_x</th>\n",
       "      <th>team2_id</th>\n",
       "      <th>map_name_y</th>\n",
       "      <th>who_win_x</th>\n",
       "      <th>map_id_y</th>\n",
       "      <th>team1_id_y</th>\n",
       "      <th>map_name</th>\n",
       "      <th>who_win_y</th>\n",
       "    </tr>\n",
       "  </thead>\n",
       "  <tbody>\n",
       "    <tr>\n",
       "      <th>0</th>\n",
       "      <td>4954</td>\n",
       "      <td>90</td>\n",
       "      <td>42.2</td>\n",
       "      <td>112</td>\n",
       "      <td>0.8</td>\n",
       "      <td>76.3</td>\n",
       "      <td>5.9</td>\n",
       "      <td>6</td>\n",
       "      <td>156</td>\n",
       "      <td>0.58</td>\n",
       "      <td>0.24</td>\n",
       "      <td>0.72</td>\n",
       "      <td>0.13</td>\n",
       "      <td>0.05</td>\n",
       "      <td>0.98</td>\n",
       "      <td>0.8</td>\n",
       "      <td>0.58</td>\n",
       "      <td>62</td>\n",
       "      <td>-22</td>\n",
       "      <td>10</td>\n",
       "      <td>13</td>\n",
       "      <td>0.77</td>\n",
       "      <td>0.85</td>\n",
       "      <td>60.0</td>\n",
       "      <td>8.2</td>\n",
       "      <td>7412</td>\n",
       "      <td>106</td>\n",
       "      <td>35.8</td>\n",
       "      <td>119</td>\n",
       "      <td>0.89</td>\n",
       "      <td>66.8</td>\n",
       "      <td>5.6</td>\n",
       "      <td>7</td>\n",
       "      <td>181</td>\n",
       "      <td>0.59</td>\n",
       "      <td>0.09</td>\n",
       "      <td>0.66</td>\n",
       "      <td>0.07</td>\n",
       "      <td>0.06</td>\n",
       "      <td>0.91</td>\n",
       "      <td>0.89</td>\n",
       "      <td>0.59</td>\n",
       "      <td>75</td>\n",
       "      <td>-13</td>\n",
       "      <td>17</td>\n",
       "      <td>27</td>\n",
       "      <td>0.63</td>\n",
       "      <td>0.89</td>\n",
       "      <td>82.4</td>\n",
       "      <td>15.4</td>\n",
       "      <td>9078</td>\n",
       "      <td>46</td>\n",
       "      <td>65.2</td>\n",
       "      <td>54</td>\n",
       "      <td>0.85</td>\n",
       "      <td>76.9</td>\n",
       "      <td>4.5</td>\n",
       "      <td>3</td>\n",
       "      <td>75</td>\n",
       "      <td>0.61</td>\n",
       "      <td>0.16</td>\n",
       "      <td>0.72</td>\n",
       "      <td>0.07</td>\n",
       "      <td>0.07</td>\n",
       "      <td>0.93</td>\n",
       "      <td>0.85</td>\n",
       "      <td>0.61</td>\n",
       "      <td>34</td>\n",
       "      <td>-8</td>\n",
       "      <td>4</td>\n",
       "      <td>14</td>\n",
       "      <td>0.29</td>\n",
       "      <td>0.62</td>\n",
       "      <td>50.0</td>\n",
       "      <td>5.0</td>\n",
       "      <td>13843</td>\n",
       "      <td>110</td>\n",
       "      <td>40.9</td>\n",
       "      <td>139</td>\n",
       "      <td>0.79</td>\n",
       "      <td>53.8</td>\n",
       "      <td>3.0</td>\n",
       "      <td>8</td>\n",
       "      <td>204</td>\n",
       "      <td>0.54</td>\n",
       "      <td>0.06</td>\n",
       "      <td>0.68</td>\n",
       "      <td>0.06</td>\n",
       "      <td>0.09</td>\n",
       "      <td>0.83</td>\n",
       "      <td>0.79</td>\n",
       "      <td>0.54</td>\n",
       "      <td>80</td>\n",
       "      <td>-29</td>\n",
       "      <td>15</td>\n",
       "      <td>20</td>\n",
       "      <td>0.75</td>\n",
       "      <td>0.87</td>\n",
       "      <td>53.3</td>\n",
       "      <td>8.2</td>\n",
       "      <td>15165</td>\n",
       "      <td>140</td>\n",
       "      <td>40.7</td>\n",
       "      <td>133</td>\n",
       "      <td>1.05</td>\n",
       "      <td>83.9</td>\n",
       "      <td>9.2</td>\n",
       "      <td>8</td>\n",
       "      <td>198</td>\n",
       "      <td>0.71</td>\n",
       "      <td>0.17</td>\n",
       "      <td>0.67</td>\n",
       "      <td>0.07</td>\n",
       "      <td>0.07</td>\n",
       "      <td>1.16</td>\n",
       "      <td>1.04</td>\n",
       "      <td>0.7</td>\n",
       "      <td>84</td>\n",
       "      <td>5</td>\n",
       "      <td>25</td>\n",
       "      <td>12</td>\n",
       "      <td>2.08</td>\n",
       "      <td>1.28</td>\n",
       "      <td>84.0</td>\n",
       "      <td>25.0</td>\n",
       "      <td>6665</td>\n",
       "      <td>Ancient</td>\n",
       "      <td>635</td>\n",
       "      <td>6665</td>\n",
       "      <td>7532</td>\n",
       "      <td>Ancient</td>\n",
       "      <td>1</td>\n",
       "      <td>524</td>\n",
       "      <td>4608</td>\n",
       "      <td>Mirage</td>\n",
       "      <td>0</td>\n",
       "    </tr>\n",
       "    <tr>\n",
       "      <th>1</th>\n",
       "      <td>4954</td>\n",
       "      <td>90</td>\n",
       "      <td>42.2</td>\n",
       "      <td>112</td>\n",
       "      <td>0.8</td>\n",
       "      <td>76.3</td>\n",
       "      <td>5.9</td>\n",
       "      <td>6</td>\n",
       "      <td>156</td>\n",
       "      <td>0.58</td>\n",
       "      <td>0.24</td>\n",
       "      <td>0.72</td>\n",
       "      <td>0.13</td>\n",
       "      <td>0.05</td>\n",
       "      <td>0.98</td>\n",
       "      <td>0.8</td>\n",
       "      <td>0.58</td>\n",
       "      <td>62</td>\n",
       "      <td>-22</td>\n",
       "      <td>10</td>\n",
       "      <td>13</td>\n",
       "      <td>0.77</td>\n",
       "      <td>0.85</td>\n",
       "      <td>60.0</td>\n",
       "      <td>8.2</td>\n",
       "      <td>7412</td>\n",
       "      <td>106</td>\n",
       "      <td>35.8</td>\n",
       "      <td>119</td>\n",
       "      <td>0.89</td>\n",
       "      <td>66.8</td>\n",
       "      <td>5.6</td>\n",
       "      <td>7</td>\n",
       "      <td>181</td>\n",
       "      <td>0.59</td>\n",
       "      <td>0.09</td>\n",
       "      <td>0.66</td>\n",
       "      <td>0.07</td>\n",
       "      <td>0.06</td>\n",
       "      <td>0.91</td>\n",
       "      <td>0.89</td>\n",
       "      <td>0.59</td>\n",
       "      <td>75</td>\n",
       "      <td>-13</td>\n",
       "      <td>17</td>\n",
       "      <td>27</td>\n",
       "      <td>0.63</td>\n",
       "      <td>0.89</td>\n",
       "      <td>82.4</td>\n",
       "      <td>15.4</td>\n",
       "      <td>9078</td>\n",
       "      <td>46</td>\n",
       "      <td>65.2</td>\n",
       "      <td>54</td>\n",
       "      <td>0.85</td>\n",
       "      <td>76.9</td>\n",
       "      <td>4.5</td>\n",
       "      <td>3</td>\n",
       "      <td>75</td>\n",
       "      <td>0.61</td>\n",
       "      <td>0.16</td>\n",
       "      <td>0.72</td>\n",
       "      <td>0.07</td>\n",
       "      <td>0.07</td>\n",
       "      <td>0.93</td>\n",
       "      <td>0.85</td>\n",
       "      <td>0.61</td>\n",
       "      <td>34</td>\n",
       "      <td>-8</td>\n",
       "      <td>4</td>\n",
       "      <td>14</td>\n",
       "      <td>0.29</td>\n",
       "      <td>0.62</td>\n",
       "      <td>50.0</td>\n",
       "      <td>5.0</td>\n",
       "      <td>13843</td>\n",
       "      <td>110</td>\n",
       "      <td>40.9</td>\n",
       "      <td>139</td>\n",
       "      <td>0.79</td>\n",
       "      <td>53.8</td>\n",
       "      <td>3.0</td>\n",
       "      <td>8</td>\n",
       "      <td>204</td>\n",
       "      <td>0.54</td>\n",
       "      <td>0.06</td>\n",
       "      <td>0.68</td>\n",
       "      <td>0.06</td>\n",
       "      <td>0.09</td>\n",
       "      <td>0.83</td>\n",
       "      <td>0.79</td>\n",
       "      <td>0.54</td>\n",
       "      <td>80</td>\n",
       "      <td>-29</td>\n",
       "      <td>15</td>\n",
       "      <td>20</td>\n",
       "      <td>0.75</td>\n",
       "      <td>0.87</td>\n",
       "      <td>53.3</td>\n",
       "      <td>8.2</td>\n",
       "      <td>15165</td>\n",
       "      <td>140</td>\n",
       "      <td>40.7</td>\n",
       "      <td>133</td>\n",
       "      <td>1.05</td>\n",
       "      <td>83.9</td>\n",
       "      <td>9.2</td>\n",
       "      <td>8</td>\n",
       "      <td>198</td>\n",
       "      <td>0.71</td>\n",
       "      <td>0.17</td>\n",
       "      <td>0.67</td>\n",
       "      <td>0.07</td>\n",
       "      <td>0.07</td>\n",
       "      <td>1.16</td>\n",
       "      <td>1.04</td>\n",
       "      <td>0.7</td>\n",
       "      <td>84</td>\n",
       "      <td>5</td>\n",
       "      <td>25</td>\n",
       "      <td>12</td>\n",
       "      <td>2.08</td>\n",
       "      <td>1.28</td>\n",
       "      <td>84.0</td>\n",
       "      <td>25.0</td>\n",
       "      <td>6665</td>\n",
       "      <td>Ancient</td>\n",
       "      <td>635</td>\n",
       "      <td>6665</td>\n",
       "      <td>7532</td>\n",
       "      <td>Ancient</td>\n",
       "      <td>1</td>\n",
       "      <td>98</td>\n",
       "      <td>9215</td>\n",
       "      <td>Mirage</td>\n",
       "      <td>1</td>\n",
       "    </tr>\n",
       "    <tr>\n",
       "      <th>2</th>\n",
       "      <td>4954</td>\n",
       "      <td>90</td>\n",
       "      <td>42.2</td>\n",
       "      <td>112</td>\n",
       "      <td>0.8</td>\n",
       "      <td>76.3</td>\n",
       "      <td>5.9</td>\n",
       "      <td>6</td>\n",
       "      <td>156</td>\n",
       "      <td>0.58</td>\n",
       "      <td>0.24</td>\n",
       "      <td>0.72</td>\n",
       "      <td>0.13</td>\n",
       "      <td>0.05</td>\n",
       "      <td>0.98</td>\n",
       "      <td>0.8</td>\n",
       "      <td>0.58</td>\n",
       "      <td>62</td>\n",
       "      <td>-22</td>\n",
       "      <td>10</td>\n",
       "      <td>13</td>\n",
       "      <td>0.77</td>\n",
       "      <td>0.85</td>\n",
       "      <td>60.0</td>\n",
       "      <td>8.2</td>\n",
       "      <td>7412</td>\n",
       "      <td>106</td>\n",
       "      <td>35.8</td>\n",
       "      <td>119</td>\n",
       "      <td>0.89</td>\n",
       "      <td>66.8</td>\n",
       "      <td>5.6</td>\n",
       "      <td>7</td>\n",
       "      <td>181</td>\n",
       "      <td>0.59</td>\n",
       "      <td>0.09</td>\n",
       "      <td>0.66</td>\n",
       "      <td>0.07</td>\n",
       "      <td>0.06</td>\n",
       "      <td>0.91</td>\n",
       "      <td>0.89</td>\n",
       "      <td>0.59</td>\n",
       "      <td>75</td>\n",
       "      <td>-13</td>\n",
       "      <td>17</td>\n",
       "      <td>27</td>\n",
       "      <td>0.63</td>\n",
       "      <td>0.89</td>\n",
       "      <td>82.4</td>\n",
       "      <td>15.4</td>\n",
       "      <td>9078</td>\n",
       "      <td>46</td>\n",
       "      <td>65.2</td>\n",
       "      <td>54</td>\n",
       "      <td>0.85</td>\n",
       "      <td>76.9</td>\n",
       "      <td>4.5</td>\n",
       "      <td>3</td>\n",
       "      <td>75</td>\n",
       "      <td>0.61</td>\n",
       "      <td>0.16</td>\n",
       "      <td>0.72</td>\n",
       "      <td>0.07</td>\n",
       "      <td>0.07</td>\n",
       "      <td>0.93</td>\n",
       "      <td>0.85</td>\n",
       "      <td>0.61</td>\n",
       "      <td>34</td>\n",
       "      <td>-8</td>\n",
       "      <td>4</td>\n",
       "      <td>14</td>\n",
       "      <td>0.29</td>\n",
       "      <td>0.62</td>\n",
       "      <td>50.0</td>\n",
       "      <td>5.0</td>\n",
       "      <td>13843</td>\n",
       "      <td>110</td>\n",
       "      <td>40.9</td>\n",
       "      <td>139</td>\n",
       "      <td>0.79</td>\n",
       "      <td>53.8</td>\n",
       "      <td>3.0</td>\n",
       "      <td>8</td>\n",
       "      <td>204</td>\n",
       "      <td>0.54</td>\n",
       "      <td>0.06</td>\n",
       "      <td>0.68</td>\n",
       "      <td>0.06</td>\n",
       "      <td>0.09</td>\n",
       "      <td>0.83</td>\n",
       "      <td>0.79</td>\n",
       "      <td>0.54</td>\n",
       "      <td>80</td>\n",
       "      <td>-29</td>\n",
       "      <td>15</td>\n",
       "      <td>20</td>\n",
       "      <td>0.75</td>\n",
       "      <td>0.87</td>\n",
       "      <td>53.3</td>\n",
       "      <td>8.2</td>\n",
       "      <td>15165</td>\n",
       "      <td>140</td>\n",
       "      <td>40.7</td>\n",
       "      <td>133</td>\n",
       "      <td>1.05</td>\n",
       "      <td>83.9</td>\n",
       "      <td>9.2</td>\n",
       "      <td>8</td>\n",
       "      <td>198</td>\n",
       "      <td>0.71</td>\n",
       "      <td>0.17</td>\n",
       "      <td>0.67</td>\n",
       "      <td>0.07</td>\n",
       "      <td>0.07</td>\n",
       "      <td>1.16</td>\n",
       "      <td>1.04</td>\n",
       "      <td>0.7</td>\n",
       "      <td>84</td>\n",
       "      <td>5</td>\n",
       "      <td>25</td>\n",
       "      <td>12</td>\n",
       "      <td>2.08</td>\n",
       "      <td>1.28</td>\n",
       "      <td>84.0</td>\n",
       "      <td>25.0</td>\n",
       "      <td>6665</td>\n",
       "      <td>Ancient</td>\n",
       "      <td>635</td>\n",
       "      <td>6665</td>\n",
       "      <td>7532</td>\n",
       "      <td>Ancient</td>\n",
       "      <td>1</td>\n",
       "      <td>297</td>\n",
       "      <td>8297</td>\n",
       "      <td>Nuke</td>\n",
       "      <td>1</td>\n",
       "    </tr>\n",
       "    <tr>\n",
       "      <th>3</th>\n",
       "      <td>4954</td>\n",
       "      <td>90</td>\n",
       "      <td>42.2</td>\n",
       "      <td>112</td>\n",
       "      <td>0.8</td>\n",
       "      <td>76.3</td>\n",
       "      <td>5.9</td>\n",
       "      <td>6</td>\n",
       "      <td>156</td>\n",
       "      <td>0.58</td>\n",
       "      <td>0.24</td>\n",
       "      <td>0.72</td>\n",
       "      <td>0.13</td>\n",
       "      <td>0.05</td>\n",
       "      <td>0.98</td>\n",
       "      <td>0.8</td>\n",
       "      <td>0.58</td>\n",
       "      <td>62</td>\n",
       "      <td>-22</td>\n",
       "      <td>10</td>\n",
       "      <td>13</td>\n",
       "      <td>0.77</td>\n",
       "      <td>0.85</td>\n",
       "      <td>60.0</td>\n",
       "      <td>8.2</td>\n",
       "      <td>7412</td>\n",
       "      <td>106</td>\n",
       "      <td>35.8</td>\n",
       "      <td>119</td>\n",
       "      <td>0.89</td>\n",
       "      <td>66.8</td>\n",
       "      <td>5.6</td>\n",
       "      <td>7</td>\n",
       "      <td>181</td>\n",
       "      <td>0.59</td>\n",
       "      <td>0.09</td>\n",
       "      <td>0.66</td>\n",
       "      <td>0.07</td>\n",
       "      <td>0.06</td>\n",
       "      <td>0.91</td>\n",
       "      <td>0.89</td>\n",
       "      <td>0.59</td>\n",
       "      <td>75</td>\n",
       "      <td>-13</td>\n",
       "      <td>17</td>\n",
       "      <td>27</td>\n",
       "      <td>0.63</td>\n",
       "      <td>0.89</td>\n",
       "      <td>82.4</td>\n",
       "      <td>15.4</td>\n",
       "      <td>9078</td>\n",
       "      <td>46</td>\n",
       "      <td>65.2</td>\n",
       "      <td>54</td>\n",
       "      <td>0.85</td>\n",
       "      <td>76.9</td>\n",
       "      <td>4.5</td>\n",
       "      <td>3</td>\n",
       "      <td>75</td>\n",
       "      <td>0.61</td>\n",
       "      <td>0.16</td>\n",
       "      <td>0.72</td>\n",
       "      <td>0.07</td>\n",
       "      <td>0.07</td>\n",
       "      <td>0.93</td>\n",
       "      <td>0.85</td>\n",
       "      <td>0.61</td>\n",
       "      <td>34</td>\n",
       "      <td>-8</td>\n",
       "      <td>4</td>\n",
       "      <td>14</td>\n",
       "      <td>0.29</td>\n",
       "      <td>0.62</td>\n",
       "      <td>50.0</td>\n",
       "      <td>5.0</td>\n",
       "      <td>13843</td>\n",
       "      <td>110</td>\n",
       "      <td>40.9</td>\n",
       "      <td>139</td>\n",
       "      <td>0.79</td>\n",
       "      <td>53.8</td>\n",
       "      <td>3.0</td>\n",
       "      <td>8</td>\n",
       "      <td>204</td>\n",
       "      <td>0.54</td>\n",
       "      <td>0.06</td>\n",
       "      <td>0.68</td>\n",
       "      <td>0.06</td>\n",
       "      <td>0.09</td>\n",
       "      <td>0.83</td>\n",
       "      <td>0.79</td>\n",
       "      <td>0.54</td>\n",
       "      <td>80</td>\n",
       "      <td>-29</td>\n",
       "      <td>15</td>\n",
       "      <td>20</td>\n",
       "      <td>0.75</td>\n",
       "      <td>0.87</td>\n",
       "      <td>53.3</td>\n",
       "      <td>8.2</td>\n",
       "      <td>15165</td>\n",
       "      <td>140</td>\n",
       "      <td>40.7</td>\n",
       "      <td>133</td>\n",
       "      <td>1.05</td>\n",
       "      <td>83.9</td>\n",
       "      <td>9.2</td>\n",
       "      <td>8</td>\n",
       "      <td>198</td>\n",
       "      <td>0.71</td>\n",
       "      <td>0.17</td>\n",
       "      <td>0.67</td>\n",
       "      <td>0.07</td>\n",
       "      <td>0.07</td>\n",
       "      <td>1.16</td>\n",
       "      <td>1.04</td>\n",
       "      <td>0.7</td>\n",
       "      <td>84</td>\n",
       "      <td>5</td>\n",
       "      <td>25</td>\n",
       "      <td>12</td>\n",
       "      <td>2.08</td>\n",
       "      <td>1.28</td>\n",
       "      <td>84.0</td>\n",
       "      <td>25.0</td>\n",
       "      <td>6665</td>\n",
       "      <td>Ancient</td>\n",
       "      <td>635</td>\n",
       "      <td>6665</td>\n",
       "      <td>7532</td>\n",
       "      <td>Ancient</td>\n",
       "      <td>1</td>\n",
       "      <td>58</td>\n",
       "      <td>4991</td>\n",
       "      <td>Vertigo</td>\n",
       "      <td>1</td>\n",
       "    </tr>\n",
       "    <tr>\n",
       "      <th>4</th>\n",
       "      <td>4954</td>\n",
       "      <td>90</td>\n",
       "      <td>42.2</td>\n",
       "      <td>112</td>\n",
       "      <td>0.8</td>\n",
       "      <td>76.3</td>\n",
       "      <td>5.9</td>\n",
       "      <td>6</td>\n",
       "      <td>156</td>\n",
       "      <td>0.58</td>\n",
       "      <td>0.24</td>\n",
       "      <td>0.72</td>\n",
       "      <td>0.13</td>\n",
       "      <td>0.05</td>\n",
       "      <td>0.98</td>\n",
       "      <td>0.8</td>\n",
       "      <td>0.58</td>\n",
       "      <td>62</td>\n",
       "      <td>-22</td>\n",
       "      <td>10</td>\n",
       "      <td>13</td>\n",
       "      <td>0.77</td>\n",
       "      <td>0.85</td>\n",
       "      <td>60.0</td>\n",
       "      <td>8.2</td>\n",
       "      <td>7412</td>\n",
       "      <td>106</td>\n",
       "      <td>35.8</td>\n",
       "      <td>119</td>\n",
       "      <td>0.89</td>\n",
       "      <td>66.8</td>\n",
       "      <td>5.6</td>\n",
       "      <td>7</td>\n",
       "      <td>181</td>\n",
       "      <td>0.59</td>\n",
       "      <td>0.09</td>\n",
       "      <td>0.66</td>\n",
       "      <td>0.07</td>\n",
       "      <td>0.06</td>\n",
       "      <td>0.91</td>\n",
       "      <td>0.89</td>\n",
       "      <td>0.59</td>\n",
       "      <td>75</td>\n",
       "      <td>-13</td>\n",
       "      <td>17</td>\n",
       "      <td>27</td>\n",
       "      <td>0.63</td>\n",
       "      <td>0.89</td>\n",
       "      <td>82.4</td>\n",
       "      <td>15.4</td>\n",
       "      <td>9078</td>\n",
       "      <td>46</td>\n",
       "      <td>65.2</td>\n",
       "      <td>54</td>\n",
       "      <td>0.85</td>\n",
       "      <td>76.9</td>\n",
       "      <td>4.5</td>\n",
       "      <td>3</td>\n",
       "      <td>75</td>\n",
       "      <td>0.61</td>\n",
       "      <td>0.16</td>\n",
       "      <td>0.72</td>\n",
       "      <td>0.07</td>\n",
       "      <td>0.07</td>\n",
       "      <td>0.93</td>\n",
       "      <td>0.85</td>\n",
       "      <td>0.61</td>\n",
       "      <td>34</td>\n",
       "      <td>-8</td>\n",
       "      <td>4</td>\n",
       "      <td>14</td>\n",
       "      <td>0.29</td>\n",
       "      <td>0.62</td>\n",
       "      <td>50.0</td>\n",
       "      <td>5.0</td>\n",
       "      <td>13843</td>\n",
       "      <td>110</td>\n",
       "      <td>40.9</td>\n",
       "      <td>139</td>\n",
       "      <td>0.79</td>\n",
       "      <td>53.8</td>\n",
       "      <td>3.0</td>\n",
       "      <td>8</td>\n",
       "      <td>204</td>\n",
       "      <td>0.54</td>\n",
       "      <td>0.06</td>\n",
       "      <td>0.68</td>\n",
       "      <td>0.06</td>\n",
       "      <td>0.09</td>\n",
       "      <td>0.83</td>\n",
       "      <td>0.79</td>\n",
       "      <td>0.54</td>\n",
       "      <td>80</td>\n",
       "      <td>-29</td>\n",
       "      <td>15</td>\n",
       "      <td>20</td>\n",
       "      <td>0.75</td>\n",
       "      <td>0.87</td>\n",
       "      <td>53.3</td>\n",
       "      <td>8.2</td>\n",
       "      <td>15165</td>\n",
       "      <td>140</td>\n",
       "      <td>40.7</td>\n",
       "      <td>133</td>\n",
       "      <td>1.05</td>\n",
       "      <td>83.9</td>\n",
       "      <td>9.2</td>\n",
       "      <td>8</td>\n",
       "      <td>198</td>\n",
       "      <td>0.71</td>\n",
       "      <td>0.17</td>\n",
       "      <td>0.67</td>\n",
       "      <td>0.07</td>\n",
       "      <td>0.07</td>\n",
       "      <td>1.16</td>\n",
       "      <td>1.04</td>\n",
       "      <td>0.7</td>\n",
       "      <td>84</td>\n",
       "      <td>5</td>\n",
       "      <td>25</td>\n",
       "      <td>12</td>\n",
       "      <td>2.08</td>\n",
       "      <td>1.28</td>\n",
       "      <td>84.0</td>\n",
       "      <td>25.0</td>\n",
       "      <td>6665</td>\n",
       "      <td>Ancient</td>\n",
       "      <td>635</td>\n",
       "      <td>6665</td>\n",
       "      <td>7532</td>\n",
       "      <td>Ancient</td>\n",
       "      <td>1</td>\n",
       "      <td>448</td>\n",
       "      <td>6665</td>\n",
       "      <td>Ancient</td>\n",
       "      <td>0</td>\n",
       "    </tr>\n",
       "  </tbody>\n",
       "</table>\n",
       "</div>"
      ],
      "text/plain": [
       "   p1_id  p1_total_kills  p1_headshots  p1_total_deaths  p1_kd_ratio  p1_damage_per_round  p1_grenade_damage_per_round  p1_maps_played  p1_rounds_played  p1_kills_per_round  p1_assists_per_round  p1_deaths_per_round  p1_saved_by_teammate_per_round  p1_saved_teammates_per_round  p1_rating  p1_kill_death  p1_kill_round  p1_rounds_with_kills  p1_kill_death_difference  p1_total_opening_kills  p1_total_opening_deaths  p1_opening_kill_ratio  p1_opening_kill_rating  p1_team_win_percent_after_first_kill  p1_first_kill_in_won_rounds  p2_id  p2_total_kills  p2_headshots  p2_total_deaths  p2_kd_ratio  p2_damage_per_round  p2_grenade_damage_per_round  p2_maps_played  p2_rounds_played  p2_kills_per_round  p2_assists_per_round  p2_deaths_per_round  p2_saved_by_teammate_per_round  p2_saved_teammates_per_round  p2_rating  p2_kill_death  p2_kill_round  p2_rounds_with_kills  p2_kill_death_difference  p2_total_opening_kills  p2_total_opening_deaths  p2_opening_kill_ratio  p2_opening_kill_rating  \\\n",
       "0   4954              90          42.2              112          0.8                 76.3                          5.9               6               156                0.58                  0.24                 0.72                            0.13                          0.05       0.98            0.8           0.58                    62                       -22                      10                       13                   0.77                    0.85                                  60.0                          8.2   7412             106          35.8              119         0.89                 66.8                          5.6               7               181                0.59                  0.09                 0.66                            0.07                          0.06       0.91           0.89           0.59                    75                       -13                      17                       27                   0.63                    0.89   \n",
       "1   4954              90          42.2              112          0.8                 76.3                          5.9               6               156                0.58                  0.24                 0.72                            0.13                          0.05       0.98            0.8           0.58                    62                       -22                      10                       13                   0.77                    0.85                                  60.0                          8.2   7412             106          35.8              119         0.89                 66.8                          5.6               7               181                0.59                  0.09                 0.66                            0.07                          0.06       0.91           0.89           0.59                    75                       -13                      17                       27                   0.63                    0.89   \n",
       "2   4954              90          42.2              112          0.8                 76.3                          5.9               6               156                0.58                  0.24                 0.72                            0.13                          0.05       0.98            0.8           0.58                    62                       -22                      10                       13                   0.77                    0.85                                  60.0                          8.2   7412             106          35.8              119         0.89                 66.8                          5.6               7               181                0.59                  0.09                 0.66                            0.07                          0.06       0.91           0.89           0.59                    75                       -13                      17                       27                   0.63                    0.89   \n",
       "3   4954              90          42.2              112          0.8                 76.3                          5.9               6               156                0.58                  0.24                 0.72                            0.13                          0.05       0.98            0.8           0.58                    62                       -22                      10                       13                   0.77                    0.85                                  60.0                          8.2   7412             106          35.8              119         0.89                 66.8                          5.6               7               181                0.59                  0.09                 0.66                            0.07                          0.06       0.91           0.89           0.59                    75                       -13                      17                       27                   0.63                    0.89   \n",
       "4   4954              90          42.2              112          0.8                 76.3                          5.9               6               156                0.58                  0.24                 0.72                            0.13                          0.05       0.98            0.8           0.58                    62                       -22                      10                       13                   0.77                    0.85                                  60.0                          8.2   7412             106          35.8              119         0.89                 66.8                          5.6               7               181                0.59                  0.09                 0.66                            0.07                          0.06       0.91           0.89           0.59                    75                       -13                      17                       27                   0.63                    0.89   \n",
       "\n",
       "   p2_team_win_percent_after_first_kill  p2_first_kill_in_won_rounds  p3_id  p3_total_kills  p3_headshots  p3_total_deaths  p3_kd_ratio  p3_damage_per_round  p3_grenade_damage_per_round  p3_maps_played  p3_rounds_played  p3_kills_per_round  p3_assists_per_round  p3_deaths_per_round  p3_saved_by_teammate_per_round  p3_saved_teammates_per_round  p3_rating  p3_kill_death  p3_kill_round  p3_rounds_with_kills  p3_kill_death_difference  p3_total_opening_kills  p3_total_opening_deaths  p3_opening_kill_ratio  p3_opening_kill_rating  p3_team_win_percent_after_first_kill  p3_first_kill_in_won_rounds  p4_id  p4_total_kills  p4_headshots  p4_total_deaths  p4_kd_ratio  p4_damage_per_round  p4_grenade_damage_per_round  p4_maps_played  p4_rounds_played  p4_kills_per_round  p4_assists_per_round  p4_deaths_per_round  p4_saved_by_teammate_per_round  p4_saved_teammates_per_round  p4_rating  p4_kill_death  p4_kill_round  p4_rounds_with_kills  p4_kill_death_difference  p4_total_opening_kills  \\\n",
       "0                                  82.4                         15.4   9078              46          65.2               54         0.85                 76.9                          4.5               3                75                0.61                  0.16                 0.72                            0.07                          0.07       0.93           0.85           0.61                    34                        -8                       4                       14                   0.29                    0.62                                  50.0                          5.0  13843             110          40.9              139         0.79                 53.8                          3.0               8               204                0.54                  0.06                 0.68                            0.06                          0.09       0.83           0.79           0.54                    80                       -29                      15   \n",
       "1                                  82.4                         15.4   9078              46          65.2               54         0.85                 76.9                          4.5               3                75                0.61                  0.16                 0.72                            0.07                          0.07       0.93           0.85           0.61                    34                        -8                       4                       14                   0.29                    0.62                                  50.0                          5.0  13843             110          40.9              139         0.79                 53.8                          3.0               8               204                0.54                  0.06                 0.68                            0.06                          0.09       0.83           0.79           0.54                    80                       -29                      15   \n",
       "2                                  82.4                         15.4   9078              46          65.2               54         0.85                 76.9                          4.5               3                75                0.61                  0.16                 0.72                            0.07                          0.07       0.93           0.85           0.61                    34                        -8                       4                       14                   0.29                    0.62                                  50.0                          5.0  13843             110          40.9              139         0.79                 53.8                          3.0               8               204                0.54                  0.06                 0.68                            0.06                          0.09       0.83           0.79           0.54                    80                       -29                      15   \n",
       "3                                  82.4                         15.4   9078              46          65.2               54         0.85                 76.9                          4.5               3                75                0.61                  0.16                 0.72                            0.07                          0.07       0.93           0.85           0.61                    34                        -8                       4                       14                   0.29                    0.62                                  50.0                          5.0  13843             110          40.9              139         0.79                 53.8                          3.0               8               204                0.54                  0.06                 0.68                            0.06                          0.09       0.83           0.79           0.54                    80                       -29                      15   \n",
       "4                                  82.4                         15.4   9078              46          65.2               54         0.85                 76.9                          4.5               3                75                0.61                  0.16                 0.72                            0.07                          0.07       0.93           0.85           0.61                    34                        -8                       4                       14                   0.29                    0.62                                  50.0                          5.0  13843             110          40.9              139         0.79                 53.8                          3.0               8               204                0.54                  0.06                 0.68                            0.06                          0.09       0.83           0.79           0.54                    80                       -29                      15   \n",
       "\n",
       "   p4_total_opening_deaths  p4_opening_kill_ratio  p4_opening_kill_rating  p4_team_win_percent_after_first_kill  p4_first_kill_in_won_rounds  p5_id  p5_total_kills  p5_headshots  p5_total_deaths  p5_kd_ratio  p5_damage_per_round  p5_grenade_damage_per_round  p5_maps_played  p5_rounds_played  p5_kills_per_round  p5_assists_per_round  p5_deaths_per_round  p5_saved_by_teammate_per_round  p5_saved_teammates_per_round  p5_rating  p5_kill_death  p5_kill_round  p5_rounds_with_kills  p5_kill_death_difference  p5_total_opening_kills  p5_total_opening_deaths  p5_opening_kill_ratio  p5_opening_kill_rating  p5_team_win_percent_after_first_kill  p5_first_kill_in_won_rounds  team_id map_name_x  map_id_x  team1_id_x  team2_id map_name_y  who_win_x  map_id_y  team1_id_y map_name  who_win_y  \n",
       "0                       20                   0.75                    0.87                                  53.3                          8.2  15165             140          40.7              133         1.05                 83.9                          9.2               8               198                0.71                  0.17                 0.67                            0.07                          0.07       1.16           1.04            0.7                    84                         5                      25                       12                   2.08                    1.28                                  84.0                         25.0     6665    Ancient       635        6665      7532    Ancient          1       524        4608   Mirage          0  \n",
       "1                       20                   0.75                    0.87                                  53.3                          8.2  15165             140          40.7              133         1.05                 83.9                          9.2               8               198                0.71                  0.17                 0.67                            0.07                          0.07       1.16           1.04            0.7                    84                         5                      25                       12                   2.08                    1.28                                  84.0                         25.0     6665    Ancient       635        6665      7532    Ancient          1        98        9215   Mirage          1  \n",
       "2                       20                   0.75                    0.87                                  53.3                          8.2  15165             140          40.7              133         1.05                 83.9                          9.2               8               198                0.71                  0.17                 0.67                            0.07                          0.07       1.16           1.04            0.7                    84                         5                      25                       12                   2.08                    1.28                                  84.0                         25.0     6665    Ancient       635        6665      7532    Ancient          1       297        8297     Nuke          1  \n",
       "3                       20                   0.75                    0.87                                  53.3                          8.2  15165             140          40.7              133         1.05                 83.9                          9.2               8               198                0.71                  0.17                 0.67                            0.07                          0.07       1.16           1.04            0.7                    84                         5                      25                       12                   2.08                    1.28                                  84.0                         25.0     6665    Ancient       635        6665      7532    Ancient          1        58        4991  Vertigo          1  \n",
       "4                       20                   0.75                    0.87                                  53.3                          8.2  15165             140          40.7              133         1.05                 83.9                          9.2               8               198                0.71                  0.17                 0.67                            0.07                          0.07       1.16           1.04            0.7                    84                         5                      25                       12                   2.08                    1.28                                  84.0                         25.0     6665    Ancient       635        6665      7532    Ancient          1       448        6665  Ancient          0  "
      ]
     },
     "execution_count": 4,
     "metadata": {},
     "output_type": "execute_result"
    }
   ],
   "source": [
    "merge_ord.head()"
   ]
  },
  {
   "cell_type": "code",
   "execution_count": 5,
   "id": "a304065c",
   "metadata": {},
   "outputs": [
    {
     "name": "stdout",
     "output_type": "stream",
     "text": [
      "<class 'pandas.core.frame.DataFrame'>\n",
      "Int64Index: 14823 entries, 0 to 14822\n",
      "Columns: 136 entries, p1_id to who_win_y\n",
      "dtypes: float64(80), int64(53), object(3)\n",
      "memory usage: 15.5+ MB\n"
     ]
    }
   ],
   "source": [
    "merge_ord.info()"
   ]
  },
  {
   "cell_type": "code",
   "execution_count": 6,
   "id": "e7614d80",
   "metadata": {
    "scrolled": false
   },
   "outputs": [
    {
     "data": {
      "text/plain": [
       "p1_id                                    0\n",
       "p1_total_kills                           0\n",
       "p1_headshots                             0\n",
       "p1_total_deaths                          0\n",
       "p1_kd_ratio                              0\n",
       "p1_damage_per_round                      0\n",
       "p1_grenade_damage_per_round              0\n",
       "p1_maps_played                           0\n",
       "p1_rounds_played                         0\n",
       "p1_kills_per_round                       0\n",
       "p1_assists_per_round                     0\n",
       "p1_deaths_per_round                      0\n",
       "p1_saved_by_teammate_per_round           0\n",
       "p1_saved_teammates_per_round             0\n",
       "p1_rating                                0\n",
       "p1_kill_death                            0\n",
       "p1_kill_round                            0\n",
       "p1_rounds_with_kills                     0\n",
       "p1_kill_death_difference                 0\n",
       "p1_total_opening_kills                   0\n",
       "p1_total_opening_deaths                  0\n",
       "p1_opening_kill_ratio                    0\n",
       "p1_opening_kill_rating                   0\n",
       "p1_team_win_percent_after_first_kill    46\n",
       "p1_first_kill_in_won_rounds              0\n",
       "p2_id                                    0\n",
       "p2_total_kills                           0\n",
       "p2_headshots                             0\n",
       "p2_total_deaths                          0\n",
       "p2_kd_ratio                              0\n",
       "p2_damage_per_round                      0\n",
       "p2_grenade_damage_per_round              0\n",
       "p2_maps_played                           0\n",
       "p2_rounds_played                         0\n",
       "p2_kills_per_round                       0\n",
       "p2_assists_per_round                     0\n",
       "p2_deaths_per_round                      0\n",
       "p2_saved_by_teammate_per_round           0\n",
       "p2_saved_teammates_per_round             0\n",
       "p2_rating                                0\n",
       "p2_kill_death                            0\n",
       "p2_kill_round                            0\n",
       "p2_rounds_with_kills                     0\n",
       "p2_kill_death_difference                 0\n",
       "p2_total_opening_kills                   0\n",
       "p2_total_opening_deaths                  0\n",
       "p2_opening_kill_ratio                    0\n",
       "p2_opening_kill_rating                   0\n",
       "p2_team_win_percent_after_first_kill    13\n",
       "p2_first_kill_in_won_rounds              0\n",
       "p3_id                                    0\n",
       "p3_total_kills                           0\n",
       "p3_headshots                             0\n",
       "p3_total_deaths                          0\n",
       "p3_kd_ratio                              0\n",
       "p3_damage_per_round                      0\n",
       "p3_grenade_damage_per_round              0\n",
       "p3_maps_played                           0\n",
       "p3_rounds_played                         0\n",
       "p3_kills_per_round                       0\n",
       "p3_assists_per_round                     0\n",
       "p3_deaths_per_round                      0\n",
       "p3_saved_by_teammate_per_round           0\n",
       "p3_saved_teammates_per_round             0\n",
       "p3_rating                                0\n",
       "p3_kill_death                            0\n",
       "p3_kill_round                            0\n",
       "p3_rounds_with_kills                     0\n",
       "p3_kill_death_difference                 0\n",
       "p3_total_opening_kills                   0\n",
       "p3_total_opening_deaths                  0\n",
       "p3_opening_kill_ratio                    0\n",
       "p3_opening_kill_rating                   0\n",
       "p3_team_win_percent_after_first_kill    65\n",
       "p3_first_kill_in_won_rounds              0\n",
       "p4_id                                    0\n",
       "p4_total_kills                           0\n",
       "p4_headshots                             0\n",
       "p4_total_deaths                          0\n",
       "p4_kd_ratio                              0\n",
       "p4_damage_per_round                      0\n",
       "p4_grenade_damage_per_round              0\n",
       "p4_maps_played                           0\n",
       "p4_rounds_played                         0\n",
       "p4_kills_per_round                       0\n",
       "p4_assists_per_round                     0\n",
       "p4_deaths_per_round                      0\n",
       "p4_saved_by_teammate_per_round           0\n",
       "p4_saved_teammates_per_round             0\n",
       "p4_rating                                0\n",
       "p4_kill_death                            0\n",
       "p4_kill_round                            0\n",
       "p4_rounds_with_kills                     0\n",
       "p4_kill_death_difference                 0\n",
       "p4_total_opening_kills                   0\n",
       "p4_total_opening_deaths                  0\n",
       "p4_opening_kill_ratio                    0\n",
       "p4_opening_kill_rating                   0\n",
       "p4_team_win_percent_after_first_kill    14\n",
       "p4_first_kill_in_won_rounds              0\n",
       "p5_id                                    0\n",
       "p5_total_kills                           0\n",
       "p5_headshots                             0\n",
       "p5_total_deaths                          0\n",
       "p5_kd_ratio                              0\n",
       "p5_damage_per_round                      0\n",
       "p5_grenade_damage_per_round              0\n",
       "p5_maps_played                           0\n",
       "p5_rounds_played                         0\n",
       "p5_kills_per_round                       0\n",
       "p5_assists_per_round                     0\n",
       "p5_deaths_per_round                      0\n",
       "p5_saved_by_teammate_per_round           0\n",
       "p5_saved_teammates_per_round             0\n",
       "p5_rating                                0\n",
       "p5_kill_death                            0\n",
       "p5_kill_round                            0\n",
       "p5_rounds_with_kills                     0\n",
       "p5_kill_death_difference                 0\n",
       "p5_total_opening_kills                   0\n",
       "p5_total_opening_deaths                  0\n",
       "p5_opening_kill_ratio                    0\n",
       "p5_opening_kill_rating                   0\n",
       "p5_team_win_percent_after_first_kill     7\n",
       "p5_first_kill_in_won_rounds              0\n",
       "team_id                                  0\n",
       "map_name_x                               0\n",
       "map_id_x                                 0\n",
       "team1_id_x                               0\n",
       "team2_id                                 0\n",
       "map_name_y                               0\n",
       "who_win_x                                0\n",
       "map_id_y                                 0\n",
       "team1_id_y                               0\n",
       "map_name                                 0\n",
       "who_win_y                                0\n",
       "dtype: int64"
      ]
     },
     "execution_count": 6,
     "metadata": {},
     "output_type": "execute_result"
    }
   ],
   "source": [
    "merge_ord.isna().sum()"
   ]
  },
  {
   "cell_type": "code",
   "execution_count": 7,
   "id": "69398eab",
   "metadata": {},
   "outputs": [
    {
     "data": {
      "text/html": [
       "<div>\n",
       "<style scoped>\n",
       "    .dataframe tbody tr th:only-of-type {\n",
       "        vertical-align: middle;\n",
       "    }\n",
       "\n",
       "    .dataframe tbody tr th {\n",
       "        vertical-align: top;\n",
       "    }\n",
       "\n",
       "    .dataframe thead th {\n",
       "        text-align: right;\n",
       "    }\n",
       "</style>\n",
       "<table border=\"1\" class=\"dataframe\">\n",
       "  <thead>\n",
       "    <tr style=\"text-align: right;\">\n",
       "      <th></th>\n",
       "      <th>p1_id</th>\n",
       "      <th>p1_total_kills</th>\n",
       "      <th>p1_headshots</th>\n",
       "      <th>p1_total_deaths</th>\n",
       "      <th>p1_kd_ratio</th>\n",
       "      <th>p1_damage_per_round</th>\n",
       "      <th>p1_grenade_damage_per_round</th>\n",
       "      <th>p1_maps_played</th>\n",
       "      <th>p1_rounds_played</th>\n",
       "      <th>p1_kills_per_round</th>\n",
       "      <th>p1_assists_per_round</th>\n",
       "      <th>p1_deaths_per_round</th>\n",
       "      <th>p1_saved_by_teammate_per_round</th>\n",
       "      <th>p1_saved_teammates_per_round</th>\n",
       "      <th>p1_rating</th>\n",
       "      <th>p1_kill_death</th>\n",
       "      <th>p1_kill_round</th>\n",
       "      <th>p1_rounds_with_kills</th>\n",
       "      <th>p1_kill_death_difference</th>\n",
       "      <th>p1_total_opening_kills</th>\n",
       "      <th>p1_total_opening_deaths</th>\n",
       "      <th>p1_opening_kill_ratio</th>\n",
       "      <th>p1_opening_kill_rating</th>\n",
       "      <th>p1_team_win_percent_after_first_kill</th>\n",
       "      <th>p1_first_kill_in_won_rounds</th>\n",
       "      <th>p2_id</th>\n",
       "      <th>p2_total_kills</th>\n",
       "      <th>p2_headshots</th>\n",
       "      <th>p2_total_deaths</th>\n",
       "      <th>p2_kd_ratio</th>\n",
       "      <th>p2_damage_per_round</th>\n",
       "      <th>p2_grenade_damage_per_round</th>\n",
       "      <th>p2_maps_played</th>\n",
       "      <th>p2_rounds_played</th>\n",
       "      <th>p2_kills_per_round</th>\n",
       "      <th>p2_assists_per_round</th>\n",
       "      <th>p2_deaths_per_round</th>\n",
       "      <th>p2_saved_by_teammate_per_round</th>\n",
       "      <th>p2_saved_teammates_per_round</th>\n",
       "      <th>p2_rating</th>\n",
       "      <th>p2_kill_death</th>\n",
       "      <th>p2_kill_round</th>\n",
       "      <th>p2_rounds_with_kills</th>\n",
       "      <th>p2_kill_death_difference</th>\n",
       "      <th>p2_total_opening_kills</th>\n",
       "      <th>p2_total_opening_deaths</th>\n",
       "      <th>p2_opening_kill_ratio</th>\n",
       "      <th>p2_opening_kill_rating</th>\n",
       "      <th>p2_team_win_percent_after_first_kill</th>\n",
       "      <th>p2_first_kill_in_won_rounds</th>\n",
       "      <th>p3_id</th>\n",
       "      <th>p3_total_kills</th>\n",
       "      <th>p3_headshots</th>\n",
       "      <th>p3_total_deaths</th>\n",
       "      <th>p3_kd_ratio</th>\n",
       "      <th>p3_damage_per_round</th>\n",
       "      <th>p3_grenade_damage_per_round</th>\n",
       "      <th>p3_maps_played</th>\n",
       "      <th>p3_rounds_played</th>\n",
       "      <th>p3_kills_per_round</th>\n",
       "      <th>p3_assists_per_round</th>\n",
       "      <th>p3_deaths_per_round</th>\n",
       "      <th>p3_saved_by_teammate_per_round</th>\n",
       "      <th>p3_saved_teammates_per_round</th>\n",
       "      <th>p3_rating</th>\n",
       "      <th>p3_kill_death</th>\n",
       "      <th>p3_kill_round</th>\n",
       "      <th>p3_rounds_with_kills</th>\n",
       "      <th>p3_kill_death_difference</th>\n",
       "      <th>p3_total_opening_kills</th>\n",
       "      <th>p3_total_opening_deaths</th>\n",
       "      <th>p3_opening_kill_ratio</th>\n",
       "      <th>p3_opening_kill_rating</th>\n",
       "      <th>p3_team_win_percent_after_first_kill</th>\n",
       "      <th>p3_first_kill_in_won_rounds</th>\n",
       "      <th>p4_id</th>\n",
       "      <th>p4_total_kills</th>\n",
       "      <th>p4_headshots</th>\n",
       "      <th>p4_total_deaths</th>\n",
       "      <th>p4_kd_ratio</th>\n",
       "      <th>p4_damage_per_round</th>\n",
       "      <th>p4_grenade_damage_per_round</th>\n",
       "      <th>p4_maps_played</th>\n",
       "      <th>p4_rounds_played</th>\n",
       "      <th>p4_kills_per_round</th>\n",
       "      <th>p4_assists_per_round</th>\n",
       "      <th>p4_deaths_per_round</th>\n",
       "      <th>p4_saved_by_teammate_per_round</th>\n",
       "      <th>p4_saved_teammates_per_round</th>\n",
       "      <th>p4_rating</th>\n",
       "      <th>p4_kill_death</th>\n",
       "      <th>p4_kill_round</th>\n",
       "      <th>p4_rounds_with_kills</th>\n",
       "      <th>p4_kill_death_difference</th>\n",
       "      <th>p4_total_opening_kills</th>\n",
       "      <th>p4_total_opening_deaths</th>\n",
       "      <th>p4_opening_kill_ratio</th>\n",
       "      <th>p4_opening_kill_rating</th>\n",
       "      <th>p4_team_win_percent_after_first_kill</th>\n",
       "      <th>p4_first_kill_in_won_rounds</th>\n",
       "      <th>p5_id</th>\n",
       "      <th>p5_total_kills</th>\n",
       "      <th>p5_headshots</th>\n",
       "      <th>p5_total_deaths</th>\n",
       "      <th>p5_kd_ratio</th>\n",
       "      <th>p5_damage_per_round</th>\n",
       "      <th>p5_grenade_damage_per_round</th>\n",
       "      <th>p5_maps_played</th>\n",
       "      <th>p5_rounds_played</th>\n",
       "      <th>p5_kills_per_round</th>\n",
       "      <th>p5_assists_per_round</th>\n",
       "      <th>p5_deaths_per_round</th>\n",
       "      <th>p5_saved_by_teammate_per_round</th>\n",
       "      <th>p5_saved_teammates_per_round</th>\n",
       "      <th>p5_rating</th>\n",
       "      <th>p5_kill_death</th>\n",
       "      <th>p5_kill_round</th>\n",
       "      <th>p5_rounds_with_kills</th>\n",
       "      <th>p5_kill_death_difference</th>\n",
       "      <th>p5_total_opening_kills</th>\n",
       "      <th>p5_total_opening_deaths</th>\n",
       "      <th>p5_opening_kill_ratio</th>\n",
       "      <th>p5_opening_kill_rating</th>\n",
       "      <th>p5_team_win_percent_after_first_kill</th>\n",
       "      <th>p5_first_kill_in_won_rounds</th>\n",
       "      <th>team_id</th>\n",
       "      <th>map_id_x</th>\n",
       "      <th>team1_id_x</th>\n",
       "      <th>team2_id</th>\n",
       "      <th>who_win_x</th>\n",
       "      <th>map_id_y</th>\n",
       "      <th>team1_id_y</th>\n",
       "      <th>who_win_y</th>\n",
       "    </tr>\n",
       "  </thead>\n",
       "  <tbody>\n",
       "    <tr>\n",
       "      <th>count</th>\n",
       "      <td>14823.000000</td>\n",
       "      <td>14823.000000</td>\n",
       "      <td>14823.000000</td>\n",
       "      <td>14823.000000</td>\n",
       "      <td>14823.000000</td>\n",
       "      <td>14823.000000</td>\n",
       "      <td>14823.000000</td>\n",
       "      <td>14823.000000</td>\n",
       "      <td>14823.000000</td>\n",
       "      <td>14823.000000</td>\n",
       "      <td>14823.000000</td>\n",
       "      <td>14823.000000</td>\n",
       "      <td>14823.000000</td>\n",
       "      <td>14823.000000</td>\n",
       "      <td>14823.000000</td>\n",
       "      <td>14823.000000</td>\n",
       "      <td>14823.000000</td>\n",
       "      <td>14823.000000</td>\n",
       "      <td>14823.000000</td>\n",
       "      <td>14823.000000</td>\n",
       "      <td>14823.000000</td>\n",
       "      <td>14823.000000</td>\n",
       "      <td>14823.00000</td>\n",
       "      <td>14777.000000</td>\n",
       "      <td>14823.000000</td>\n",
       "      <td>14823.000000</td>\n",
       "      <td>14823.000000</td>\n",
       "      <td>14823.000000</td>\n",
       "      <td>14823.000000</td>\n",
       "      <td>14823.000000</td>\n",
       "      <td>14823.000000</td>\n",
       "      <td>14823.000000</td>\n",
       "      <td>14823.000000</td>\n",
       "      <td>14823.000000</td>\n",
       "      <td>14823.000000</td>\n",
       "      <td>14823.00000</td>\n",
       "      <td>14823.000000</td>\n",
       "      <td>14823.000000</td>\n",
       "      <td>14823.000000</td>\n",
       "      <td>14823.000000</td>\n",
       "      <td>14823.000000</td>\n",
       "      <td>14823.000000</td>\n",
       "      <td>14823.000000</td>\n",
       "      <td>14823.000000</td>\n",
       "      <td>14823.000000</td>\n",
       "      <td>14823.000000</td>\n",
       "      <td>14823.000000</td>\n",
       "      <td>14823.000000</td>\n",
       "      <td>14810.000000</td>\n",
       "      <td>14823.000000</td>\n",
       "      <td>14823.000000</td>\n",
       "      <td>14823.000000</td>\n",
       "      <td>14823.000000</td>\n",
       "      <td>14823.000000</td>\n",
       "      <td>14823.000000</td>\n",
       "      <td>14823.000000</td>\n",
       "      <td>14823.000000</td>\n",
       "      <td>14823.000000</td>\n",
       "      <td>14823.000000</td>\n",
       "      <td>14823.000000</td>\n",
       "      <td>14823.000000</td>\n",
       "      <td>14823.000000</td>\n",
       "      <td>14823.000000</td>\n",
       "      <td>14823.000000</td>\n",
       "      <td>14823.000000</td>\n",
       "      <td>14823.000000</td>\n",
       "      <td>14823.000000</td>\n",
       "      <td>14823.000000</td>\n",
       "      <td>14823.000000</td>\n",
       "      <td>14823.000000</td>\n",
       "      <td>14823.000000</td>\n",
       "      <td>14823.000000</td>\n",
       "      <td>14823.000000</td>\n",
       "      <td>14758.000000</td>\n",
       "      <td>14823.000000</td>\n",
       "      <td>14823.000000</td>\n",
       "      <td>14823.000000</td>\n",
       "      <td>14823.000000</td>\n",
       "      <td>14823.000000</td>\n",
       "      <td>14823.000000</td>\n",
       "      <td>14823.000000</td>\n",
       "      <td>14823.000000</td>\n",
       "      <td>14823.000000</td>\n",
       "      <td>14823.000000</td>\n",
       "      <td>14823.000000</td>\n",
       "      <td>14823.000000</td>\n",
       "      <td>14823.000000</td>\n",
       "      <td>14823.000000</td>\n",
       "      <td>14823.000000</td>\n",
       "      <td>14823.000000</td>\n",
       "      <td>14823.000000</td>\n",
       "      <td>14823.000000</td>\n",
       "      <td>14823.000000</td>\n",
       "      <td>14823.000000</td>\n",
       "      <td>14823.000000</td>\n",
       "      <td>14823.000000</td>\n",
       "      <td>14823.000000</td>\n",
       "      <td>14823.000000</td>\n",
       "      <td>14809.000000</td>\n",
       "      <td>14823.000000</td>\n",
       "      <td>14823.000000</td>\n",
       "      <td>14823.000000</td>\n",
       "      <td>14823.000000</td>\n",
       "      <td>14823.000000</td>\n",
       "      <td>14823.000000</td>\n",
       "      <td>14823.000000</td>\n",
       "      <td>14823.000000</td>\n",
       "      <td>14823.00000</td>\n",
       "      <td>14823.000000</td>\n",
       "      <td>14823.000000</td>\n",
       "      <td>14823.000000</td>\n",
       "      <td>14823.000000</td>\n",
       "      <td>14823.000000</td>\n",
       "      <td>14823.000000</td>\n",
       "      <td>14823.000000</td>\n",
       "      <td>14823.000000</td>\n",
       "      <td>14823.00000</td>\n",
       "      <td>14823.000000</td>\n",
       "      <td>14823.000000</td>\n",
       "      <td>14823.000000</td>\n",
       "      <td>14823.000000</td>\n",
       "      <td>14823.000000</td>\n",
       "      <td>14823.000000</td>\n",
       "      <td>14816.000000</td>\n",
       "      <td>14823.000000</td>\n",
       "      <td>14823.000000</td>\n",
       "      <td>14823.000000</td>\n",
       "      <td>14823.000000</td>\n",
       "      <td>14823.000000</td>\n",
       "      <td>14823.000000</td>\n",
       "      <td>14823.000000</td>\n",
       "      <td>14823.000000</td>\n",
       "      <td>14823.000000</td>\n",
       "    </tr>\n",
       "    <tr>\n",
       "      <th>mean</th>\n",
       "      <td>6216.146192</td>\n",
       "      <td>241.459758</td>\n",
       "      <td>45.596843</td>\n",
       "      <td>244.260609</td>\n",
       "      <td>0.990837</td>\n",
       "      <td>72.118350</td>\n",
       "      <td>5.130109</td>\n",
       "      <td>13.886798</td>\n",
       "      <td>372.848141</td>\n",
       "      <td>0.640781</td>\n",
       "      <td>0.127656</td>\n",
       "      <td>0.644933</td>\n",
       "      <td>0.088779</td>\n",
       "      <td>0.079490</td>\n",
       "      <td>1.026381</td>\n",
       "      <td>0.949705</td>\n",
       "      <td>0.620666</td>\n",
       "      <td>146.018350</td>\n",
       "      <td>-5.566215</td>\n",
       "      <td>33.136005</td>\n",
       "      <td>34.672536</td>\n",
       "      <td>0.999737</td>\n",
       "      <td>0.96032</td>\n",
       "      <td>70.279664</td>\n",
       "      <td>13.583883</td>\n",
       "      <td>9463.633677</td>\n",
       "      <td>243.374958</td>\n",
       "      <td>46.074452</td>\n",
       "      <td>229.964582</td>\n",
       "      <td>1.048041</td>\n",
       "      <td>74.125278</td>\n",
       "      <td>4.919038</td>\n",
       "      <td>13.408352</td>\n",
       "      <td>359.782905</td>\n",
       "      <td>0.667652</td>\n",
       "      <td>0.12623</td>\n",
       "      <td>0.633980</td>\n",
       "      <td>0.089089</td>\n",
       "      <td>0.088036</td>\n",
       "      <td>1.063323</td>\n",
       "      <td>1.005211</td>\n",
       "      <td>0.645732</td>\n",
       "      <td>144.224381</td>\n",
       "      <td>8.016731</td>\n",
       "      <td>34.007961</td>\n",
       "      <td>31.938676</td>\n",
       "      <td>1.080613</td>\n",
       "      <td>0.990072</td>\n",
       "      <td>70.245949</td>\n",
       "      <td>14.328827</td>\n",
       "      <td>11659.531876</td>\n",
       "      <td>258.106996</td>\n",
       "      <td>45.983964</td>\n",
       "      <td>236.040410</td>\n",
       "      <td>1.082464</td>\n",
       "      <td>76.240403</td>\n",
       "      <td>4.862241</td>\n",
       "      <td>13.793497</td>\n",
       "      <td>369.393038</td>\n",
       "      <td>0.688353</td>\n",
       "      <td>0.125564</td>\n",
       "      <td>0.636543</td>\n",
       "      <td>0.088222</td>\n",
       "      <td>0.086653</td>\n",
       "      <td>1.087110</td>\n",
       "      <td>1.054125</td>\n",
       "      <td>0.674592</td>\n",
       "      <td>150.245092</td>\n",
       "      <td>16.480132</td>\n",
       "      <td>34.700331</td>\n",
       "      <td>32.378533</td>\n",
       "      <td>1.117145</td>\n",
       "      <td>1.003339</td>\n",
       "      <td>71.845718</td>\n",
       "      <td>14.545794</td>\n",
       "      <td>14652.430884</td>\n",
       "      <td>256.233219</td>\n",
       "      <td>41.987762</td>\n",
       "      <td>228.730014</td>\n",
       "      <td>1.118210</td>\n",
       "      <td>73.170593</td>\n",
       "      <td>4.426830</td>\n",
       "      <td>13.804156</td>\n",
       "      <td>369.029076</td>\n",
       "      <td>0.684003</td>\n",
       "      <td>0.113059</td>\n",
       "      <td>0.612319</td>\n",
       "      <td>0.083744</td>\n",
       "      <td>0.091915</td>\n",
       "      <td>1.090039</td>\n",
       "      <td>1.081188</td>\n",
       "      <td>0.665256</td>\n",
       "      <td>146.326789</td>\n",
       "      <td>19.888349</td>\n",
       "      <td>32.736760</td>\n",
       "      <td>27.514471</td>\n",
       "      <td>1.303494</td>\n",
       "      <td>1.013858</td>\n",
       "      <td>72.214836</td>\n",
       "      <td>14.448587</td>\n",
       "      <td>17558.932132</td>\n",
       "      <td>260.013425</td>\n",
       "      <td>44.731188</td>\n",
       "      <td>232.780814</td>\n",
       "      <td>1.120350</td>\n",
       "      <td>75.166795</td>\n",
       "      <td>4.401214</td>\n",
       "      <td>13.82291</td>\n",
       "      <td>370.042232</td>\n",
       "      <td>0.698498</td>\n",
       "      <td>0.117683</td>\n",
       "      <td>0.626453</td>\n",
       "      <td>0.087286</td>\n",
       "      <td>0.095083</td>\n",
       "      <td>1.102629</td>\n",
       "      <td>1.056062</td>\n",
       "      <td>0.66238</td>\n",
       "      <td>141.458342</td>\n",
       "      <td>17.468529</td>\n",
       "      <td>31.442083</td>\n",
       "      <td>27.111448</td>\n",
       "      <td>1.196610</td>\n",
       "      <td>0.995613</td>\n",
       "      <td>70.906500</td>\n",
       "      <td>14.290562</td>\n",
       "      <td>6999.599136</td>\n",
       "      <td>366.995682</td>\n",
       "      <td>6999.599136</td>\n",
       "      <td>7555.834919</td>\n",
       "      <td>0.510828</td>\n",
       "      <td>366.995682</td>\n",
       "      <td>6999.599136</td>\n",
       "      <td>0.510828</td>\n",
       "    </tr>\n",
       "    <tr>\n",
       "      <th>std</th>\n",
       "      <td>4040.069798</td>\n",
       "      <td>120.805542</td>\n",
       "      <td>10.629440</td>\n",
       "      <td>119.359270</td>\n",
       "      <td>0.236247</td>\n",
       "      <td>12.047363</td>\n",
       "      <td>2.619567</td>\n",
       "      <td>6.620340</td>\n",
       "      <td>177.649699</td>\n",
       "      <td>0.125734</td>\n",
       "      <td>0.036940</td>\n",
       "      <td>0.087928</td>\n",
       "      <td>0.025377</td>\n",
       "      <td>0.026129</td>\n",
       "      <td>0.182273</td>\n",
       "      <td>0.273217</td>\n",
       "      <td>0.154560</td>\n",
       "      <td>75.913596</td>\n",
       "      <td>46.524110</td>\n",
       "      <td>19.589633</td>\n",
       "      <td>20.297857</td>\n",
       "      <td>0.666675</td>\n",
       "      <td>0.24234</td>\n",
       "      <td>17.456290</td>\n",
       "      <td>5.709421</td>\n",
       "      <td>3581.503533</td>\n",
       "      <td>122.946930</td>\n",
       "      <td>9.109546</td>\n",
       "      <td>110.558121</td>\n",
       "      <td>0.207258</td>\n",
       "      <td>12.470594</td>\n",
       "      <td>2.123914</td>\n",
       "      <td>6.473237</td>\n",
       "      <td>173.986999</td>\n",
       "      <td>0.116111</td>\n",
       "      <td>0.03524</td>\n",
       "      <td>0.087827</td>\n",
       "      <td>0.026454</td>\n",
       "      <td>0.027967</td>\n",
       "      <td>0.172370</td>\n",
       "      <td>0.258611</td>\n",
       "      <td>0.152584</td>\n",
       "      <td>75.365277</td>\n",
       "      <td>33.912175</td>\n",
       "      <td>22.277798</td>\n",
       "      <td>19.570484</td>\n",
       "      <td>0.475447</td>\n",
       "      <td>0.255237</td>\n",
       "      <td>17.047850</td>\n",
       "      <td>6.420008</td>\n",
       "      <td>3867.940266</td>\n",
       "      <td>130.762899</td>\n",
       "      <td>10.803184</td>\n",
       "      <td>113.233357</td>\n",
       "      <td>0.194574</td>\n",
       "      <td>10.258494</td>\n",
       "      <td>2.273358</td>\n",
       "      <td>6.591554</td>\n",
       "      <td>176.583641</td>\n",
       "      <td>0.099142</td>\n",
       "      <td>0.031185</td>\n",
       "      <td>0.080934</td>\n",
       "      <td>0.023231</td>\n",
       "      <td>0.025499</td>\n",
       "      <td>0.148425</td>\n",
       "      <td>0.236449</td>\n",
       "      <td>0.129574</td>\n",
       "      <td>79.607323</td>\n",
       "      <td>31.534865</td>\n",
       "      <td>22.226534</td>\n",
       "      <td>19.934106</td>\n",
       "      <td>0.524297</td>\n",
       "      <td>0.212031</td>\n",
       "      <td>14.660899</td>\n",
       "      <td>5.409445</td>\n",
       "      <td>3143.342406</td>\n",
       "      <td>132.106427</td>\n",
       "      <td>11.909001</td>\n",
       "      <td>115.036709</td>\n",
       "      <td>0.229542</td>\n",
       "      <td>11.184533</td>\n",
       "      <td>2.985152</td>\n",
       "      <td>6.708106</td>\n",
       "      <td>178.050883</td>\n",
       "      <td>0.114974</td>\n",
       "      <td>0.036908</td>\n",
       "      <td>0.083848</td>\n",
       "      <td>0.024248</td>\n",
       "      <td>0.027017</td>\n",
       "      <td>0.163898</td>\n",
       "      <td>0.266397</td>\n",
       "      <td>0.140944</td>\n",
       "      <td>76.509782</td>\n",
       "      <td>37.631400</td>\n",
       "      <td>19.686846</td>\n",
       "      <td>16.802557</td>\n",
       "      <td>0.740892</td>\n",
       "      <td>0.228250</td>\n",
       "      <td>16.257158</td>\n",
       "      <td>5.796346</td>\n",
       "      <td>2331.887630</td>\n",
       "      <td>126.189989</td>\n",
       "      <td>11.356890</td>\n",
       "      <td>109.264955</td>\n",
       "      <td>0.203682</td>\n",
       "      <td>9.695449</td>\n",
       "      <td>2.606721</td>\n",
       "      <td>6.49425</td>\n",
       "      <td>173.900529</td>\n",
       "      <td>0.098762</td>\n",
       "      <td>0.033123</td>\n",
       "      <td>0.069394</td>\n",
       "      <td>0.024331</td>\n",
       "      <td>0.027721</td>\n",
       "      <td>0.142094</td>\n",
       "      <td>0.289578</td>\n",
       "      <td>0.16009</td>\n",
       "      <td>78.411859</td>\n",
       "      <td>33.224285</td>\n",
       "      <td>19.296398</td>\n",
       "      <td>17.111128</td>\n",
       "      <td>0.591913</td>\n",
       "      <td>0.250899</td>\n",
       "      <td>18.717861</td>\n",
       "      <td>5.938250</td>\n",
       "      <td>2091.720555</td>\n",
       "      <td>213.077220</td>\n",
       "      <td>2091.720555</td>\n",
       "      <td>2153.237820</td>\n",
       "      <td>0.499900</td>\n",
       "      <td>213.077220</td>\n",
       "      <td>2091.720555</td>\n",
       "      <td>0.499900</td>\n",
       "    </tr>\n",
       "    <tr>\n",
       "      <th>min</th>\n",
       "      <td>284.000000</td>\n",
       "      <td>0.000000</td>\n",
       "      <td>0.000000</td>\n",
       "      <td>0.000000</td>\n",
       "      <td>0.000000</td>\n",
       "      <td>0.000000</td>\n",
       "      <td>0.000000</td>\n",
       "      <td>0.000000</td>\n",
       "      <td>0.000000</td>\n",
       "      <td>0.000000</td>\n",
       "      <td>0.000000</td>\n",
       "      <td>0.000000</td>\n",
       "      <td>0.000000</td>\n",
       "      <td>0.000000</td>\n",
       "      <td>0.000000</td>\n",
       "      <td>0.000000</td>\n",
       "      <td>0.000000</td>\n",
       "      <td>0.000000</td>\n",
       "      <td>-123.000000</td>\n",
       "      <td>0.000000</td>\n",
       "      <td>0.000000</td>\n",
       "      <td>0.000000</td>\n",
       "      <td>0.00000</td>\n",
       "      <td>0.000000</td>\n",
       "      <td>0.000000</td>\n",
       "      <td>630.000000</td>\n",
       "      <td>0.000000</td>\n",
       "      <td>0.000000</td>\n",
       "      <td>0.000000</td>\n",
       "      <td>0.000000</td>\n",
       "      <td>0.000000</td>\n",
       "      <td>0.000000</td>\n",
       "      <td>0.000000</td>\n",
       "      <td>0.000000</td>\n",
       "      <td>0.000000</td>\n",
       "      <td>0.00000</td>\n",
       "      <td>0.000000</td>\n",
       "      <td>0.000000</td>\n",
       "      <td>0.000000</td>\n",
       "      <td>0.000000</td>\n",
       "      <td>0.000000</td>\n",
       "      <td>0.000000</td>\n",
       "      <td>0.000000</td>\n",
       "      <td>-77.000000</td>\n",
       "      <td>0.000000</td>\n",
       "      <td>0.000000</td>\n",
       "      <td>0.000000</td>\n",
       "      <td>0.000000</td>\n",
       "      <td>0.000000</td>\n",
       "      <td>0.000000</td>\n",
       "      <td>2241.000000</td>\n",
       "      <td>0.000000</td>\n",
       "      <td>0.000000</td>\n",
       "      <td>0.000000</td>\n",
       "      <td>0.000000</td>\n",
       "      <td>0.000000</td>\n",
       "      <td>0.000000</td>\n",
       "      <td>0.000000</td>\n",
       "      <td>0.000000</td>\n",
       "      <td>0.000000</td>\n",
       "      <td>0.000000</td>\n",
       "      <td>0.000000</td>\n",
       "      <td>0.000000</td>\n",
       "      <td>0.000000</td>\n",
       "      <td>0.000000</td>\n",
       "      <td>0.000000</td>\n",
       "      <td>0.000000</td>\n",
       "      <td>0.000000</td>\n",
       "      <td>-79.000000</td>\n",
       "      <td>0.000000</td>\n",
       "      <td>0.000000</td>\n",
       "      <td>0.000000</td>\n",
       "      <td>0.000000</td>\n",
       "      <td>0.000000</td>\n",
       "      <td>0.000000</td>\n",
       "      <td>8568.000000</td>\n",
       "      <td>0.000000</td>\n",
       "      <td>0.000000</td>\n",
       "      <td>0.000000</td>\n",
       "      <td>0.000000</td>\n",
       "      <td>0.000000</td>\n",
       "      <td>0.000000</td>\n",
       "      <td>0.000000</td>\n",
       "      <td>0.000000</td>\n",
       "      <td>0.000000</td>\n",
       "      <td>0.000000</td>\n",
       "      <td>0.000000</td>\n",
       "      <td>0.000000</td>\n",
       "      <td>0.000000</td>\n",
       "      <td>0.000000</td>\n",
       "      <td>0.000000</td>\n",
       "      <td>0.000000</td>\n",
       "      <td>0.000000</td>\n",
       "      <td>-68.000000</td>\n",
       "      <td>0.000000</td>\n",
       "      <td>0.000000</td>\n",
       "      <td>0.000000</td>\n",
       "      <td>0.000000</td>\n",
       "      <td>0.000000</td>\n",
       "      <td>0.000000</td>\n",
       "      <td>11162.000000</td>\n",
       "      <td>0.000000</td>\n",
       "      <td>0.000000</td>\n",
       "      <td>0.000000</td>\n",
       "      <td>0.000000</td>\n",
       "      <td>0.000000</td>\n",
       "      <td>0.000000</td>\n",
       "      <td>0.00000</td>\n",
       "      <td>0.000000</td>\n",
       "      <td>0.000000</td>\n",
       "      <td>0.000000</td>\n",
       "      <td>0.000000</td>\n",
       "      <td>0.000000</td>\n",
       "      <td>0.000000</td>\n",
       "      <td>0.000000</td>\n",
       "      <td>0.000000</td>\n",
       "      <td>0.00000</td>\n",
       "      <td>0.000000</td>\n",
       "      <td>-61.000000</td>\n",
       "      <td>0.000000</td>\n",
       "      <td>0.000000</td>\n",
       "      <td>0.000000</td>\n",
       "      <td>0.000000</td>\n",
       "      <td>0.000000</td>\n",
       "      <td>0.000000</td>\n",
       "      <td>4411.000000</td>\n",
       "      <td>0.000000</td>\n",
       "      <td>4411.000000</td>\n",
       "      <td>4411.000000</td>\n",
       "      <td>0.000000</td>\n",
       "      <td>0.000000</td>\n",
       "      <td>4411.000000</td>\n",
       "      <td>0.000000</td>\n",
       "    </tr>\n",
       "    <tr>\n",
       "      <th>25%</th>\n",
       "      <td>973.000000</td>\n",
       "      <td>160.000000</td>\n",
       "      <td>40.400000</td>\n",
       "      <td>165.000000</td>\n",
       "      <td>0.860000</td>\n",
       "      <td>65.700000</td>\n",
       "      <td>3.300000</td>\n",
       "      <td>9.000000</td>\n",
       "      <td>253.000000</td>\n",
       "      <td>0.580000</td>\n",
       "      <td>0.100000</td>\n",
       "      <td>0.610000</td>\n",
       "      <td>0.070000</td>\n",
       "      <td>0.060000</td>\n",
       "      <td>0.940000</td>\n",
       "      <td>0.840000</td>\n",
       "      <td>0.570000</td>\n",
       "      <td>95.000000</td>\n",
       "      <td>-32.000000</td>\n",
       "      <td>20.000000</td>\n",
       "      <td>21.000000</td>\n",
       "      <td>0.730000</td>\n",
       "      <td>0.88000</td>\n",
       "      <td>67.300000</td>\n",
       "      <td>10.000000</td>\n",
       "      <td>7412.000000</td>\n",
       "      <td>166.000000</td>\n",
       "      <td>41.600000</td>\n",
       "      <td>154.000000</td>\n",
       "      <td>0.930000</td>\n",
       "      <td>69.000000</td>\n",
       "      <td>3.500000</td>\n",
       "      <td>9.000000</td>\n",
       "      <td>239.000000</td>\n",
       "      <td>0.610000</td>\n",
       "      <td>0.10000</td>\n",
       "      <td>0.610000</td>\n",
       "      <td>0.070000</td>\n",
       "      <td>0.070000</td>\n",
       "      <td>0.980000</td>\n",
       "      <td>0.900000</td>\n",
       "      <td>0.600000</td>\n",
       "      <td>93.000000</td>\n",
       "      <td>-11.000000</td>\n",
       "      <td>19.000000</td>\n",
       "      <td>17.000000</td>\n",
       "      <td>0.810000</td>\n",
       "      <td>0.905000</td>\n",
       "      <td>66.700000</td>\n",
       "      <td>10.100000</td>\n",
       "      <td>9078.000000</td>\n",
       "      <td>167.000000</td>\n",
       "      <td>40.200000</td>\n",
       "      <td>154.000000</td>\n",
       "      <td>0.980000</td>\n",
       "      <td>71.200000</td>\n",
       "      <td>3.200000</td>\n",
       "      <td>9.000000</td>\n",
       "      <td>248.000000</td>\n",
       "      <td>0.640000</td>\n",
       "      <td>0.110000</td>\n",
       "      <td>0.600000</td>\n",
       "      <td>0.070000</td>\n",
       "      <td>0.070000</td>\n",
       "      <td>1.020000</td>\n",
       "      <td>0.970000</td>\n",
       "      <td>0.630000</td>\n",
       "      <td>98.000000</td>\n",
       "      <td>-5.000000</td>\n",
       "      <td>19.000000</td>\n",
       "      <td>18.000000</td>\n",
       "      <td>0.810000</td>\n",
       "      <td>0.920000</td>\n",
       "      <td>67.200000</td>\n",
       "      <td>11.800000</td>\n",
       "      <td>11893.000000</td>\n",
       "      <td>171.000000</td>\n",
       "      <td>31.200000</td>\n",
       "      <td>156.000000</td>\n",
       "      <td>0.970000</td>\n",
       "      <td>67.600000</td>\n",
       "      <td>2.500000</td>\n",
       "      <td>9.000000</td>\n",
       "      <td>253.000000</td>\n",
       "      <td>0.620000</td>\n",
       "      <td>0.090000</td>\n",
       "      <td>0.580000</td>\n",
       "      <td>0.070000</td>\n",
       "      <td>0.080000</td>\n",
       "      <td>1.010000</td>\n",
       "      <td>0.950000</td>\n",
       "      <td>0.610000</td>\n",
       "      <td>97.000000</td>\n",
       "      <td>-6.000000</td>\n",
       "      <td>19.000000</td>\n",
       "      <td>15.000000</td>\n",
       "      <td>0.840000</td>\n",
       "      <td>0.910000</td>\n",
       "      <td>66.700000</td>\n",
       "      <td>10.800000</td>\n",
       "      <td>15165.000000</td>\n",
       "      <td>171.000000</td>\n",
       "      <td>35.200000</td>\n",
       "      <td>153.000000</td>\n",
       "      <td>0.990000</td>\n",
       "      <td>70.300000</td>\n",
       "      <td>2.600000</td>\n",
       "      <td>9.00000</td>\n",
       "      <td>248.000000</td>\n",
       "      <td>0.640000</td>\n",
       "      <td>0.100000</td>\n",
       "      <td>0.600000</td>\n",
       "      <td>0.070000</td>\n",
       "      <td>0.080000</td>\n",
       "      <td>1.020000</td>\n",
       "      <td>0.960000</td>\n",
       "      <td>0.62000</td>\n",
       "      <td>88.000000</td>\n",
       "      <td>-3.000000</td>\n",
       "      <td>18.000000</td>\n",
       "      <td>14.000000</td>\n",
       "      <td>0.850000</td>\n",
       "      <td>0.920000</td>\n",
       "      <td>66.700000</td>\n",
       "      <td>11.000000</td>\n",
       "      <td>4991.000000</td>\n",
       "      <td>184.000000</td>\n",
       "      <td>4991.000000</td>\n",
       "      <td>5995.000000</td>\n",
       "      <td>0.000000</td>\n",
       "      <td>184.000000</td>\n",
       "      <td>4991.000000</td>\n",
       "      <td>0.000000</td>\n",
       "    </tr>\n",
       "    <tr>\n",
       "      <th>50%</th>\n",
       "      <td>7528.000000</td>\n",
       "      <td>228.000000</td>\n",
       "      <td>47.100000</td>\n",
       "      <td>231.000000</td>\n",
       "      <td>0.960000</td>\n",
       "      <td>71.600000</td>\n",
       "      <td>4.700000</td>\n",
       "      <td>13.000000</td>\n",
       "      <td>349.000000</td>\n",
       "      <td>0.630000</td>\n",
       "      <td>0.130000</td>\n",
       "      <td>0.650000</td>\n",
       "      <td>0.090000</td>\n",
       "      <td>0.080000</td>\n",
       "      <td>1.010000</td>\n",
       "      <td>0.930000</td>\n",
       "      <td>0.620000</td>\n",
       "      <td>142.000000</td>\n",
       "      <td>-8.000000</td>\n",
       "      <td>32.000000</td>\n",
       "      <td>32.000000</td>\n",
       "      <td>0.900000</td>\n",
       "      <td>0.96000</td>\n",
       "      <td>74.300000</td>\n",
       "      <td>13.300000</td>\n",
       "      <td>9254.000000</td>\n",
       "      <td>223.000000</td>\n",
       "      <td>47.400000</td>\n",
       "      <td>214.000000</td>\n",
       "      <td>1.030000</td>\n",
       "      <td>73.700000</td>\n",
       "      <td>4.500000</td>\n",
       "      <td>13.000000</td>\n",
       "      <td>340.000000</td>\n",
       "      <td>0.670000</td>\n",
       "      <td>0.13000</td>\n",
       "      <td>0.650000</td>\n",
       "      <td>0.090000</td>\n",
       "      <td>0.090000</td>\n",
       "      <td>1.060000</td>\n",
       "      <td>1.010000</td>\n",
       "      <td>0.660000</td>\n",
       "      <td>138.000000</td>\n",
       "      <td>2.000000</td>\n",
       "      <td>30.000000</td>\n",
       "      <td>30.000000</td>\n",
       "      <td>1.040000</td>\n",
       "      <td>1.000000</td>\n",
       "      <td>72.900000</td>\n",
       "      <td>14.000000</td>\n",
       "      <td>11777.000000</td>\n",
       "      <td>241.000000</td>\n",
       "      <td>47.300000</td>\n",
       "      <td>225.000000</td>\n",
       "      <td>1.080000</td>\n",
       "      <td>76.600000</td>\n",
       "      <td>4.500000</td>\n",
       "      <td>13.000000</td>\n",
       "      <td>349.000000</td>\n",
       "      <td>0.700000</td>\n",
       "      <td>0.130000</td>\n",
       "      <td>0.640000</td>\n",
       "      <td>0.090000</td>\n",
       "      <td>0.090000</td>\n",
       "      <td>1.100000</td>\n",
       "      <td>1.060000</td>\n",
       "      <td>0.690000</td>\n",
       "      <td>147.000000</td>\n",
       "      <td>12.000000</td>\n",
       "      <td>31.000000</td>\n",
       "      <td>28.000000</td>\n",
       "      <td>1.020000</td>\n",
       "      <td>1.020000</td>\n",
       "      <td>73.800000</td>\n",
       "      <td>14.100000</td>\n",
       "      <td>14494.000000</td>\n",
       "      <td>238.000000</td>\n",
       "      <td>43.300000</td>\n",
       "      <td>215.000000</td>\n",
       "      <td>1.110000</td>\n",
       "      <td>74.000000</td>\n",
       "      <td>3.800000</td>\n",
       "      <td>13.000000</td>\n",
       "      <td>352.000000</td>\n",
       "      <td>0.700000</td>\n",
       "      <td>0.110000</td>\n",
       "      <td>0.620000</td>\n",
       "      <td>0.080000</td>\n",
       "      <td>0.090000</td>\n",
       "      <td>1.100000</td>\n",
       "      <td>1.080000</td>\n",
       "      <td>0.690000</td>\n",
       "      <td>143.000000</td>\n",
       "      <td>13.000000</td>\n",
       "      <td>30.000000</td>\n",
       "      <td>25.000000</td>\n",
       "      <td>1.170000</td>\n",
       "      <td>1.030000</td>\n",
       "      <td>75.000000</td>\n",
       "      <td>14.300000</td>\n",
       "      <td>18221.000000</td>\n",
       "      <td>244.000000</td>\n",
       "      <td>45.900000</td>\n",
       "      <td>225.000000</td>\n",
       "      <td>1.120000</td>\n",
       "      <td>74.500000</td>\n",
       "      <td>3.700000</td>\n",
       "      <td>13.00000</td>\n",
       "      <td>354.000000</td>\n",
       "      <td>0.710000</td>\n",
       "      <td>0.120000</td>\n",
       "      <td>0.630000</td>\n",
       "      <td>0.090000</td>\n",
       "      <td>0.090000</td>\n",
       "      <td>1.110000</td>\n",
       "      <td>1.090000</td>\n",
       "      <td>0.69000</td>\n",
       "      <td>137.000000</td>\n",
       "      <td>12.000000</td>\n",
       "      <td>29.000000</td>\n",
       "      <td>25.000000</td>\n",
       "      <td>1.120000</td>\n",
       "      <td>1.020000</td>\n",
       "      <td>74.300000</td>\n",
       "      <td>14.200000</td>\n",
       "      <td>6665.000000</td>\n",
       "      <td>362.000000</td>\n",
       "      <td>6665.000000</td>\n",
       "      <td>7020.000000</td>\n",
       "      <td>1.000000</td>\n",
       "      <td>362.000000</td>\n",
       "      <td>6665.000000</td>\n",
       "      <td>1.000000</td>\n",
       "    </tr>\n",
       "    <tr>\n",
       "      <th>75%</th>\n",
       "      <td>8611.000000</td>\n",
       "      <td>307.000000</td>\n",
       "      <td>51.500000</td>\n",
       "      <td>314.000000</td>\n",
       "      <td>1.080000</td>\n",
       "      <td>79.400000</td>\n",
       "      <td>6.400000</td>\n",
       "      <td>18.000000</td>\n",
       "      <td>483.000000</td>\n",
       "      <td>0.690000</td>\n",
       "      <td>0.150000</td>\n",
       "      <td>0.690000</td>\n",
       "      <td>0.100000</td>\n",
       "      <td>0.090000</td>\n",
       "      <td>1.100000</td>\n",
       "      <td>1.050000</td>\n",
       "      <td>0.680000</td>\n",
       "      <td>192.000000</td>\n",
       "      <td>11.000000</td>\n",
       "      <td>43.000000</td>\n",
       "      <td>46.000000</td>\n",
       "      <td>1.170000</td>\n",
       "      <td>1.05000</td>\n",
       "      <td>78.900000</td>\n",
       "      <td>16.900000</td>\n",
       "      <td>11777.000000</td>\n",
       "      <td>314.000000</td>\n",
       "      <td>51.500000</td>\n",
       "      <td>301.000000</td>\n",
       "      <td>1.180000</td>\n",
       "      <td>80.100000</td>\n",
       "      <td>6.000000</td>\n",
       "      <td>17.000000</td>\n",
       "      <td>464.000000</td>\n",
       "      <td>0.730000</td>\n",
       "      <td>0.15000</td>\n",
       "      <td>0.680000</td>\n",
       "      <td>0.110000</td>\n",
       "      <td>0.100000</td>\n",
       "      <td>1.150000</td>\n",
       "      <td>1.150000</td>\n",
       "      <td>0.720000</td>\n",
       "      <td>192.000000</td>\n",
       "      <td>25.000000</td>\n",
       "      <td>45.000000</td>\n",
       "      <td>45.000000</td>\n",
       "      <td>1.320000</td>\n",
       "      <td>1.120000</td>\n",
       "      <td>78.900000</td>\n",
       "      <td>17.800000</td>\n",
       "      <td>15370.000000</td>\n",
       "      <td>332.000000</td>\n",
       "      <td>52.800000</td>\n",
       "      <td>306.000000</td>\n",
       "      <td>1.180000</td>\n",
       "      <td>81.800000</td>\n",
       "      <td>5.900000</td>\n",
       "      <td>18.000000</td>\n",
       "      <td>482.000000</td>\n",
       "      <td>0.740000</td>\n",
       "      <td>0.150000</td>\n",
       "      <td>0.680000</td>\n",
       "      <td>0.100000</td>\n",
       "      <td>0.100000</td>\n",
       "      <td>1.170000</td>\n",
       "      <td>1.170000</td>\n",
       "      <td>0.740000</td>\n",
       "      <td>195.000000</td>\n",
       "      <td>33.000000</td>\n",
       "      <td>47.000000</td>\n",
       "      <td>45.000000</td>\n",
       "      <td>1.430000</td>\n",
       "      <td>1.120000</td>\n",
       "      <td>80.000000</td>\n",
       "      <td>17.900000</td>\n",
       "      <td>16947.000000</td>\n",
       "      <td>322.000000</td>\n",
       "      <td>51.300000</td>\n",
       "      <td>286.000000</td>\n",
       "      <td>1.230000</td>\n",
       "      <td>80.000000</td>\n",
       "      <td>5.600000</td>\n",
       "      <td>17.000000</td>\n",
       "      <td>464.000000</td>\n",
       "      <td>0.750000</td>\n",
       "      <td>0.140000</td>\n",
       "      <td>0.660000</td>\n",
       "      <td>0.100000</td>\n",
       "      <td>0.110000</td>\n",
       "      <td>1.180000</td>\n",
       "      <td>1.220000</td>\n",
       "      <td>0.750000</td>\n",
       "      <td>187.000000</td>\n",
       "      <td>42.000000</td>\n",
       "      <td>43.000000</td>\n",
       "      <td>37.000000</td>\n",
       "      <td>1.570000</td>\n",
       "      <td>1.140000</td>\n",
       "      <td>80.600000</td>\n",
       "      <td>18.300000</td>\n",
       "      <td>19230.000000</td>\n",
       "      <td>335.000000</td>\n",
       "      <td>52.400000</td>\n",
       "      <td>304.000000</td>\n",
       "      <td>1.250000</td>\n",
       "      <td>80.700000</td>\n",
       "      <td>5.500000</td>\n",
       "      <td>17.00000</td>\n",
       "      <td>474.000000</td>\n",
       "      <td>0.760000</td>\n",
       "      <td>0.140000</td>\n",
       "      <td>0.660000</td>\n",
       "      <td>0.100000</td>\n",
       "      <td>0.110000</td>\n",
       "      <td>1.190000</td>\n",
       "      <td>1.200000</td>\n",
       "      <td>0.74000</td>\n",
       "      <td>193.000000</td>\n",
       "      <td>37.000000</td>\n",
       "      <td>44.000000</td>\n",
       "      <td>37.000000</td>\n",
       "      <td>1.460000</td>\n",
       "      <td>1.120000</td>\n",
       "      <td>81.100000</td>\n",
       "      <td>18.100000</td>\n",
       "      <td>8297.000000</td>\n",
       "      <td>556.000000</td>\n",
       "      <td>8297.000000</td>\n",
       "      <td>9565.000000</td>\n",
       "      <td>1.000000</td>\n",
       "      <td>556.000000</td>\n",
       "      <td>8297.000000</td>\n",
       "      <td>1.000000</td>\n",
       "    </tr>\n",
       "    <tr>\n",
       "      <th>max</th>\n",
       "      <td>13899.000000</td>\n",
       "      <td>750.000000</td>\n",
       "      <td>77.300000</td>\n",
       "      <td>711.000000</td>\n",
       "      <td>2.140000</td>\n",
       "      <td>106.800000</td>\n",
       "      <td>21.000000</td>\n",
       "      <td>41.000000</td>\n",
       "      <td>1097.000000</td>\n",
       "      <td>1.180000</td>\n",
       "      <td>0.320000</td>\n",
       "      <td>0.800000</td>\n",
       "      <td>0.180000</td>\n",
       "      <td>0.190000</td>\n",
       "      <td>1.620000</td>\n",
       "      <td>2.140000</td>\n",
       "      <td>1.180000</td>\n",
       "      <td>372.000000</td>\n",
       "      <td>213.000000</td>\n",
       "      <td>114.000000</td>\n",
       "      <td>96.000000</td>\n",
       "      <td>17.000000</td>\n",
       "      <td>1.78000</td>\n",
       "      <td>100.000000</td>\n",
       "      <td>37.500000</td>\n",
       "      <td>20951.000000</td>\n",
       "      <td>789.000000</td>\n",
       "      <td>66.700000</td>\n",
       "      <td>766.000000</td>\n",
       "      <td>1.880000</td>\n",
       "      <td>106.800000</td>\n",
       "      <td>16.300000</td>\n",
       "      <td>42.000000</td>\n",
       "      <td>1125.000000</td>\n",
       "      <td>1.070000</td>\n",
       "      <td>0.31000</td>\n",
       "      <td>0.820000</td>\n",
       "      <td>0.180000</td>\n",
       "      <td>0.180000</td>\n",
       "      <td>1.520000</td>\n",
       "      <td>2.210000</td>\n",
       "      <td>1.070000</td>\n",
       "      <td>389.000000</td>\n",
       "      <td>154.000000</td>\n",
       "      <td>110.000000</td>\n",
       "      <td>102.000000</td>\n",
       "      <td>3.100000</td>\n",
       "      <td>1.700000</td>\n",
       "      <td>100.000000</td>\n",
       "      <td>37.100000</td>\n",
       "      <td>21367.000000</td>\n",
       "      <td>822.000000</td>\n",
       "      <td>70.400000</td>\n",
       "      <td>738.000000</td>\n",
       "      <td>2.500000</td>\n",
       "      <td>107.500000</td>\n",
       "      <td>13.500000</td>\n",
       "      <td>41.000000</td>\n",
       "      <td>1097.000000</td>\n",
       "      <td>1.070000</td>\n",
       "      <td>0.230000</td>\n",
       "      <td>0.950000</td>\n",
       "      <td>0.190000</td>\n",
       "      <td>0.200000</td>\n",
       "      <td>1.570000</td>\n",
       "      <td>2.500000</td>\n",
       "      <td>1.100000</td>\n",
       "      <td>423.000000</td>\n",
       "      <td>132.000000</td>\n",
       "      <td>119.000000</td>\n",
       "      <td>106.000000</td>\n",
       "      <td>5.500000</td>\n",
       "      <td>1.600000</td>\n",
       "      <td>100.000000</td>\n",
       "      <td>36.700000</td>\n",
       "      <td>21392.000000</td>\n",
       "      <td>802.000000</td>\n",
       "      <td>91.700000</td>\n",
       "      <td>685.000000</td>\n",
       "      <td>2.040000</td>\n",
       "      <td>99.900000</td>\n",
       "      <td>18.800000</td>\n",
       "      <td>41.000000</td>\n",
       "      <td>1097.000000</td>\n",
       "      <td>1.060000</td>\n",
       "      <td>0.260000</td>\n",
       "      <td>0.850000</td>\n",
       "      <td>0.180000</td>\n",
       "      <td>0.210000</td>\n",
       "      <td>1.510000</td>\n",
       "      <td>2.040000</td>\n",
       "      <td>1.060000</td>\n",
       "      <td>399.000000</td>\n",
       "      <td>152.000000</td>\n",
       "      <td>96.000000</td>\n",
       "      <td>102.000000</td>\n",
       "      <td>9.330000</td>\n",
       "      <td>1.850000</td>\n",
       "      <td>100.000000</td>\n",
       "      <td>41.200000</td>\n",
       "      <td>21901.000000</td>\n",
       "      <td>751.000000</td>\n",
       "      <td>72.700000</td>\n",
       "      <td>673.000000</td>\n",
       "      <td>2.000000</td>\n",
       "      <td>102.300000</td>\n",
       "      <td>18.300000</td>\n",
       "      <td>41.00000</td>\n",
       "      <td>1097.000000</td>\n",
       "      <td>1.000000</td>\n",
       "      <td>0.270000</td>\n",
       "      <td>0.900000</td>\n",
       "      <td>0.200000</td>\n",
       "      <td>0.230000</td>\n",
       "      <td>1.650000</td>\n",
       "      <td>3.000000</td>\n",
       "      <td>1.23000</td>\n",
       "      <td>375.000000</td>\n",
       "      <td>139.000000</td>\n",
       "      <td>86.000000</td>\n",
       "      <td>96.000000</td>\n",
       "      <td>5.000000</td>\n",
       "      <td>1.730000</td>\n",
       "      <td>100.000000</td>\n",
       "      <td>50.000000</td>\n",
       "      <td>11726.000000</td>\n",
       "      <td>742.000000</td>\n",
       "      <td>11726.000000</td>\n",
       "      <td>11726.000000</td>\n",
       "      <td>1.000000</td>\n",
       "      <td>742.000000</td>\n",
       "      <td>11726.000000</td>\n",
       "      <td>1.000000</td>\n",
       "    </tr>\n",
       "  </tbody>\n",
       "</table>\n",
       "</div>"
      ],
      "text/plain": [
       "              p1_id  p1_total_kills  p1_headshots  p1_total_deaths   p1_kd_ratio  p1_damage_per_round  p1_grenade_damage_per_round  p1_maps_played  p1_rounds_played  p1_kills_per_round  p1_assists_per_round  p1_deaths_per_round  p1_saved_by_teammate_per_round  p1_saved_teammates_per_round     p1_rating  p1_kill_death  p1_kill_round  p1_rounds_with_kills  p1_kill_death_difference  p1_total_opening_kills  p1_total_opening_deaths  p1_opening_kill_ratio  p1_opening_kill_rating  p1_team_win_percent_after_first_kill  p1_first_kill_in_won_rounds         p2_id  p2_total_kills  p2_headshots  p2_total_deaths   p2_kd_ratio  p2_damage_per_round  p2_grenade_damage_per_round  p2_maps_played  p2_rounds_played  p2_kills_per_round  p2_assists_per_round  p2_deaths_per_round  p2_saved_by_teammate_per_round  p2_saved_teammates_per_round     p2_rating  p2_kill_death  p2_kill_round  p2_rounds_with_kills  p2_kill_death_difference  p2_total_opening_kills  p2_total_opening_deaths  p2_opening_kill_ratio  \\\n",
       "count  14823.000000    14823.000000  14823.000000     14823.000000  14823.000000         14823.000000                 14823.000000    14823.000000      14823.000000        14823.000000          14823.000000         14823.000000                    14823.000000                  14823.000000  14823.000000   14823.000000   14823.000000          14823.000000              14823.000000            14823.000000             14823.000000           14823.000000             14823.00000                          14777.000000                 14823.000000  14823.000000    14823.000000  14823.000000     14823.000000  14823.000000         14823.000000                 14823.000000    14823.000000      14823.000000        14823.000000           14823.00000         14823.000000                    14823.000000                  14823.000000  14823.000000   14823.000000   14823.000000          14823.000000              14823.000000            14823.000000             14823.000000           14823.000000   \n",
       "mean    6216.146192      241.459758     45.596843       244.260609      0.990837            72.118350                     5.130109       13.886798        372.848141            0.640781              0.127656             0.644933                        0.088779                      0.079490      1.026381       0.949705       0.620666            146.018350                 -5.566215               33.136005                34.672536               0.999737                 0.96032                             70.279664                    13.583883   9463.633677      243.374958     46.074452       229.964582      1.048041            74.125278                     4.919038       13.408352        359.782905            0.667652               0.12623             0.633980                        0.089089                      0.088036      1.063323       1.005211       0.645732            144.224381                  8.016731               34.007961                31.938676               1.080613   \n",
       "std     4040.069798      120.805542     10.629440       119.359270      0.236247            12.047363                     2.619567        6.620340        177.649699            0.125734              0.036940             0.087928                        0.025377                      0.026129      0.182273       0.273217       0.154560             75.913596                 46.524110               19.589633                20.297857               0.666675                 0.24234                             17.456290                     5.709421   3581.503533      122.946930      9.109546       110.558121      0.207258            12.470594                     2.123914        6.473237        173.986999            0.116111               0.03524             0.087827                        0.026454                      0.027967      0.172370       0.258611       0.152584             75.365277                 33.912175               22.277798                19.570484               0.475447   \n",
       "min      284.000000        0.000000      0.000000         0.000000      0.000000             0.000000                     0.000000        0.000000          0.000000            0.000000              0.000000             0.000000                        0.000000                      0.000000      0.000000       0.000000       0.000000              0.000000               -123.000000                0.000000                 0.000000               0.000000                 0.00000                              0.000000                     0.000000    630.000000        0.000000      0.000000         0.000000      0.000000             0.000000                     0.000000        0.000000          0.000000            0.000000               0.00000             0.000000                        0.000000                      0.000000      0.000000       0.000000       0.000000              0.000000                -77.000000                0.000000                 0.000000               0.000000   \n",
       "25%      973.000000      160.000000     40.400000       165.000000      0.860000            65.700000                     3.300000        9.000000        253.000000            0.580000              0.100000             0.610000                        0.070000                      0.060000      0.940000       0.840000       0.570000             95.000000                -32.000000               20.000000                21.000000               0.730000                 0.88000                             67.300000                    10.000000   7412.000000      166.000000     41.600000       154.000000      0.930000            69.000000                     3.500000        9.000000        239.000000            0.610000               0.10000             0.610000                        0.070000                      0.070000      0.980000       0.900000       0.600000             93.000000                -11.000000               19.000000                17.000000               0.810000   \n",
       "50%     7528.000000      228.000000     47.100000       231.000000      0.960000            71.600000                     4.700000       13.000000        349.000000            0.630000              0.130000             0.650000                        0.090000                      0.080000      1.010000       0.930000       0.620000            142.000000                 -8.000000               32.000000                32.000000               0.900000                 0.96000                             74.300000                    13.300000   9254.000000      223.000000     47.400000       214.000000      1.030000            73.700000                     4.500000       13.000000        340.000000            0.670000               0.13000             0.650000                        0.090000                      0.090000      1.060000       1.010000       0.660000            138.000000                  2.000000               30.000000                30.000000               1.040000   \n",
       "75%     8611.000000      307.000000     51.500000       314.000000      1.080000            79.400000                     6.400000       18.000000        483.000000            0.690000              0.150000             0.690000                        0.100000                      0.090000      1.100000       1.050000       0.680000            192.000000                 11.000000               43.000000                46.000000               1.170000                 1.05000                             78.900000                    16.900000  11777.000000      314.000000     51.500000       301.000000      1.180000            80.100000                     6.000000       17.000000        464.000000            0.730000               0.15000             0.680000                        0.110000                      0.100000      1.150000       1.150000       0.720000            192.000000                 25.000000               45.000000                45.000000               1.320000   \n",
       "max    13899.000000      750.000000     77.300000       711.000000      2.140000           106.800000                    21.000000       41.000000       1097.000000            1.180000              0.320000             0.800000                        0.180000                      0.190000      1.620000       2.140000       1.180000            372.000000                213.000000              114.000000                96.000000              17.000000                 1.78000                            100.000000                    37.500000  20951.000000      789.000000     66.700000       766.000000      1.880000           106.800000                    16.300000       42.000000       1125.000000            1.070000               0.31000             0.820000                        0.180000                      0.180000      1.520000       2.210000       1.070000            389.000000                154.000000              110.000000               102.000000               3.100000   \n",
       "\n",
       "       p2_opening_kill_rating  p2_team_win_percent_after_first_kill  p2_first_kill_in_won_rounds         p3_id  p3_total_kills  p3_headshots  p3_total_deaths   p3_kd_ratio  p3_damage_per_round  p3_grenade_damage_per_round  p3_maps_played  p3_rounds_played  p3_kills_per_round  p3_assists_per_round  p3_deaths_per_round  p3_saved_by_teammate_per_round  p3_saved_teammates_per_round     p3_rating  p3_kill_death  p3_kill_round  p3_rounds_with_kills  p3_kill_death_difference  p3_total_opening_kills  p3_total_opening_deaths  p3_opening_kill_ratio  p3_opening_kill_rating  p3_team_win_percent_after_first_kill  p3_first_kill_in_won_rounds         p4_id  p4_total_kills  p4_headshots  p4_total_deaths   p4_kd_ratio  p4_damage_per_round  p4_grenade_damage_per_round  p4_maps_played  p4_rounds_played  p4_kills_per_round  p4_assists_per_round  p4_deaths_per_round  p4_saved_by_teammate_per_round  p4_saved_teammates_per_round     p4_rating  p4_kill_death  p4_kill_round  p4_rounds_with_kills  \\\n",
       "count            14823.000000                          14810.000000                 14823.000000  14823.000000    14823.000000  14823.000000     14823.000000  14823.000000         14823.000000                 14823.000000    14823.000000      14823.000000        14823.000000          14823.000000         14823.000000                    14823.000000                  14823.000000  14823.000000   14823.000000   14823.000000          14823.000000              14823.000000            14823.000000             14823.000000           14823.000000            14823.000000                          14758.000000                 14823.000000  14823.000000    14823.000000  14823.000000     14823.000000  14823.000000         14823.000000                 14823.000000    14823.000000      14823.000000        14823.000000          14823.000000         14823.000000                    14823.000000                  14823.000000  14823.000000   14823.000000   14823.000000          14823.000000   \n",
       "mean                 0.990072                             70.245949                    14.328827  11659.531876      258.106996     45.983964       236.040410      1.082464            76.240403                     4.862241       13.793497        369.393038            0.688353              0.125564             0.636543                        0.088222                      0.086653      1.087110       1.054125       0.674592            150.245092                 16.480132               34.700331                32.378533               1.117145                1.003339                             71.845718                    14.545794  14652.430884      256.233219     41.987762       228.730014      1.118210            73.170593                     4.426830       13.804156        369.029076            0.684003              0.113059             0.612319                        0.083744                      0.091915      1.090039       1.081188       0.665256            146.326789   \n",
       "std                  0.255237                             17.047850                     6.420008   3867.940266      130.762899     10.803184       113.233357      0.194574            10.258494                     2.273358        6.591554        176.583641            0.099142              0.031185             0.080934                        0.023231                      0.025499      0.148425       0.236449       0.129574             79.607323                 31.534865               22.226534                19.934106               0.524297                0.212031                             14.660899                     5.409445   3143.342406      132.106427     11.909001       115.036709      0.229542            11.184533                     2.985152        6.708106        178.050883            0.114974              0.036908             0.083848                        0.024248                      0.027017      0.163898       0.266397       0.140944             76.509782   \n",
       "min                  0.000000                              0.000000                     0.000000   2241.000000        0.000000      0.000000         0.000000      0.000000             0.000000                     0.000000        0.000000          0.000000            0.000000              0.000000             0.000000                        0.000000                      0.000000      0.000000       0.000000       0.000000              0.000000                -79.000000                0.000000                 0.000000               0.000000                0.000000                              0.000000                     0.000000   8568.000000        0.000000      0.000000         0.000000      0.000000             0.000000                     0.000000        0.000000          0.000000            0.000000              0.000000             0.000000                        0.000000                      0.000000      0.000000       0.000000       0.000000              0.000000   \n",
       "25%                  0.905000                             66.700000                    10.100000   9078.000000      167.000000     40.200000       154.000000      0.980000            71.200000                     3.200000        9.000000        248.000000            0.640000              0.110000             0.600000                        0.070000                      0.070000      1.020000       0.970000       0.630000             98.000000                 -5.000000               19.000000                18.000000               0.810000                0.920000                             67.200000                    11.800000  11893.000000      171.000000     31.200000       156.000000      0.970000            67.600000                     2.500000        9.000000        253.000000            0.620000              0.090000             0.580000                        0.070000                      0.080000      1.010000       0.950000       0.610000             97.000000   \n",
       "50%                  1.000000                             72.900000                    14.000000  11777.000000      241.000000     47.300000       225.000000      1.080000            76.600000                     4.500000       13.000000        349.000000            0.700000              0.130000             0.640000                        0.090000                      0.090000      1.100000       1.060000       0.690000            147.000000                 12.000000               31.000000                28.000000               1.020000                1.020000                             73.800000                    14.100000  14494.000000      238.000000     43.300000       215.000000      1.110000            74.000000                     3.800000       13.000000        352.000000            0.700000              0.110000             0.620000                        0.080000                      0.090000      1.100000       1.080000       0.690000            143.000000   \n",
       "75%                  1.120000                             78.900000                    17.800000  15370.000000      332.000000     52.800000       306.000000      1.180000            81.800000                     5.900000       18.000000        482.000000            0.740000              0.150000             0.680000                        0.100000                      0.100000      1.170000       1.170000       0.740000            195.000000                 33.000000               47.000000                45.000000               1.430000                1.120000                             80.000000                    17.900000  16947.000000      322.000000     51.300000       286.000000      1.230000            80.000000                     5.600000       17.000000        464.000000            0.750000              0.140000             0.660000                        0.100000                      0.110000      1.180000       1.220000       0.750000            187.000000   \n",
       "max                  1.700000                            100.000000                    37.100000  21367.000000      822.000000     70.400000       738.000000      2.500000           107.500000                    13.500000       41.000000       1097.000000            1.070000              0.230000             0.950000                        0.190000                      0.200000      1.570000       2.500000       1.100000            423.000000                132.000000              119.000000               106.000000               5.500000                1.600000                            100.000000                    36.700000  21392.000000      802.000000     91.700000       685.000000      2.040000            99.900000                    18.800000       41.000000       1097.000000            1.060000              0.260000             0.850000                        0.180000                      0.210000      1.510000       2.040000       1.060000            399.000000   \n",
       "\n",
       "       p4_kill_death_difference  p4_total_opening_kills  p4_total_opening_deaths  p4_opening_kill_ratio  p4_opening_kill_rating  p4_team_win_percent_after_first_kill  p4_first_kill_in_won_rounds         p5_id  p5_total_kills  p5_headshots  p5_total_deaths   p5_kd_ratio  p5_damage_per_round  p5_grenade_damage_per_round  p5_maps_played  p5_rounds_played  p5_kills_per_round  p5_assists_per_round  p5_deaths_per_round  p5_saved_by_teammate_per_round  p5_saved_teammates_per_round     p5_rating  p5_kill_death  p5_kill_round  p5_rounds_with_kills  p5_kill_death_difference  p5_total_opening_kills  p5_total_opening_deaths  p5_opening_kill_ratio  p5_opening_kill_rating  p5_team_win_percent_after_first_kill  p5_first_kill_in_won_rounds       team_id      map_id_x    team1_id_x      team2_id     who_win_x      map_id_y    team1_id_y     who_win_y  \n",
       "count              14823.000000            14823.000000             14823.000000           14823.000000            14823.000000                          14809.000000                 14823.000000  14823.000000    14823.000000  14823.000000     14823.000000  14823.000000         14823.000000                 14823.000000     14823.00000      14823.000000        14823.000000          14823.000000         14823.000000                    14823.000000                  14823.000000  14823.000000   14823.000000    14823.00000          14823.000000              14823.000000            14823.000000             14823.000000           14823.000000            14823.000000                          14816.000000                 14823.000000  14823.000000  14823.000000  14823.000000  14823.000000  14823.000000  14823.000000  14823.000000  14823.000000  \n",
       "mean                  19.888349               32.736760                27.514471               1.303494                1.013858                             72.214836                    14.448587  17558.932132      260.013425     44.731188       232.780814      1.120350            75.166795                     4.401214        13.82291        370.042232            0.698498              0.117683             0.626453                        0.087286                      0.095083      1.102629       1.056062        0.66238            141.458342                 17.468529               31.442083                27.111448               1.196610                0.995613                             70.906500                    14.290562   6999.599136    366.995682   6999.599136   7555.834919      0.510828    366.995682   6999.599136      0.510828  \n",
       "std                   37.631400               19.686846                16.802557               0.740892                0.228250                             16.257158                     5.796346   2331.887630      126.189989     11.356890       109.264955      0.203682             9.695449                     2.606721         6.49425        173.900529            0.098762              0.033123             0.069394                        0.024331                      0.027721      0.142094       0.289578        0.16009             78.411859                 33.224285               19.296398                17.111128               0.591913                0.250899                             18.717861                     5.938250   2091.720555    213.077220   2091.720555   2153.237820      0.499900    213.077220   2091.720555      0.499900  \n",
       "min                  -68.000000                0.000000                 0.000000               0.000000                0.000000                              0.000000                     0.000000  11162.000000        0.000000      0.000000         0.000000      0.000000             0.000000                     0.000000         0.00000          0.000000            0.000000              0.000000             0.000000                        0.000000                      0.000000      0.000000       0.000000        0.00000              0.000000                -61.000000                0.000000                 0.000000               0.000000                0.000000                              0.000000                     0.000000   4411.000000      0.000000   4411.000000   4411.000000      0.000000      0.000000   4411.000000      0.000000  \n",
       "25%                   -6.000000               19.000000                15.000000               0.840000                0.910000                             66.700000                    10.800000  15165.000000      171.000000     35.200000       153.000000      0.990000            70.300000                     2.600000         9.00000        248.000000            0.640000              0.100000             0.600000                        0.070000                      0.080000      1.020000       0.960000        0.62000             88.000000                 -3.000000               18.000000                14.000000               0.850000                0.920000                             66.700000                    11.000000   4991.000000    184.000000   4991.000000   5995.000000      0.000000    184.000000   4991.000000      0.000000  \n",
       "50%                   13.000000               30.000000                25.000000               1.170000                1.030000                             75.000000                    14.300000  18221.000000      244.000000     45.900000       225.000000      1.120000            74.500000                     3.700000        13.00000        354.000000            0.710000              0.120000             0.630000                        0.090000                      0.090000      1.110000       1.090000        0.69000            137.000000                 12.000000               29.000000                25.000000               1.120000                1.020000                             74.300000                    14.200000   6665.000000    362.000000   6665.000000   7020.000000      1.000000    362.000000   6665.000000      1.000000  \n",
       "75%                   42.000000               43.000000                37.000000               1.570000                1.140000                             80.600000                    18.300000  19230.000000      335.000000     52.400000       304.000000      1.250000            80.700000                     5.500000        17.00000        474.000000            0.760000              0.140000             0.660000                        0.100000                      0.110000      1.190000       1.200000        0.74000            193.000000                 37.000000               44.000000                37.000000               1.460000                1.120000                             81.100000                    18.100000   8297.000000    556.000000   8297.000000   9565.000000      1.000000    556.000000   8297.000000      1.000000  \n",
       "max                  152.000000               96.000000               102.000000               9.330000                1.850000                            100.000000                    41.200000  21901.000000      751.000000     72.700000       673.000000      2.000000           102.300000                    18.300000        41.00000       1097.000000            1.000000              0.270000             0.900000                        0.200000                      0.230000      1.650000       3.000000        1.23000            375.000000                139.000000               86.000000                96.000000               5.000000                1.730000                            100.000000                    50.000000  11726.000000    742.000000  11726.000000  11726.000000      1.000000    742.000000  11726.000000      1.000000  "
      ]
     },
     "execution_count": 7,
     "metadata": {},
     "output_type": "execute_result"
    }
   ],
   "source": [
    "merge_ord.describe()"
   ]
  },
  {
   "cell_type": "code",
   "execution_count": 8,
   "id": "a985ea2f",
   "metadata": {},
   "outputs": [],
   "source": [
    "# удаляем NA\n",
    "merge_ord = merge_ord.dropna(inplace=False)"
   ]
  },
  {
   "cell_type": "code",
   "execution_count": 9,
   "id": "174da26c",
   "metadata": {},
   "outputs": [
    {
     "data": {
      "text/plain": [
       "0"
      ]
     },
     "execution_count": 9,
     "metadata": {},
     "output_type": "execute_result"
    }
   ],
   "source": [
    "# проверка дубликатов\n",
    "merge_ord.duplicated().sum()"
   ]
  },
  {
   "cell_type": "code",
   "execution_count": 10,
   "id": "5640b383",
   "metadata": {
    "scrolled": false
   },
   "outputs": [
    {
     "data": {
      "image/png": "[encoded data removed]",
      "text/plain": [
       "<Figure size 432x288 with 1 Axes>"
      ]
     },
     "metadata": {},
     "output_type": "display_data"
    }
   ],
   "source": [
    "merge_ord['who_win_x'].plot(kind='hist', bins=2)\n",
    "plt.title('Баланс классов')\n",
    "plt.show()"
   ]
  },
  {
   "cell_type": "code",
   "execution_count": 11,
   "id": "9e8d9e0e",
   "metadata": {},
   "outputs": [
    {
     "data": {
      "text/plain": [
       "1    0.50913\n",
       "0    0.49087\n",
       "Name: who_win_x, dtype: float64"
      ]
     },
     "execution_count": 11,
     "metadata": {},
     "output_type": "execute_result"
    }
   ],
   "source": [
    "merge_ord['who_win_x'].value_counts(normalize=True)"
   ]
  },
  {
   "cell_type": "markdown",
   "id": "b30c7bd9",
   "metadata": {},
   "source": [
    "**Вывод**\n",
    "\n",
    "* Соеденили таблицы \n",
    "* Нашли пропуски и удалили их\n",
    "* Небольшой перевес по классу в who_win_x, дальше в модели буду использовать weighed_classed и stratify для улучшения результатов"
   ]
  },
  {
   "cell_type": "markdown",
   "id": "a3a6ae47",
   "metadata": {},
   "source": [
    "## Исследование задачи"
   ]
  },
  {
   "cell_type": "code",
   "execution_count": 12,
   "id": "276517c8",
   "metadata": {},
   "outputs": [],
   "source": [
    "# not_informative = ['p1_id','p2_id', 'p3_id', 'p4_id', 'p5_id', 'map_name_y', 'team2_id']\n",
    "# merge_ord = merge_ord.drop(not_informative, axis=1)"
   ]
  },
  {
   "cell_type": "code",
   "execution_count": 13,
   "id": "3c00ad28",
   "metadata": {},
   "outputs": [
    {
     "name": "stdout",
     "output_type": "stream",
     "text": [
      "Размер обучающей выборки - (10311, 135)\n",
      "Размер валидоционной выборки - (4420, 135)\n"
     ]
    }
   ],
   "source": [
    "target = merge_ord['who_win_x']\n",
    "features = merge_ord.drop(['who_win_x'], axis=1)\n",
    "\n",
    "features_train, features_valid, target_train, target_valid = train_test_split(\n",
    "    features, target, test_size=0.3, random_state=12345)\n",
    "\n",
    "\n",
    "print('Размер обучающей выборки - {}' .format(features_train.shape)) \n",
    "print('Размер валидоционной выборки - {}' .format(features_valid.shape)) "
   ]
  },
  {
   "cell_type": "code",
   "execution_count": 14,
   "id": "cc899f34",
   "metadata": {},
   "outputs": [
    {
     "name": "stdout",
     "output_type": "stream",
     "text": [
      "Размер тестовой выборки - (2210, 135)\n",
      "Размер валидоционной выборки - (2210, 135)\n"
     ]
    }
   ],
   "source": [
    "features_valid, features_test, target_valid, target_test= train_test_split(\n",
    "    features_valid, target_valid, test_size=0.5, random_state=12345)\n",
    "\n",
    "print('Размер тестовой выборки - {}' .format(features_test.shape)) \n",
    "print('Размер валидоционной выборки - {}' .format(features_valid.shape)) "
   ]
  },
  {
   "cell_type": "code",
   "execution_count": 15,
   "id": "7134e1e1",
   "metadata": {},
   "outputs": [],
   "source": [
    "features_train = pd.get_dummies(features_train, drop_first=True)\n",
    "features_valid = pd.get_dummies(features_valid, drop_first=True)\n",
    "features_test = pd.get_dummies(features_test, drop_first=True)"
   ]
  },
  {
   "cell_type": "code",
   "execution_count": 16,
   "id": "f6622c13",
   "metadata": {},
   "outputs": [
    {
     "data": {
      "text/html": [
       "<div>\n",
       "<style scoped>\n",
       "    .dataframe tbody tr th:only-of-type {\n",
       "        vertical-align: middle;\n",
       "    }\n",
       "\n",
       "    .dataframe tbody tr th {\n",
       "        vertical-align: top;\n",
       "    }\n",
       "\n",
       "    .dataframe thead th {\n",
       "        text-align: right;\n",
       "    }\n",
       "</style>\n",
       "<table border=\"1\" class=\"dataframe\">\n",
       "  <thead>\n",
       "    <tr style=\"text-align: right;\">\n",
       "      <th></th>\n",
       "      <th>p1_id</th>\n",
       "      <th>p1_total_kills</th>\n",
       "      <th>p1_headshots</th>\n",
       "      <th>p1_total_deaths</th>\n",
       "      <th>p1_kd_ratio</th>\n",
       "      <th>p1_damage_per_round</th>\n",
       "      <th>p1_grenade_damage_per_round</th>\n",
       "      <th>p1_maps_played</th>\n",
       "      <th>p1_rounds_played</th>\n",
       "      <th>p1_kills_per_round</th>\n",
       "      <th>p1_assists_per_round</th>\n",
       "      <th>p1_deaths_per_round</th>\n",
       "      <th>p1_saved_by_teammate_per_round</th>\n",
       "      <th>p1_saved_teammates_per_round</th>\n",
       "      <th>p1_rating</th>\n",
       "      <th>p1_kill_death</th>\n",
       "      <th>p1_kill_round</th>\n",
       "      <th>p1_rounds_with_kills</th>\n",
       "      <th>p1_kill_death_difference</th>\n",
       "      <th>p1_total_opening_kills</th>\n",
       "      <th>p1_total_opening_deaths</th>\n",
       "      <th>p1_opening_kill_ratio</th>\n",
       "      <th>p1_opening_kill_rating</th>\n",
       "      <th>p1_team_win_percent_after_first_kill</th>\n",
       "      <th>p1_first_kill_in_won_rounds</th>\n",
       "      <th>p2_id</th>\n",
       "      <th>p2_total_kills</th>\n",
       "      <th>p2_headshots</th>\n",
       "      <th>p2_total_deaths</th>\n",
       "      <th>p2_kd_ratio</th>\n",
       "      <th>p2_damage_per_round</th>\n",
       "      <th>p2_grenade_damage_per_round</th>\n",
       "      <th>p2_maps_played</th>\n",
       "      <th>p2_rounds_played</th>\n",
       "      <th>p2_kills_per_round</th>\n",
       "      <th>p2_assists_per_round</th>\n",
       "      <th>p2_deaths_per_round</th>\n",
       "      <th>p2_saved_by_teammate_per_round</th>\n",
       "      <th>p2_saved_teammates_per_round</th>\n",
       "      <th>p2_rating</th>\n",
       "      <th>p2_kill_death</th>\n",
       "      <th>p2_kill_round</th>\n",
       "      <th>p2_rounds_with_kills</th>\n",
       "      <th>p2_kill_death_difference</th>\n",
       "      <th>p2_total_opening_kills</th>\n",
       "      <th>p2_total_opening_deaths</th>\n",
       "      <th>p2_opening_kill_ratio</th>\n",
       "      <th>p2_opening_kill_rating</th>\n",
       "      <th>p2_team_win_percent_after_first_kill</th>\n",
       "      <th>p2_first_kill_in_won_rounds</th>\n",
       "      <th>p3_id</th>\n",
       "      <th>p3_total_kills</th>\n",
       "      <th>p3_headshots</th>\n",
       "      <th>p3_total_deaths</th>\n",
       "      <th>p3_kd_ratio</th>\n",
       "      <th>p3_damage_per_round</th>\n",
       "      <th>p3_grenade_damage_per_round</th>\n",
       "      <th>p3_maps_played</th>\n",
       "      <th>p3_rounds_played</th>\n",
       "      <th>p3_kills_per_round</th>\n",
       "      <th>p3_assists_per_round</th>\n",
       "      <th>p3_deaths_per_round</th>\n",
       "      <th>p3_saved_by_teammate_per_round</th>\n",
       "      <th>p3_saved_teammates_per_round</th>\n",
       "      <th>p3_rating</th>\n",
       "      <th>p3_kill_death</th>\n",
       "      <th>p3_kill_round</th>\n",
       "      <th>p3_rounds_with_kills</th>\n",
       "      <th>p3_kill_death_difference</th>\n",
       "      <th>p3_total_opening_kills</th>\n",
       "      <th>p3_total_opening_deaths</th>\n",
       "      <th>p3_opening_kill_ratio</th>\n",
       "      <th>p3_opening_kill_rating</th>\n",
       "      <th>p3_team_win_percent_after_first_kill</th>\n",
       "      <th>p3_first_kill_in_won_rounds</th>\n",
       "      <th>p4_id</th>\n",
       "      <th>p4_total_kills</th>\n",
       "      <th>p4_headshots</th>\n",
       "      <th>p4_total_deaths</th>\n",
       "      <th>p4_kd_ratio</th>\n",
       "      <th>p4_damage_per_round</th>\n",
       "      <th>p4_grenade_damage_per_round</th>\n",
       "      <th>p4_maps_played</th>\n",
       "      <th>p4_rounds_played</th>\n",
       "      <th>p4_kills_per_round</th>\n",
       "      <th>p4_assists_per_round</th>\n",
       "      <th>p4_deaths_per_round</th>\n",
       "      <th>p4_saved_by_teammate_per_round</th>\n",
       "      <th>p4_saved_teammates_per_round</th>\n",
       "      <th>p4_rating</th>\n",
       "      <th>p4_kill_death</th>\n",
       "      <th>p4_kill_round</th>\n",
       "      <th>p4_rounds_with_kills</th>\n",
       "      <th>p4_kill_death_difference</th>\n",
       "      <th>p4_total_opening_kills</th>\n",
       "      <th>p4_total_opening_deaths</th>\n",
       "      <th>p4_opening_kill_ratio</th>\n",
       "      <th>p4_opening_kill_rating</th>\n",
       "      <th>p4_team_win_percent_after_first_kill</th>\n",
       "      <th>p4_first_kill_in_won_rounds</th>\n",
       "      <th>p5_id</th>\n",
       "      <th>p5_total_kills</th>\n",
       "      <th>p5_headshots</th>\n",
       "      <th>p5_total_deaths</th>\n",
       "      <th>p5_kd_ratio</th>\n",
       "      <th>p5_damage_per_round</th>\n",
       "      <th>p5_grenade_damage_per_round</th>\n",
       "      <th>p5_maps_played</th>\n",
       "      <th>p5_rounds_played</th>\n",
       "      <th>p5_kills_per_round</th>\n",
       "      <th>p5_assists_per_round</th>\n",
       "      <th>p5_deaths_per_round</th>\n",
       "      <th>p5_saved_by_teammate_per_round</th>\n",
       "      <th>p5_saved_teammates_per_round</th>\n",
       "      <th>p5_rating</th>\n",
       "      <th>p5_kill_death</th>\n",
       "      <th>p5_kill_round</th>\n",
       "      <th>p5_rounds_with_kills</th>\n",
       "      <th>p5_kill_death_difference</th>\n",
       "      <th>p5_total_opening_kills</th>\n",
       "      <th>p5_total_opening_deaths</th>\n",
       "      <th>p5_opening_kill_ratio</th>\n",
       "      <th>p5_opening_kill_rating</th>\n",
       "      <th>p5_team_win_percent_after_first_kill</th>\n",
       "      <th>p5_first_kill_in_won_rounds</th>\n",
       "      <th>team_id</th>\n",
       "      <th>map_id_x</th>\n",
       "      <th>team1_id_x</th>\n",
       "      <th>team2_id</th>\n",
       "      <th>map_id_y</th>\n",
       "      <th>team1_id_y</th>\n",
       "      <th>who_win_y</th>\n",
       "      <th>map_name_x_Dust2</th>\n",
       "      <th>map_name_x_Inferno</th>\n",
       "      <th>map_name_x_Mirage</th>\n",
       "      <th>map_name_x_Nuke</th>\n",
       "      <th>map_name_x_Overpass</th>\n",
       "      <th>map_name_x_Vertigo</th>\n",
       "      <th>map_name_y_Dust2</th>\n",
       "      <th>map_name_y_Inferno</th>\n",
       "      <th>map_name_y_Mirage</th>\n",
       "      <th>map_name_y_Nuke</th>\n",
       "      <th>map_name_y_Overpass</th>\n",
       "      <th>map_name_y_Vertigo</th>\n",
       "      <th>map_name_Dust2</th>\n",
       "      <th>map_name_Inferno</th>\n",
       "      <th>map_name_Mirage</th>\n",
       "      <th>map_name_Nuke</th>\n",
       "      <th>map_name_Overpass</th>\n",
       "      <th>map_name_Vertigo</th>\n",
       "    </tr>\n",
       "  </thead>\n",
       "  <tbody>\n",
       "    <tr>\n",
       "      <th>3158</th>\n",
       "      <td>284</td>\n",
       "      <td>131</td>\n",
       "      <td>67.9</td>\n",
       "      <td>136</td>\n",
       "      <td>0.96</td>\n",
       "      <td>65.1</td>\n",
       "      <td>2.3</td>\n",
       "      <td>8</td>\n",
       "      <td>224</td>\n",
       "      <td>0.58</td>\n",
       "      <td>0.10</td>\n",
       "      <td>0.61</td>\n",
       "      <td>0.07</td>\n",
       "      <td>0.11</td>\n",
       "      <td>0.97</td>\n",
       "      <td>0.96</td>\n",
       "      <td>0.58</td>\n",
       "      <td>81</td>\n",
       "      <td>-5</td>\n",
       "      <td>12</td>\n",
       "      <td>29</td>\n",
       "      <td>0.41</td>\n",
       "      <td>0.72</td>\n",
       "      <td>41.7</td>\n",
       "      <td>4.1</td>\n",
       "      <td>3741</td>\n",
       "      <td>191</td>\n",
       "      <td>46.1</td>\n",
       "      <td>158</td>\n",
       "      <td>1.21</td>\n",
       "      <td>95.0</td>\n",
       "      <td>6.5</td>\n",
       "      <td>8</td>\n",
       "      <td>224</td>\n",
       "      <td>0.85</td>\n",
       "      <td>0.13</td>\n",
       "      <td>0.71</td>\n",
       "      <td>0.07</td>\n",
       "      <td>0.06</td>\n",
       "      <td>1.29</td>\n",
       "      <td>1.21</td>\n",
       "      <td>0.85</td>\n",
       "      <td>122</td>\n",
       "      <td>33</td>\n",
       "      <td>41</td>\n",
       "      <td>30</td>\n",
       "      <td>1.37</td>\n",
       "      <td>1.36</td>\n",
       "      <td>78.0</td>\n",
       "      <td>26.2</td>\n",
       "      <td>3972</td>\n",
       "      <td>159</td>\n",
       "      <td>54.7</td>\n",
       "      <td>149</td>\n",
       "      <td>1.07</td>\n",
       "      <td>78.6</td>\n",
       "      <td>4.0</td>\n",
       "      <td>8</td>\n",
       "      <td>224</td>\n",
       "      <td>0.71</td>\n",
       "      <td>0.12</td>\n",
       "      <td>0.67</td>\n",
       "      <td>0.08</td>\n",
       "      <td>0.09</td>\n",
       "      <td>1.07</td>\n",
       "      <td>1.07</td>\n",
       "      <td>0.71</td>\n",
       "      <td>103</td>\n",
       "      <td>10</td>\n",
       "      <td>22</td>\n",
       "      <td>17</td>\n",
       "      <td>1.29</td>\n",
       "      <td>1.03</td>\n",
       "      <td>86.4</td>\n",
       "      <td>15.6</td>\n",
       "      <td>9816</td>\n",
       "      <td>89</td>\n",
       "      <td>41.6</td>\n",
       "      <td>86</td>\n",
       "      <td>1.03</td>\n",
       "      <td>75.6</td>\n",
       "      <td>15.4</td>\n",
       "      <td>6</td>\n",
       "      <td>149</td>\n",
       "      <td>0.60</td>\n",
       "      <td>0.23</td>\n",
       "      <td>0.58</td>\n",
       "      <td>0.12</td>\n",
       "      <td>0.09</td>\n",
       "      <td>1.10</td>\n",
       "      <td>1.03</td>\n",
       "      <td>0.60</td>\n",
       "      <td>64</td>\n",
       "      <td>3</td>\n",
       "      <td>10</td>\n",
       "      <td>16</td>\n",
       "      <td>0.62</td>\n",
       "      <td>0.82</td>\n",
       "      <td>90.0</td>\n",
       "      <td>9.8</td>\n",
       "      <td>19230</td>\n",
       "      <td>180</td>\n",
       "      <td>34.4</td>\n",
       "      <td>122</td>\n",
       "      <td>1.48</td>\n",
       "      <td>92.7</td>\n",
       "      <td>1.9</td>\n",
       "      <td>8</td>\n",
       "      <td>210</td>\n",
       "      <td>0.86</td>\n",
       "      <td>0.12</td>\n",
       "      <td>0.58</td>\n",
       "      <td>0.07</td>\n",
       "      <td>0.12</td>\n",
       "      <td>1.43</td>\n",
       "      <td>1.10</td>\n",
       "      <td>0.67</td>\n",
       "      <td>24</td>\n",
       "      <td>3</td>\n",
       "      <td>9</td>\n",
       "      <td>7</td>\n",
       "      <td>1.29</td>\n",
       "      <td>1.35</td>\n",
       "      <td>66.7</td>\n",
       "      <td>21.4</td>\n",
       "      <td>5995</td>\n",
       "      <td>397</td>\n",
       "      <td>5995</td>\n",
       "      <td>6667</td>\n",
       "      <td>640</td>\n",
       "      <td>4869</td>\n",
       "      <td>1</td>\n",
       "      <td>1</td>\n",
       "      <td>0</td>\n",
       "      <td>0</td>\n",
       "      <td>0</td>\n",
       "      <td>0</td>\n",
       "      <td>0</td>\n",
       "      <td>1</td>\n",
       "      <td>0</td>\n",
       "      <td>0</td>\n",
       "      <td>0</td>\n",
       "      <td>0</td>\n",
       "      <td>0</td>\n",
       "      <td>0</td>\n",
       "      <td>0</td>\n",
       "      <td>0</td>\n",
       "      <td>0</td>\n",
       "      <td>1</td>\n",
       "      <td>0</td>\n",
       "    </tr>\n",
       "    <tr>\n",
       "      <th>11468</th>\n",
       "      <td>12521</td>\n",
       "      <td>83</td>\n",
       "      <td>38.6</td>\n",
       "      <td>83</td>\n",
       "      <td>1.00</td>\n",
       "      <td>80.0</td>\n",
       "      <td>3.8</td>\n",
       "      <td>5</td>\n",
       "      <td>118</td>\n",
       "      <td>0.70</td>\n",
       "      <td>0.16</td>\n",
       "      <td>0.70</td>\n",
       "      <td>0.07</td>\n",
       "      <td>0.04</td>\n",
       "      <td>1.03</td>\n",
       "      <td>1.00</td>\n",
       "      <td>0.70</td>\n",
       "      <td>61</td>\n",
       "      <td>0</td>\n",
       "      <td>12</td>\n",
       "      <td>12</td>\n",
       "      <td>1.00</td>\n",
       "      <td>1.01</td>\n",
       "      <td>66.7</td>\n",
       "      <td>11.3</td>\n",
       "      <td>12553</td>\n",
       "      <td>93</td>\n",
       "      <td>51.6</td>\n",
       "      <td>71</td>\n",
       "      <td>1.31</td>\n",
       "      <td>89.5</td>\n",
       "      <td>4.2</td>\n",
       "      <td>5</td>\n",
       "      <td>118</td>\n",
       "      <td>0.79</td>\n",
       "      <td>0.13</td>\n",
       "      <td>0.60</td>\n",
       "      <td>0.08</td>\n",
       "      <td>0.06</td>\n",
       "      <td>1.24</td>\n",
       "      <td>1.31</td>\n",
       "      <td>0.79</td>\n",
       "      <td>62</td>\n",
       "      <td>22</td>\n",
       "      <td>20</td>\n",
       "      <td>11</td>\n",
       "      <td>1.82</td>\n",
       "      <td>1.36</td>\n",
       "      <td>80.0</td>\n",
       "      <td>22.5</td>\n",
       "      <td>15631</td>\n",
       "      <td>83</td>\n",
       "      <td>51.8</td>\n",
       "      <td>65</td>\n",
       "      <td>1.28</td>\n",
       "      <td>83.0</td>\n",
       "      <td>3.1</td>\n",
       "      <td>5</td>\n",
       "      <td>118</td>\n",
       "      <td>0.70</td>\n",
       "      <td>0.17</td>\n",
       "      <td>0.55</td>\n",
       "      <td>0.03</td>\n",
       "      <td>0.08</td>\n",
       "      <td>1.24</td>\n",
       "      <td>1.28</td>\n",
       "      <td>0.70</td>\n",
       "      <td>52</td>\n",
       "      <td>18</td>\n",
       "      <td>14</td>\n",
       "      <td>6</td>\n",
       "      <td>2.33</td>\n",
       "      <td>1.18</td>\n",
       "      <td>85.7</td>\n",
       "      <td>16.9</td>\n",
       "      <td>18835</td>\n",
       "      <td>80</td>\n",
       "      <td>28.7</td>\n",
       "      <td>67</td>\n",
       "      <td>1.19</td>\n",
       "      <td>67.5</td>\n",
       "      <td>2.7</td>\n",
       "      <td>5</td>\n",
       "      <td>118</td>\n",
       "      <td>0.68</td>\n",
       "      <td>0.03</td>\n",
       "      <td>0.57</td>\n",
       "      <td>0.07</td>\n",
       "      <td>0.04</td>\n",
       "      <td>1.02</td>\n",
       "      <td>1.19</td>\n",
       "      <td>0.68</td>\n",
       "      <td>58</td>\n",
       "      <td>13</td>\n",
       "      <td>10</td>\n",
       "      <td>8</td>\n",
       "      <td>1.25</td>\n",
       "      <td>0.98</td>\n",
       "      <td>80.0</td>\n",
       "      <td>11.3</td>\n",
       "      <td>19750</td>\n",
       "      <td>70</td>\n",
       "      <td>60.0</td>\n",
       "      <td>65</td>\n",
       "      <td>1.08</td>\n",
       "      <td>63.2</td>\n",
       "      <td>0.6</td>\n",
       "      <td>5</td>\n",
       "      <td>118</td>\n",
       "      <td>0.59</td>\n",
       "      <td>0.11</td>\n",
       "      <td>0.55</td>\n",
       "      <td>0.07</td>\n",
       "      <td>0.08</td>\n",
       "      <td>1.01</td>\n",
       "      <td>1.08</td>\n",
       "      <td>0.59</td>\n",
       "      <td>49</td>\n",
       "      <td>5</td>\n",
       "      <td>10</td>\n",
       "      <td>15</td>\n",
       "      <td>0.67</td>\n",
       "      <td>0.88</td>\n",
       "      <td>100.0</td>\n",
       "      <td>14.1</td>\n",
       "      <td>8297</td>\n",
       "      <td>597</td>\n",
       "      <td>8297</td>\n",
       "      <td>9996</td>\n",
       "      <td>634</td>\n",
       "      <td>11309</td>\n",
       "      <td>1</td>\n",
       "      <td>0</td>\n",
       "      <td>0</td>\n",
       "      <td>0</td>\n",
       "      <td>0</td>\n",
       "      <td>1</td>\n",
       "      <td>0</td>\n",
       "      <td>0</td>\n",
       "      <td>0</td>\n",
       "      <td>0</td>\n",
       "      <td>0</td>\n",
       "      <td>1</td>\n",
       "      <td>0</td>\n",
       "      <td>0</td>\n",
       "      <td>0</td>\n",
       "      <td>0</td>\n",
       "      <td>0</td>\n",
       "      <td>1</td>\n",
       "      <td>0</td>\n",
       "    </tr>\n",
       "    <tr>\n",
       "      <th>5936</th>\n",
       "      <td>12092</td>\n",
       "      <td>167</td>\n",
       "      <td>35.9</td>\n",
       "      <td>118</td>\n",
       "      <td>1.42</td>\n",
       "      <td>87.5</td>\n",
       "      <td>12.0</td>\n",
       "      <td>8</td>\n",
       "      <td>206</td>\n",
       "      <td>0.81</td>\n",
       "      <td>0.16</td>\n",
       "      <td>0.57</td>\n",
       "      <td>0.13</td>\n",
       "      <td>0.11</td>\n",
       "      <td>1.34</td>\n",
       "      <td>1.11</td>\n",
       "      <td>0.70</td>\n",
       "      <td>13</td>\n",
       "      <td>2</td>\n",
       "      <td>1</td>\n",
       "      <td>2</td>\n",
       "      <td>0.50</td>\n",
       "      <td>0.72</td>\n",
       "      <td>100.0</td>\n",
       "      <td>7.1</td>\n",
       "      <td>14736</td>\n",
       "      <td>151</td>\n",
       "      <td>45.0</td>\n",
       "      <td>114</td>\n",
       "      <td>1.32</td>\n",
       "      <td>76.6</td>\n",
       "      <td>5.3</td>\n",
       "      <td>8</td>\n",
       "      <td>206</td>\n",
       "      <td>0.73</td>\n",
       "      <td>0.14</td>\n",
       "      <td>0.55</td>\n",
       "      <td>0.08</td>\n",
       "      <td>0.17</td>\n",
       "      <td>1.18</td>\n",
       "      <td>0.59</td>\n",
       "      <td>0.43</td>\n",
       "      <td>12</td>\n",
       "      <td>-9</td>\n",
       "      <td>2</td>\n",
       "      <td>1</td>\n",
       "      <td>2.00</td>\n",
       "      <td>0.94</td>\n",
       "      <td>50.0</td>\n",
       "      <td>7.1</td>\n",
       "      <td>15914</td>\n",
       "      <td>76</td>\n",
       "      <td>31.6</td>\n",
       "      <td>73</td>\n",
       "      <td>1.04</td>\n",
       "      <td>69.3</td>\n",
       "      <td>2.1</td>\n",
       "      <td>4</td>\n",
       "      <td>113</td>\n",
       "      <td>0.67</td>\n",
       "      <td>0.07</td>\n",
       "      <td>0.65</td>\n",
       "      <td>0.11</td>\n",
       "      <td>0.06</td>\n",
       "      <td>1.06</td>\n",
       "      <td>0.00</td>\n",
       "      <td>0.00</td>\n",
       "      <td>0</td>\n",
       "      <td>0</td>\n",
       "      <td>0</td>\n",
       "      <td>0</td>\n",
       "      <td>0.00</td>\n",
       "      <td>0.00</td>\n",
       "      <td>0.0</td>\n",
       "      <td>0.0</td>\n",
       "      <td>16067</td>\n",
       "      <td>128</td>\n",
       "      <td>49.2</td>\n",
       "      <td>121</td>\n",
       "      <td>1.06</td>\n",
       "      <td>68.3</td>\n",
       "      <td>5.9</td>\n",
       "      <td>8</td>\n",
       "      <td>206</td>\n",
       "      <td>0.62</td>\n",
       "      <td>0.13</td>\n",
       "      <td>0.59</td>\n",
       "      <td>0.12</td>\n",
       "      <td>0.08</td>\n",
       "      <td>1.07</td>\n",
       "      <td>1.11</td>\n",
       "      <td>0.67</td>\n",
       "      <td>16</td>\n",
       "      <td>2</td>\n",
       "      <td>6</td>\n",
       "      <td>1</td>\n",
       "      <td>6.00</td>\n",
       "      <td>1.61</td>\n",
       "      <td>50.0</td>\n",
       "      <td>21.4</td>\n",
       "      <td>18865</td>\n",
       "      <td>68</td>\n",
       "      <td>54.4</td>\n",
       "      <td>74</td>\n",
       "      <td>0.92</td>\n",
       "      <td>71.5</td>\n",
       "      <td>3.0</td>\n",
       "      <td>4</td>\n",
       "      <td>113</td>\n",
       "      <td>0.60</td>\n",
       "      <td>0.19</td>\n",
       "      <td>0.65</td>\n",
       "      <td>0.12</td>\n",
       "      <td>0.12</td>\n",
       "      <td>1.02</td>\n",
       "      <td>0.00</td>\n",
       "      <td>0.00</td>\n",
       "      <td>0</td>\n",
       "      <td>0</td>\n",
       "      <td>0</td>\n",
       "      <td>0</td>\n",
       "      <td>0.00</td>\n",
       "      <td>0.00</td>\n",
       "      <td>0.0</td>\n",
       "      <td>0.0</td>\n",
       "      <td>9996</td>\n",
       "      <td>102</td>\n",
       "      <td>9996</td>\n",
       "      <td>10399</td>\n",
       "      <td>414</td>\n",
       "      <td>7532</td>\n",
       "      <td>0</td>\n",
       "      <td>0</td>\n",
       "      <td>1</td>\n",
       "      <td>0</td>\n",
       "      <td>0</td>\n",
       "      <td>0</td>\n",
       "      <td>0</td>\n",
       "      <td>0</td>\n",
       "      <td>1</td>\n",
       "      <td>0</td>\n",
       "      <td>0</td>\n",
       "      <td>0</td>\n",
       "      <td>0</td>\n",
       "      <td>0</td>\n",
       "      <td>0</td>\n",
       "      <td>0</td>\n",
       "      <td>0</td>\n",
       "      <td>0</td>\n",
       "      <td>1</td>\n",
       "    </tr>\n",
       "    <tr>\n",
       "      <th>8354</th>\n",
       "      <td>284</td>\n",
       "      <td>162</td>\n",
       "      <td>58.6</td>\n",
       "      <td>152</td>\n",
       "      <td>1.07</td>\n",
       "      <td>70.0</td>\n",
       "      <td>4.0</td>\n",
       "      <td>8</td>\n",
       "      <td>243</td>\n",
       "      <td>0.67</td>\n",
       "      <td>0.08</td>\n",
       "      <td>0.63</td>\n",
       "      <td>0.09</td>\n",
       "      <td>0.08</td>\n",
       "      <td>1.05</td>\n",
       "      <td>1.07</td>\n",
       "      <td>0.67</td>\n",
       "      <td>110</td>\n",
       "      <td>10</td>\n",
       "      <td>22</td>\n",
       "      <td>21</td>\n",
       "      <td>1.05</td>\n",
       "      <td>0.98</td>\n",
       "      <td>72.7</td>\n",
       "      <td>12.3</td>\n",
       "      <td>3741</td>\n",
       "      <td>188</td>\n",
       "      <td>45.7</td>\n",
       "      <td>171</td>\n",
       "      <td>1.10</td>\n",
       "      <td>89.4</td>\n",
       "      <td>6.4</td>\n",
       "      <td>8</td>\n",
       "      <td>243</td>\n",
       "      <td>0.77</td>\n",
       "      <td>0.14</td>\n",
       "      <td>0.70</td>\n",
       "      <td>0.09</td>\n",
       "      <td>0.09</td>\n",
       "      <td>1.17</td>\n",
       "      <td>1.10</td>\n",
       "      <td>0.77</td>\n",
       "      <td>121</td>\n",
       "      <td>17</td>\n",
       "      <td>39</td>\n",
       "      <td>36</td>\n",
       "      <td>1.08</td>\n",
       "      <td>1.22</td>\n",
       "      <td>79.5</td>\n",
       "      <td>23.8</td>\n",
       "      <td>3972</td>\n",
       "      <td>184</td>\n",
       "      <td>40.2</td>\n",
       "      <td>159</td>\n",
       "      <td>1.16</td>\n",
       "      <td>85.3</td>\n",
       "      <td>8.0</td>\n",
       "      <td>8</td>\n",
       "      <td>243</td>\n",
       "      <td>0.76</td>\n",
       "      <td>0.16</td>\n",
       "      <td>0.65</td>\n",
       "      <td>0.09</td>\n",
       "      <td>0.07</td>\n",
       "      <td>1.16</td>\n",
       "      <td>1.16</td>\n",
       "      <td>0.76</td>\n",
       "      <td>113</td>\n",
       "      <td>25</td>\n",
       "      <td>21</td>\n",
       "      <td>19</td>\n",
       "      <td>1.11</td>\n",
       "      <td>0.97</td>\n",
       "      <td>81.0</td>\n",
       "      <td>13.1</td>\n",
       "      <td>9816</td>\n",
       "      <td>95</td>\n",
       "      <td>22.1</td>\n",
       "      <td>124</td>\n",
       "      <td>0.77</td>\n",
       "      <td>61.5</td>\n",
       "      <td>6.7</td>\n",
       "      <td>6</td>\n",
       "      <td>184</td>\n",
       "      <td>0.52</td>\n",
       "      <td>0.09</td>\n",
       "      <td>0.67</td>\n",
       "      <td>0.12</td>\n",
       "      <td>0.08</td>\n",
       "      <td>0.87</td>\n",
       "      <td>0.77</td>\n",
       "      <td>0.52</td>\n",
       "      <td>66</td>\n",
       "      <td>-29</td>\n",
       "      <td>9</td>\n",
       "      <td>15</td>\n",
       "      <td>0.60</td>\n",
       "      <td>0.78</td>\n",
       "      <td>55.6</td>\n",
       "      <td>5.0</td>\n",
       "      <td>19230</td>\n",
       "      <td>158</td>\n",
       "      <td>32.9</td>\n",
       "      <td>111</td>\n",
       "      <td>1.42</td>\n",
       "      <td>84.7</td>\n",
       "      <td>3.1</td>\n",
       "      <td>6</td>\n",
       "      <td>184</td>\n",
       "      <td>0.86</td>\n",
       "      <td>0.10</td>\n",
       "      <td>0.60</td>\n",
       "      <td>0.07</td>\n",
       "      <td>0.12</td>\n",
       "      <td>1.31</td>\n",
       "      <td>1.42</td>\n",
       "      <td>0.86</td>\n",
       "      <td>101</td>\n",
       "      <td>47</td>\n",
       "      <td>31</td>\n",
       "      <td>13</td>\n",
       "      <td>2.38</td>\n",
       "      <td>1.39</td>\n",
       "      <td>74.2</td>\n",
       "      <td>23.0</td>\n",
       "      <td>5995</td>\n",
       "      <td>29</td>\n",
       "      <td>5995</td>\n",
       "      <td>8297</td>\n",
       "      <td>24</td>\n",
       "      <td>4869</td>\n",
       "      <td>0</td>\n",
       "      <td>0</td>\n",
       "      <td>0</td>\n",
       "      <td>0</td>\n",
       "      <td>0</td>\n",
       "      <td>0</td>\n",
       "      <td>1</td>\n",
       "      <td>0</td>\n",
       "      <td>0</td>\n",
       "      <td>0</td>\n",
       "      <td>0</td>\n",
       "      <td>0</td>\n",
       "      <td>1</td>\n",
       "      <td>0</td>\n",
       "      <td>0</td>\n",
       "      <td>0</td>\n",
       "      <td>0</td>\n",
       "      <td>0</td>\n",
       "      <td>1</td>\n",
       "    </tr>\n",
       "    <tr>\n",
       "      <th>7858</th>\n",
       "      <td>5794</td>\n",
       "      <td>350</td>\n",
       "      <td>58.9</td>\n",
       "      <td>352</td>\n",
       "      <td>0.99</td>\n",
       "      <td>84.1</td>\n",
       "      <td>7.2</td>\n",
       "      <td>17</td>\n",
       "      <td>493</td>\n",
       "      <td>0.71</td>\n",
       "      <td>0.16</td>\n",
       "      <td>0.71</td>\n",
       "      <td>0.09</td>\n",
       "      <td>0.09</td>\n",
       "      <td>1.07</td>\n",
       "      <td>1.01</td>\n",
       "      <td>0.72</td>\n",
       "      <td>207</td>\n",
       "      <td>3</td>\n",
       "      <td>54</td>\n",
       "      <td>55</td>\n",
       "      <td>0.98</td>\n",
       "      <td>1.08</td>\n",
       "      <td>81.5</td>\n",
       "      <td>20.4</td>\n",
       "      <td>5796</td>\n",
       "      <td>314</td>\n",
       "      <td>56.7</td>\n",
       "      <td>315</td>\n",
       "      <td>1.00</td>\n",
       "      <td>70.7</td>\n",
       "      <td>3.2</td>\n",
       "      <td>17</td>\n",
       "      <td>493</td>\n",
       "      <td>0.64</td>\n",
       "      <td>0.10</td>\n",
       "      <td>0.64</td>\n",
       "      <td>0.09</td>\n",
       "      <td>0.08</td>\n",
       "      <td>1.02</td>\n",
       "      <td>0.99</td>\n",
       "      <td>0.62</td>\n",
       "      <td>189</td>\n",
       "      <td>-2</td>\n",
       "      <td>37</td>\n",
       "      <td>42</td>\n",
       "      <td>0.88</td>\n",
       "      <td>0.93</td>\n",
       "      <td>75.7</td>\n",
       "      <td>13.0</td>\n",
       "      <td>7266</td>\n",
       "      <td>376</td>\n",
       "      <td>26.3</td>\n",
       "      <td>302</td>\n",
       "      <td>1.25</td>\n",
       "      <td>77.5</td>\n",
       "      <td>1.7</td>\n",
       "      <td>17</td>\n",
       "      <td>493</td>\n",
       "      <td>0.76</td>\n",
       "      <td>0.08</td>\n",
       "      <td>0.61</td>\n",
       "      <td>0.08</td>\n",
       "      <td>0.08</td>\n",
       "      <td>1.17</td>\n",
       "      <td>1.31</td>\n",
       "      <td>0.79</td>\n",
       "      <td>226</td>\n",
       "      <td>80</td>\n",
       "      <td>61</td>\n",
       "      <td>37</td>\n",
       "      <td>1.65</td>\n",
       "      <td>1.23</td>\n",
       "      <td>77.0</td>\n",
       "      <td>21.8</td>\n",
       "      <td>14932</td>\n",
       "      <td>314</td>\n",
       "      <td>52.5</td>\n",
       "      <td>282</td>\n",
       "      <td>1.11</td>\n",
       "      <td>76.2</td>\n",
       "      <td>4.7</td>\n",
       "      <td>15</td>\n",
       "      <td>430</td>\n",
       "      <td>0.73</td>\n",
       "      <td>0.13</td>\n",
       "      <td>0.66</td>\n",
       "      <td>0.08</td>\n",
       "      <td>0.10</td>\n",
       "      <td>1.08</td>\n",
       "      <td>1.13</td>\n",
       "      <td>0.74</td>\n",
       "      <td>185</td>\n",
       "      <td>33</td>\n",
       "      <td>25</td>\n",
       "      <td>33</td>\n",
       "      <td>0.76</td>\n",
       "      <td>0.84</td>\n",
       "      <td>56.0</td>\n",
       "      <td>7.1</td>\n",
       "      <td>19899</td>\n",
       "      <td>161</td>\n",
       "      <td>49.7</td>\n",
       "      <td>157</td>\n",
       "      <td>1.03</td>\n",
       "      <td>68.3</td>\n",
       "      <td>6.9</td>\n",
       "      <td>9</td>\n",
       "      <td>259</td>\n",
       "      <td>0.62</td>\n",
       "      <td>0.12</td>\n",
       "      <td>0.61</td>\n",
       "      <td>0.10</td>\n",
       "      <td>0.10</td>\n",
       "      <td>1.01</td>\n",
       "      <td>1.10</td>\n",
       "      <td>0.59</td>\n",
       "      <td>60</td>\n",
       "      <td>7</td>\n",
       "      <td>6</td>\n",
       "      <td>11</td>\n",
       "      <td>0.55</td>\n",
       "      <td>0.75</td>\n",
       "      <td>66.7</td>\n",
       "      <td>5.3</td>\n",
       "      <td>7532</td>\n",
       "      <td>243</td>\n",
       "      <td>7532</td>\n",
       "      <td>9565</td>\n",
       "      <td>326</td>\n",
       "      <td>7718</td>\n",
       "      <td>0</td>\n",
       "      <td>0</td>\n",
       "      <td>0</td>\n",
       "      <td>1</td>\n",
       "      <td>0</td>\n",
       "      <td>0</td>\n",
       "      <td>0</td>\n",
       "      <td>0</td>\n",
       "      <td>0</td>\n",
       "      <td>1</td>\n",
       "      <td>0</td>\n",
       "      <td>0</td>\n",
       "      <td>0</td>\n",
       "      <td>0</td>\n",
       "      <td>0</td>\n",
       "      <td>0</td>\n",
       "      <td>0</td>\n",
       "      <td>0</td>\n",
       "      <td>1</td>\n",
       "    </tr>\n",
       "  </tbody>\n",
       "</table>\n",
       "</div>"
      ],
      "text/plain": [
       "       p1_id  p1_total_kills  p1_headshots  p1_total_deaths  p1_kd_ratio  p1_damage_per_round  p1_grenade_damage_per_round  p1_maps_played  p1_rounds_played  p1_kills_per_round  p1_assists_per_round  p1_deaths_per_round  p1_saved_by_teammate_per_round  p1_saved_teammates_per_round  p1_rating  p1_kill_death  p1_kill_round  p1_rounds_with_kills  p1_kill_death_difference  p1_total_opening_kills  p1_total_opening_deaths  p1_opening_kill_ratio  p1_opening_kill_rating  p1_team_win_percent_after_first_kill  p1_first_kill_in_won_rounds  p2_id  p2_total_kills  p2_headshots  p2_total_deaths  p2_kd_ratio  p2_damage_per_round  p2_grenade_damage_per_round  p2_maps_played  p2_rounds_played  p2_kills_per_round  p2_assists_per_round  p2_deaths_per_round  p2_saved_by_teammate_per_round  p2_saved_teammates_per_round  p2_rating  p2_kill_death  p2_kill_round  p2_rounds_with_kills  p2_kill_death_difference  p2_total_opening_kills  p2_total_opening_deaths  p2_opening_kill_ratio  p2_opening_kill_rating  \\\n",
       "3158     284             131          67.9              136         0.96                 65.1                          2.3               8               224                0.58                  0.10                 0.61                            0.07                          0.11       0.97           0.96           0.58                    81                        -5                      12                       29                   0.41                    0.72                                  41.7                          4.1   3741             191          46.1              158         1.21                 95.0                          6.5               8               224                0.85                  0.13                 0.71                            0.07                          0.06       1.29           1.21           0.85                   122                        33                      41                       30                   1.37                    1.36   \n",
       "11468  12521              83          38.6               83         1.00                 80.0                          3.8               5               118                0.70                  0.16                 0.70                            0.07                          0.04       1.03           1.00           0.70                    61                         0                      12                       12                   1.00                    1.01                                  66.7                         11.3  12553              93          51.6               71         1.31                 89.5                          4.2               5               118                0.79                  0.13                 0.60                            0.08                          0.06       1.24           1.31           0.79                    62                        22                      20                       11                   1.82                    1.36   \n",
       "5936   12092             167          35.9              118         1.42                 87.5                         12.0               8               206                0.81                  0.16                 0.57                            0.13                          0.11       1.34           1.11           0.70                    13                         2                       1                        2                   0.50                    0.72                                 100.0                          7.1  14736             151          45.0              114         1.32                 76.6                          5.3               8               206                0.73                  0.14                 0.55                            0.08                          0.17       1.18           0.59           0.43                    12                        -9                       2                        1                   2.00                    0.94   \n",
       "8354     284             162          58.6              152         1.07                 70.0                          4.0               8               243                0.67                  0.08                 0.63                            0.09                          0.08       1.05           1.07           0.67                   110                        10                      22                       21                   1.05                    0.98                                  72.7                         12.3   3741             188          45.7              171         1.10                 89.4                          6.4               8               243                0.77                  0.14                 0.70                            0.09                          0.09       1.17           1.10           0.77                   121                        17                      39                       36                   1.08                    1.22   \n",
       "7858    5794             350          58.9              352         0.99                 84.1                          7.2              17               493                0.71                  0.16                 0.71                            0.09                          0.09       1.07           1.01           0.72                   207                         3                      54                       55                   0.98                    1.08                                  81.5                         20.4   5796             314          56.7              315         1.00                 70.7                          3.2              17               493                0.64                  0.10                 0.64                            0.09                          0.08       1.02           0.99           0.62                   189                        -2                      37                       42                   0.88                    0.93   \n",
       "\n",
       "       p2_team_win_percent_after_first_kill  p2_first_kill_in_won_rounds  p3_id  p3_total_kills  p3_headshots  p3_total_deaths  p3_kd_ratio  p3_damage_per_round  p3_grenade_damage_per_round  p3_maps_played  p3_rounds_played  p3_kills_per_round  p3_assists_per_round  p3_deaths_per_round  p3_saved_by_teammate_per_round  p3_saved_teammates_per_round  p3_rating  p3_kill_death  p3_kill_round  p3_rounds_with_kills  p3_kill_death_difference  p3_total_opening_kills  p3_total_opening_deaths  p3_opening_kill_ratio  p3_opening_kill_rating  p3_team_win_percent_after_first_kill  p3_first_kill_in_won_rounds  p4_id  p4_total_kills  p4_headshots  p4_total_deaths  p4_kd_ratio  p4_damage_per_round  p4_grenade_damage_per_round  p4_maps_played  p4_rounds_played  p4_kills_per_round  p4_assists_per_round  p4_deaths_per_round  p4_saved_by_teammate_per_round  p4_saved_teammates_per_round  p4_rating  p4_kill_death  p4_kill_round  p4_rounds_with_kills  p4_kill_death_difference  p4_total_opening_kills  \\\n",
       "3158                                   78.0                         26.2   3972             159          54.7              149         1.07                 78.6                          4.0               8               224                0.71                  0.12                 0.67                            0.08                          0.09       1.07           1.07           0.71                   103                        10                      22                       17                   1.29                    1.03                                  86.4                         15.6   9816              89          41.6               86         1.03                 75.6                         15.4               6               149                0.60                  0.23                 0.58                            0.12                          0.09       1.10           1.03           0.60                    64                         3                      10   \n",
       "11468                                  80.0                         22.5  15631              83          51.8               65         1.28                 83.0                          3.1               5               118                0.70                  0.17                 0.55                            0.03                          0.08       1.24           1.28           0.70                    52                        18                      14                        6                   2.33                    1.18                                  85.7                         16.9  18835              80          28.7               67         1.19                 67.5                          2.7               5               118                0.68                  0.03                 0.57                            0.07                          0.04       1.02           1.19           0.68                    58                        13                      10   \n",
       "5936                                   50.0                          7.1  15914              76          31.6               73         1.04                 69.3                          2.1               4               113                0.67                  0.07                 0.65                            0.11                          0.06       1.06           0.00           0.00                     0                         0                       0                        0                   0.00                    0.00                                   0.0                          0.0  16067             128          49.2              121         1.06                 68.3                          5.9               8               206                0.62                  0.13                 0.59                            0.12                          0.08       1.07           1.11           0.67                    16                         2                       6   \n",
       "8354                                   79.5                         23.8   3972             184          40.2              159         1.16                 85.3                          8.0               8               243                0.76                  0.16                 0.65                            0.09                          0.07       1.16           1.16           0.76                   113                        25                      21                       19                   1.11                    0.97                                  81.0                         13.1   9816              95          22.1              124         0.77                 61.5                          6.7               6               184                0.52                  0.09                 0.67                            0.12                          0.08       0.87           0.77           0.52                    66                       -29                       9   \n",
       "7858                                   75.7                         13.0   7266             376          26.3              302         1.25                 77.5                          1.7              17               493                0.76                  0.08                 0.61                            0.08                          0.08       1.17           1.31           0.79                   226                        80                      61                       37                   1.65                    1.23                                  77.0                         21.8  14932             314          52.5              282         1.11                 76.2                          4.7              15               430                0.73                  0.13                 0.66                            0.08                          0.10       1.08           1.13           0.74                   185                        33                      25   \n",
       "\n",
       "       p4_total_opening_deaths  p4_opening_kill_ratio  p4_opening_kill_rating  p4_team_win_percent_after_first_kill  p4_first_kill_in_won_rounds  p5_id  p5_total_kills  p5_headshots  p5_total_deaths  p5_kd_ratio  p5_damage_per_round  p5_grenade_damage_per_round  p5_maps_played  p5_rounds_played  p5_kills_per_round  p5_assists_per_round  p5_deaths_per_round  p5_saved_by_teammate_per_round  p5_saved_teammates_per_round  p5_rating  p5_kill_death  p5_kill_round  p5_rounds_with_kills  p5_kill_death_difference  p5_total_opening_kills  p5_total_opening_deaths  p5_opening_kill_ratio  p5_opening_kill_rating  p5_team_win_percent_after_first_kill  p5_first_kill_in_won_rounds  team_id  map_id_x  team1_id_x  team2_id  map_id_y  team1_id_y  who_win_y  map_name_x_Dust2  map_name_x_Inferno  map_name_x_Mirage  map_name_x_Nuke  map_name_x_Overpass  map_name_x_Vertigo  map_name_y_Dust2  map_name_y_Inferno  map_name_y_Mirage  map_name_y_Nuke  map_name_y_Overpass  map_name_y_Vertigo  map_name_Dust2  \\\n",
       "3158                        16                   0.62                    0.82                                  90.0                          9.8  19230             180          34.4              122         1.48                 92.7                          1.9               8               210                0.86                  0.12                 0.58                            0.07                          0.12       1.43           1.10           0.67                    24                         3                       9                        7                   1.29                    1.35                                  66.7                         21.4     5995       397        5995      6667       640        4869          1                 1                   0                  0                0                    0                   0                 1                   0                  0                0                    0                   0               0   \n",
       "11468                        8                   1.25                    0.98                                  80.0                         11.3  19750              70          60.0               65         1.08                 63.2                          0.6               5               118                0.59                  0.11                 0.55                            0.07                          0.08       1.01           1.08           0.59                    49                         5                      10                       15                   0.67                    0.88                                 100.0                         14.1     8297       597        8297      9996       634       11309          1                 0                   0                  0                0                    1                   0                 0                   0                  0                0                    1                   0               0   \n",
       "5936                         1                   6.00                    1.61                                  50.0                         21.4  18865              68          54.4               74         0.92                 71.5                          3.0               4               113                0.60                  0.19                 0.65                            0.12                          0.12       1.02           0.00           0.00                     0                         0                       0                        0                   0.00                    0.00                                   0.0                          0.0     9996       102        9996     10399       414        7532          0                 0                   1                  0                0                    0                   0                 0                   1                  0                0                    0                   0               0   \n",
       "8354                        15                   0.60                    0.78                                  55.6                          5.0  19230             158          32.9              111         1.42                 84.7                          3.1               6               184                0.86                  0.10                 0.60                            0.07                          0.12       1.31           1.42           0.86                   101                        47                      31                       13                   2.38                    1.39                                  74.2                         23.0     5995        29        5995      8297        24        4869          0                 0                   0                  0                0                    0                   1                 0                   0                  0                0                    0                   1               0   \n",
       "7858                        33                   0.76                    0.84                                  56.0                          7.1  19899             161          49.7              157         1.03                 68.3                          6.9               9               259                0.62                  0.12                 0.61                            0.10                          0.10       1.01           1.10           0.59                    60                         7                       6                       11                   0.55                    0.75                                  66.7                          5.3     7532       243        7532      9565       326        7718          0                 0                   0                  1                0                    0                   0                 0                   0                  1                0                    0                   0               0   \n",
       "\n",
       "       map_name_Inferno  map_name_Mirage  map_name_Nuke  map_name_Overpass  map_name_Vertigo  \n",
       "3158                  0                0              0                  1                 0  \n",
       "11468                 0                0              0                  1                 0  \n",
       "5936                  0                0              0                  0                 1  \n",
       "8354                  0                0              0                  0                 1  \n",
       "7858                  0                0              0                  0                 1  "
      ]
     },
     "execution_count": 16,
     "metadata": {},
     "output_type": "execute_result"
    }
   ],
   "source": [
    "features_test.head()"
   ]
  },
  {
   "cell_type": "code",
   "execution_count": 17,
   "id": "67d89f2f",
   "metadata": {},
   "outputs": [],
   "source": [
    "numeric = [\n",
    " 'p1_total_kills',\n",
    " 'p1_headshots',\n",
    " 'p1_total_deaths',\n",
    " 'p1_kd_ratio',\n",
    " 'p1_damage_per_round',\n",
    " 'p1_grenade_damage_per_round',\n",
    " 'p1_maps_played',\n",
    " 'p1_rounds_played',\n",
    " 'p1_kills_per_round',\n",
    " 'p1_assists_per_round',\n",
    " 'p1_deaths_per_round',\n",
    " 'p1_saved_by_teammate_per_round',\n",
    " 'p1_saved_teammates_per_round',\n",
    " 'p1_rating',\n",
    " 'p1_kill_death',\n",
    " 'p1_kill_round',\n",
    " 'p1_rounds_with_kills',\n",
    " 'p1_kill_death_difference',\n",
    " 'p1_total_opening_kills',\n",
    " 'p1_total_opening_deaths',\n",
    " 'p1_opening_kill_ratio',\n",
    " 'p1_opening_kill_rating',\n",
    " 'p1_team_win_percent_after_first_kill',\n",
    " 'p1_first_kill_in_won_rounds',\n",
    " 'p2_total_kills',\n",
    " 'p2_headshots',\n",
    " 'p2_total_deaths',\n",
    " 'p2_kd_ratio',\n",
    " 'p2_damage_per_round',\n",
    " 'p2_grenade_damage_per_round',\n",
    " 'p2_maps_played',\n",
    " 'p2_rounds_played',\n",
    " 'p2_kills_per_round',\n",
    " 'p2_assists_per_round',\n",
    " 'p2_deaths_per_round',\n",
    " 'p2_saved_by_teammate_per_round',\n",
    " 'p2_saved_teammates_per_round',\n",
    " 'p2_rating',\n",
    " 'p2_kill_death',\n",
    " 'p2_kill_round',\n",
    " 'p2_rounds_with_kills',\n",
    " 'p2_kill_death_difference',\n",
    " 'p2_total_opening_kills',\n",
    " 'p2_total_opening_deaths',\n",
    " 'p2_opening_kill_ratio',\n",
    " 'p2_opening_kill_rating',\n",
    " 'p2_team_win_percent_after_first_kill',\n",
    " 'p2_first_kill_in_won_rounds',\n",
    " 'p3_total_kills',\n",
    " 'p3_headshots',\n",
    " 'p3_total_deaths',\n",
    " 'p3_kd_ratio',\n",
    " 'p3_damage_per_round',\n",
    " 'p3_grenade_damage_per_round',\n",
    " 'p3_maps_played',\n",
    " 'p3_rounds_played',\n",
    " 'p3_kills_per_round',\n",
    " 'p3_assists_per_round',\n",
    " 'p3_deaths_per_round',\n",
    " 'p3_saved_by_teammate_per_round',\n",
    " 'p3_saved_teammates_per_round',\n",
    " 'p3_rating',\n",
    " 'p3_kill_death',\n",
    " 'p3_kill_round',\n",
    " 'p3_rounds_with_kills',\n",
    " 'p3_kill_death_difference',\n",
    " 'p3_total_opening_kills',\n",
    " 'p3_total_opening_deaths',\n",
    " 'p3_opening_kill_ratio',\n",
    " 'p3_opening_kill_rating',\n",
    " 'p3_team_win_percent_after_first_kill',\n",
    " 'p3_first_kill_in_won_rounds',\n",
    " 'p4_total_kills',\n",
    " 'p4_headshots',\n",
    " 'p4_total_deaths',\n",
    " 'p4_kd_ratio',\n",
    " 'p4_damage_per_round',\n",
    " 'p4_grenade_damage_per_round',\n",
    " 'p4_maps_played',\n",
    " 'p4_rounds_played',\n",
    " 'p4_kills_per_round',\n",
    " 'p4_assists_per_round',\n",
    " 'p4_deaths_per_round',\n",
    " 'p4_saved_by_teammate_per_round',\n",
    " 'p4_saved_teammates_per_round',\n",
    " 'p4_rating',\n",
    " 'p4_kill_death',\n",
    " 'p4_kill_round',\n",
    " 'p4_rounds_with_kills',\n",
    " 'p4_kill_death_difference',\n",
    " 'p4_total_opening_kills',\n",
    " 'p4_total_opening_deaths',\n",
    " 'p4_opening_kill_ratio',\n",
    " 'p4_opening_kill_rating',\n",
    " 'p4_team_win_percent_after_first_kill',\n",
    " 'p4_first_kill_in_won_rounds',\n",
    " 'p5_total_kills',\n",
    " 'p5_headshots',\n",
    " 'p5_total_deaths',\n",
    " 'p5_kd_ratio',\n",
    " 'p5_damage_per_round',\n",
    " 'p5_grenade_damage_per_round',\n",
    " 'p5_maps_played',\n",
    " 'p5_rounds_played',\n",
    " 'p5_kills_per_round',\n",
    " 'p5_assists_per_round',\n",
    " 'p5_deaths_per_round',\n",
    " 'p5_saved_by_teammate_per_round',\n",
    " 'p5_saved_teammates_per_round',\n",
    " 'p5_rating',\n",
    " 'p5_kill_death',\n",
    " 'p5_kill_round',\n",
    " 'p5_rounds_with_kills',\n",
    " 'p5_kill_death_difference',\n",
    " 'p5_total_opening_kills',\n",
    " 'p5_total_opening_deaths',\n",
    " 'p5_opening_kill_ratio',\n",
    " 'p5_opening_kill_rating',\n",
    " 'p5_team_win_percent_after_first_kill',\n",
    " 'p5_first_kill_in_won_rounds']\n",
    "\n",
    "scaler = StandardScaler()\n",
    "scaler.fit(features_train[numeric])\n",
    "features_train[numeric] = scaler.transform(features_train[numeric])\n",
    "features_valid[numeric] = scaler.transform(features_valid[numeric])\n",
    "features_test[numeric] = scaler.transform(features_test[numeric])"
   ]
  },
  {
   "cell_type": "code",
   "execution_count": 18,
   "id": "2408a24d",
   "metadata": {},
   "outputs": [],
   "source": [
    "def models_AUC(features_train, target_train, features_valid, target_valid):\n",
    "    model_dt = DecisionTreeClassifier(random_state=12345)\n",
    "    dt_score = model_dt.fit(features_train, target_train).score(features_valid, target_valid) # используем метод score из библиотеки sklearn\n",
    "    predicted_valid_dt = model_dt.predict(features_valid)\n",
    "    print(\"AUC Дерево решений:\", roc_auc_score(target_valid, predicted_valid_dt)) # находим метрику F1\n",
    "    \n",
    "    model_rf = RandomForestClassifier(max_depth=5, n_estimators=20, min_samples_leaf=5, random_state=12345)\n",
    "    rf_score = model_rf.fit(features_train, target_train).score(features_valid, target_valid)\n",
    "    predicted_valid_rf = model_rf.predict(features_valid)\n",
    "    print(\"AUC Случайный лес:\", roc_auc_score(target_valid, predicted_valid_rf))\n",
    "    \n",
    "    model_lr = LogisticRegression(solver = 'liblinear', random_state=12345, class_weight='balanced')\n",
    "    lr_score = model_lr.fit(features_train, target_train).score(features_valid, target_valid)\n",
    "    predicted_valid_lr = model_lr.predict(features_valid)\n",
    "    print(\"AUC Логистческая регрессия:\", roc_auc_score(target_valid, predicted_valid_lr))\n",
    "    \n",
    "    print(\"Точность модели: \" \"Дерево решений\", dt_score, \"Случайный лес\", rf_score, \"Логистческая регрессия\", lr_score)"
   ]
  },
  {
   "cell_type": "code",
   "execution_count": 19,
   "id": "8e53755d",
   "metadata": {},
   "outputs": [
    {
     "name": "stdout",
     "output_type": "stream",
     "text": [
      "AUC Дерево решений: 1.0\n",
      "AUC Случайный лес: 0.8425875191754693\n",
      "AUC Логистческая регрессия: 0.7246001305529006\n",
      "Точность модели: Дерево решений 1.0 Случайный лес 0.8420814479638009 Логистческая регрессия 0.7244343891402715\n"
     ]
    }
   ],
   "source": [
    "models_AUC(features_train, target_train, features_valid, target_valid)"
   ]
  },
  {
   "cell_type": "code",
   "execution_count": 20,
   "id": "65586cf2",
   "metadata": {
    "scrolled": false
   },
   "outputs": [
    {
     "name": "stdout",
     "output_type": "stream",
     "text": [
      "AUC Случайный лес: 0.9872837871152313\n"
     ]
    }
   ],
   "source": [
    "model_rf = RandomForestClassifier(max_depth=10, n_estimators=50, min_samples_leaf=5, random_state=12345)\n",
    "rf_score = model_rf.fit(features_train, target_train).score(features_valid, target_valid)\n",
    "predicted_valid_rf = model_rf.predict(features_valid)\n",
    "print(\"AUC Случайный лес:\", roc_auc_score(target_valid, predicted_valid_rf))\n"
   ]
  },
  {
   "cell_type": "markdown",
   "id": "c93fadbd",
   "metadata": {},
   "source": [
    "**Вывод**"
   ]
  },
  {
   "cell_type": "markdown",
   "id": "75b2b78f",
   "metadata": {},
   "source": [
    "Результыт обучения модели по 142 признакам плохие, ниже случайного выбора. Попробую оставить только признаки не ниже определенного порога Случайного Леса.\n",
    "\n",
    "AUC Дерево решений: 0.9956221198156683\n",
    "\n",
    "AUC Случайный лес: 0.7724198668714798\n",
    "\n",
    "AUC Логистческая регрессия: 0.5911090629800307"
   ]
  },
  {
   "cell_type": "markdown",
   "id": "94de2822",
   "metadata": {},
   "source": [
    "## Подбор Features importances"
   ]
  },
  {
   "cell_type": "code",
   "execution_count": 21,
   "id": "1dcc49f3",
   "metadata": {},
   "outputs": [
    {
     "data": {
      "text/plain": [
       "(14823, 136)"
      ]
     },
     "execution_count": 21,
     "metadata": {},
     "output_type": "execute_result"
    }
   ],
   "source": [
    "merge_ord = cs.merge(cs_train, left_on=['map_id','team_id'], right_on=['map_id','team1_id'], how='inner' ).merge(cs_train, on='team2_id', how='left')\n",
    "\n",
    "merge_ord.shape"
   ]
  },
  {
   "cell_type": "code",
   "execution_count": 22,
   "id": "c8763274",
   "metadata": {},
   "outputs": [],
   "source": [
    "merge_ord = merge_ord.dropna(inplace=False)"
   ]
  },
  {
   "cell_type": "code",
   "execution_count": 23,
   "id": "650153d1",
   "metadata": {},
   "outputs": [],
   "source": [
    "# поиск важных признаков \n",
    "f_list = []\n",
    "i_list = []\n",
    "\n",
    "for i, item in enumerate(model_rf.feature_importances_):\n",
    "    f_list.append(features_train.columns[i])\n",
    "    i_list.append(item)\n",
    "    \n",
    "    \n",
    "    \n",
    "features_import =  list(zip(f_list, i_list))\n"
   ]
  },
  {
   "cell_type": "code",
   "execution_count": 24,
   "id": "eafaad9c",
   "metadata": {},
   "outputs": [
    {
     "data": {
      "image/png": "[encoded data removed]",
      "text/plain": [
       "<Figure size 432x288 with 1 Axes>"
      ]
     },
     "metadata": {},
     "output_type": "display_data"
    }
   ],
   "source": [
    "features_import = pd.DataFrame(features_import)\n",
    "\n",
    "features_import.columns = ['feature', 'score']\n",
    "features_import = features_import.sort_values('score',ascending=False)\n",
    "over_threshold = features_import[features_import['score'] > 0.013]\n",
    "over_threshold['feature'].tolist()\n",
    "\n",
    "sns.barplot(data=over_threshold, x='score', y='feature')\n",
    "plt.show()"
   ]
  },
  {
   "cell_type": "code",
   "execution_count": 25,
   "id": "74988947",
   "metadata": {},
   "outputs": [],
   "source": [
    "FEATURES = ['p1_headshots',\n",
    " 'p2_total_opening_kills',\n",
    " 'p4_kill_death',\n",
    " 'p1_total_opening_deaths',\n",
    " 'p4_total_kills',\n",
    " 'p5_grenade_damage_per_round',\n",
    " 'p5_team_win_percent_after_first_kill',\n",
    " 'p3_opening_kill_ratio',\n",
    " 'p1_first_kill_in_won_rounds',\n",
    " 'p4_team_win_percent_after_first_kill',\n",
    " 'p5_opening_kill_rating']\n",
    "\n",
    "TARGET = ['who_win_x']"
   ]
  },
  {
   "cell_type": "code",
   "execution_count": 26,
   "id": "601e0b65",
   "metadata": {},
   "outputs": [
    {
     "name": "stdout",
     "output_type": "stream",
     "text": [
      "Размер обучающей выборки - (10311, 11)\n",
      "Размер валидоционной выборки - (4420, 11)\n"
     ]
    }
   ],
   "source": [
    "\n",
    "target = merge_ord[TARGET]\n",
    "features = merge_ord[FEATURES]\n",
    "\n",
    "features_train, features_valid, target_train, target_valid = train_test_split(\n",
    "    features, target, test_size=0.3, random_state=12345)\n",
    "\n",
    "print('Размер обучающей выборки - {}' .format(features_train.shape)) \n",
    "print('Размер валидоционной выборки - {}' .format(features_valid.shape)) "
   ]
  },
  {
   "cell_type": "code",
   "execution_count": 27,
   "id": "eefdaff6",
   "metadata": {},
   "outputs": [
    {
     "name": "stdout",
     "output_type": "stream",
     "text": [
      "Размер тестовой выборки - (2210, 11)\n",
      "Размер валидоционной выборки - (2210, 11)\n"
     ]
    }
   ],
   "source": [
    "features_valid, features_test, target_valid, target_test= train_test_split(\n",
    "    features_valid, target_valid, test_size=0.5, random_state=12345)\n",
    "\n",
    "print('Размер тестовой выборки - {}' .format(features_test.shape)) \n",
    "print('Размер валидоционной выборки - {}' .format(features_valid.shape)) "
   ]
  },
  {
   "cell_type": "code",
   "execution_count": 28,
   "id": "b508fc2a",
   "metadata": {},
   "outputs": [],
   "source": [
    "features_train = pd.get_dummies(features_train, drop_first=True)\n",
    "features_valid = pd.get_dummies(features_valid, drop_first=True)\n",
    "features_test = pd.get_dummies(features_test, drop_first=True)"
   ]
  },
  {
   "cell_type": "code",
   "execution_count": 29,
   "id": "e39728dc",
   "metadata": {},
   "outputs": [],
   "source": [
    "scaler = StandardScaler()\n",
    "scaler.fit(features_train[FEATURES])\n",
    "features_train[FEATURES] = scaler.transform(features_train[FEATURES])\n",
    "features_valid[FEATURES] = scaler.transform(features_valid[FEATURES])"
   ]
  },
  {
   "cell_type": "code",
   "execution_count": 30,
   "id": "58fb40a6",
   "metadata": {
    "scrolled": true
   },
   "outputs": [
    {
     "name": "stdout",
     "output_type": "stream",
     "text": [
      "AUC Дерево решений: 0.9949863263445762\n",
      "AUC Случайный лес: 0.7670175378247135\n",
      "AUC Логистческая регрессия: 0.586731271514815\n",
      "Точность модели: Дерево решений 0.9950226244343892 Случайный лес 0.7660633484162896 Логистческая регрессия 0.5864253393665159\n"
     ]
    },
    {
     "name": "stderr",
     "output_type": "stream",
     "text": [
      "C:\\Users\\theli\\AppData\\Local\\Temp\\ipykernel_6936\\2974069364.py:8: DataConversionWarning: A column-vector y was passed when a 1d array was expected. Please change the shape of y to (n_samples,), for example using ravel().\n",
      "  rf_score = model_rf.fit(features_train, target_train).score(features_valid, target_valid)\n",
      "C:\\Users\\theli\\anaconda3\\lib\\site-packages\\sklearn\\utils\\validation.py:993: DataConversionWarning: A column-vector y was passed when a 1d array was expected. Please change the shape of y to (n_samples, ), for example using ravel().\n",
      "  y = column_or_1d(y, warn=True)\n"
     ]
    }
   ],
   "source": [
    "models_AUC(features_train, target_train, features_valid, target_valid)"
   ]
  },
  {
   "cell_type": "markdown",
   "id": "55fe24db",
   "metadata": {},
   "source": [
    "* Дерево решений переобучилось\n",
    "* AUC Случайный лес: 0.7724198668714798\n",
    "* AUC Логистческая регрессия: 0.5911090629800307"
   ]
  },
  {
   "cell_type": "code",
   "execution_count": 31,
   "id": "55cca613",
   "metadata": {
    "scrolled": true
   },
   "outputs": [
    {
     "name": "stderr",
     "output_type": "stream",
     "text": [
      "  0%|          | 0/45 [00:00<?, ?it/s]"
     ]
    },
    {
     "name": "stdout",
     "output_type": "stream",
     "text": [
      "N estimators: 10 Глубина: 10 AUC: 0.9760594318737454\n"
     ]
    },
    {
     "name": "stderr",
     "output_type": "stream",
     "text": [
      "C:\\Users\\theli\\AppData\\Local\\Temp\\ipykernel_6936\\3474906490.py:10: DataConversionWarning: A column-vector y was passed when a 1d array was expected. Please change the shape of y to (n_samples,), for example using ravel().\n",
      "  model_rf_balance.fit(features_train, target_train)\n",
      "C:\\Users\\theli\\AppData\\Local\\Temp\\ipykernel_6936\\3474906490.py:10: DataConversionWarning: A column-vector y was passed when a 1d array was expected. Please change the shape of y to (n_samples,), for example using ravel().\n",
      "  model_rf_balance.fit(features_train, target_train)\n",
      "C:\\Users\\theli\\AppData\\Local\\Temp\\ipykernel_6936\\3474906490.py:10: DataConversionWarning: A column-vector y was passed when a 1d array was expected. Please change the shape of y to (n_samples,), for example using ravel().\n",
      "  model_rf_balance.fit(features_train, target_train)\n"
     ]
    },
    {
     "name": "stdout",
     "output_type": "stream",
     "text": [
      "N estimators: 10 Глубина: 11 AUC: 0.978767954095176\n",
      "N estimators: 10 Глубина: 12 AUC: 0.9801025585583816\n",
      "N estimators: 10 Глубина: 13 AUC:"
     ]
    },
    {
     "name": "stderr",
     "output_type": "stream",
     "text": [
      "C:\\Users\\theli\\AppData\\Local\\Temp\\ipykernel_6936\\3474906490.py:10: DataConversionWarning: A column-vector y was passed when a 1d array was expected. Please change the shape of y to (n_samples,), for example using ravel().\n",
      "  model_rf_balance.fit(features_train, target_train)\n",
      "C:\\Users\\theli\\AppData\\Local\\Temp\\ipykernel_6936\\3474906490.py:10: DataConversionWarning: A column-vector y was passed when a 1d array was expected. Please change the shape of y to (n_samples,), for example using ravel().\n",
      "  model_rf_balance.fit(features_train, target_train)\n",
      "C:\\Users\\theli\\AppData\\Local\\Temp\\ipykernel_6936\\3474906490.py:10: DataConversionWarning: A column-vector y was passed when a 1d array was expected. Please change the shape of y to (n_samples,), for example using ravel().\n",
      "  model_rf_balance.fit(features_train, target_train)\n"
     ]
    },
    {
     "name": "stdout",
     "output_type": "stream",
     "text": [
      " 0.9909300952282669\n",
      "N estimators: 10 Глубина: 14 AUC: 0.9936189608021878\n",
      "N estimators: 10 Глубина: 15 AUC: 0.9931631722880583\n"
     ]
    },
    {
     "name": "stderr",
     "output_type": "stream",
     "text": [
      "C:\\Users\\theli\\AppData\\Local\\Temp\\ipykernel_6936\\3474906490.py:10: DataConversionWarning: A column-vector y was passed when a 1d array was expected. Please change the shape of y to (n_samples,), for example using ravel().\n",
      "  model_rf_balance.fit(features_train, target_train)\n",
      "C:\\Users\\theli\\AppData\\Local\\Temp\\ipykernel_6936\\3474906490.py:10: DataConversionWarning: A column-vector y was passed when a 1d array was expected. Please change the shape of y to (n_samples,), for example using ravel().\n",
      "  model_rf_balance.fit(features_train, target_train)\n",
      "C:\\Users\\theli\\AppData\\Local\\Temp\\ipykernel_6936\\3474906490.py:10: DataConversionWarning: A column-vector y was passed when a 1d array was expected. Please change the shape of y to (n_samples,), for example using ravel().\n",
      "  model_rf_balance.fit(features_train, target_train)\n"
     ]
    },
    {
     "name": "stdout",
     "output_type": "stream",
     "text": [
      "N estimators: 10 Глубина: 16 AUC: 0.9940747493163172\n",
      "N estimators: 10 Глубина: 17 AUC: 0.9949863263445762\n",
      "N estimators: 10 Глубина: 18 AUC: 0.9949863263445762\n"
     ]
    },
    {
     "name": "stderr",
     "output_type": "stream",
     "text": [
      "C:\\Users\\theli\\AppData\\Local\\Temp\\ipykernel_6936\\3474906490.py:10: DataConversionWarning: A column-vector y was passed when a 1d array was expected. Please change the shape of y to (n_samples,), for example using ravel().\n",
      "  model_rf_balance.fit(features_train, target_train)\n",
      "  2%|▏         | 1/45 [00:00<00:41,  1.07it/s]C:\\Users\\theli\\AppData\\Local\\Temp\\ipykernel_6936\\3474906490.py:10: DataConversionWarning: A column-vector y was passed when a 1d array was expected. Please change the shape of y to (n_samples,), for example using ravel().\n",
      "  model_rf_balance.fit(features_train, target_train)\n",
      "C:\\Users\\theli\\AppData\\Local\\Temp\\ipykernel_6936\\3474906490.py:10: DataConversionWarning: A column-vector y was passed when a 1d array was expected. Please change the shape of y to (n_samples,), for example using ravel().\n",
      "  model_rf_balance.fit(features_train, target_train)\n"
     ]
    },
    {
     "name": "stdout",
     "output_type": "stream",
     "text": [
      "N estimators: 10 Глубина: 19 AUC: 0.9949863263445762\n",
      "N estimators: 12 Глубина: 10 AUC: 0.9733705662998245\n",
      "N estimators: 12 Глубина: 11 AUC: 0.978767954095176\n"
     ]
    },
    {
     "name": "stderr",
     "output_type": "stream",
     "text": [
      "C:\\Users\\theli\\AppData\\Local\\Temp\\ipykernel_6936\\3474906490.py:10: DataConversionWarning: A column-vector y was passed when a 1d array was expected. Please change the shape of y to (n_samples,), for example using ravel().\n",
      "  model_rf_balance.fit(features_train, target_train)\n",
      "C:\\Users\\theli\\AppData\\Local\\Temp\\ipykernel_6936\\3474906490.py:10: DataConversionWarning: A column-vector y was passed when a 1d array was expected. Please change the shape of y to (n_samples,), for example using ravel().\n",
      "  model_rf_balance.fit(features_train, target_train)\n"
     ]
    },
    {
     "name": "stdout",
     "output_type": "stream",
     "text": [
      "N estimators: 12 Глубина: 12 AUC: 0.9841718941063637\n",
      "N estimators: 12 Глубина: 13 AUC: 0.9909300952282669\n",
      "N estimators: 12 Глубина: 14 AUC: 0.9927204882056021\n"
     ]
    },
    {
     "name": "stderr",
     "output_type": "stream",
     "text": [
      "C:\\Users\\theli\\AppData\\Local\\Temp\\ipykernel_6936\\3474906490.py:10: DataConversionWarning: A column-vector y was passed when a 1d array was expected. Please change the shape of y to (n_samples,), for example using ravel().\n",
      "  model_rf_balance.fit(features_train, target_train)\n",
      "C:\\Users\\theli\\AppData\\Local\\Temp\\ipykernel_6936\\3474906490.py:10: DataConversionWarning: A column-vector y was passed when a 1d array was expected. Please change the shape of y to (n_samples,), for example using ravel().\n",
      "  model_rf_balance.fit(features_train, target_train)\n",
      "C:\\Users\\theli\\AppData\\Local\\Temp\\ipykernel_6936\\3474906490.py:10: DataConversionWarning: A column-vector y was passed when a 1d array was expected. Please change the shape of y to (n_samples,), for example using ravel().\n",
      "  model_rf_balance.fit(features_train, target_train)\n"
     ]
    },
    {
     "name": "stdout",
     "output_type": "stream",
     "text": [
      "N estimators: 12 Глубина: 15 AUC: 0.9931631722880583\n",
      "N estimators: 12 Глубина: 16 AUC: 0.9949863263445762\n",
      "N estimators: 12 Глубина: 17 AUC: 0.9949863263445762\n"
     ]
    },
    {
     "name": "stderr",
     "output_type": "stream",
     "text": [
      "C:\\Users\\theli\\AppData\\Local\\Temp\\ipykernel_6936\\3474906490.py:10: DataConversionWarning: A column-vector y was passed when a 1d array was expected. Please change the shape of y to (n_samples,), for example using ravel().\n",
      "  model_rf_balance.fit(features_train, target_train)\n",
      "C:\\Users\\theli\\AppData\\Local\\Temp\\ipykernel_6936\\3474906490.py:10: DataConversionWarning: A column-vector y was passed when a 1d array was expected. Please change the shape of y to (n_samples,), for example using ravel().\n",
      "  model_rf_balance.fit(features_train, target_train)\n",
      "C:\\Users\\theli\\AppData\\Local\\Temp\\ipykernel_6936\\3474906490.py:10: DataConversionWarning: A column-vector y was passed when a 1d array was expected. Please change the shape of y to (n_samples,), for example using ravel().\n",
      "  model_rf_balance.fit(features_train, target_train)\n",
      "  4%|▍         | 2/45 [00:01<00:41,  1.03it/s]"
     ]
    },
    {
     "name": "stdout",
     "output_type": "stream",
     "text": [
      "N estimators: 12 Глубина: 18 AUC: 0.9949863263445762\n",
      "N estimators: 12 Глубина: 19 AUC: 0.9949863263445762\n",
      "N estimators: 14 Глубина: 10 AUC: 0.9688585466693859\n"
     ]
    },
    {
     "name": "stderr",
     "output_type": "stream",
     "text": [
      "C:\\Users\\theli\\AppData\\Local\\Temp\\ipykernel_6936\\3474906490.py:10: DataConversionWarning: A column-vector y was passed when a 1d array was expected. Please change the shape of y to (n_samples,), for example using ravel().\n",
      "  model_rf_balance.fit(features_train, target_train)\n",
      "C:\\Users\\theli\\AppData\\Local\\Temp\\ipykernel_6936\\3474906490.py:10: DataConversionWarning: A column-vector y was passed when a 1d array was expected. Please change the shape of y to (n_samples,), for example using ravel().\n",
      "  model_rf_balance.fit(features_train, target_train)\n",
      "C:\\Users\\theli\\AppData\\Local\\Temp\\ipykernel_6936\\3474906490.py:10: DataConversionWarning: A column-vector y was passed when a 1d array was expected. Please change the shape of y to (n_samples,), for example using ravel().\n",
      "  model_rf_balance.fit(features_train, target_train)\n"
     ]
    },
    {
     "name": "stdout",
     "output_type": "stream",
     "text": [
      "N estimators: 14 Глубина: 11 AUC: 0.9796729789075982\n",
      "N estimators: 14 Глубина: 12 AUC: 0.9873362048419237\n",
      "N estimators: 14 Глубина: 13 AUC: "
     ]
    },
    {
     "name": "stderr",
     "output_type": "stream",
     "text": [
      "C:\\Users\\theli\\AppData\\Local\\Temp\\ipykernel_6936\\3474906490.py:10: DataConversionWarning: A column-vector y was passed when a 1d array was expected. Please change the shape of y to (n_samples,), for example using ravel().\n",
      "  model_rf_balance.fit(features_train, target_train)\n",
      "C:\\Users\\theli\\AppData\\Local\\Temp\\ipykernel_6936\\3474906490.py:10: DataConversionWarning: A column-vector y was passed when a 1d array was expected. Please change the shape of y to (n_samples,), for example using ravel().\n",
      "  model_rf_balance.fit(features_train, target_train)\n"
     ]
    },
    {
     "name": "stdout",
     "output_type": "stream",
     "text": [
      "0.9940747493163172\n",
      "N estimators: 14 Глубина: 14 AUC: 0.9927204882056021\n"
     ]
    },
    {
     "name": "stderr",
     "output_type": "stream",
     "text": [
      "C:\\Users\\theli\\AppData\\Local\\Temp\\ipykernel_6936\\3474906490.py:10: DataConversionWarning: A column-vector y was passed when a 1d array was expected. Please change the shape of y to (n_samples,), for example using ravel().\n",
      "  model_rf_balance.fit(features_train, target_train)\n",
      "C:\\Users\\theli\\AppData\\Local\\Temp\\ipykernel_6936\\3474906490.py:10: DataConversionWarning: A column-vector y was passed when a 1d array was expected. Please change the shape of y to (n_samples,), for example using ravel().\n",
      "  model_rf_balance.fit(features_train, target_train)\n",
      "C:\\Users\\theli\\AppData\\Local\\Temp\\ipykernel_6936\\3474906490.py:10: DataConversionWarning: A column-vector y was passed when a 1d array was expected. Please change the shape of y to (n_samples,), for example using ravel().\n",
      "  model_rf_balance.fit(features_train, target_train)\n"
     ]
    },
    {
     "name": "stdout",
     "output_type": "stream",
     "text": [
      "N estimators: 14 Глубина: 15 AUC: 0.9931631722880583\n",
      "N estimators: 14 Глубина: 16 AUC: 0.9940747493163172\n",
      "N estimators: 14 Глубина: 17 AUC: 0.9949863263445762\n"
     ]
    },
    {
     "name": "stderr",
     "output_type": "stream",
     "text": [
      "C:\\Users\\theli\\AppData\\Local\\Temp\\ipykernel_6936\\3474906490.py:10: DataConversionWarning: A column-vector y was passed when a 1d array was expected. Please change the shape of y to (n_samples,), for example using ravel().\n",
      "  model_rf_balance.fit(features_train, target_train)\n",
      "C:\\Users\\theli\\AppData\\Local\\Temp\\ipykernel_6936\\3474906490.py:10: DataConversionWarning: A column-vector y was passed when a 1d array was expected. Please change the shape of y to (n_samples,), for example using ravel().\n",
      "  model_rf_balance.fit(features_train, target_train)\n",
      "  7%|▋         | 3/45 [00:03<00:42,  1.02s/it]"
     ]
    },
    {
     "name": "stdout",
     "output_type": "stream",
     "text": [
      "N estimators: 14 Глубина: 18 AUC: 0.9949863263445762\n",
      "N estimators: 14 Глубина: 19 AUC: 0.9949863263445762\n"
     ]
    },
    {
     "name": "stderr",
     "output_type": "stream",
     "text": [
      "C:\\Users\\theli\\AppData\\Local\\Temp\\ipykernel_6936\\3474906490.py:10: DataConversionWarning: A column-vector y was passed when a 1d array was expected. Please change the shape of y to (n_samples,), for example using ravel().\n",
      "  model_rf_balance.fit(features_train, target_train)\n",
      "C:\\Users\\theli\\AppData\\Local\\Temp\\ipykernel_6936\\3474906490.py:10: DataConversionWarning: A column-vector y was passed when a 1d array was expected. Please change the shape of y to (n_samples,), for example using ravel().\n",
      "  model_rf_balance.fit(features_train, target_train)\n",
      "C:\\Users\\theli\\AppData\\Local\\Temp\\ipykernel_6936\\3474906490.py:10: DataConversionWarning: A column-vector y was passed when a 1d array was expected. Please change the shape of y to (n_samples,), for example using ravel().\n",
      "  model_rf_balance.fit(features_train, target_train)\n"
     ]
    },
    {
     "name": "stdout",
     "output_type": "stream",
     "text": [
      "N estimators: 16 Глубина: 10 AUC: 0.9706882529417402\n",
      "N estimators: 16 Глубина: 11 AUC: 0.9796598744759252\n"
     ]
    },
    {
     "name": "stderr",
     "output_type": "stream",
     "text": [
      "C:\\Users\\theli\\AppData\\Local\\Temp\\ipykernel_6936\\3474906490.py:10: DataConversionWarning: A column-vector y was passed when a 1d array was expected. Please change the shape of y to (n_samples,), for example using ravel().\n",
      "  model_rf_balance.fit(features_train, target_train)\n"
     ]
    },
    {
     "name": "stdout",
     "output_type": "stream",
     "text": [
      "N estimators: 16 Глубина: 12 AUC: 0.9850834711346228\n",
      "N estimators: 16 Глубина: 13 AUC: 0.9918285678248527\n"
     ]
    },
    {
     "name": "stderr",
     "output_type": "stream",
     "text": [
      "C:\\Users\\theli\\AppData\\Local\\Temp\\ipykernel_6936\\3474906490.py:10: DataConversionWarning: A column-vector y was passed when a 1d array was expected. Please change the shape of y to (n_samples,), for example using ravel().\n",
      "  model_rf_balance.fit(features_train, target_train)\n",
      "C:\\Users\\theli\\AppData\\Local\\Temp\\ipykernel_6936\\3474906490.py:10: DataConversionWarning: A column-vector y was passed when a 1d array was expected. Please change the shape of y to (n_samples,), for example using ravel().\n",
      "  model_rf_balance.fit(features_train, target_train)\n"
     ]
    },
    {
     "name": "stdout",
     "output_type": "stream",
     "text": [
      "N estimators: 16 Глубина: 14 AUC: 0.9940747493163172\n",
      "N estimators: 16 Глубина: 15 AUC: 0.9936255130180244\n"
     ]
    },
    {
     "name": "stderr",
     "output_type": "stream",
     "text": [
      "C:\\Users\\theli\\AppData\\Local\\Temp\\ipykernel_6936\\3474906490.py:10: DataConversionWarning: A column-vector y was passed when a 1d array was expected. Please change the shape of y to (n_samples,), for example using ravel().\n",
      "  model_rf_balance.fit(features_train, target_train)\n",
      "C:\\Users\\theli\\AppData\\Local\\Temp\\ipykernel_6936\\3474906490.py:10: DataConversionWarning: A column-vector y was passed when a 1d array was expected. Please change the shape of y to (n_samples,), for example using ravel().\n",
      "  model_rf_balance.fit(features_train, target_train)\n"
     ]
    },
    {
     "name": "stdout",
     "output_type": "stream",
     "text": [
      "N estimators: 16 Глубина: 16 AUC: 0.9949863263445762\n",
      "N estimators: 16 Глубина: 17 AUC: 0.9949863263445762\n"
     ]
    },
    {
     "name": "stderr",
     "output_type": "stream",
     "text": [
      "C:\\Users\\theli\\AppData\\Local\\Temp\\ipykernel_6936\\3474906490.py:10: DataConversionWarning: A column-vector y was passed when a 1d array was expected. Please change the shape of y to (n_samples,), for example using ravel().\n",
      "  model_rf_balance.fit(features_train, target_train)\n",
      "C:\\Users\\theli\\AppData\\Local\\Temp\\ipykernel_6936\\3474906490.py:10: DataConversionWarning: A column-vector y was passed when a 1d array was expected. Please change the shape of y to (n_samples,), for example using ravel().\n",
      "  model_rf_balance.fit(features_train, target_train)\n",
      "  9%|▉         | 4/45 [00:04<00:45,  1.10s/it]"
     ]
    },
    {
     "name": "stdout",
     "output_type": "stream",
     "text": [
      "N estimators: 16 Глубина: 18 AUC: 0.9949863263445762\n",
      "N estimators: 16 Глубина: 19 AUC: 0.9949863263445762\n"
     ]
    },
    {
     "name": "stderr",
     "output_type": "stream",
     "text": [
      "C:\\Users\\theli\\AppData\\Local\\Temp\\ipykernel_6936\\3474906490.py:10: DataConversionWarning: A column-vector y was passed when a 1d array was expected. Please change the shape of y to (n_samples,), for example using ravel().\n",
      "  model_rf_balance.fit(features_train, target_train)\n",
      "C:\\Users\\theli\\AppData\\Local\\Temp\\ipykernel_6936\\3474906490.py:10: DataConversionWarning: A column-vector y was passed when a 1d array was expected. Please change the shape of y to (n_samples,), for example using ravel().\n",
      "  model_rf_balance.fit(features_train, target_train)\n"
     ]
    },
    {
     "name": "stdout",
     "output_type": "stream",
     "text": [
      "N estimators: 18 Глубина: 10 AUC: 0.9738394592456271\n",
      "N estimators: 18 Глубина: 11 AUC: 0.9832341082147588\n"
     ]
    },
    {
     "name": "stderr",
     "output_type": "stream",
     "text": [
      "C:\\Users\\theli\\AppData\\Local\\Temp\\ipykernel_6936\\3474906490.py:10: DataConversionWarning: A column-vector y was passed when a 1d array was expected. Please change the shape of y to (n_samples,), for example using ravel().\n",
      "  model_rf_balance.fit(features_train, target_train)\n",
      "C:\\Users\\theli\\AppData\\Local\\Temp\\ipykernel_6936\\3474906490.py:10: DataConversionWarning: A column-vector y was passed when a 1d array was expected. Please change the shape of y to (n_samples,), for example using ravel().\n",
      "  model_rf_balance.fit(features_train, target_train)\n"
     ]
    },
    {
     "name": "stdout",
     "output_type": "stream",
     "text": [
      "N estimators: 18 Глубина: 12 AUC: 0.9873362048419237\n",
      "N estimators: 18 Глубина: 13 AUC: 0.9922909085548187\n"
     ]
    },
    {
     "name": "stderr",
     "output_type": "stream",
     "text": [
      "C:\\Users\\theli\\AppData\\Local\\Temp\\ipykernel_6936\\3474906490.py:10: DataConversionWarning: A column-vector y was passed when a 1d array was expected. Please change the shape of y to (n_samples,), for example using ravel().\n",
      "  model_rf_balance.fit(features_train, target_train)\n",
      "C:\\Users\\theli\\AppData\\Local\\Temp\\ipykernel_6936\\3474906490.py:10: DataConversionWarning: A column-vector y was passed when a 1d array was expected. Please change the shape of y to (n_samples,), for example using ravel().\n",
      "  model_rf_balance.fit(features_train, target_train)\n"
     ]
    },
    {
     "name": "stdout",
     "output_type": "stream",
     "text": [
      "N estimators: 18 Глубина: 14 AUC: 0.9940747493163172\n",
      "N estimators: 18 Глубина: 15 AUC: 0.9945370900462833\n"
     ]
    },
    {
     "name": "stderr",
     "output_type": "stream",
     "text": [
      "C:\\Users\\theli\\AppData\\Local\\Temp\\ipykernel_6936\\3474906490.py:10: DataConversionWarning: A column-vector y was passed when a 1d array was expected. Please change the shape of y to (n_samples,), for example using ravel().\n",
      "  model_rf_balance.fit(features_train, target_train)\n",
      "C:\\Users\\theli\\AppData\\Local\\Temp\\ipykernel_6936\\3474906490.py:10: DataConversionWarning: A column-vector y was passed when a 1d array was expected. Please change the shape of y to (n_samples,), for example using ravel().\n",
      "  model_rf_balance.fit(features_train, target_train)\n"
     ]
    },
    {
     "name": "stdout",
     "output_type": "stream",
     "text": [
      "N estimators: 18 Глубина: 16 AUC: 0.9954486670745422\n",
      "N estimators: 18 Глубина: 17 AUC: 0.9949863263445762\n"
     ]
    },
    {
     "name": "stderr",
     "output_type": "stream",
     "text": [
      "C:\\Users\\theli\\AppData\\Local\\Temp\\ipykernel_6936\\3474906490.py:10: DataConversionWarning: A column-vector y was passed when a 1d array was expected. Please change the shape of y to (n_samples,), for example using ravel().\n",
      "  model_rf_balance.fit(features_train, target_train)\n",
      "C:\\Users\\theli\\AppData\\Local\\Temp\\ipykernel_6936\\3474906490.py:10: DataConversionWarning: A column-vector y was passed when a 1d array was expected. Please change the shape of y to (n_samples,), for example using ravel().\n",
      "  model_rf_balance.fit(features_train, target_train)\n",
      " 11%|█         | 5/45 [00:05<00:47,  1.19s/it]"
     ]
    },
    {
     "name": "stdout",
     "output_type": "stream",
     "text": [
      "N estimators: 18 Глубина: 18 AUC: 0.9954486670745422\n",
      "N estimators: 18 Глубина: 19 AUC: 0.9954486670745422\n"
     ]
    },
    {
     "name": "stderr",
     "output_type": "stream",
     "text": [
      "C:\\Users\\theli\\AppData\\Local\\Temp\\ipykernel_6936\\3474906490.py:10: DataConversionWarning: A column-vector y was passed when a 1d array was expected. Please change the shape of y to (n_samples,), for example using ravel().\n",
      "  model_rf_balance.fit(features_train, target_train)\n",
      "C:\\Users\\theli\\AppData\\Local\\Temp\\ipykernel_6936\\3474906490.py:10: DataConversionWarning: A column-vector y was passed when a 1d array was expected. Please change the shape of y to (n_samples,), for example using ravel().\n",
      "  model_rf_balance.fit(features_train, target_train)\n",
      "C:\\Users\\theli\\AppData\\Local\\Temp\\ipykernel_6936\\3474906490.py:10: DataConversionWarning: A column-vector y was passed when a 1d array was expected. Please change the shape of y to (n_samples,), for example using ravel().\n",
      "  model_rf_balance.fit(features_train, target_train)\n"
     ]
    },
    {
     "name": "stdout",
     "output_type": "stream",
     "text": [
      "N estimators: 20 Глубина: 10 AUC: 0.9783252700127193\n",
      "N estimators: 20 Глубина: 11 AUC: 0.9873231004102506\n"
     ]
    },
    {
     "name": "stderr",
     "output_type": "stream",
     "text": [
      "C:\\Users\\theli\\AppData\\Local\\Temp\\ipykernel_6936\\3474906490.py:10: DataConversionWarning: A column-vector y was passed when a 1d array was expected. Please change the shape of y to (n_samples,), for example using ravel().\n",
      "  model_rf_balance.fit(features_train, target_train)\n"
     ]
    },
    {
     "name": "stdout",
     "output_type": "stream",
     "text": [
      "N estimators: 20 Глубина: 12 AUC: 0.9900316226316811\n",
      "N estimators: 20 Глубина: 13 AUC: 0.9918285678248527\n"
     ]
    },
    {
     "name": "stderr",
     "output_type": "stream",
     "text": [
      "C:\\Users\\theli\\AppData\\Local\\Temp\\ipykernel_6936\\3474906490.py:10: DataConversionWarning: A column-vector y was passed when a 1d array was expected. Please change the shape of y to (n_samples,), for example using ravel().\n",
      "  model_rf_balance.fit(features_train, target_train)\n",
      "C:\\Users\\theli\\AppData\\Local\\Temp\\ipykernel_6936\\3474906490.py:10: DataConversionWarning: A column-vector y was passed when a 1d array was expected. Please change the shape of y to (n_samples,), for example using ravel().\n",
      "  model_rf_balance.fit(features_train, target_train)\n"
     ]
    },
    {
     "name": "stdout",
     "output_type": "stream",
     "text": [
      "N estimators: 20 Глубина: 14 AUC: 0.9940747493163172\n",
      "N estimators: 20 Глубина: 15 AUC: 0.9954486670745422\n"
     ]
    },
    {
     "name": "stderr",
     "output_type": "stream",
     "text": [
      "C:\\Users\\theli\\AppData\\Local\\Temp\\ipykernel_6936\\3474906490.py:10: DataConversionWarning: A column-vector y was passed when a 1d array was expected. Please change the shape of y to (n_samples,), for example using ravel().\n",
      "  model_rf_balance.fit(features_train, target_train)\n",
      "C:\\Users\\theli\\AppData\\Local\\Temp\\ipykernel_6936\\3474906490.py:10: DataConversionWarning: A column-vector y was passed when a 1d array was expected. Please change the shape of y to (n_samples,), for example using ravel().\n",
      "  model_rf_balance.fit(features_train, target_train)\n"
     ]
    },
    {
     "name": "stdout",
     "output_type": "stream",
     "text": [
      "N estimators: 20 Глубина: 16 AUC: 0.9949863263445762\n",
      "N estimators: 20 Глубина: 17 AUC: 0.9949863263445762\n"
     ]
    },
    {
     "name": "stderr",
     "output_type": "stream",
     "text": [
      "C:\\Users\\theli\\AppData\\Local\\Temp\\ipykernel_6936\\3474906490.py:10: DataConversionWarning: A column-vector y was passed when a 1d array was expected. Please change the shape of y to (n_samples,), for example using ravel().\n",
      "  model_rf_balance.fit(features_train, target_train)\n",
      "C:\\Users\\theli\\AppData\\Local\\Temp\\ipykernel_6936\\3474906490.py:10: DataConversionWarning: A column-vector y was passed when a 1d array was expected. Please change the shape of y to (n_samples,), for example using ravel().\n",
      "  model_rf_balance.fit(features_train, target_train)\n",
      " 13%|█▎        | 6/45 [00:07<00:50,  1.30s/it]"
     ]
    },
    {
     "name": "stdout",
     "output_type": "stream",
     "text": [
      "N estimators: 20 Глубина: 18 AUC: 0.9954486670745422\n",
      "N estimators: 20 Глубина: 19 AUC: 0.9949863263445762\n"
     ]
    },
    {
     "name": "stderr",
     "output_type": "stream",
     "text": [
      "C:\\Users\\theli\\AppData\\Local\\Temp\\ipykernel_6936\\3474906490.py:10: DataConversionWarning: A column-vector y was passed when a 1d array was expected. Please change the shape of y to (n_samples,), for example using ravel().\n",
      "  model_rf_balance.fit(features_train, target_train)\n",
      "C:\\Users\\theli\\AppData\\Local\\Temp\\ipykernel_6936\\3474906490.py:10: DataConversionWarning: A column-vector y was passed when a 1d array was expected. Please change the shape of y to (n_samples,), for example using ravel().\n",
      "  model_rf_balance.fit(features_train, target_train)\n",
      "C:\\Users\\theli\\AppData\\Local\\Temp\\ipykernel_6936\\3474906490.py:10: DataConversionWarning: A column-vector y was passed when a 1d array was expected. Please change the shape of y to (n_samples,), for example using ravel().\n",
      "  model_rf_balance.fit(features_train, target_train)\n"
     ]
    },
    {
     "name": "stdout",
     "output_type": "stream",
     "text": [
      "N estimators: 22 Глубина: 10 AUC: 0.9774399018478068\n",
      "N estimators: 22 Глубина: 11 AUC: 0.9891331500350954\n"
     ]
    },
    {
     "name": "stderr",
     "output_type": "stream",
     "text": [
      "C:\\Users\\theli\\AppData\\Local\\Temp\\ipykernel_6936\\3474906490.py:10: DataConversionWarning: A column-vector y was passed when a 1d array was expected. Please change the shape of y to (n_samples,), for example using ravel().\n",
      "  model_rf_balance.fit(features_train, target_train)\n"
     ]
    },
    {
     "name": "stdout",
     "output_type": "stream",
     "text": [
      "N estimators: 22 Глубина: 12 AUC: 0.9900316226316811\n",
      "N estimators: 22 Глубина: 13 AUC: 0.9940747493163172\n"
     ]
    },
    {
     "name": "stderr",
     "output_type": "stream",
     "text": [
      "C:\\Users\\theli\\AppData\\Local\\Temp\\ipykernel_6936\\3474906490.py:10: DataConversionWarning: A column-vector y was passed when a 1d array was expected. Please change the shape of y to (n_samples,), for example using ravel().\n",
      "  model_rf_balance.fit(features_train, target_train)\n",
      "C:\\Users\\theli\\AppData\\Local\\Temp\\ipykernel_6936\\3474906490.py:10: DataConversionWarning: A column-vector y was passed when a 1d array was expected. Please change the shape of y to (n_samples,), for example using ravel().\n",
      "  model_rf_balance.fit(features_train, target_train)\n"
     ]
    },
    {
     "name": "stdout",
     "output_type": "stream",
     "text": [
      "N estimators: 22 Глубина: 14 AUC: 0.9940747493163172\n",
      "N estimators: 22 Глубина: 15 AUC: 0.9954486670745422\n"
     ]
    },
    {
     "name": "stderr",
     "output_type": "stream",
     "text": [
      "C:\\Users\\theli\\AppData\\Local\\Temp\\ipykernel_6936\\3474906490.py:10: DataConversionWarning: A column-vector y was passed when a 1d array was expected. Please change the shape of y to (n_samples,), for example using ravel().\n",
      "  model_rf_balance.fit(features_train, target_train)\n",
      "C:\\Users\\theli\\AppData\\Local\\Temp\\ipykernel_6936\\3474906490.py:10: DataConversionWarning: A column-vector y was passed when a 1d array was expected. Please change the shape of y to (n_samples,), for example using ravel().\n",
      "  model_rf_balance.fit(features_train, target_train)\n"
     ]
    },
    {
     "name": "stdout",
     "output_type": "stream",
     "text": [
      "N estimators: 22 Глубина: 16 AUC: 0.9954486670745422\n",
      "N estimators: 22 Глубина: 17 AUC: 0.9949863263445762\n"
     ]
    },
    {
     "name": "stderr",
     "output_type": "stream",
     "text": [
      "C:\\Users\\theli\\AppData\\Local\\Temp\\ipykernel_6936\\3474906490.py:10: DataConversionWarning: A column-vector y was passed when a 1d array was expected. Please change the shape of y to (n_samples,), for example using ravel().\n",
      "  model_rf_balance.fit(features_train, target_train)\n",
      "C:\\Users\\theli\\AppData\\Local\\Temp\\ipykernel_6936\\3474906490.py:10: DataConversionWarning: A column-vector y was passed when a 1d array was expected. Please change the shape of y to (n_samples,), for example using ravel().\n",
      "  model_rf_balance.fit(features_train, target_train)\n",
      " 16%|█▌        | 7/45 [00:08<00:53,  1.41s/it]"
     ]
    },
    {
     "name": "stdout",
     "output_type": "stream",
     "text": [
      "N estimators: 22 Глубина: 18 AUC: 0.9954486670745422\n",
      "N estimators: 22 Глубина: 19 AUC: 0.9949863263445762\n"
     ]
    },
    {
     "name": "stderr",
     "output_type": "stream",
     "text": [
      "C:\\Users\\theli\\AppData\\Local\\Temp\\ipykernel_6936\\3474906490.py:10: DataConversionWarning: A column-vector y was passed when a 1d array was expected. Please change the shape of y to (n_samples,), for example using ravel().\n",
      "  model_rf_balance.fit(features_train, target_train)\n",
      "C:\\Users\\theli\\AppData\\Local\\Temp\\ipykernel_6936\\3474906490.py:10: DataConversionWarning: A column-vector y was passed when a 1d array was expected. Please change the shape of y to (n_samples,), for example using ravel().\n",
      "  model_rf_balance.fit(features_train, target_train)\n",
      "C:\\Users\\theli\\AppData\\Local\\Temp\\ipykernel_6936\\3474906490.py:10: DataConversionWarning: A column-vector y was passed when a 1d array was expected. Please change the shape of y to (n_samples,), for example using ravel().\n",
      "  model_rf_balance.fit(features_train, target_train)\n"
     ]
    },
    {
     "name": "stdout",
     "output_type": "stream",
     "text": [
      "N estimators: 24 Глубина: 10 AUC: 0.9819126081832261\n",
      "N estimators: 24 Глубина: 11 AUC: 0.9882215730068366\n"
     ]
    },
    {
     "name": "stderr",
     "output_type": "stream",
     "text": [
      "C:\\Users\\theli\\AppData\\Local\\Temp\\ipykernel_6936\\3474906490.py:10: DataConversionWarning: A column-vector y was passed when a 1d array was expected. Please change the shape of y to (n_samples,), for example using ravel().\n",
      "  model_rf_balance.fit(features_train, target_train)\n"
     ]
    },
    {
     "name": "stdout",
     "output_type": "stream",
     "text": [
      "N estimators: 24 Глубина: 12 AUC: 0.9900316226316811\n",
      "N estimators: 24 Глубина: 13 AUC: 0.9940747493163172\n"
     ]
    },
    {
     "name": "stderr",
     "output_type": "stream",
     "text": [
      "C:\\Users\\theli\\AppData\\Local\\Temp\\ipykernel_6936\\3474906490.py:10: DataConversionWarning: A column-vector y was passed when a 1d array was expected. Please change the shape of y to (n_samples,), for example using ravel().\n",
      "  model_rf_balance.fit(features_train, target_train)\n"
     ]
    },
    {
     "name": "stdout",
     "output_type": "stream",
     "text": [
      "N estimators: 24 Глубина: 14 AUC: 0.9940747493163172\n",
      "N estimators: 24 Глубина: 15 AUC: 0.9954486670745422\n"
     ]
    },
    {
     "name": "stderr",
     "output_type": "stream",
     "text": [
      "C:\\Users\\theli\\AppData\\Local\\Temp\\ipykernel_6936\\3474906490.py:10: DataConversionWarning: A column-vector y was passed when a 1d array was expected. Please change the shape of y to (n_samples,), for example using ravel().\n",
      "  model_rf_balance.fit(features_train, target_train)\n",
      "C:\\Users\\theli\\AppData\\Local\\Temp\\ipykernel_6936\\3474906490.py:10: DataConversionWarning: A column-vector y was passed when a 1d array was expected. Please change the shape of y to (n_samples,), for example using ravel().\n",
      "  model_rf_balance.fit(features_train, target_train)\n"
     ]
    },
    {
     "name": "stdout",
     "output_type": "stream",
     "text": [
      "N estimators: 24 Глубина: 16 AUC: 0.9954486670745422\n",
      "N estimators: 24 Глубина: 17 AUC: 0.9949863263445762\n"
     ]
    },
    {
     "name": "stderr",
     "output_type": "stream",
     "text": [
      "C:\\Users\\theli\\AppData\\Local\\Temp\\ipykernel_6936\\3474906490.py:10: DataConversionWarning: A column-vector y was passed when a 1d array was expected. Please change the shape of y to (n_samples,), for example using ravel().\n",
      "  model_rf_balance.fit(features_train, target_train)\n",
      "C:\\Users\\theli\\AppData\\Local\\Temp\\ipykernel_6936\\3474906490.py:10: DataConversionWarning: A column-vector y was passed when a 1d array was expected. Please change the shape of y to (n_samples,), for example using ravel().\n",
      "  model_rf_balance.fit(features_train, target_train)\n"
     ]
    },
    {
     "name": "stdout",
     "output_type": "stream",
     "text": [
      "N estimators: 24 Глубина: 18 AUC: 0.9954486670745422\n",
      "N estimators: 24 Глубина: 19 AUC: 0.9949863263445762\n"
     ]
    },
    {
     "name": "stderr",
     "output_type": "stream",
     "text": [
      "C:\\Users\\theli\\AppData\\Local\\Temp\\ipykernel_6936\\3474906490.py:10: DataConversionWarning: A column-vector y was passed when a 1d array was expected. Please change the shape of y to (n_samples,), for example using ravel().\n",
      "  model_rf_balance.fit(features_train, target_train)\n",
      " 18%|█▊        | 8/45 [00:10<00:57,  1.54s/it]C:\\Users\\theli\\AppData\\Local\\Temp\\ipykernel_6936\\3474906490.py:10: DataConversionWarning: A column-vector y was passed when a 1d array was expected. Please change the shape of y to (n_samples,), for example using ravel().\n",
      "  model_rf_balance.fit(features_train, target_train)\n",
      "C:\\Users\\theli\\AppData\\Local\\Temp\\ipykernel_6936\\3474906490.py:10: DataConversionWarning: A column-vector y was passed when a 1d array was expected. Please change the shape of y to (n_samples,), for example using ravel().\n",
      "  model_rf_balance.fit(features_train, target_train)\n"
     ]
    },
    {
     "name": "stdout",
     "output_type": "stream",
     "text": [
      "N estimators: 26 Глубина: 10 AUC: 0.97786948149859\n",
      "N estimators: 26 Глубина: 11 AUC: 0.9882215730068366\n"
     ]
    },
    {
     "name": "stderr",
     "output_type": "stream",
     "text": [
      "C:\\Users\\theli\\AppData\\Local\\Temp\\ipykernel_6936\\3474906490.py:10: DataConversionWarning: A column-vector y was passed when a 1d array was expected. Please change the shape of y to (n_samples,), for example using ravel().\n",
      "  model_rf_balance.fit(features_train, target_train)\n"
     ]
    },
    {
     "name": "stdout",
     "output_type": "stream",
     "text": [
      "N estimators: 26 Глубина: 12 AUC: 0.9895823863333882\n",
      "N estimators: 26 Глубина: 13 AUC: 0.9945370900462833\n"
     ]
    },
    {
     "name": "stderr",
     "output_type": "stream",
     "text": [
      "C:\\Users\\theli\\AppData\\Local\\Temp\\ipykernel_6936\\3474906490.py:10: DataConversionWarning: A column-vector y was passed when a 1d array was expected. Please change the shape of y to (n_samples,), for example using ravel().\n",
      "  model_rf_balance.fit(features_train, target_train)\n",
      "C:\\Users\\theli\\AppData\\Local\\Temp\\ipykernel_6936\\3474906490.py:10: DataConversionWarning: A column-vector y was passed when a 1d array was expected. Please change the shape of y to (n_samples,), for example using ravel().\n",
      "  model_rf_balance.fit(features_train, target_train)\n"
     ]
    },
    {
     "name": "stdout",
     "output_type": "stream",
     "text": [
      "N estimators: 26 Глубина: 14 AUC: 0.9940747493163172\n",
      "N estimators: 26 Глубина: 15 AUC: 0.9954486670745422\n"
     ]
    },
    {
     "name": "stderr",
     "output_type": "stream",
     "text": [
      "C:\\Users\\theli\\AppData\\Local\\Temp\\ipykernel_6936\\3474906490.py:10: DataConversionWarning: A column-vector y was passed when a 1d array was expected. Please change the shape of y to (n_samples,), for example using ravel().\n",
      "  model_rf_balance.fit(features_train, target_train)\n",
      "C:\\Users\\theli\\AppData\\Local\\Temp\\ipykernel_6936\\3474906490.py:10: DataConversionWarning: A column-vector y was passed when a 1d array was expected. Please change the shape of y to (n_samples,), for example using ravel().\n",
      "  model_rf_balance.fit(features_train, target_train)\n"
     ]
    },
    {
     "name": "stdout",
     "output_type": "stream",
     "text": [
      "N estimators: 26 Глубина: 16 AUC: 0.9954486670745422\n"
     ]
    },
    {
     "name": "stderr",
     "output_type": "stream",
     "text": [
      "C:\\Users\\theli\\AppData\\Local\\Temp\\ipykernel_6936\\3474906490.py:10: DataConversionWarning: A column-vector y was passed when a 1d array was expected. Please change the shape of y to (n_samples,), for example using ravel().\n",
      "  model_rf_balance.fit(features_train, target_train)\n"
     ]
    },
    {
     "name": "stdout",
     "output_type": "stream",
     "text": [
      "N estimators: 26 Глубина: 17 AUC: 0.9949863263445762\n",
      "N estimators: 26 Глубина: 18 AUC: "
     ]
    },
    {
     "name": "stderr",
     "output_type": "stream",
     "text": [
      "C:\\Users\\theli\\AppData\\Local\\Temp\\ipykernel_6936\\3474906490.py:10: DataConversionWarning: A column-vector y was passed when a 1d array was expected. Please change the shape of y to (n_samples,), for example using ravel().\n",
      "  model_rf_balance.fit(features_train, target_train)\n"
     ]
    },
    {
     "name": "stdout",
     "output_type": "stream",
     "text": [
      "0.9954486670745422\n"
     ]
    },
    {
     "name": "stderr",
     "output_type": "stream",
     "text": [
      "C:\\Users\\theli\\AppData\\Local\\Temp\\ipykernel_6936\\3474906490.py:10: DataConversionWarning: A column-vector y was passed when a 1d array was expected. Please change the shape of y to (n_samples,), for example using ravel().\n",
      "  model_rf_balance.fit(features_train, target_train)\n",
      " 20%|██        | 9/45 [00:12<00:59,  1.66s/it]"
     ]
    },
    {
     "name": "stdout",
     "output_type": "stream",
     "text": [
      "N estimators: 26 Глубина: 19 AUC: 0.9949863263445762\n",
      "N estimators: 28 Глубина: 10 AUC: 0.9805648992883476\n"
     ]
    },
    {
     "name": "stderr",
     "output_type": "stream",
     "text": [
      "C:\\Users\\theli\\AppData\\Local\\Temp\\ipykernel_6936\\3474906490.py:10: DataConversionWarning: A column-vector y was passed when a 1d array was expected. Please change the shape of y to (n_samples,), for example using ravel().\n",
      "  model_rf_balance.fit(features_train, target_train)\n",
      "C:\\Users\\theli\\AppData\\Local\\Temp\\ipykernel_6936\\3474906490.py:10: DataConversionWarning: A column-vector y was passed when a 1d array was expected. Please change the shape of y to (n_samples,), for example using ravel().\n",
      "  model_rf_balance.fit(features_train, target_train)\n"
     ]
    },
    {
     "name": "stdout",
     "output_type": "stream",
     "text": [
      "N estimators: 28 Глубина: 11 AUC: 0.9900185182000081\n"
     ]
    },
    {
     "name": "stderr",
     "output_type": "stream",
     "text": [
      "C:\\Users\\theli\\AppData\\Local\\Temp\\ipykernel_6936\\3474906490.py:10: DataConversionWarning: A column-vector y was passed when a 1d array was expected. Please change the shape of y to (n_samples,), for example using ravel().\n",
      "  model_rf_balance.fit(features_train, target_train)\n"
     ]
    },
    {
     "name": "stdout",
     "output_type": "stream",
     "text": [
      "N estimators: 28 Глубина: 12 AUC: 0.9886839137368024\n",
      "N estimators: 28 Глубина: 13 AUC: 0.9940878537479904\n"
     ]
    },
    {
     "name": "stderr",
     "output_type": "stream",
     "text": [
      "C:\\Users\\theli\\AppData\\Local\\Temp\\ipykernel_6936\\3474906490.py:10: DataConversionWarning: A column-vector y was passed when a 1d array was expected. Please change the shape of y to (n_samples,), for example using ravel().\n",
      "  model_rf_balance.fit(features_train, target_train)\n",
      "C:\\Users\\theli\\AppData\\Local\\Temp\\ipykernel_6936\\3474906490.py:10: DataConversionWarning: A column-vector y was passed when a 1d array was expected. Please change the shape of y to (n_samples,), for example using ravel().\n",
      "  model_rf_balance.fit(features_train, target_train)\n"
     ]
    },
    {
     "name": "stdout",
     "output_type": "stream",
     "text": [
      "N estimators: 28 Глубина: 14 AUC: 0.9940747493163172\n"
     ]
    },
    {
     "name": "stderr",
     "output_type": "stream",
     "text": [
      "C:\\Users\\theli\\AppData\\Local\\Temp\\ipykernel_6936\\3474906490.py:10: DataConversionWarning: A column-vector y was passed when a 1d array was expected. Please change the shape of y to (n_samples,), for example using ravel().\n",
      "  model_rf_balance.fit(features_train, target_train)\n"
     ]
    },
    {
     "name": "stdout",
     "output_type": "stream",
     "text": [
      "N estimators: 28 Глубина: 15 AUC: 0.9949863263445762\n"
     ]
    },
    {
     "name": "stderr",
     "output_type": "stream",
     "text": [
      "C:\\Users\\theli\\AppData\\Local\\Temp\\ipykernel_6936\\3474906490.py:10: DataConversionWarning: A column-vector y was passed when a 1d array was expected. Please change the shape of y to (n_samples,), for example using ravel().\n",
      "  model_rf_balance.fit(features_train, target_train)\n"
     ]
    },
    {
     "name": "stdout",
     "output_type": "stream",
     "text": [
      "N estimators: 28 Глубина: 16 AUC: 0.9954486670745422\n"
     ]
    },
    {
     "name": "stderr",
     "output_type": "stream",
     "text": [
      "C:\\Users\\theli\\AppData\\Local\\Temp\\ipykernel_6936\\3474906490.py:10: DataConversionWarning: A column-vector y was passed when a 1d array was expected. Please change the shape of y to (n_samples,), for example using ravel().\n",
      "  model_rf_balance.fit(features_train, target_train)\n"
     ]
    },
    {
     "name": "stdout",
     "output_type": "stream",
     "text": [
      "N estimators: 28 Глубина: 17 AUC: 0.9949863263445762\n"
     ]
    },
    {
     "name": "stderr",
     "output_type": "stream",
     "text": [
      "C:\\Users\\theli\\AppData\\Local\\Temp\\ipykernel_6936\\3474906490.py:10: DataConversionWarning: A column-vector y was passed when a 1d array was expected. Please change the shape of y to (n_samples,), for example using ravel().\n",
      "  model_rf_balance.fit(features_train, target_train)\n"
     ]
    },
    {
     "name": "stdout",
     "output_type": "stream",
     "text": [
      "N estimators: 28 Глубина: 18 AUC: 0.9949863263445762\n"
     ]
    },
    {
     "name": "stderr",
     "output_type": "stream",
     "text": [
      "C:\\Users\\theli\\AppData\\Local\\Temp\\ipykernel_6936\\3474906490.py:10: DataConversionWarning: A column-vector y was passed when a 1d array was expected. Please change the shape of y to (n_samples,), for example using ravel().\n",
      "  model_rf_balance.fit(features_train, target_train)\n",
      " 22%|██▏       | 10/45 [00:14<01:03,  1.80s/it]"
     ]
    },
    {
     "name": "stdout",
     "output_type": "stream",
     "text": [
      "N estimators: 28 Глубина: 19 AUC: 0.9949863263445762\n"
     ]
    },
    {
     "name": "stderr",
     "output_type": "stream",
     "text": [
      "C:\\Users\\theli\\AppData\\Local\\Temp\\ipykernel_6936\\3474906490.py:10: DataConversionWarning: A column-vector y was passed when a 1d array was expected. Please change the shape of y to (n_samples,), for example using ravel().\n",
      "  model_rf_balance.fit(features_train, target_train)\n"
     ]
    },
    {
     "name": "stdout",
     "output_type": "stream",
     "text": [
      "N estimators: 30 Глубина: 10 AUC: 0.980122215205891\n",
      "N estimators: 30 Глубина: 11 AUC: 0.9904743067141375\n"
     ]
    },
    {
     "name": "stderr",
     "output_type": "stream",
     "text": [
      "C:\\Users\\theli\\AppData\\Local\\Temp\\ipykernel_6936\\3474906490.py:10: DataConversionWarning: A column-vector y was passed when a 1d array was expected. Please change the shape of y to (n_samples,), for example using ravel().\n",
      "  model_rf_balance.fit(features_train, target_train)\n",
      "C:\\Users\\theli\\AppData\\Local\\Temp\\ipykernel_6936\\3474906490.py:10: DataConversionWarning: A column-vector y was passed when a 1d array was expected. Please change the shape of y to (n_samples,), for example using ravel().\n",
      "  model_rf_balance.fit(features_train, target_train)\n"
     ]
    },
    {
     "name": "stdout",
     "output_type": "stream",
     "text": [
      "N estimators: 30 Глубина: 12 AUC: 0.9886839137368024\n"
     ]
    },
    {
     "name": "stderr",
     "output_type": "stream",
     "text": [
      "C:\\Users\\theli\\AppData\\Local\\Temp\\ipykernel_6936\\3474906490.py:10: DataConversionWarning: A column-vector y was passed when a 1d array was expected. Please change the shape of y to (n_samples,), for example using ravel().\n",
      "  model_rf_balance.fit(features_train, target_train)\n"
     ]
    },
    {
     "name": "stdout",
     "output_type": "stream",
     "text": [
      "N estimators: 30 Глубина: 13 AUC: 0.9936255130180244\n"
     ]
    },
    {
     "name": "stderr",
     "output_type": "stream",
     "text": [
      "C:\\Users\\theli\\AppData\\Local\\Temp\\ipykernel_6936\\3474906490.py:10: DataConversionWarning: A column-vector y was passed when a 1d array was expected. Please change the shape of y to (n_samples,), for example using ravel().\n",
      "  model_rf_balance.fit(features_train, target_train)\n"
     ]
    },
    {
     "name": "stdout",
     "output_type": "stream",
     "text": [
      "N estimators: 30 Глубина: 14 AUC: 0.9940747493163172\n"
     ]
    },
    {
     "name": "stderr",
     "output_type": "stream",
     "text": [
      "C:\\Users\\theli\\AppData\\Local\\Temp\\ipykernel_6936\\3474906490.py:10: DataConversionWarning: A column-vector y was passed when a 1d array was expected. Please change the shape of y to (n_samples,), for example using ravel().\n",
      "  model_rf_balance.fit(features_train, target_train)\n"
     ]
    },
    {
     "name": "stdout",
     "output_type": "stream",
     "text": [
      "N estimators: 30 Глубина: 15 AUC: 0.9949863263445762\n"
     ]
    },
    {
     "name": "stderr",
     "output_type": "stream",
     "text": [
      "C:\\Users\\theli\\AppData\\Local\\Temp\\ipykernel_6936\\3474906490.py:10: DataConversionWarning: A column-vector y was passed when a 1d array was expected. Please change the shape of y to (n_samples,), for example using ravel().\n",
      "  model_rf_balance.fit(features_train, target_train)\n"
     ]
    },
    {
     "name": "stdout",
     "output_type": "stream",
     "text": [
      "N estimators: 30 Глубина: 16 AUC: 0.9954486670745422\n"
     ]
    },
    {
     "name": "stderr",
     "output_type": "stream",
     "text": [
      "C:\\Users\\theli\\AppData\\Local\\Temp\\ipykernel_6936\\3474906490.py:10: DataConversionWarning: A column-vector y was passed when a 1d array was expected. Please change the shape of y to (n_samples,), for example using ravel().\n",
      "  model_rf_balance.fit(features_train, target_train)\n"
     ]
    },
    {
     "name": "stdout",
     "output_type": "stream",
     "text": [
      "N estimators: 30 Глубина: 17 AUC: 0.9949863263445762\n"
     ]
    },
    {
     "name": "stderr",
     "output_type": "stream",
     "text": [
      "C:\\Users\\theli\\AppData\\Local\\Temp\\ipykernel_6936\\3474906490.py:10: DataConversionWarning: A column-vector y was passed when a 1d array was expected. Please change the shape of y to (n_samples,), for example using ravel().\n",
      "  model_rf_balance.fit(features_train, target_train)\n"
     ]
    },
    {
     "name": "stdout",
     "output_type": "stream",
     "text": [
      "N estimators: 30 Глубина: 18 AUC: 0.9949863263445762\n"
     ]
    },
    {
     "name": "stderr",
     "output_type": "stream",
     "text": [
      "C:\\Users\\theli\\AppData\\Local\\Temp\\ipykernel_6936\\3474906490.py:10: DataConversionWarning: A column-vector y was passed when a 1d array was expected. Please change the shape of y to (n_samples,), for example using ravel().\n",
      "  model_rf_balance.fit(features_train, target_train)\n",
      " 24%|██▍       | 11/45 [00:16<01:05,  1.92s/it]"
     ]
    },
    {
     "name": "stdout",
     "output_type": "stream",
     "text": [
      "N estimators: 30 Глубина: 19 AUC: 0.9949863263445762\n"
     ]
    },
    {
     "name": "stderr",
     "output_type": "stream",
     "text": [
      "C:\\Users\\theli\\AppData\\Local\\Temp\\ipykernel_6936\\3474906490.py:10: DataConversionWarning: A column-vector y was passed when a 1d array was expected. Please change the shape of y to (n_samples,), for example using ravel().\n",
      "  model_rf_balance.fit(features_train, target_train)\n"
     ]
    },
    {
     "name": "stdout",
     "output_type": "stream",
     "text": [
      "N estimators: 32 Глубина: 10 AUC: 0.9832668692939415\n"
     ]
    },
    {
     "name": "stderr",
     "output_type": "stream",
     "text": [
      "C:\\Users\\theli\\AppData\\Local\\Temp\\ipykernel_6936\\3474906490.py:10: DataConversionWarning: A column-vector y was passed when a 1d array was expected. Please change the shape of y to (n_samples,), for example using ravel().\n",
      "  model_rf_balance.fit(features_train, target_train)\n"
     ]
    },
    {
     "name": "stdout",
     "output_type": "stream",
     "text": [
      "N estimators: 32 Глубина: 11 AUC: 0.9904743067141375\n"
     ]
    },
    {
     "name": "stderr",
     "output_type": "stream",
     "text": [
      "C:\\Users\\theli\\AppData\\Local\\Temp\\ipykernel_6936\\3474906490.py:10: DataConversionWarning: A column-vector y was passed when a 1d array was expected. Please change the shape of y to (n_samples,), for example using ravel().\n",
      "  model_rf_balance.fit(features_train, target_train)\n"
     ]
    },
    {
     "name": "stdout",
     "output_type": "stream",
     "text": [
      "N estimators: 32 Глубина: 12 AUC: 0.9877854411402166\n"
     ]
    },
    {
     "name": "stderr",
     "output_type": "stream",
     "text": [
      "C:\\Users\\theli\\AppData\\Local\\Temp\\ipykernel_6936\\3474906490.py:10: DataConversionWarning: A column-vector y was passed when a 1d array was expected. Please change the shape of y to (n_samples,), for example using ravel().\n",
      "  model_rf_balance.fit(features_train, target_train)\n"
     ]
    },
    {
     "name": "stdout",
     "output_type": "stream",
     "text": [
      "N estimators: 32 Глубина: 13 AUC: 0.9936255130180244\n"
     ]
    },
    {
     "name": "stderr",
     "output_type": "stream",
     "text": [
      "C:\\Users\\theli\\AppData\\Local\\Temp\\ipykernel_6936\\3474906490.py:10: DataConversionWarning: A column-vector y was passed when a 1d array was expected. Please change the shape of y to (n_samples,), for example using ravel().\n",
      "  model_rf_balance.fit(features_train, target_train)\n"
     ]
    },
    {
     "name": "stdout",
     "output_type": "stream",
     "text": [
      "N estimators: 32 Глубина: 14 AUC: 0.9940747493163172\n"
     ]
    },
    {
     "name": "stderr",
     "output_type": "stream",
     "text": [
      "C:\\Users\\theli\\AppData\\Local\\Temp\\ipykernel_6936\\3474906490.py:10: DataConversionWarning: A column-vector y was passed when a 1d array was expected. Please change the shape of y to (n_samples,), for example using ravel().\n",
      "  model_rf_balance.fit(features_train, target_train)\n"
     ]
    },
    {
     "name": "stdout",
     "output_type": "stream",
     "text": [
      "N estimators: 32 Глубина: 15 AUC: 0.9949863263445762\n"
     ]
    },
    {
     "name": "stderr",
     "output_type": "stream",
     "text": [
      "C:\\Users\\theli\\AppData\\Local\\Temp\\ipykernel_6936\\3474906490.py:10: DataConversionWarning: A column-vector y was passed when a 1d array was expected. Please change the shape of y to (n_samples,), for example using ravel().\n",
      "  model_rf_balance.fit(features_train, target_train)\n"
     ]
    },
    {
     "name": "stdout",
     "output_type": "stream",
     "text": [
      "N estimators: 32 Глубина: 16 AUC: 0.9949863263445762\n"
     ]
    },
    {
     "name": "stderr",
     "output_type": "stream",
     "text": [
      "C:\\Users\\theli\\AppData\\Local\\Temp\\ipykernel_6936\\3474906490.py:10: DataConversionWarning: A column-vector y was passed when a 1d array was expected. Please change the shape of y to (n_samples,), for example using ravel().\n",
      "  model_rf_balance.fit(features_train, target_train)\n"
     ]
    },
    {
     "name": "stdout",
     "output_type": "stream",
     "text": [
      "N estimators: 32 Глубина: 17 AUC: 0.9949863263445762\n"
     ]
    },
    {
     "name": "stderr",
     "output_type": "stream",
     "text": [
      "C:\\Users\\theli\\AppData\\Local\\Temp\\ipykernel_6936\\3474906490.py:10: DataConversionWarning: A column-vector y was passed when a 1d array was expected. Please change the shape of y to (n_samples,), for example using ravel().\n",
      "  model_rf_balance.fit(features_train, target_train)\n"
     ]
    },
    {
     "name": "stdout",
     "output_type": "stream",
     "text": [
      "N estimators: 32 Глубина: 18 AUC: 0.9949863263445762\n"
     ]
    },
    {
     "name": "stderr",
     "output_type": "stream",
     "text": [
      "C:\\Users\\theli\\AppData\\Local\\Temp\\ipykernel_6936\\3474906490.py:10: DataConversionWarning: A column-vector y was passed when a 1d array was expected. Please change the shape of y to (n_samples,), for example using ravel().\n",
      "  model_rf_balance.fit(features_train, target_train)\n",
      " 27%|██▋       | 12/45 [00:19<01:07,  2.06s/it]"
     ]
    },
    {
     "name": "stdout",
     "output_type": "stream",
     "text": [
      "N estimators: 32 Глубина: 19 AUC: 0.9949863263445762\n"
     ]
    },
    {
     "name": "stderr",
     "output_type": "stream",
     "text": [
      "C:\\Users\\theli\\AppData\\Local\\Temp\\ipykernel_6936\\3474906490.py:10: DataConversionWarning: A column-vector y was passed when a 1d array was expected. Please change the shape of y to (n_samples,), for example using ravel().\n",
      "  model_rf_balance.fit(features_train, target_train)\n"
     ]
    },
    {
     "name": "stdout",
     "output_type": "stream",
     "text": [
      "N estimators: 34 Глубина: 10 AUC: 0.9819257126148992\n"
     ]
    },
    {
     "name": "stderr",
     "output_type": "stream",
     "text": [
      "C:\\Users\\theli\\AppData\\Local\\Temp\\ipykernel_6936\\3474906490.py:10: DataConversionWarning: A column-vector y was passed when a 1d array was expected. Please change the shape of y to (n_samples,), for example using ravel().\n",
      "  model_rf_balance.fit(features_train, target_train)\n"
     ]
    },
    {
     "name": "stdout",
     "output_type": "stream",
     "text": [
      "N estimators: 34 Глубина: 11 AUC: 0.9904743067141375\n"
     ]
    },
    {
     "name": "stderr",
     "output_type": "stream",
     "text": [
      "C:\\Users\\theli\\AppData\\Local\\Temp\\ipykernel_6936\\3474906490.py:10: DataConversionWarning: A column-vector y was passed when a 1d array was expected. Please change the shape of y to (n_samples,), for example using ravel().\n",
      "  model_rf_balance.fit(features_train, target_train)\n"
     ]
    },
    {
     "name": "stdout",
     "output_type": "stream",
     "text": [
      "N estimators: 34 Глубина: 12 AUC: 0.9877854411402166\n"
     ]
    },
    {
     "name": "stderr",
     "output_type": "stream",
     "text": [
      "C:\\Users\\theli\\AppData\\Local\\Temp\\ipykernel_6936\\3474906490.py:10: DataConversionWarning: A column-vector y was passed when a 1d array was expected. Please change the shape of y to (n_samples,), for example using ravel().\n",
      "  model_rf_balance.fit(features_train, target_train)\n"
     ]
    },
    {
     "name": "stdout",
     "output_type": "stream",
     "text": [
      "N estimators: 34 Глубина: 13 AUC: 0.9940747493163172\n"
     ]
    },
    {
     "name": "stderr",
     "output_type": "stream",
     "text": [
      "C:\\Users\\theli\\AppData\\Local\\Temp\\ipykernel_6936\\3474906490.py:10: DataConversionWarning: A column-vector y was passed when a 1d array was expected. Please change the shape of y to (n_samples,), for example using ravel().\n",
      "  model_rf_balance.fit(features_train, target_train)\n"
     ]
    },
    {
     "name": "stdout",
     "output_type": "stream",
     "text": [
      "N estimators: 34 Глубина: 14 AUC: 0.9940747493163172\n"
     ]
    },
    {
     "name": "stderr",
     "output_type": "stream",
     "text": [
      "C:\\Users\\theli\\AppData\\Local\\Temp\\ipykernel_6936\\3474906490.py:10: DataConversionWarning: A column-vector y was passed when a 1d array was expected. Please change the shape of y to (n_samples,), for example using ravel().\n",
      "  model_rf_balance.fit(features_train, target_train)\n"
     ]
    },
    {
     "name": "stdout",
     "output_type": "stream",
     "text": [
      "N estimators: 34 Глубина: 15 AUC: 0.9949863263445762\n"
     ]
    },
    {
     "name": "stderr",
     "output_type": "stream",
     "text": [
      "C:\\Users\\theli\\AppData\\Local\\Temp\\ipykernel_6936\\3474906490.py:10: DataConversionWarning: A column-vector y was passed when a 1d array was expected. Please change the shape of y to (n_samples,), for example using ravel().\n",
      "  model_rf_balance.fit(features_train, target_train)\n"
     ]
    },
    {
     "name": "stdout",
     "output_type": "stream",
     "text": [
      "N estimators: 34 Глубина: 16 AUC: 0.9949863263445762\n"
     ]
    },
    {
     "name": "stderr",
     "output_type": "stream",
     "text": [
      "C:\\Users\\theli\\AppData\\Local\\Temp\\ipykernel_6936\\3474906490.py:10: DataConversionWarning: A column-vector y was passed when a 1d array was expected. Please change the shape of y to (n_samples,), for example using ravel().\n",
      "  model_rf_balance.fit(features_train, target_train)\n"
     ]
    },
    {
     "name": "stdout",
     "output_type": "stream",
     "text": [
      "N estimators: 34 Глубина: 17 AUC: 0.9949863263445762\n"
     ]
    },
    {
     "name": "stderr",
     "output_type": "stream",
     "text": [
      "C:\\Users\\theli\\AppData\\Local\\Temp\\ipykernel_6936\\3474906490.py:10: DataConversionWarning: A column-vector y was passed when a 1d array was expected. Please change the shape of y to (n_samples,), for example using ravel().\n",
      "  model_rf_balance.fit(features_train, target_train)\n"
     ]
    },
    {
     "name": "stdout",
     "output_type": "stream",
     "text": [
      "N estimators: 34 Глубина: 18 AUC: 0.9949863263445762\n"
     ]
    },
    {
     "name": "stderr",
     "output_type": "stream",
     "text": [
      "C:\\Users\\theli\\AppData\\Local\\Temp\\ipykernel_6936\\3474906490.py:10: DataConversionWarning: A column-vector y was passed when a 1d array was expected. Please change the shape of y to (n_samples,), for example using ravel().\n",
      "  model_rf_balance.fit(features_train, target_train)\n",
      " 29%|██▉       | 13/45 [00:21<01:10,  2.19s/it]"
     ]
    },
    {
     "name": "stdout",
     "output_type": "stream",
     "text": [
      "N estimators: 34 Глубина: 19 AUC: 0.9949863263445762\n"
     ]
    },
    {
     "name": "stderr",
     "output_type": "stream",
     "text": [
      "C:\\Users\\theli\\AppData\\Local\\Temp\\ipykernel_6936\\3474906490.py:10: DataConversionWarning: A column-vector y was passed when a 1d array was expected. Please change the shape of y to (n_samples,), for example using ravel().\n",
      "  model_rf_balance.fit(features_train, target_train)\n"
     ]
    },
    {
     "name": "stdout",
     "output_type": "stream",
     "text": [
      "N estimators: 36 Глубина: 10 AUC: 0.9814699241007698\n"
     ]
    },
    {
     "name": "stderr",
     "output_type": "stream",
     "text": [
      "C:\\Users\\theli\\AppData\\Local\\Temp\\ipykernel_6936\\3474906490.py:10: DataConversionWarning: A column-vector y was passed when a 1d array was expected. Please change the shape of y to (n_samples,), for example using ravel().\n",
      "  model_rf_balance.fit(features_train, target_train)\n"
     ]
    },
    {
     "name": "stdout",
     "output_type": "stream",
     "text": [
      "N estimators: 36 Глубина: 11 AUC: 0.9904743067141375\n"
     ]
    },
    {
     "name": "stderr",
     "output_type": "stream",
     "text": [
      "C:\\Users\\theli\\AppData\\Local\\Temp\\ipykernel_6936\\3474906490.py:10: DataConversionWarning: A column-vector y was passed when a 1d array was expected. Please change the shape of y to (n_samples,), for example using ravel().\n",
      "  model_rf_balance.fit(features_train, target_train)\n"
     ]
    },
    {
     "name": "stdout",
     "output_type": "stream",
     "text": [
      "N estimators: 36 Глубина: 12 AUC: 0.9895823863333882\n"
     ]
    },
    {
     "name": "stderr",
     "output_type": "stream",
     "text": [
      "C:\\Users\\theli\\AppData\\Local\\Temp\\ipykernel_6936\\3474906490.py:10: DataConversionWarning: A column-vector y was passed when a 1d array was expected. Please change the shape of y to (n_samples,), for example using ravel().\n",
      "  model_rf_balance.fit(features_train, target_train)\n"
     ]
    },
    {
     "name": "stdout",
     "output_type": "stream",
     "text": [
      "N estimators: 36 Глубина: 13 AUC: 0.9945370900462833\n"
     ]
    },
    {
     "name": "stderr",
     "output_type": "stream",
     "text": [
      "C:\\Users\\theli\\AppData\\Local\\Temp\\ipykernel_6936\\3474906490.py:10: DataConversionWarning: A column-vector y was passed when a 1d array was expected. Please change the shape of y to (n_samples,), for example using ravel().\n",
      "  model_rf_balance.fit(features_train, target_train)\n"
     ]
    },
    {
     "name": "stdout",
     "output_type": "stream",
     "text": [
      "N estimators: 36 Глубина: 14 AUC: 0.9940747493163172\n"
     ]
    },
    {
     "name": "stderr",
     "output_type": "stream",
     "text": [
      "C:\\Users\\theli\\AppData\\Local\\Temp\\ipykernel_6936\\3474906490.py:10: DataConversionWarning: A column-vector y was passed when a 1d array was expected. Please change the shape of y to (n_samples,), for example using ravel().\n",
      "  model_rf_balance.fit(features_train, target_train)\n"
     ]
    },
    {
     "name": "stdout",
     "output_type": "stream",
     "text": [
      "N estimators: 36 Глубина: 15 AUC: 0.9949863263445762\n"
     ]
    },
    {
     "name": "stderr",
     "output_type": "stream",
     "text": [
      "C:\\Users\\theli\\AppData\\Local\\Temp\\ipykernel_6936\\3474906490.py:10: DataConversionWarning: A column-vector y was passed when a 1d array was expected. Please change the shape of y to (n_samples,), for example using ravel().\n",
      "  model_rf_balance.fit(features_train, target_train)\n"
     ]
    },
    {
     "name": "stdout",
     "output_type": "stream",
     "text": [
      "N estimators: 36 Глубина: 16 AUC: 0.9949863263445762\n"
     ]
    },
    {
     "name": "stderr",
     "output_type": "stream",
     "text": [
      "C:\\Users\\theli\\AppData\\Local\\Temp\\ipykernel_6936\\3474906490.py:10: DataConversionWarning: A column-vector y was passed when a 1d array was expected. Please change the shape of y to (n_samples,), for example using ravel().\n",
      "  model_rf_balance.fit(features_train, target_train)\n"
     ]
    },
    {
     "name": "stdout",
     "output_type": "stream",
     "text": [
      "N estimators: 36 Глубина: 17 AUC: 0.9949863263445762\n"
     ]
    },
    {
     "name": "stderr",
     "output_type": "stream",
     "text": [
      "C:\\Users\\theli\\AppData\\Local\\Temp\\ipykernel_6936\\3474906490.py:10: DataConversionWarning: A column-vector y was passed when a 1d array was expected. Please change the shape of y to (n_samples,), for example using ravel().\n",
      "  model_rf_balance.fit(features_train, target_train)\n"
     ]
    },
    {
     "name": "stdout",
     "output_type": "stream",
     "text": [
      "N estimators: 36 Глубина: 18 AUC: 0.9949863263445762\n"
     ]
    },
    {
     "name": "stderr",
     "output_type": "stream",
     "text": [
      "C:\\Users\\theli\\AppData\\Local\\Temp\\ipykernel_6936\\3474906490.py:10: DataConversionWarning: A column-vector y was passed when a 1d array was expected. Please change the shape of y to (n_samples,), for example using ravel().\n",
      "  model_rf_balance.fit(features_train, target_train)\n",
      " 31%|███       | 14/45 [00:24<01:11,  2.31s/it]"
     ]
    },
    {
     "name": "stdout",
     "output_type": "stream",
     "text": [
      "N estimators: 36 Глубина: 19 AUC: 0.9949863263445762\n"
     ]
    },
    {
     "name": "stderr",
     "output_type": "stream",
     "text": [
      "C:\\Users\\theli\\AppData\\Local\\Temp\\ipykernel_6936\\3474906490.py:10: DataConversionWarning: A column-vector y was passed when a 1d array was expected. Please change the shape of y to (n_samples,), for example using ravel().\n",
      "  model_rf_balance.fit(features_train, target_train)\n"
     ]
    },
    {
     "name": "stdout",
     "output_type": "stream",
     "text": [
      "N estimators: 38 Глубина: 10 AUC: 0.978318717796883\n"
     ]
    },
    {
     "name": "stderr",
     "output_type": "stream",
     "text": [
      "C:\\Users\\theli\\AppData\\Local\\Temp\\ipykernel_6936\\3474906490.py:10: DataConversionWarning: A column-vector y was passed when a 1d array was expected. Please change the shape of y to (n_samples,), for example using ravel().\n",
      "  model_rf_balance.fit(features_train, target_train)\n"
     ]
    },
    {
     "name": "stdout",
     "output_type": "stream",
     "text": [
      "N estimators: 38 Глубина: 11 AUC: 0.9904743067141375\n"
     ]
    },
    {
     "name": "stderr",
     "output_type": "stream",
     "text": [
      "C:\\Users\\theli\\AppData\\Local\\Temp\\ipykernel_6936\\3474906490.py:10: DataConversionWarning: A column-vector y was passed when a 1d array was expected. Please change the shape of y to (n_samples,), for example using ravel().\n",
      "  model_rf_balance.fit(features_train, target_train)\n"
     ]
    },
    {
     "name": "stdout",
     "output_type": "stream",
     "text": [
      "N estimators: 38 Глубина: 12 AUC: 0.9940747493163172\n"
     ]
    },
    {
     "name": "stderr",
     "output_type": "stream",
     "text": [
      "C:\\Users\\theli\\AppData\\Local\\Temp\\ipykernel_6936\\3474906490.py:10: DataConversionWarning: A column-vector y was passed when a 1d array was expected. Please change the shape of y to (n_samples,), for example using ravel().\n",
      "  model_rf_balance.fit(features_train, target_train)\n"
     ]
    },
    {
     "name": "stdout",
     "output_type": "stream",
     "text": [
      "N estimators: 38 Глубина: 13 AUC: 0.9945370900462833\n"
     ]
    },
    {
     "name": "stderr",
     "output_type": "stream",
     "text": [
      "C:\\Users\\theli\\AppData\\Local\\Temp\\ipykernel_6936\\3474906490.py:10: DataConversionWarning: A column-vector y was passed when a 1d array was expected. Please change the shape of y to (n_samples,), for example using ravel().\n",
      "  model_rf_balance.fit(features_train, target_train)\n"
     ]
    },
    {
     "name": "stdout",
     "output_type": "stream",
     "text": [
      "N estimators: 38 Глубина: 14 AUC: 0.9940747493163172\n"
     ]
    },
    {
     "name": "stderr",
     "output_type": "stream",
     "text": [
      "C:\\Users\\theli\\AppData\\Local\\Temp\\ipykernel_6936\\3474906490.py:10: DataConversionWarning: A column-vector y was passed when a 1d array was expected. Please change the shape of y to (n_samples,), for example using ravel().\n",
      "  model_rf_balance.fit(features_train, target_train)\n"
     ]
    },
    {
     "name": "stdout",
     "output_type": "stream",
     "text": [
      "N estimators: 38 Глубина: 15 AUC: 0.9954486670745422\n"
     ]
    },
    {
     "name": "stderr",
     "output_type": "stream",
     "text": [
      "C:\\Users\\theli\\AppData\\Local\\Temp\\ipykernel_6936\\3474906490.py:10: DataConversionWarning: A column-vector y was passed when a 1d array was expected. Please change the shape of y to (n_samples,), for example using ravel().\n",
      "  model_rf_balance.fit(features_train, target_train)\n"
     ]
    },
    {
     "name": "stdout",
     "output_type": "stream",
     "text": [
      "N estimators: 38 Глубина: 16 AUC: 0.9954486670745422\n"
     ]
    },
    {
     "name": "stderr",
     "output_type": "stream",
     "text": [
      "C:\\Users\\theli\\AppData\\Local\\Temp\\ipykernel_6936\\3474906490.py:10: DataConversionWarning: A column-vector y was passed when a 1d array was expected. Please change the shape of y to (n_samples,), for example using ravel().\n",
      "  model_rf_balance.fit(features_train, target_train)\n"
     ]
    },
    {
     "name": "stdout",
     "output_type": "stream",
     "text": [
      "N estimators: 38 Глубина: 17 AUC: 0.9949863263445762\n"
     ]
    },
    {
     "name": "stderr",
     "output_type": "stream",
     "text": [
      "C:\\Users\\theli\\AppData\\Local\\Temp\\ipykernel_6936\\3474906490.py:10: DataConversionWarning: A column-vector y was passed when a 1d array was expected. Please change the shape of y to (n_samples,), for example using ravel().\n",
      "  model_rf_balance.fit(features_train, target_train)\n"
     ]
    },
    {
     "name": "stdout",
     "output_type": "stream",
     "text": [
      "N estimators: 38 Глубина: 18 AUC: 0.9949863263445762\n"
     ]
    },
    {
     "name": "stderr",
     "output_type": "stream",
     "text": [
      "C:\\Users\\theli\\AppData\\Local\\Temp\\ipykernel_6936\\3474906490.py:10: DataConversionWarning: A column-vector y was passed when a 1d array was expected. Please change the shape of y to (n_samples,), for example using ravel().\n",
      "  model_rf_balance.fit(features_train, target_train)\n",
      " 33%|███▎      | 15/45 [00:27<01:13,  2.45s/it]"
     ]
    },
    {
     "name": "stdout",
     "output_type": "stream",
     "text": [
      "N estimators: 38 Глубина: 19 AUC: 0.9949863263445762\n"
     ]
    },
    {
     "name": "stderr",
     "output_type": "stream",
     "text": [
      "C:\\Users\\theli\\AppData\\Local\\Temp\\ipykernel_6936\\3474906490.py:10: DataConversionWarning: A column-vector y was passed when a 1d array was expected. Please change the shape of y to (n_samples,), for example using ravel().\n",
      "  model_rf_balance.fit(features_train, target_train)\n"
     ]
    },
    {
     "name": "stdout",
     "output_type": "stream",
     "text": [
      "N estimators: 40 Глубина: 10 AUC: 0.9787745063110124\n"
     ]
    },
    {
     "name": "stderr",
     "output_type": "stream",
     "text": [
      "C:\\Users\\theli\\AppData\\Local\\Temp\\ipykernel_6936\\3474906490.py:10: DataConversionWarning: A column-vector y was passed when a 1d array was expected. Please change the shape of y to (n_samples,), for example using ravel().\n",
      "  model_rf_balance.fit(features_train, target_train)\n"
     ]
    },
    {
     "name": "stdout",
     "output_type": "stream",
     "text": [
      "N estimators: 40 Глубина: 11 AUC: 0.9909300952282669\n"
     ]
    },
    {
     "name": "stderr",
     "output_type": "stream",
     "text": [
      "C:\\Users\\theli\\AppData\\Local\\Temp\\ipykernel_6936\\3474906490.py:10: DataConversionWarning: A column-vector y was passed when a 1d array was expected. Please change the shape of y to (n_samples,), for example using ravel().\n",
      "  model_rf_balance.fit(features_train, target_train)\n"
     ]
    },
    {
     "name": "stdout",
     "output_type": "stream",
     "text": [
      "N estimators: 40 Глубина: 12 AUC: 0.9900316226316811\n"
     ]
    },
    {
     "name": "stderr",
     "output_type": "stream",
     "text": [
      "C:\\Users\\theli\\AppData\\Local\\Temp\\ipykernel_6936\\3474906490.py:10: DataConversionWarning: A column-vector y was passed when a 1d array was expected. Please change the shape of y to (n_samples,), for example using ravel().\n",
      "  model_rf_balance.fit(features_train, target_train)\n"
     ]
    },
    {
     "name": "stdout",
     "output_type": "stream",
     "text": [
      "N estimators: 40 Глубина: 13 AUC: 0.9945370900462833\n"
     ]
    },
    {
     "name": "stderr",
     "output_type": "stream",
     "text": [
      "C:\\Users\\theli\\AppData\\Local\\Temp\\ipykernel_6936\\3474906490.py:10: DataConversionWarning: A column-vector y was passed when a 1d array was expected. Please change the shape of y to (n_samples,), for example using ravel().\n",
      "  model_rf_balance.fit(features_train, target_train)\n"
     ]
    },
    {
     "name": "stdout",
     "output_type": "stream",
     "text": [
      "N estimators: 40 Глубина: 14 AUC: 0.9940747493163172\n"
     ]
    },
    {
     "name": "stderr",
     "output_type": "stream",
     "text": [
      "C:\\Users\\theli\\AppData\\Local\\Temp\\ipykernel_6936\\3474906490.py:10: DataConversionWarning: A column-vector y was passed when a 1d array was expected. Please change the shape of y to (n_samples,), for example using ravel().\n",
      "  model_rf_balance.fit(features_train, target_train)\n"
     ]
    },
    {
     "name": "stdout",
     "output_type": "stream",
     "text": [
      "N estimators: 40 Глубина: 15 AUC: 0.9954486670745422\n"
     ]
    },
    {
     "name": "stderr",
     "output_type": "stream",
     "text": [
      "C:\\Users\\theli\\AppData\\Local\\Temp\\ipykernel_6936\\3474906490.py:10: DataConversionWarning: A column-vector y was passed when a 1d array was expected. Please change the shape of y to (n_samples,), for example using ravel().\n",
      "  model_rf_balance.fit(features_train, target_train)\n"
     ]
    },
    {
     "name": "stdout",
     "output_type": "stream",
     "text": [
      "N estimators: 40 Глубина: 16 AUC: 0.9949863263445762\n"
     ]
    },
    {
     "name": "stderr",
     "output_type": "stream",
     "text": [
      "C:\\Users\\theli\\AppData\\Local\\Temp\\ipykernel_6936\\3474906490.py:10: DataConversionWarning: A column-vector y was passed when a 1d array was expected. Please change the shape of y to (n_samples,), for example using ravel().\n",
      "  model_rf_balance.fit(features_train, target_train)\n"
     ]
    },
    {
     "name": "stdout",
     "output_type": "stream",
     "text": [
      "N estimators: 40 Глубина: 17 AUC: 0.9949863263445762\n"
     ]
    },
    {
     "name": "stderr",
     "output_type": "stream",
     "text": [
      "C:\\Users\\theli\\AppData\\Local\\Temp\\ipykernel_6936\\3474906490.py:10: DataConversionWarning: A column-vector y was passed when a 1d array was expected. Please change the shape of y to (n_samples,), for example using ravel().\n",
      "  model_rf_balance.fit(features_train, target_train)\n"
     ]
    },
    {
     "name": "stdout",
     "output_type": "stream",
     "text": [
      "N estimators: 40 Глубина: 18 AUC: 0.9949863263445762\n"
     ]
    },
    {
     "name": "stderr",
     "output_type": "stream",
     "text": [
      "C:\\Users\\theli\\AppData\\Local\\Temp\\ipykernel_6936\\3474906490.py:10: DataConversionWarning: A column-vector y was passed when a 1d array was expected. Please change the shape of y to (n_samples,), for example using ravel().\n",
      "  model_rf_balance.fit(features_train, target_train)\n",
      " 36%|███▌      | 16/45 [00:29<01:14,  2.58s/it]"
     ]
    },
    {
     "name": "stdout",
     "output_type": "stream",
     "text": [
      "N estimators: 40 Глубина: 19 AUC: 0.9949863263445762\n"
     ]
    },
    {
     "name": "stderr",
     "output_type": "stream",
     "text": [
      "C:\\Users\\theli\\AppData\\Local\\Temp\\ipykernel_6936\\3474906490.py:10: DataConversionWarning: A column-vector y was passed when a 1d array was expected. Please change the shape of y to (n_samples,), for example using ravel().\n",
      "  model_rf_balance.fit(features_train, target_train)\n"
     ]
    },
    {
     "name": "stdout",
     "output_type": "stream",
     "text": [
      "N estimators: 42 Глубина: 10 AUC: 0.9850834711346228\n"
     ]
    },
    {
     "name": "stderr",
     "output_type": "stream",
     "text": [
      "C:\\Users\\theli\\AppData\\Local\\Temp\\ipykernel_6936\\3474906490.py:10: DataConversionWarning: A column-vector y was passed when a 1d array was expected. Please change the shape of y to (n_samples,), for example using ravel().\n",
      "  model_rf_balance.fit(features_train, target_train)\n"
     ]
    },
    {
     "name": "stdout",
     "output_type": "stream",
     "text": [
      "N estimators: 42 Глубина: 11 AUC: 0.9891331500350954\n"
     ]
    },
    {
     "name": "stderr",
     "output_type": "stream",
     "text": [
      "C:\\Users\\theli\\AppData\\Local\\Temp\\ipykernel_6936\\3474906490.py:10: DataConversionWarning: A column-vector y was passed when a 1d array was expected. Please change the shape of y to (n_samples,), for example using ravel().\n",
      "  model_rf_balance.fit(features_train, target_train)\n"
     ]
    },
    {
     "name": "stdout",
     "output_type": "stream",
     "text": [
      "N estimators: 42 Глубина: 12 AUC: 0.9936255130180244\n"
     ]
    },
    {
     "name": "stderr",
     "output_type": "stream",
     "text": [
      "C:\\Users\\theli\\AppData\\Local\\Temp\\ipykernel_6936\\3474906490.py:10: DataConversionWarning: A column-vector y was passed when a 1d array was expected. Please change the shape of y to (n_samples,), for example using ravel().\n",
      "  model_rf_balance.fit(features_train, target_train)\n"
     ]
    },
    {
     "name": "stdout",
     "output_type": "stream",
     "text": [
      "N estimators: 42 Глубина: 13 AUC: 0.9954486670745422\n"
     ]
    },
    {
     "name": "stderr",
     "output_type": "stream",
     "text": [
      "C:\\Users\\theli\\AppData\\Local\\Temp\\ipykernel_6936\\3474906490.py:10: DataConversionWarning: A column-vector y was passed when a 1d array was expected. Please change the shape of y to (n_samples,), for example using ravel().\n",
      "  model_rf_balance.fit(features_train, target_train)\n"
     ]
    },
    {
     "name": "stdout",
     "output_type": "stream",
     "text": [
      "N estimators: 42 Глубина: 14 AUC: 0.9949863263445762\n"
     ]
    },
    {
     "name": "stderr",
     "output_type": "stream",
     "text": [
      "C:\\Users\\theli\\AppData\\Local\\Temp\\ipykernel_6936\\3474906490.py:10: DataConversionWarning: A column-vector y was passed when a 1d array was expected. Please change the shape of y to (n_samples,), for example using ravel().\n",
      "  model_rf_balance.fit(features_train, target_train)\n"
     ]
    },
    {
     "name": "stdout",
     "output_type": "stream",
     "text": [
      "N estimators: 42 Глубина: 15 AUC: 0.9954486670745422\n"
     ]
    },
    {
     "name": "stderr",
     "output_type": "stream",
     "text": [
      "C:\\Users\\theli\\AppData\\Local\\Temp\\ipykernel_6936\\3474906490.py:10: DataConversionWarning: A column-vector y was passed when a 1d array was expected. Please change the shape of y to (n_samples,), for example using ravel().\n",
      "  model_rf_balance.fit(features_train, target_train)\n"
     ]
    },
    {
     "name": "stdout",
     "output_type": "stream",
     "text": [
      "N estimators: 42 Глубина: 16 AUC: 0.9949863263445762\n"
     ]
    },
    {
     "name": "stderr",
     "output_type": "stream",
     "text": [
      "C:\\Users\\theli\\AppData\\Local\\Temp\\ipykernel_6936\\3474906490.py:10: DataConversionWarning: A column-vector y was passed when a 1d array was expected. Please change the shape of y to (n_samples,), for example using ravel().\n",
      "  model_rf_balance.fit(features_train, target_train)\n"
     ]
    },
    {
     "name": "stdout",
     "output_type": "stream",
     "text": [
      "N estimators: 42 Глубина: 17 AUC: 0.9949863263445762\n"
     ]
    },
    {
     "name": "stderr",
     "output_type": "stream",
     "text": [
      "C:\\Users\\theli\\AppData\\Local\\Temp\\ipykernel_6936\\3474906490.py:10: DataConversionWarning: A column-vector y was passed when a 1d array was expected. Please change the shape of y to (n_samples,), for example using ravel().\n",
      "  model_rf_balance.fit(features_train, target_train)\n"
     ]
    },
    {
     "name": "stdout",
     "output_type": "stream",
     "text": [
      "N estimators: 42 Глубина: 18 AUC: 0.9949863263445762\n"
     ]
    },
    {
     "name": "stderr",
     "output_type": "stream",
     "text": [
      "C:\\Users\\theli\\AppData\\Local\\Temp\\ipykernel_6936\\3474906490.py:10: DataConversionWarning: A column-vector y was passed when a 1d array was expected. Please change the shape of y to (n_samples,), for example using ravel().\n",
      "  model_rf_balance.fit(features_train, target_train)\n",
      " 38%|███▊      | 17/45 [00:32<01:16,  2.72s/it]"
     ]
    },
    {
     "name": "stdout",
     "output_type": "stream",
     "text": [
      "N estimators: 42 Глубина: 19 AUC: 0.9949863263445762\n"
     ]
    },
    {
     "name": "stderr",
     "output_type": "stream",
     "text": [
      "C:\\Users\\theli\\AppData\\Local\\Temp\\ipykernel_6936\\3474906490.py:10: DataConversionWarning: A column-vector y was passed when a 1d array was expected. Please change the shape of y to (n_samples,), for example using ravel().\n",
      "  model_rf_balance.fit(features_train, target_train)\n"
     ]
    },
    {
     "name": "stdout",
     "output_type": "stream",
     "text": [
      "N estimators: 44 Глубина: 10 AUC: 0.9837423144555805\n"
     ]
    },
    {
     "name": "stderr",
     "output_type": "stream",
     "text": [
      "C:\\Users\\theli\\AppData\\Local\\Temp\\ipykernel_6936\\3474906490.py:10: DataConversionWarning: A column-vector y was passed when a 1d array was expected. Please change the shape of y to (n_samples,), for example using ravel().\n",
      "  model_rf_balance.fit(features_train, target_train)\n"
     ]
    },
    {
     "name": "stdout",
     "output_type": "stream",
     "text": [
      "N estimators: 44 Глубина: 11 AUC: 0.9891331500350954\n"
     ]
    },
    {
     "name": "stderr",
     "output_type": "stream",
     "text": [
      "C:\\Users\\theli\\AppData\\Local\\Temp\\ipykernel_6936\\3474906490.py:10: DataConversionWarning: A column-vector y was passed when a 1d array was expected. Please change the shape of y to (n_samples,), for example using ravel().\n",
      "  model_rf_balance.fit(features_train, target_train)\n"
     ]
    },
    {
     "name": "stdout",
     "output_type": "stream",
     "text": [
      "N estimators: 44 Глубина: 12 AUC: 0.9936255130180244\n"
     ]
    },
    {
     "name": "stderr",
     "output_type": "stream",
     "text": [
      "C:\\Users\\theli\\AppData\\Local\\Temp\\ipykernel_6936\\3474906490.py:10: DataConversionWarning: A column-vector y was passed when a 1d array was expected. Please change the shape of y to (n_samples,), for example using ravel().\n",
      "  model_rf_balance.fit(features_train, target_train)\n"
     ]
    },
    {
     "name": "stdout",
     "output_type": "stream",
     "text": [
      "N estimators: 44 Глубина: 13 AUC: 0.9949863263445762\n"
     ]
    },
    {
     "name": "stderr",
     "output_type": "stream",
     "text": [
      "C:\\Users\\theli\\AppData\\Local\\Temp\\ipykernel_6936\\3474906490.py:10: DataConversionWarning: A column-vector y was passed when a 1d array was expected. Please change the shape of y to (n_samples,), for example using ravel().\n",
      "  model_rf_balance.fit(features_train, target_train)\n"
     ]
    },
    {
     "name": "stdout",
     "output_type": "stream",
     "text": [
      "N estimators: 44 Глубина: 14 AUC: 0.9940747493163172\n"
     ]
    },
    {
     "name": "stderr",
     "output_type": "stream",
     "text": [
      "C:\\Users\\theli\\AppData\\Local\\Temp\\ipykernel_6936\\3474906490.py:10: DataConversionWarning: A column-vector y was passed when a 1d array was expected. Please change the shape of y to (n_samples,), for example using ravel().\n",
      "  model_rf_balance.fit(features_train, target_train)\n"
     ]
    },
    {
     "name": "stdout",
     "output_type": "stream",
     "text": [
      "N estimators: 44 Глубина: 15 AUC: 0.9949863263445762\n"
     ]
    },
    {
     "name": "stderr",
     "output_type": "stream",
     "text": [
      "C:\\Users\\theli\\AppData\\Local\\Temp\\ipykernel_6936\\3474906490.py:10: DataConversionWarning: A column-vector y was passed when a 1d array was expected. Please change the shape of y to (n_samples,), for example using ravel().\n",
      "  model_rf_balance.fit(features_train, target_train)\n"
     ]
    },
    {
     "name": "stdout",
     "output_type": "stream",
     "text": [
      "N estimators: 44 Глубина: 16 AUC: 0.9949863263445762\n"
     ]
    },
    {
     "name": "stderr",
     "output_type": "stream",
     "text": [
      "C:\\Users\\theli\\AppData\\Local\\Temp\\ipykernel_6936\\3474906490.py:10: DataConversionWarning: A column-vector y was passed when a 1d array was expected. Please change the shape of y to (n_samples,), for example using ravel().\n",
      "  model_rf_balance.fit(features_train, target_train)\n"
     ]
    },
    {
     "name": "stdout",
     "output_type": "stream",
     "text": [
      "N estimators: 44 Глубина: 17 AUC: 0.9949863263445762\n"
     ]
    },
    {
     "name": "stderr",
     "output_type": "stream",
     "text": [
      "C:\\Users\\theli\\AppData\\Local\\Temp\\ipykernel_6936\\3474906490.py:10: DataConversionWarning: A column-vector y was passed when a 1d array was expected. Please change the shape of y to (n_samples,), for example using ravel().\n",
      "  model_rf_balance.fit(features_train, target_train)\n"
     ]
    },
    {
     "name": "stdout",
     "output_type": "stream",
     "text": [
      "N estimators: 44 Глубина: 18 AUC: 0.9949863263445762\n"
     ]
    },
    {
     "name": "stderr",
     "output_type": "stream",
     "text": [
      "C:\\Users\\theli\\AppData\\Local\\Temp\\ipykernel_6936\\3474906490.py:10: DataConversionWarning: A column-vector y was passed when a 1d array was expected. Please change the shape of y to (n_samples,), for example using ravel().\n",
      "  model_rf_balance.fit(features_train, target_train)\n",
      " 40%|████      | 18/45 [00:36<01:16,  2.85s/it]"
     ]
    },
    {
     "name": "stdout",
     "output_type": "stream",
     "text": [
      "N estimators: 44 Глубина: 19 AUC: 0.9949863263445762\n"
     ]
    },
    {
     "name": "stderr",
     "output_type": "stream",
     "text": [
      "C:\\Users\\theli\\AppData\\Local\\Temp\\ipykernel_6936\\3474906490.py:10: DataConversionWarning: A column-vector y was passed when a 1d array was expected. Please change the shape of y to (n_samples,), for example using ravel().\n",
      "  model_rf_balance.fit(features_train, target_train)\n"
     ]
    },
    {
     "name": "stdout",
     "output_type": "stream",
     "text": [
      "N estimators: 46 Глубина: 10 AUC: 0.9855392596487521\n"
     ]
    },
    {
     "name": "stderr",
     "output_type": "stream",
     "text": [
      "C:\\Users\\theli\\AppData\\Local\\Temp\\ipykernel_6936\\3474906490.py:10: DataConversionWarning: A column-vector y was passed when a 1d array was expected. Please change the shape of y to (n_samples,), for example using ravel().\n",
      "  model_rf_balance.fit(features_train, target_train)\n"
     ]
    },
    {
     "name": "stdout",
     "output_type": "stream",
     "text": [
      "N estimators: 46 Глубина: 11 AUC: 0.9909300952282669\n"
     ]
    },
    {
     "name": "stderr",
     "output_type": "stream",
     "text": [
      "C:\\Users\\theli\\AppData\\Local\\Temp\\ipykernel_6936\\3474906490.py:10: DataConversionWarning: A column-vector y was passed when a 1d array was expected. Please change the shape of y to (n_samples,), for example using ravel().\n",
      "  model_rf_balance.fit(features_train, target_train)\n"
     ]
    },
    {
     "name": "stdout",
     "output_type": "stream",
     "text": [
      "N estimators: 46 Глубина: 12 AUC: 0.9936255130180244\n"
     ]
    },
    {
     "name": "stderr",
     "output_type": "stream",
     "text": [
      "C:\\Users\\theli\\AppData\\Local\\Temp\\ipykernel_6936\\3474906490.py:10: DataConversionWarning: A column-vector y was passed when a 1d array was expected. Please change the shape of y to (n_samples,), for example using ravel().\n",
      "  model_rf_balance.fit(features_train, target_train)\n"
     ]
    },
    {
     "name": "stdout",
     "output_type": "stream",
     "text": [
      "N estimators: 46 Глубина: 13 AUC: 0.9940747493163172\n"
     ]
    },
    {
     "name": "stderr",
     "output_type": "stream",
     "text": [
      "C:\\Users\\theli\\AppData\\Local\\Temp\\ipykernel_6936\\3474906490.py:10: DataConversionWarning: A column-vector y was passed when a 1d array was expected. Please change the shape of y to (n_samples,), for example using ravel().\n",
      "  model_rf_balance.fit(features_train, target_train)\n"
     ]
    },
    {
     "name": "stdout",
     "output_type": "stream",
     "text": [
      "N estimators: 46 Глубина: 14 AUC: 0.9949863263445762\n"
     ]
    },
    {
     "name": "stderr",
     "output_type": "stream",
     "text": [
      "C:\\Users\\theli\\AppData\\Local\\Temp\\ipykernel_6936\\3474906490.py:10: DataConversionWarning: A column-vector y was passed when a 1d array was expected. Please change the shape of y to (n_samples,), for example using ravel().\n",
      "  model_rf_balance.fit(features_train, target_train)\n"
     ]
    },
    {
     "name": "stdout",
     "output_type": "stream",
     "text": [
      "N estimators: 46 Глубина: 15 AUC: 0.9949863263445762\n"
     ]
    },
    {
     "name": "stderr",
     "output_type": "stream",
     "text": [
      "C:\\Users\\theli\\AppData\\Local\\Temp\\ipykernel_6936\\3474906490.py:10: DataConversionWarning: A column-vector y was passed when a 1d array was expected. Please change the shape of y to (n_samples,), for example using ravel().\n",
      "  model_rf_balance.fit(features_train, target_train)\n"
     ]
    },
    {
     "name": "stdout",
     "output_type": "stream",
     "text": [
      "N estimators: 46 Глубина: 16 AUC: 0.9949863263445762\n"
     ]
    },
    {
     "name": "stderr",
     "output_type": "stream",
     "text": [
      "C:\\Users\\theli\\AppData\\Local\\Temp\\ipykernel_6936\\3474906490.py:10: DataConversionWarning: A column-vector y was passed when a 1d array was expected. Please change the shape of y to (n_samples,), for example using ravel().\n",
      "  model_rf_balance.fit(features_train, target_train)\n"
     ]
    },
    {
     "name": "stdout",
     "output_type": "stream",
     "text": [
      "N estimators: 46 Глубина: 17 AUC: 0.9949863263445762\n"
     ]
    },
    {
     "name": "stderr",
     "output_type": "stream",
     "text": [
      "C:\\Users\\theli\\AppData\\Local\\Temp\\ipykernel_6936\\3474906490.py:10: DataConversionWarning: A column-vector y was passed when a 1d array was expected. Please change the shape of y to (n_samples,), for example using ravel().\n",
      "  model_rf_balance.fit(features_train, target_train)\n"
     ]
    },
    {
     "name": "stdout",
     "output_type": "stream",
     "text": [
      "N estimators: 46 Глубина: 18 AUC: 0.9949863263445762\n"
     ]
    },
    {
     "name": "stderr",
     "output_type": "stream",
     "text": [
      "C:\\Users\\theli\\AppData\\Local\\Temp\\ipykernel_6936\\3474906490.py:10: DataConversionWarning: A column-vector y was passed when a 1d array was expected. Please change the shape of y to (n_samples,), for example using ravel().\n",
      "  model_rf_balance.fit(features_train, target_train)\n",
      " 42%|████▏     | 19/45 [00:39<01:17,  2.99s/it]"
     ]
    },
    {
     "name": "stdout",
     "output_type": "stream",
     "text": [
      "N estimators: 46 Глубина: 19 AUC: 0.9949863263445762\n"
     ]
    },
    {
     "name": "stderr",
     "output_type": "stream",
     "text": [
      "C:\\Users\\theli\\AppData\\Local\\Temp\\ipykernel_6936\\3474906490.py:10: DataConversionWarning: A column-vector y was passed when a 1d array was expected. Please change the shape of y to (n_samples,), for example using ravel().\n",
      "  model_rf_balance.fit(features_train, target_train)\n"
     ]
    },
    {
     "name": "stdout",
     "output_type": "stream",
     "text": [
      "N estimators: 48 Глубина: 10 AUC: 0.9832930781572876\n"
     ]
    },
    {
     "name": "stderr",
     "output_type": "stream",
     "text": [
      "C:\\Users\\theli\\AppData\\Local\\Temp\\ipykernel_6936\\3474906490.py:10: DataConversionWarning: A column-vector y was passed when a 1d array was expected. Please change the shape of y to (n_samples,), for example using ravel().\n",
      "  model_rf_balance.fit(features_train, target_train)\n"
     ]
    },
    {
     "name": "stdout",
     "output_type": "stream",
     "text": [
      "N estimators: 48 Глубина: 11 AUC: 0.9891331500350954\n"
     ]
    },
    {
     "name": "stderr",
     "output_type": "stream",
     "text": [
      "C:\\Users\\theli\\AppData\\Local\\Temp\\ipykernel_6936\\3474906490.py:10: DataConversionWarning: A column-vector y was passed when a 1d array was expected. Please change the shape of y to (n_samples,), for example using ravel().\n",
      "  model_rf_balance.fit(features_train, target_train)\n"
     ]
    },
    {
     "name": "stdout",
     "output_type": "stream",
     "text": [
      "N estimators: 48 Глубина: 12 AUC: 0.9936255130180244\n"
     ]
    },
    {
     "name": "stderr",
     "output_type": "stream",
     "text": [
      "C:\\Users\\theli\\AppData\\Local\\Temp\\ipykernel_6936\\3474906490.py:10: DataConversionWarning: A column-vector y was passed when a 1d array was expected. Please change the shape of y to (n_samples,), for example using ravel().\n",
      "  model_rf_balance.fit(features_train, target_train)\n"
     ]
    },
    {
     "name": "stdout",
     "output_type": "stream",
     "text": [
      "N estimators: 48 Глубина: 13 AUC: 0.9940747493163172\n"
     ]
    },
    {
     "name": "stderr",
     "output_type": "stream",
     "text": [
      "C:\\Users\\theli\\AppData\\Local\\Temp\\ipykernel_6936\\3474906490.py:10: DataConversionWarning: A column-vector y was passed when a 1d array was expected. Please change the shape of y to (n_samples,), for example using ravel().\n",
      "  model_rf_balance.fit(features_train, target_train)\n"
     ]
    },
    {
     "name": "stdout",
     "output_type": "stream",
     "text": [
      "N estimators: 48 Глубина: 14 AUC: 0.9949863263445762\n"
     ]
    },
    {
     "name": "stderr",
     "output_type": "stream",
     "text": [
      "C:\\Users\\theli\\AppData\\Local\\Temp\\ipykernel_6936\\3474906490.py:10: DataConversionWarning: A column-vector y was passed when a 1d array was expected. Please change the shape of y to (n_samples,), for example using ravel().\n",
      "  model_rf_balance.fit(features_train, target_train)\n"
     ]
    },
    {
     "name": "stdout",
     "output_type": "stream",
     "text": [
      "N estimators: 48 Глубина: 15 AUC: 0.9949863263445762\n"
     ]
    },
    {
     "name": "stderr",
     "output_type": "stream",
     "text": [
      "C:\\Users\\theli\\AppData\\Local\\Temp\\ipykernel_6936\\3474906490.py:10: DataConversionWarning: A column-vector y was passed when a 1d array was expected. Please change the shape of y to (n_samples,), for example using ravel().\n",
      "  model_rf_balance.fit(features_train, target_train)\n"
     ]
    },
    {
     "name": "stdout",
     "output_type": "stream",
     "text": [
      "N estimators: 48 Глубина: 16 AUC: 0.9949863263445762\n"
     ]
    },
    {
     "name": "stderr",
     "output_type": "stream",
     "text": [
      "C:\\Users\\theli\\AppData\\Local\\Temp\\ipykernel_6936\\3474906490.py:10: DataConversionWarning: A column-vector y was passed when a 1d array was expected. Please change the shape of y to (n_samples,), for example using ravel().\n",
      "  model_rf_balance.fit(features_train, target_train)\n"
     ]
    },
    {
     "name": "stdout",
     "output_type": "stream",
     "text": [
      "N estimators: 48 Глубина: 17 AUC: 0.9949863263445762\n"
     ]
    },
    {
     "name": "stderr",
     "output_type": "stream",
     "text": [
      "C:\\Users\\theli\\AppData\\Local\\Temp\\ipykernel_6936\\3474906490.py:10: DataConversionWarning: A column-vector y was passed when a 1d array was expected. Please change the shape of y to (n_samples,), for example using ravel().\n",
      "  model_rf_balance.fit(features_train, target_train)\n"
     ]
    },
    {
     "name": "stdout",
     "output_type": "stream",
     "text": [
      "N estimators: 48 Глубина: 18 AUC: 0.9949863263445762\n"
     ]
    },
    {
     "name": "stderr",
     "output_type": "stream",
     "text": [
      "C:\\Users\\theli\\AppData\\Local\\Temp\\ipykernel_6936\\3474906490.py:10: DataConversionWarning: A column-vector y was passed when a 1d array was expected. Please change the shape of y to (n_samples,), for example using ravel().\n",
      "  model_rf_balance.fit(features_train, target_train)\n",
      " 44%|████▍     | 20/45 [00:42<01:17,  3.11s/it]"
     ]
    },
    {
     "name": "stdout",
     "output_type": "stream",
     "text": [
      "N estimators: 48 Глубина: 19 AUC: 0.9949863263445762\n"
     ]
    },
    {
     "name": "stderr",
     "output_type": "stream",
     "text": [
      "C:\\Users\\theli\\AppData\\Local\\Temp\\ipykernel_6936\\3474906490.py:10: DataConversionWarning: A column-vector y was passed when a 1d array was expected. Please change the shape of y to (n_samples,), for example using ravel().\n",
      "  model_rf_balance.fit(features_train, target_train)\n"
     ]
    },
    {
     "name": "stdout",
     "output_type": "stream",
     "text": [
      "N estimators: 50 Глубина: 10 AUC: 0.9832930781572876\n"
     ]
    },
    {
     "name": "stderr",
     "output_type": "stream",
     "text": [
      "C:\\Users\\theli\\AppData\\Local\\Temp\\ipykernel_6936\\3474906490.py:10: DataConversionWarning: A column-vector y was passed when a 1d array was expected. Please change the shape of y to (n_samples,), for example using ravel().\n",
      "  model_rf_balance.fit(features_train, target_train)\n"
     ]
    },
    {
     "name": "stdout",
     "output_type": "stream",
     "text": [
      "N estimators: 50 Глубина: 11 AUC: 0.9891331500350954\n"
     ]
    },
    {
     "name": "stderr",
     "output_type": "stream",
     "text": [
      "C:\\Users\\theli\\AppData\\Local\\Temp\\ipykernel_6936\\3474906490.py:10: DataConversionWarning: A column-vector y was passed when a 1d array was expected. Please change the shape of y to (n_samples,), for example using ravel().\n",
      "  model_rf_balance.fit(features_train, target_train)\n"
     ]
    },
    {
     "name": "stdout",
     "output_type": "stream",
     "text": [
      "N estimators: 50 Глубина: 12 AUC: 0.9936255130180244\n"
     ]
    },
    {
     "name": "stderr",
     "output_type": "stream",
     "text": [
      "C:\\Users\\theli\\AppData\\Local\\Temp\\ipykernel_6936\\3474906490.py:10: DataConversionWarning: A column-vector y was passed when a 1d array was expected. Please change the shape of y to (n_samples,), for example using ravel().\n",
      "  model_rf_balance.fit(features_train, target_train)\n"
     ]
    },
    {
     "name": "stdout",
     "output_type": "stream",
     "text": [
      "N estimators: 50 Глубина: 13 AUC: 0.9949863263445762\n"
     ]
    },
    {
     "name": "stderr",
     "output_type": "stream",
     "text": [
      "C:\\Users\\theli\\AppData\\Local\\Temp\\ipykernel_6936\\3474906490.py:10: DataConversionWarning: A column-vector y was passed when a 1d array was expected. Please change the shape of y to (n_samples,), for example using ravel().\n",
      "  model_rf_balance.fit(features_train, target_train)\n"
     ]
    },
    {
     "name": "stdout",
     "output_type": "stream",
     "text": [
      "N estimators: 50 Глубина: 14 AUC: 0.9949863263445762\n"
     ]
    },
    {
     "name": "stderr",
     "output_type": "stream",
     "text": [
      "C:\\Users\\theli\\AppData\\Local\\Temp\\ipykernel_6936\\3474906490.py:10: DataConversionWarning: A column-vector y was passed when a 1d array was expected. Please change the shape of y to (n_samples,), for example using ravel().\n",
      "  model_rf_balance.fit(features_train, target_train)\n"
     ]
    },
    {
     "name": "stdout",
     "output_type": "stream",
     "text": [
      "N estimators: 50 Глубина: 15 AUC: 0.9949863263445762\n"
     ]
    },
    {
     "name": "stderr",
     "output_type": "stream",
     "text": [
      "C:\\Users\\theli\\AppData\\Local\\Temp\\ipykernel_6936\\3474906490.py:10: DataConversionWarning: A column-vector y was passed when a 1d array was expected. Please change the shape of y to (n_samples,), for example using ravel().\n",
      "  model_rf_balance.fit(features_train, target_train)\n"
     ]
    },
    {
     "name": "stdout",
     "output_type": "stream",
     "text": [
      "N estimators: 50 Глубина: 16 AUC: 0.9949863263445762\n"
     ]
    },
    {
     "name": "stderr",
     "output_type": "stream",
     "text": [
      "C:\\Users\\theli\\AppData\\Local\\Temp\\ipykernel_6936\\3474906490.py:10: DataConversionWarning: A column-vector y was passed when a 1d array was expected. Please change the shape of y to (n_samples,), for example using ravel().\n",
      "  model_rf_balance.fit(features_train, target_train)\n"
     ]
    },
    {
     "name": "stdout",
     "output_type": "stream",
     "text": [
      "N estimators: 50 Глубина: 17 AUC: 0.9949863263445762\n"
     ]
    },
    {
     "name": "stderr",
     "output_type": "stream",
     "text": [
      "C:\\Users\\theli\\AppData\\Local\\Temp\\ipykernel_6936\\3474906490.py:10: DataConversionWarning: A column-vector y was passed when a 1d array was expected. Please change the shape of y to (n_samples,), for example using ravel().\n",
      "  model_rf_balance.fit(features_train, target_train)\n"
     ]
    },
    {
     "name": "stdout",
     "output_type": "stream",
     "text": [
      "N estimators: 50 Глубина: 18 AUC: 0.9949863263445762\n"
     ]
    },
    {
     "name": "stderr",
     "output_type": "stream",
     "text": [
      "C:\\Users\\theli\\AppData\\Local\\Temp\\ipykernel_6936\\3474906490.py:10: DataConversionWarning: A column-vector y was passed when a 1d array was expected. Please change the shape of y to (n_samples,), for example using ravel().\n",
      "  model_rf_balance.fit(features_train, target_train)\n",
      " 47%|████▋     | 21/45 [00:46<01:17,  3.24s/it]"
     ]
    },
    {
     "name": "stdout",
     "output_type": "stream",
     "text": [
      "N estimators: 50 Глубина: 19 AUC: 0.9949863263445762\n"
     ]
    },
    {
     "name": "stderr",
     "output_type": "stream",
     "text": [
      "C:\\Users\\theli\\AppData\\Local\\Temp\\ipykernel_6936\\3474906490.py:10: DataConversionWarning: A column-vector y was passed when a 1d array was expected. Please change the shape of y to (n_samples,), for example using ravel().\n",
      "  model_rf_balance.fit(features_train, target_train)\n"
     ]
    },
    {
     "name": "stdout",
     "output_type": "stream",
     "text": [
      "N estimators: 52 Глубина: 10 AUC: 0.9783514788760657\n"
     ]
    },
    {
     "name": "stderr",
     "output_type": "stream",
     "text": [
      "C:\\Users\\theli\\AppData\\Local\\Temp\\ipykernel_6936\\3474906490.py:10: DataConversionWarning: A column-vector y was passed when a 1d array was expected. Please change the shape of y to (n_samples,), for example using ravel().\n",
      "  model_rf_balance.fit(features_train, target_train)\n"
     ]
    },
    {
     "name": "stdout",
     "output_type": "stream",
     "text": [
      "N estimators: 52 Глубина: 11 AUC: 0.9891331500350954\n"
     ]
    },
    {
     "name": "stderr",
     "output_type": "stream",
     "text": [
      "C:\\Users\\theli\\AppData\\Local\\Temp\\ipykernel_6936\\3474906490.py:10: DataConversionWarning: A column-vector y was passed when a 1d array was expected. Please change the shape of y to (n_samples,), for example using ravel().\n",
      "  model_rf_balance.fit(features_train, target_train)\n"
     ]
    },
    {
     "name": "stdout",
     "output_type": "stream",
     "text": [
      "N estimators: 52 Глубина: 12 AUC: 0.9936255130180244\n"
     ]
    },
    {
     "name": "stderr",
     "output_type": "stream",
     "text": [
      "C:\\Users\\theli\\AppData\\Local\\Temp\\ipykernel_6936\\3474906490.py:10: DataConversionWarning: A column-vector y was passed when a 1d array was expected. Please change the shape of y to (n_samples,), for example using ravel().\n",
      "  model_rf_balance.fit(features_train, target_train)\n"
     ]
    },
    {
     "name": "stdout",
     "output_type": "stream",
     "text": [
      "N estimators: 52 Глубина: 13 AUC: 0.9949863263445762\n"
     ]
    },
    {
     "name": "stderr",
     "output_type": "stream",
     "text": [
      "C:\\Users\\theli\\AppData\\Local\\Temp\\ipykernel_6936\\3474906490.py:10: DataConversionWarning: A column-vector y was passed when a 1d array was expected. Please change the shape of y to (n_samples,), for example using ravel().\n",
      "  model_rf_balance.fit(features_train, target_train)\n"
     ]
    },
    {
     "name": "stdout",
     "output_type": "stream",
     "text": [
      "N estimators: 52 Глубина: 14 AUC: 0.9949863263445762\n"
     ]
    },
    {
     "name": "stderr",
     "output_type": "stream",
     "text": [
      "C:\\Users\\theli\\AppData\\Local\\Temp\\ipykernel_6936\\3474906490.py:10: DataConversionWarning: A column-vector y was passed when a 1d array was expected. Please change the shape of y to (n_samples,), for example using ravel().\n",
      "  model_rf_balance.fit(features_train, target_train)\n"
     ]
    },
    {
     "name": "stdout",
     "output_type": "stream",
     "text": [
      "N estimators: 52 Глубина: 15 AUC: 0.9949863263445762\n"
     ]
    },
    {
     "name": "stderr",
     "output_type": "stream",
     "text": [
      "C:\\Users\\theli\\AppData\\Local\\Temp\\ipykernel_6936\\3474906490.py:10: DataConversionWarning: A column-vector y was passed when a 1d array was expected. Please change the shape of y to (n_samples,), for example using ravel().\n",
      "  model_rf_balance.fit(features_train, target_train)\n"
     ]
    },
    {
     "name": "stdout",
     "output_type": "stream",
     "text": [
      "N estimators: 52 Глубина: 16 AUC: 0.9949863263445762\n"
     ]
    },
    {
     "name": "stderr",
     "output_type": "stream",
     "text": [
      "C:\\Users\\theli\\AppData\\Local\\Temp\\ipykernel_6936\\3474906490.py:10: DataConversionWarning: A column-vector y was passed when a 1d array was expected. Please change the shape of y to (n_samples,), for example using ravel().\n",
      "  model_rf_balance.fit(features_train, target_train)\n"
     ]
    },
    {
     "name": "stdout",
     "output_type": "stream",
     "text": [
      "N estimators: 52 Глубина: 17 AUC: 0.9949863263445762\n"
     ]
    },
    {
     "name": "stderr",
     "output_type": "stream",
     "text": [
      "C:\\Users\\theli\\AppData\\Local\\Temp\\ipykernel_6936\\3474906490.py:10: DataConversionWarning: A column-vector y was passed when a 1d array was expected. Please change the shape of y to (n_samples,), for example using ravel().\n",
      "  model_rf_balance.fit(features_train, target_train)\n"
     ]
    },
    {
     "name": "stdout",
     "output_type": "stream",
     "text": [
      "N estimators: 52 Глубина: 18 AUC: 0.9949863263445762\n"
     ]
    },
    {
     "name": "stderr",
     "output_type": "stream",
     "text": [
      "C:\\Users\\theli\\AppData\\Local\\Temp\\ipykernel_6936\\3474906490.py:10: DataConversionWarning: A column-vector y was passed when a 1d array was expected. Please change the shape of y to (n_samples,), for example using ravel().\n",
      "  model_rf_balance.fit(features_train, target_train)\n",
      " 49%|████▉     | 22/45 [00:50<01:17,  3.38s/it]"
     ]
    },
    {
     "name": "stdout",
     "output_type": "stream",
     "text": [
      "N estimators: 52 Глубина: 19 AUC: 0.9949863263445762\n"
     ]
    },
    {
     "name": "stderr",
     "output_type": "stream",
     "text": [
      "C:\\Users\\theli\\AppData\\Local\\Temp\\ipykernel_6936\\3474906490.py:10: DataConversionWarning: A column-vector y was passed when a 1d array was expected. Please change the shape of y to (n_samples,), for example using ravel().\n",
      "  model_rf_balance.fit(features_train, target_train)\n"
     ]
    },
    {
     "name": "stdout",
     "output_type": "stream",
     "text": [
      "N estimators: 54 Глубина: 10 AUC: 0.9783514788760657\n"
     ]
    },
    {
     "name": "stderr",
     "output_type": "stream",
     "text": [
      "C:\\Users\\theli\\AppData\\Local\\Temp\\ipykernel_6936\\3474906490.py:10: DataConversionWarning: A column-vector y was passed when a 1d array was expected. Please change the shape of y to (n_samples,), for example using ravel().\n",
      "  model_rf_balance.fit(features_train, target_train)\n"
     ]
    },
    {
     "name": "stdout",
     "output_type": "stream",
     "text": [
      "N estimators: 54 Глубина: 11 AUC: 0.9891331500350954\n"
     ]
    },
    {
     "name": "stderr",
     "output_type": "stream",
     "text": [
      "C:\\Users\\theli\\AppData\\Local\\Temp\\ipykernel_6936\\3474906490.py:10: DataConversionWarning: A column-vector y was passed when a 1d array was expected. Please change the shape of y to (n_samples,), for example using ravel().\n",
      "  model_rf_balance.fit(features_train, target_train)\n"
     ]
    },
    {
     "name": "stdout",
     "output_type": "stream",
     "text": [
      "N estimators: 54 Глубина: 12 AUC: 0.9940747493163172\n"
     ]
    },
    {
     "name": "stderr",
     "output_type": "stream",
     "text": [
      "C:\\Users\\theli\\AppData\\Local\\Temp\\ipykernel_6936\\3474906490.py:10: DataConversionWarning: A column-vector y was passed when a 1d array was expected. Please change the shape of y to (n_samples,), for example using ravel().\n",
      "  model_rf_balance.fit(features_train, target_train)\n"
     ]
    },
    {
     "name": "stdout",
     "output_type": "stream",
     "text": [
      "N estimators: 54 Глубина: 13 AUC: 0.9949863263445762\n"
     ]
    },
    {
     "name": "stderr",
     "output_type": "stream",
     "text": [
      "C:\\Users\\theli\\AppData\\Local\\Temp\\ipykernel_6936\\3474906490.py:10: DataConversionWarning: A column-vector y was passed when a 1d array was expected. Please change the shape of y to (n_samples,), for example using ravel().\n",
      "  model_rf_balance.fit(features_train, target_train)\n"
     ]
    },
    {
     "name": "stdout",
     "output_type": "stream",
     "text": [
      "N estimators: 54 Глубина: 14 AUC: 0.9949863263445762\n"
     ]
    },
    {
     "name": "stderr",
     "output_type": "stream",
     "text": [
      "C:\\Users\\theli\\AppData\\Local\\Temp\\ipykernel_6936\\3474906490.py:10: DataConversionWarning: A column-vector y was passed when a 1d array was expected. Please change the shape of y to (n_samples,), for example using ravel().\n",
      "  model_rf_balance.fit(features_train, target_train)\n"
     ]
    },
    {
     "name": "stdout",
     "output_type": "stream",
     "text": [
      "N estimators: 54 Глубина: 15 AUC: 0.9949863263445762\n"
     ]
    },
    {
     "name": "stderr",
     "output_type": "stream",
     "text": [
      "C:\\Users\\theli\\AppData\\Local\\Temp\\ipykernel_6936\\3474906490.py:10: DataConversionWarning: A column-vector y was passed when a 1d array was expected. Please change the shape of y to (n_samples,), for example using ravel().\n",
      "  model_rf_balance.fit(features_train, target_train)\n"
     ]
    },
    {
     "name": "stdout",
     "output_type": "stream",
     "text": [
      "N estimators: 54 Глубина: 16 AUC: 0.9949863263445762\n"
     ]
    },
    {
     "name": "stderr",
     "output_type": "stream",
     "text": [
      "C:\\Users\\theli\\AppData\\Local\\Temp\\ipykernel_6936\\3474906490.py:10: DataConversionWarning: A column-vector y was passed when a 1d array was expected. Please change the shape of y to (n_samples,), for example using ravel().\n",
      "  model_rf_balance.fit(features_train, target_train)\n"
     ]
    },
    {
     "name": "stdout",
     "output_type": "stream",
     "text": [
      "N estimators: 54 Глубина: 17 AUC: 0.9949863263445762\n"
     ]
    },
    {
     "name": "stderr",
     "output_type": "stream",
     "text": [
      "C:\\Users\\theli\\AppData\\Local\\Temp\\ipykernel_6936\\3474906490.py:10: DataConversionWarning: A column-vector y was passed when a 1d array was expected. Please change the shape of y to (n_samples,), for example using ravel().\n",
      "  model_rf_balance.fit(features_train, target_train)\n"
     ]
    },
    {
     "name": "stdout",
     "output_type": "stream",
     "text": [
      "N estimators: 54 Глубина: 18 AUC: 0.9949863263445762\n"
     ]
    },
    {
     "name": "stderr",
     "output_type": "stream",
     "text": [
      "C:\\Users\\theli\\AppData\\Local\\Temp\\ipykernel_6936\\3474906490.py:10: DataConversionWarning: A column-vector y was passed when a 1d array was expected. Please change the shape of y to (n_samples,), for example using ravel().\n",
      "  model_rf_balance.fit(features_train, target_train)\n",
      " 51%|█████     | 23/45 [00:53<01:17,  3.52s/it]"
     ]
    },
    {
     "name": "stdout",
     "output_type": "stream",
     "text": [
      "N estimators: 54 Глубина: 19 AUC: 0.9949863263445762\n"
     ]
    },
    {
     "name": "stderr",
     "output_type": "stream",
     "text": [
      "C:\\Users\\theli\\AppData\\Local\\Temp\\ipykernel_6936\\3474906490.py:10: DataConversionWarning: A column-vector y was passed when a 1d array was expected. Please change the shape of y to (n_samples,), for example using ravel().\n",
      "  model_rf_balance.fit(features_train, target_train)\n"
     ]
    },
    {
     "name": "stdout",
     "output_type": "stream",
     "text": [
      "N estimators: 56 Глубина: 10 AUC: 0.9850900233504593\n"
     ]
    },
    {
     "name": "stderr",
     "output_type": "stream",
     "text": [
      "C:\\Users\\theli\\AppData\\Local\\Temp\\ipykernel_6936\\3474906490.py:10: DataConversionWarning: A column-vector y was passed when a 1d array was expected. Please change the shape of y to (n_samples,), for example using ravel().\n",
      "  model_rf_balance.fit(features_train, target_train)\n"
     ]
    },
    {
     "name": "stdout",
     "output_type": "stream",
     "text": [
      "N estimators: 56 Глубина: 11 AUC: 0.9891331500350954\n"
     ]
    },
    {
     "name": "stderr",
     "output_type": "stream",
     "text": [
      "C:\\Users\\theli\\AppData\\Local\\Temp\\ipykernel_6936\\3474906490.py:10: DataConversionWarning: A column-vector y was passed when a 1d array was expected. Please change the shape of y to (n_samples,), for example using ravel().\n",
      "  model_rf_balance.fit(features_train, target_train)\n"
     ]
    },
    {
     "name": "stdout",
     "output_type": "stream",
     "text": [
      "N estimators: 56 Глубина: 12 AUC: 0.9940747493163172\n"
     ]
    },
    {
     "name": "stderr",
     "output_type": "stream",
     "text": [
      "C:\\Users\\theli\\AppData\\Local\\Temp\\ipykernel_6936\\3474906490.py:10: DataConversionWarning: A column-vector y was passed when a 1d array was expected. Please change the shape of y to (n_samples,), for example using ravel().\n",
      "  model_rf_balance.fit(features_train, target_train)\n"
     ]
    },
    {
     "name": "stdout",
     "output_type": "stream",
     "text": [
      "N estimators: 56 Глубина: 13 AUC: 0.9949863263445762\n"
     ]
    },
    {
     "name": "stderr",
     "output_type": "stream",
     "text": [
      "C:\\Users\\theli\\AppData\\Local\\Temp\\ipykernel_6936\\3474906490.py:10: DataConversionWarning: A column-vector y was passed when a 1d array was expected. Please change the shape of y to (n_samples,), for example using ravel().\n",
      "  model_rf_balance.fit(features_train, target_train)\n"
     ]
    },
    {
     "name": "stdout",
     "output_type": "stream",
     "text": [
      "N estimators: 56 Глубина: 14 AUC: 0.9949863263445762\n"
     ]
    },
    {
     "name": "stderr",
     "output_type": "stream",
     "text": [
      "C:\\Users\\theli\\AppData\\Local\\Temp\\ipykernel_6936\\3474906490.py:10: DataConversionWarning: A column-vector y was passed when a 1d array was expected. Please change the shape of y to (n_samples,), for example using ravel().\n",
      "  model_rf_balance.fit(features_train, target_train)\n"
     ]
    },
    {
     "name": "stdout",
     "output_type": "stream",
     "text": [
      "N estimators: 56 Глубина: 15 AUC: 0.9949863263445762\n"
     ]
    },
    {
     "name": "stderr",
     "output_type": "stream",
     "text": [
      "C:\\Users\\theli\\AppData\\Local\\Temp\\ipykernel_6936\\3474906490.py:10: DataConversionWarning: A column-vector y was passed when a 1d array was expected. Please change the shape of y to (n_samples,), for example using ravel().\n",
      "  model_rf_balance.fit(features_train, target_train)\n"
     ]
    },
    {
     "name": "stdout",
     "output_type": "stream",
     "text": [
      "N estimators: 56 Глубина: 16 AUC: 0.9949863263445762\n"
     ]
    },
    {
     "name": "stderr",
     "output_type": "stream",
     "text": [
      "C:\\Users\\theli\\AppData\\Local\\Temp\\ipykernel_6936\\3474906490.py:10: DataConversionWarning: A column-vector y was passed when a 1d array was expected. Please change the shape of y to (n_samples,), for example using ravel().\n",
      "  model_rf_balance.fit(features_train, target_train)\n"
     ]
    },
    {
     "name": "stdout",
     "output_type": "stream",
     "text": [
      "N estimators: 56 Глубина: 17 AUC: 0.9949863263445762\n"
     ]
    },
    {
     "name": "stderr",
     "output_type": "stream",
     "text": [
      "C:\\Users\\theli\\AppData\\Local\\Temp\\ipykernel_6936\\3474906490.py:10: DataConversionWarning: A column-vector y was passed when a 1d array was expected. Please change the shape of y to (n_samples,), for example using ravel().\n",
      "  model_rf_balance.fit(features_train, target_train)\n"
     ]
    },
    {
     "name": "stdout",
     "output_type": "stream",
     "text": [
      "N estimators: 56 Глубина: 18 AUC: 0.9949863263445762\n"
     ]
    },
    {
     "name": "stderr",
     "output_type": "stream",
     "text": [
      "C:\\Users\\theli\\AppData\\Local\\Temp\\ipykernel_6936\\3474906490.py:10: DataConversionWarning: A column-vector y was passed when a 1d array was expected. Please change the shape of y to (n_samples,), for example using ravel().\n",
      "  model_rf_balance.fit(features_train, target_train)\n",
      " 53%|█████▎    | 24/45 [00:57<01:16,  3.65s/it]"
     ]
    },
    {
     "name": "stdout",
     "output_type": "stream",
     "text": [
      "N estimators: 56 Глубина: 19 AUC: 0.9949863263445762\n"
     ]
    },
    {
     "name": "stderr",
     "output_type": "stream",
     "text": [
      "C:\\Users\\theli\\AppData\\Local\\Temp\\ipykernel_6936\\3474906490.py:10: DataConversionWarning: A column-vector y was passed when a 1d array was expected. Please change the shape of y to (n_samples,), for example using ravel().\n",
      "  model_rf_balance.fit(features_train, target_train)\n"
     ]
    },
    {
     "name": "stdout",
     "output_type": "stream",
     "text": [
      "N estimators: 58 Глубина: 10 AUC: 0.9828307374273216\n"
     ]
    },
    {
     "name": "stderr",
     "output_type": "stream",
     "text": [
      "C:\\Users\\theli\\AppData\\Local\\Temp\\ipykernel_6936\\3474906490.py:10: DataConversionWarning: A column-vector y was passed when a 1d array was expected. Please change the shape of y to (n_samples,), for example using ravel().\n",
      "  model_rf_balance.fit(features_train, target_train)\n"
     ]
    },
    {
     "name": "stdout",
     "output_type": "stream",
     "text": [
      "N estimators: 58 Глубина: 11 AUC: 0.9891331500350954\n"
     ]
    },
    {
     "name": "stderr",
     "output_type": "stream",
     "text": [
      "C:\\Users\\theli\\AppData\\Local\\Temp\\ipykernel_6936\\3474906490.py:10: DataConversionWarning: A column-vector y was passed when a 1d array was expected. Please change the shape of y to (n_samples,), for example using ravel().\n",
      "  model_rf_balance.fit(features_train, target_train)\n"
     ]
    },
    {
     "name": "stdout",
     "output_type": "stream",
     "text": [
      "N estimators: 58 Глубина: 12 AUC: 0.9940747493163172\n"
     ]
    },
    {
     "name": "stderr",
     "output_type": "stream",
     "text": [
      "C:\\Users\\theli\\AppData\\Local\\Temp\\ipykernel_6936\\3474906490.py:10: DataConversionWarning: A column-vector y was passed when a 1d array was expected. Please change the shape of y to (n_samples,), for example using ravel().\n",
      "  model_rf_balance.fit(features_train, target_train)\n"
     ]
    },
    {
     "name": "stdout",
     "output_type": "stream",
     "text": [
      "N estimators: 58 Глубина: 13 AUC: 0.9949863263445762\n"
     ]
    },
    {
     "name": "stderr",
     "output_type": "stream",
     "text": [
      "C:\\Users\\theli\\AppData\\Local\\Temp\\ipykernel_6936\\3474906490.py:10: DataConversionWarning: A column-vector y was passed when a 1d array was expected. Please change the shape of y to (n_samples,), for example using ravel().\n",
      "  model_rf_balance.fit(features_train, target_train)\n"
     ]
    },
    {
     "name": "stdout",
     "output_type": "stream",
     "text": [
      "N estimators: 58 Глубина: 14 AUC: 0.9949863263445762\n"
     ]
    },
    {
     "name": "stderr",
     "output_type": "stream",
     "text": [
      "C:\\Users\\theli\\AppData\\Local\\Temp\\ipykernel_6936\\3474906490.py:10: DataConversionWarning: A column-vector y was passed when a 1d array was expected. Please change the shape of y to (n_samples,), for example using ravel().\n",
      "  model_rf_balance.fit(features_train, target_train)\n"
     ]
    },
    {
     "name": "stdout",
     "output_type": "stream",
     "text": [
      "N estimators: 58 Глубина: 15 AUC: 0.9949863263445762\n"
     ]
    },
    {
     "name": "stderr",
     "output_type": "stream",
     "text": [
      "C:\\Users\\theli\\AppData\\Local\\Temp\\ipykernel_6936\\3474906490.py:10: DataConversionWarning: A column-vector y was passed when a 1d array was expected. Please change the shape of y to (n_samples,), for example using ravel().\n",
      "  model_rf_balance.fit(features_train, target_train)\n"
     ]
    },
    {
     "name": "stdout",
     "output_type": "stream",
     "text": [
      "N estimators: 58 Глубина: 16 AUC: 0.9949863263445762\n"
     ]
    },
    {
     "name": "stderr",
     "output_type": "stream",
     "text": [
      "C:\\Users\\theli\\AppData\\Local\\Temp\\ipykernel_6936\\3474906490.py:10: DataConversionWarning: A column-vector y was passed when a 1d array was expected. Please change the shape of y to (n_samples,), for example using ravel().\n",
      "  model_rf_balance.fit(features_train, target_train)\n"
     ]
    },
    {
     "name": "stdout",
     "output_type": "stream",
     "text": [
      "N estimators: 58 Глубина: 17 AUC: 0.9949863263445762\n"
     ]
    },
    {
     "name": "stderr",
     "output_type": "stream",
     "text": [
      "C:\\Users\\theli\\AppData\\Local\\Temp\\ipykernel_6936\\3474906490.py:10: DataConversionWarning: A column-vector y was passed when a 1d array was expected. Please change the shape of y to (n_samples,), for example using ravel().\n",
      "  model_rf_balance.fit(features_train, target_train)\n"
     ]
    },
    {
     "name": "stdout",
     "output_type": "stream",
     "text": [
      "N estimators: 58 Глубина: 18 AUC: 0.9949863263445762\n"
     ]
    },
    {
     "name": "stderr",
     "output_type": "stream",
     "text": [
      "C:\\Users\\theli\\AppData\\Local\\Temp\\ipykernel_6936\\3474906490.py:10: DataConversionWarning: A column-vector y was passed when a 1d array was expected. Please change the shape of y to (n_samples,), for example using ravel().\n",
      "  model_rf_balance.fit(features_train, target_train)\n",
      " 56%|█████▌    | 25/45 [01:01<01:15,  3.79s/it]"
     ]
    },
    {
     "name": "stdout",
     "output_type": "stream",
     "text": [
      "N estimators: 58 Глубина: 19 AUC: 0.9949863263445762\n"
     ]
    },
    {
     "name": "stderr",
     "output_type": "stream",
     "text": [
      "C:\\Users\\theli\\AppData\\Local\\Temp\\ipykernel_6936\\3474906490.py:10: DataConversionWarning: A column-vector y was passed when a 1d array was expected. Please change the shape of y to (n_samples,), for example using ravel().\n",
      "  model_rf_balance.fit(features_train, target_train)\n"
     ]
    },
    {
     "name": "stdout",
     "output_type": "stream",
     "text": [
      "N estimators: 60 Глубина: 10 AUC: 0.9801353196375643\n"
     ]
    },
    {
     "name": "stderr",
     "output_type": "stream",
     "text": [
      "C:\\Users\\theli\\AppData\\Local\\Temp\\ipykernel_6936\\3474906490.py:10: DataConversionWarning: A column-vector y was passed when a 1d array was expected. Please change the shape of y to (n_samples,), for example using ravel().\n",
      "  model_rf_balance.fit(features_train, target_train)\n"
     ]
    },
    {
     "name": "stdout",
     "output_type": "stream",
     "text": [
      "N estimators: 60 Глубина: 11 AUC: 0.9882346774385095\n"
     ]
    },
    {
     "name": "stderr",
     "output_type": "stream",
     "text": [
      "C:\\Users\\theli\\AppData\\Local\\Temp\\ipykernel_6936\\3474906490.py:10: DataConversionWarning: A column-vector y was passed when a 1d array was expected. Please change the shape of y to (n_samples,), for example using ravel().\n",
      "  model_rf_balance.fit(features_train, target_train)\n"
     ]
    },
    {
     "name": "stdout",
     "output_type": "stream",
     "text": [
      "N estimators: 60 Глубина: 12 AUC: 0.9940747493163172\n"
     ]
    },
    {
     "name": "stderr",
     "output_type": "stream",
     "text": [
      "C:\\Users\\theli\\AppData\\Local\\Temp\\ipykernel_6936\\3474906490.py:10: DataConversionWarning: A column-vector y was passed when a 1d array was expected. Please change the shape of y to (n_samples,), for example using ravel().\n",
      "  model_rf_balance.fit(features_train, target_train)\n"
     ]
    },
    {
     "name": "stdout",
     "output_type": "stream",
     "text": [
      "N estimators: 60 Глубина: 13 AUC: 0.9949863263445762\n"
     ]
    },
    {
     "name": "stderr",
     "output_type": "stream",
     "text": [
      "C:\\Users\\theli\\AppData\\Local\\Temp\\ipykernel_6936\\3474906490.py:10: DataConversionWarning: A column-vector y was passed when a 1d array was expected. Please change the shape of y to (n_samples,), for example using ravel().\n",
      "  model_rf_balance.fit(features_train, target_train)\n"
     ]
    },
    {
     "name": "stdout",
     "output_type": "stream",
     "text": [
      "N estimators: 60 Глубина: 14 AUC: 0.9949863263445762\n"
     ]
    },
    {
     "name": "stderr",
     "output_type": "stream",
     "text": [
      "C:\\Users\\theli\\AppData\\Local\\Temp\\ipykernel_6936\\3474906490.py:10: DataConversionWarning: A column-vector y was passed when a 1d array was expected. Please change the shape of y to (n_samples,), for example using ravel().\n",
      "  model_rf_balance.fit(features_train, target_train)\n"
     ]
    },
    {
     "name": "stdout",
     "output_type": "stream",
     "text": [
      "N estimators: 60 Глубина: 15 AUC: 0.9949863263445762\n"
     ]
    },
    {
     "name": "stderr",
     "output_type": "stream",
     "text": [
      "C:\\Users\\theli\\AppData\\Local\\Temp\\ipykernel_6936\\3474906490.py:10: DataConversionWarning: A column-vector y was passed when a 1d array was expected. Please change the shape of y to (n_samples,), for example using ravel().\n",
      "  model_rf_balance.fit(features_train, target_train)\n"
     ]
    },
    {
     "name": "stdout",
     "output_type": "stream",
     "text": [
      "N estimators: 60 Глубина: 16 AUC: 0.9949863263445762\n"
     ]
    },
    {
     "name": "stderr",
     "output_type": "stream",
     "text": [
      "C:\\Users\\theli\\AppData\\Local\\Temp\\ipykernel_6936\\3474906490.py:10: DataConversionWarning: A column-vector y was passed when a 1d array was expected. Please change the shape of y to (n_samples,), for example using ravel().\n",
      "  model_rf_balance.fit(features_train, target_train)\n"
     ]
    },
    {
     "name": "stdout",
     "output_type": "stream",
     "text": [
      "N estimators: 60 Глубина: 17 AUC: 0.9949863263445762\n"
     ]
    },
    {
     "name": "stderr",
     "output_type": "stream",
     "text": [
      "C:\\Users\\theli\\AppData\\Local\\Temp\\ipykernel_6936\\3474906490.py:10: DataConversionWarning: A column-vector y was passed when a 1d array was expected. Please change the shape of y to (n_samples,), for example using ravel().\n",
      "  model_rf_balance.fit(features_train, target_train)\n"
     ]
    },
    {
     "name": "stdout",
     "output_type": "stream",
     "text": [
      "N estimators: 60 Глубина: 18 AUC: 0.9949863263445762\n"
     ]
    },
    {
     "name": "stderr",
     "output_type": "stream",
     "text": [
      "C:\\Users\\theli\\AppData\\Local\\Temp\\ipykernel_6936\\3474906490.py:10: DataConversionWarning: A column-vector y was passed when a 1d array was expected. Please change the shape of y to (n_samples,), for example using ravel().\n",
      "  model_rf_balance.fit(features_train, target_train)\n",
      " 58%|█████▊    | 26/45 [01:06<01:14,  3.93s/it]"
     ]
    },
    {
     "name": "stdout",
     "output_type": "stream",
     "text": [
      "N estimators: 60 Глубина: 19 AUC: 0.9949863263445762\n"
     ]
    },
    {
     "name": "stderr",
     "output_type": "stream",
     "text": [
      "C:\\Users\\theli\\AppData\\Local\\Temp\\ipykernel_6936\\3474906490.py:10: DataConversionWarning: A column-vector y was passed when a 1d array was expected. Please change the shape of y to (n_samples,), for example using ravel().\n",
      "  model_rf_balance.fit(features_train, target_train)\n"
     ]
    },
    {
     "name": "stdout",
     "output_type": "stream",
     "text": [
      "N estimators: 62 Глубина: 10 AUC: 0.9832799737256145\n"
     ]
    },
    {
     "name": "stderr",
     "output_type": "stream",
     "text": [
      "C:\\Users\\theli\\AppData\\Local\\Temp\\ipykernel_6936\\3474906490.py:10: DataConversionWarning: A column-vector y was passed when a 1d array was expected. Please change the shape of y to (n_samples,), for example using ravel().\n",
      "  model_rf_balance.fit(features_train, target_train)\n"
     ]
    },
    {
     "name": "stdout",
     "output_type": "stream",
     "text": [
      "N estimators: 62 Глубина: 11 AUC: 0.9891331500350954\n"
     ]
    },
    {
     "name": "stderr",
     "output_type": "stream",
     "text": [
      "C:\\Users\\theli\\AppData\\Local\\Temp\\ipykernel_6936\\3474906490.py:10: DataConversionWarning: A column-vector y was passed when a 1d array was expected. Please change the shape of y to (n_samples,), for example using ravel().\n",
      "  model_rf_balance.fit(features_train, target_train)\n"
     ]
    },
    {
     "name": "stdout",
     "output_type": "stream",
     "text": [
      "N estimators: 62 Глубина: 12 AUC: 0.9940747493163172\n"
     ]
    },
    {
     "name": "stderr",
     "output_type": "stream",
     "text": [
      "C:\\Users\\theli\\AppData\\Local\\Temp\\ipykernel_6936\\3474906490.py:10: DataConversionWarning: A column-vector y was passed when a 1d array was expected. Please change the shape of y to (n_samples,), for example using ravel().\n",
      "  model_rf_balance.fit(features_train, target_train)\n"
     ]
    },
    {
     "name": "stdout",
     "output_type": "stream",
     "text": [
      "N estimators: 62 Глубина: 13 AUC: 0.9949863263445762\n"
     ]
    },
    {
     "name": "stderr",
     "output_type": "stream",
     "text": [
      "C:\\Users\\theli\\AppData\\Local\\Temp\\ipykernel_6936\\3474906490.py:10: DataConversionWarning: A column-vector y was passed when a 1d array was expected. Please change the shape of y to (n_samples,), for example using ravel().\n",
      "  model_rf_balance.fit(features_train, target_train)\n"
     ]
    },
    {
     "name": "stdout",
     "output_type": "stream",
     "text": [
      "N estimators: 62 Глубина: 14 AUC: 0.9949863263445762\n"
     ]
    },
    {
     "name": "stderr",
     "output_type": "stream",
     "text": [
      "C:\\Users\\theli\\AppData\\Local\\Temp\\ipykernel_6936\\3474906490.py:10: DataConversionWarning: A column-vector y was passed when a 1d array was expected. Please change the shape of y to (n_samples,), for example using ravel().\n",
      "  model_rf_balance.fit(features_train, target_train)\n"
     ]
    },
    {
     "name": "stdout",
     "output_type": "stream",
     "text": [
      "N estimators: 62 Глубина: 15 AUC: 0.9949863263445762\n"
     ]
    },
    {
     "name": "stderr",
     "output_type": "stream",
     "text": [
      "C:\\Users\\theli\\AppData\\Local\\Temp\\ipykernel_6936\\3474906490.py:10: DataConversionWarning: A column-vector y was passed when a 1d array was expected. Please change the shape of y to (n_samples,), for example using ravel().\n",
      "  model_rf_balance.fit(features_train, target_train)\n"
     ]
    },
    {
     "name": "stdout",
     "output_type": "stream",
     "text": [
      "N estimators: 62 Глубина: 16 AUC: 0.9949863263445762\n"
     ]
    },
    {
     "name": "stderr",
     "output_type": "stream",
     "text": [
      "C:\\Users\\theli\\AppData\\Local\\Temp\\ipykernel_6936\\3474906490.py:10: DataConversionWarning: A column-vector y was passed when a 1d array was expected. Please change the shape of y to (n_samples,), for example using ravel().\n",
      "  model_rf_balance.fit(features_train, target_train)\n"
     ]
    },
    {
     "name": "stdout",
     "output_type": "stream",
     "text": [
      "N estimators: 62 Глубина: 17 AUC: 0.9949863263445762\n"
     ]
    },
    {
     "name": "stderr",
     "output_type": "stream",
     "text": [
      "C:\\Users\\theli\\AppData\\Local\\Temp\\ipykernel_6936\\3474906490.py:10: DataConversionWarning: A column-vector y was passed when a 1d array was expected. Please change the shape of y to (n_samples,), for example using ravel().\n",
      "  model_rf_balance.fit(features_train, target_train)\n"
     ]
    },
    {
     "name": "stdout",
     "output_type": "stream",
     "text": [
      "N estimators: 62 Глубина: 18 AUC: 0.9949863263445762\n"
     ]
    },
    {
     "name": "stderr",
     "output_type": "stream",
     "text": [
      "C:\\Users\\theli\\AppData\\Local\\Temp\\ipykernel_6936\\3474906490.py:10: DataConversionWarning: A column-vector y was passed when a 1d array was expected. Please change the shape of y to (n_samples,), for example using ravel().\n",
      "  model_rf_balance.fit(features_train, target_train)\n",
      " 60%|██████    | 27/45 [01:10<01:13,  4.06s/it]"
     ]
    },
    {
     "name": "stdout",
     "output_type": "stream",
     "text": [
      "N estimators: 62 Глубина: 19 AUC: 0.9949863263445762\n"
     ]
    },
    {
     "name": "stderr",
     "output_type": "stream",
     "text": [
      "C:\\Users\\theli\\AppData\\Local\\Temp\\ipykernel_6936\\3474906490.py:10: DataConversionWarning: A column-vector y was passed when a 1d array was expected. Please change the shape of y to (n_samples,), for example using ravel().\n",
      "  model_rf_balance.fit(features_train, target_train)\n"
     ]
    },
    {
     "name": "stdout",
     "output_type": "stream",
     "text": [
      "N estimators: 64 Глубина: 10 AUC: 0.9832799737256145\n"
     ]
    },
    {
     "name": "stderr",
     "output_type": "stream",
     "text": [
      "C:\\Users\\theli\\AppData\\Local\\Temp\\ipykernel_6936\\3474906490.py:10: DataConversionWarning: A column-vector y was passed when a 1d array was expected. Please change the shape of y to (n_samples,), for example using ravel().\n",
      "  model_rf_balance.fit(features_train, target_train)\n"
     ]
    },
    {
     "name": "stdout",
     "output_type": "stream",
     "text": [
      "N estimators: 64 Глубина: 11 AUC: 0.9891331500350954\n"
     ]
    },
    {
     "name": "stderr",
     "output_type": "stream",
     "text": [
      "C:\\Users\\theli\\AppData\\Local\\Temp\\ipykernel_6936\\3474906490.py:10: DataConversionWarning: A column-vector y was passed when a 1d array was expected. Please change the shape of y to (n_samples,), for example using ravel().\n",
      "  model_rf_balance.fit(features_train, target_train)\n"
     ]
    },
    {
     "name": "stdout",
     "output_type": "stream",
     "text": [
      "N estimators: 64 Глубина: 12 AUC: 0.9940747493163172\n"
     ]
    },
    {
     "name": "stderr",
     "output_type": "stream",
     "text": [
      "C:\\Users\\theli\\AppData\\Local\\Temp\\ipykernel_6936\\3474906490.py:10: DataConversionWarning: A column-vector y was passed when a 1d array was expected. Please change the shape of y to (n_samples,), for example using ravel().\n",
      "  model_rf_balance.fit(features_train, target_train)\n"
     ]
    },
    {
     "name": "stdout",
     "output_type": "stream",
     "text": [
      "N estimators: 64 Глубина: 13 AUC: 0.9949863263445762\n"
     ]
    },
    {
     "name": "stderr",
     "output_type": "stream",
     "text": [
      "C:\\Users\\theli\\AppData\\Local\\Temp\\ipykernel_6936\\3474906490.py:10: DataConversionWarning: A column-vector y was passed when a 1d array was expected. Please change the shape of y to (n_samples,), for example using ravel().\n",
      "  model_rf_balance.fit(features_train, target_train)\n"
     ]
    },
    {
     "name": "stdout",
     "output_type": "stream",
     "text": [
      "N estimators: 64 Глубина: 14 AUC: 0.9949863263445762\n"
     ]
    },
    {
     "name": "stderr",
     "output_type": "stream",
     "text": [
      "C:\\Users\\theli\\AppData\\Local\\Temp\\ipykernel_6936\\3474906490.py:10: DataConversionWarning: A column-vector y was passed when a 1d array was expected. Please change the shape of y to (n_samples,), for example using ravel().\n",
      "  model_rf_balance.fit(features_train, target_train)\n"
     ]
    },
    {
     "name": "stdout",
     "output_type": "stream",
     "text": [
      "N estimators: 64 Глубина: 15 AUC: 0.9949863263445762\n"
     ]
    },
    {
     "name": "stderr",
     "output_type": "stream",
     "text": [
      "C:\\Users\\theli\\AppData\\Local\\Temp\\ipykernel_6936\\3474906490.py:10: DataConversionWarning: A column-vector y was passed when a 1d array was expected. Please change the shape of y to (n_samples,), for example using ravel().\n",
      "  model_rf_balance.fit(features_train, target_train)\n"
     ]
    },
    {
     "name": "stdout",
     "output_type": "stream",
     "text": [
      "N estimators: 64 Глубина: 16 AUC: 0.9949863263445762\n"
     ]
    },
    {
     "name": "stderr",
     "output_type": "stream",
     "text": [
      "C:\\Users\\theli\\AppData\\Local\\Temp\\ipykernel_6936\\3474906490.py:10: DataConversionWarning: A column-vector y was passed when a 1d array was expected. Please change the shape of y to (n_samples,), for example using ravel().\n",
      "  model_rf_balance.fit(features_train, target_train)\n"
     ]
    },
    {
     "name": "stdout",
     "output_type": "stream",
     "text": [
      "N estimators: 64 Глубина: 17 AUC: 0.9949863263445762\n"
     ]
    },
    {
     "name": "stderr",
     "output_type": "stream",
     "text": [
      "C:\\Users\\theli\\AppData\\Local\\Temp\\ipykernel_6936\\3474906490.py:10: DataConversionWarning: A column-vector y was passed when a 1d array was expected. Please change the shape of y to (n_samples,), for example using ravel().\n",
      "  model_rf_balance.fit(features_train, target_train)\n"
     ]
    },
    {
     "name": "stdout",
     "output_type": "stream",
     "text": [
      "N estimators: 64 Глубина: 18 AUC: 0.9949863263445762\n"
     ]
    },
    {
     "name": "stderr",
     "output_type": "stream",
     "text": [
      "C:\\Users\\theli\\AppData\\Local\\Temp\\ipykernel_6936\\3474906490.py:10: DataConversionWarning: A column-vector y was passed when a 1d array was expected. Please change the shape of y to (n_samples,), for example using ravel().\n",
      "  model_rf_balance.fit(features_train, target_train)\n",
      " 62%|██████▏   | 28/45 [01:15<01:11,  4.21s/it]"
     ]
    },
    {
     "name": "stdout",
     "output_type": "stream",
     "text": [
      "N estimators: 64 Глубина: 19 AUC: 0.9949863263445762\n"
     ]
    },
    {
     "name": "stderr",
     "output_type": "stream",
     "text": [
      "C:\\Users\\theli\\AppData\\Local\\Temp\\ipykernel_6936\\3474906490.py:10: DataConversionWarning: A column-vector y was passed when a 1d array was expected. Please change the shape of y to (n_samples,), for example using ravel().\n",
      "  model_rf_balance.fit(features_train, target_train)\n"
     ]
    },
    {
     "name": "stdout",
     "output_type": "stream",
     "text": [
      "N estimators: 66 Глубина: 10 AUC: 0.9841915507538733\n"
     ]
    },
    {
     "name": "stderr",
     "output_type": "stream",
     "text": [
      "C:\\Users\\theli\\AppData\\Local\\Temp\\ipykernel_6936\\3474906490.py:10: DataConversionWarning: A column-vector y was passed when a 1d array was expected. Please change the shape of y to (n_samples,), for example using ravel().\n",
      "  model_rf_balance.fit(features_train, target_train)\n"
     ]
    },
    {
     "name": "stdout",
     "output_type": "stream",
     "text": [
      "N estimators: 66 Глубина: 11 AUC: 0.9891331500350954\n"
     ]
    },
    {
     "name": "stderr",
     "output_type": "stream",
     "text": [
      "C:\\Users\\theli\\AppData\\Local\\Temp\\ipykernel_6936\\3474906490.py:10: DataConversionWarning: A column-vector y was passed when a 1d array was expected. Please change the shape of y to (n_samples,), for example using ravel().\n",
      "  model_rf_balance.fit(features_train, target_train)\n"
     ]
    },
    {
     "name": "stdout",
     "output_type": "stream",
     "text": [
      "N estimators: 66 Глубина: 12 AUC: 0.9940747493163172\n"
     ]
    },
    {
     "name": "stderr",
     "output_type": "stream",
     "text": [
      "C:\\Users\\theli\\AppData\\Local\\Temp\\ipykernel_6936\\3474906490.py:10: DataConversionWarning: A column-vector y was passed when a 1d array was expected. Please change the shape of y to (n_samples,), for example using ravel().\n",
      "  model_rf_balance.fit(features_train, target_train)\n"
     ]
    },
    {
     "name": "stdout",
     "output_type": "stream",
     "text": [
      "N estimators: 66 Глубина: 13 AUC: 0.9949863263445762\n"
     ]
    },
    {
     "name": "stderr",
     "output_type": "stream",
     "text": [
      "C:\\Users\\theli\\AppData\\Local\\Temp\\ipykernel_6936\\3474906490.py:10: DataConversionWarning: A column-vector y was passed when a 1d array was expected. Please change the shape of y to (n_samples,), for example using ravel().\n",
      "  model_rf_balance.fit(features_train, target_train)\n"
     ]
    },
    {
     "name": "stdout",
     "output_type": "stream",
     "text": [
      "N estimators: 66 Глубина: 14 AUC: 0.9949863263445762\n"
     ]
    },
    {
     "name": "stderr",
     "output_type": "stream",
     "text": [
      "C:\\Users\\theli\\AppData\\Local\\Temp\\ipykernel_6936\\3474906490.py:10: DataConversionWarning: A column-vector y was passed when a 1d array was expected. Please change the shape of y to (n_samples,), for example using ravel().\n",
      "  model_rf_balance.fit(features_train, target_train)\n"
     ]
    },
    {
     "name": "stdout",
     "output_type": "stream",
     "text": [
      "N estimators: 66 Глубина: 15 AUC: 0.9949863263445762\n"
     ]
    },
    {
     "name": "stderr",
     "output_type": "stream",
     "text": [
      "C:\\Users\\theli\\AppData\\Local\\Temp\\ipykernel_6936\\3474906490.py:10: DataConversionWarning: A column-vector y was passed when a 1d array was expected. Please change the shape of y to (n_samples,), for example using ravel().\n",
      "  model_rf_balance.fit(features_train, target_train)\n"
     ]
    },
    {
     "name": "stdout",
     "output_type": "stream",
     "text": [
      "N estimators: 66 Глубина: 16 AUC: 0.9949863263445762\n"
     ]
    },
    {
     "name": "stderr",
     "output_type": "stream",
     "text": [
      "C:\\Users\\theli\\AppData\\Local\\Temp\\ipykernel_6936\\3474906490.py:10: DataConversionWarning: A column-vector y was passed when a 1d array was expected. Please change the shape of y to (n_samples,), for example using ravel().\n",
      "  model_rf_balance.fit(features_train, target_train)\n"
     ]
    },
    {
     "name": "stdout",
     "output_type": "stream",
     "text": [
      "N estimators: 66 Глубина: 17 AUC: 0.9949863263445762\n"
     ]
    },
    {
     "name": "stderr",
     "output_type": "stream",
     "text": [
      "C:\\Users\\theli\\AppData\\Local\\Temp\\ipykernel_6936\\3474906490.py:10: DataConversionWarning: A column-vector y was passed when a 1d array was expected. Please change the shape of y to (n_samples,), for example using ravel().\n",
      "  model_rf_balance.fit(features_train, target_train)\n"
     ]
    },
    {
     "name": "stdout",
     "output_type": "stream",
     "text": [
      "N estimators: 66 Глубина: 18 AUC: 0.9949863263445762\n"
     ]
    },
    {
     "name": "stderr",
     "output_type": "stream",
     "text": [
      "C:\\Users\\theli\\AppData\\Local\\Temp\\ipykernel_6936\\3474906490.py:10: DataConversionWarning: A column-vector y was passed when a 1d array was expected. Please change the shape of y to (n_samples,), for example using ravel().\n",
      "  model_rf_balance.fit(features_train, target_train)\n",
      " 64%|██████▍   | 29/45 [01:19<01:09,  4.35s/it]"
     ]
    },
    {
     "name": "stdout",
     "output_type": "stream",
     "text": [
      "N estimators: 66 Глубина: 19 AUC: 0.9949863263445762\n"
     ]
    },
    {
     "name": "stderr",
     "output_type": "stream",
     "text": [
      "C:\\Users\\theli\\AppData\\Local\\Temp\\ipykernel_6936\\3474906490.py:10: DataConversionWarning: A column-vector y was passed when a 1d array was expected. Please change the shape of y to (n_samples,), for example using ravel().\n",
      "  model_rf_balance.fit(features_train, target_train)\n"
     ]
    },
    {
     "name": "stdout",
     "output_type": "stream",
     "text": [
      "N estimators: 68 Глубина: 10 AUC: 0.9841915507538733\n"
     ]
    },
    {
     "name": "stderr",
     "output_type": "stream",
     "text": [
      "C:\\Users\\theli\\AppData\\Local\\Temp\\ipykernel_6936\\3474906490.py:10: DataConversionWarning: A column-vector y was passed when a 1d array was expected. Please change the shape of y to (n_samples,), for example using ravel().\n",
      "  model_rf_balance.fit(features_train, target_train)\n"
     ]
    },
    {
     "name": "stdout",
     "output_type": "stream",
     "text": [
      "N estimators: 68 Глубина: 11 AUC: 0.9909300952282669\n"
     ]
    },
    {
     "name": "stderr",
     "output_type": "stream",
     "text": [
      "C:\\Users\\theli\\AppData\\Local\\Temp\\ipykernel_6936\\3474906490.py:10: DataConversionWarning: A column-vector y was passed when a 1d array was expected. Please change the shape of y to (n_samples,), for example using ravel().\n",
      "  model_rf_balance.fit(features_train, target_train)\n"
     ]
    },
    {
     "name": "stdout",
     "output_type": "stream",
     "text": [
      "N estimators: 68 Глубина: 12 AUC: 0.9940747493163172\n"
     ]
    },
    {
     "name": "stderr",
     "output_type": "stream",
     "text": [
      "C:\\Users\\theli\\AppData\\Local\\Temp\\ipykernel_6936\\3474906490.py:10: DataConversionWarning: A column-vector y was passed when a 1d array was expected. Please change the shape of y to (n_samples,), for example using ravel().\n",
      "  model_rf_balance.fit(features_train, target_train)\n"
     ]
    },
    {
     "name": "stdout",
     "output_type": "stream",
     "text": [
      "N estimators: 68 Глубина: 13 AUC: 0.9949863263445762\n"
     ]
    },
    {
     "name": "stderr",
     "output_type": "stream",
     "text": [
      "C:\\Users\\theli\\AppData\\Local\\Temp\\ipykernel_6936\\3474906490.py:10: DataConversionWarning: A column-vector y was passed when a 1d array was expected. Please change the shape of y to (n_samples,), for example using ravel().\n",
      "  model_rf_balance.fit(features_train, target_train)\n"
     ]
    },
    {
     "name": "stdout",
     "output_type": "stream",
     "text": [
      "N estimators: 68 Глубина: 14 AUC: 0.9949863263445762\n"
     ]
    },
    {
     "name": "stderr",
     "output_type": "stream",
     "text": [
      "C:\\Users\\theli\\AppData\\Local\\Temp\\ipykernel_6936\\3474906490.py:10: DataConversionWarning: A column-vector y was passed when a 1d array was expected. Please change the shape of y to (n_samples,), for example using ravel().\n",
      "  model_rf_balance.fit(features_train, target_train)\n"
     ]
    },
    {
     "name": "stdout",
     "output_type": "stream",
     "text": [
      "N estimators: 68 Глубина: 15 AUC: 0.9949863263445762\n"
     ]
    },
    {
     "name": "stderr",
     "output_type": "stream",
     "text": [
      "C:\\Users\\theli\\AppData\\Local\\Temp\\ipykernel_6936\\3474906490.py:10: DataConversionWarning: A column-vector y was passed when a 1d array was expected. Please change the shape of y to (n_samples,), for example using ravel().\n",
      "  model_rf_balance.fit(features_train, target_train)\n"
     ]
    },
    {
     "name": "stdout",
     "output_type": "stream",
     "text": [
      "N estimators: 68 Глубина: 16 AUC: 0.9949863263445762\n"
     ]
    },
    {
     "name": "stderr",
     "output_type": "stream",
     "text": [
      "C:\\Users\\theli\\AppData\\Local\\Temp\\ipykernel_6936\\3474906490.py:10: DataConversionWarning: A column-vector y was passed when a 1d array was expected. Please change the shape of y to (n_samples,), for example using ravel().\n",
      "  model_rf_balance.fit(features_train, target_train)\n"
     ]
    },
    {
     "name": "stdout",
     "output_type": "stream",
     "text": [
      "N estimators: 68 Глубина: 17 AUC: 0.9949863263445762\n"
     ]
    },
    {
     "name": "stderr",
     "output_type": "stream",
     "text": [
      "C:\\Users\\theli\\AppData\\Local\\Temp\\ipykernel_6936\\3474906490.py:10: DataConversionWarning: A column-vector y was passed when a 1d array was expected. Please change the shape of y to (n_samples,), for example using ravel().\n",
      "  model_rf_balance.fit(features_train, target_train)\n"
     ]
    },
    {
     "name": "stdout",
     "output_type": "stream",
     "text": [
      "N estimators: 68 Глубина: 18 AUC: 0.9949863263445762\n"
     ]
    },
    {
     "name": "stderr",
     "output_type": "stream",
     "text": [
      "C:\\Users\\theli\\AppData\\Local\\Temp\\ipykernel_6936\\3474906490.py:10: DataConversionWarning: A column-vector y was passed when a 1d array was expected. Please change the shape of y to (n_samples,), for example using ravel().\n",
      "  model_rf_balance.fit(features_train, target_train)\n",
      " 67%|██████▋   | 30/45 [01:24<01:07,  4.49s/it]"
     ]
    },
    {
     "name": "stdout",
     "output_type": "stream",
     "text": [
      "N estimators: 68 Глубина: 19 AUC: 0.9949863263445762\n"
     ]
    },
    {
     "name": "stderr",
     "output_type": "stream",
     "text": [
      "C:\\Users\\theli\\AppData\\Local\\Temp\\ipykernel_6936\\3474906490.py:10: DataConversionWarning: A column-vector y was passed when a 1d array was expected. Please change the shape of y to (n_samples,), for example using ravel().\n",
      "  model_rf_balance.fit(features_train, target_train)\n"
     ]
    },
    {
     "name": "stdout",
     "output_type": "stream",
     "text": [
      "N estimators: 70 Глубина: 10 AUC: 0.9882346774385095\n"
     ]
    },
    {
     "name": "stderr",
     "output_type": "stream",
     "text": [
      "C:\\Users\\theli\\AppData\\Local\\Temp\\ipykernel_6936\\3474906490.py:10: DataConversionWarning: A column-vector y was passed when a 1d array was expected. Please change the shape of y to (n_samples,), for example using ravel().\n",
      "  model_rf_balance.fit(features_train, target_train)\n"
     ]
    },
    {
     "name": "stdout",
     "output_type": "stream",
     "text": [
      "N estimators: 70 Глубина: 11 AUC: 0.9909300952282669\n"
     ]
    },
    {
     "name": "stderr",
     "output_type": "stream",
     "text": [
      "C:\\Users\\theli\\AppData\\Local\\Temp\\ipykernel_6936\\3474906490.py:10: DataConversionWarning: A column-vector y was passed when a 1d array was expected. Please change the shape of y to (n_samples,), for example using ravel().\n",
      "  model_rf_balance.fit(features_train, target_train)\n"
     ]
    },
    {
     "name": "stdout",
     "output_type": "stream",
     "text": [
      "N estimators: 70 Глубина: 12 AUC: 0.9940747493163172\n"
     ]
    },
    {
     "name": "stderr",
     "output_type": "stream",
     "text": [
      "C:\\Users\\theli\\AppData\\Local\\Temp\\ipykernel_6936\\3474906490.py:10: DataConversionWarning: A column-vector y was passed when a 1d array was expected. Please change the shape of y to (n_samples,), for example using ravel().\n",
      "  model_rf_balance.fit(features_train, target_train)\n"
     ]
    },
    {
     "name": "stdout",
     "output_type": "stream",
     "text": [
      "N estimators: 70 Глубина: 13 AUC: 0.9949863263445762\n"
     ]
    },
    {
     "name": "stderr",
     "output_type": "stream",
     "text": [
      "C:\\Users\\theli\\AppData\\Local\\Temp\\ipykernel_6936\\3474906490.py:10: DataConversionWarning: A column-vector y was passed when a 1d array was expected. Please change the shape of y to (n_samples,), for example using ravel().\n",
      "  model_rf_balance.fit(features_train, target_train)\n"
     ]
    },
    {
     "name": "stdout",
     "output_type": "stream",
     "text": [
      "N estimators: 70 Глубина: 14 AUC: 0.9949863263445762\n"
     ]
    },
    {
     "name": "stderr",
     "output_type": "stream",
     "text": [
      "C:\\Users\\theli\\AppData\\Local\\Temp\\ipykernel_6936\\3474906490.py:10: DataConversionWarning: A column-vector y was passed when a 1d array was expected. Please change the shape of y to (n_samples,), for example using ravel().\n",
      "  model_rf_balance.fit(features_train, target_train)\n"
     ]
    },
    {
     "name": "stdout",
     "output_type": "stream",
     "text": [
      "N estimators: 70 Глубина: 15 AUC: 0.9949863263445762\n"
     ]
    },
    {
     "name": "stderr",
     "output_type": "stream",
     "text": [
      "C:\\Users\\theli\\AppData\\Local\\Temp\\ipykernel_6936\\3474906490.py:10: DataConversionWarning: A column-vector y was passed when a 1d array was expected. Please change the shape of y to (n_samples,), for example using ravel().\n",
      "  model_rf_balance.fit(features_train, target_train)\n"
     ]
    },
    {
     "name": "stdout",
     "output_type": "stream",
     "text": [
      "N estimators: 70 Глубина: 16 AUC: 0.9949863263445762\n"
     ]
    },
    {
     "name": "stderr",
     "output_type": "stream",
     "text": [
      "C:\\Users\\theli\\AppData\\Local\\Temp\\ipykernel_6936\\3474906490.py:10: DataConversionWarning: A column-vector y was passed when a 1d array was expected. Please change the shape of y to (n_samples,), for example using ravel().\n",
      "  model_rf_balance.fit(features_train, target_train)\n"
     ]
    },
    {
     "name": "stdout",
     "output_type": "stream",
     "text": [
      "N estimators: 70 Глубина: 17 AUC: 0.9949863263445762\n"
     ]
    },
    {
     "name": "stderr",
     "output_type": "stream",
     "text": [
      "C:\\Users\\theli\\AppData\\Local\\Temp\\ipykernel_6936\\3474906490.py:10: DataConversionWarning: A column-vector y was passed when a 1d array was expected. Please change the shape of y to (n_samples,), for example using ravel().\n",
      "  model_rf_balance.fit(features_train, target_train)\n"
     ]
    },
    {
     "name": "stdout",
     "output_type": "stream",
     "text": [
      "N estimators: 70 Глубина: 18 AUC: 0.9949863263445762\n"
     ]
    },
    {
     "name": "stderr",
     "output_type": "stream",
     "text": [
      "C:\\Users\\theli\\AppData\\Local\\Temp\\ipykernel_6936\\3474906490.py:10: DataConversionWarning: A column-vector y was passed when a 1d array was expected. Please change the shape of y to (n_samples,), for example using ravel().\n",
      "  model_rf_balance.fit(features_train, target_train)\n",
      " 69%|██████▉   | 31/45 [01:29<01:04,  4.63s/it]"
     ]
    },
    {
     "name": "stdout",
     "output_type": "stream",
     "text": [
      "N estimators: 70 Глубина: 19 AUC: 0.9949863263445762\n"
     ]
    },
    {
     "name": "stderr",
     "output_type": "stream",
     "text": [
      "C:\\Users\\theli\\AppData\\Local\\Temp\\ipykernel_6936\\3474906490.py:10: DataConversionWarning: A column-vector y was passed when a 1d array was expected. Please change the shape of y to (n_samples,), for example using ravel().\n",
      "  model_rf_balance.fit(features_train, target_train)\n"
     ]
    },
    {
     "name": "stdout",
     "output_type": "stream",
     "text": [
      "N estimators: 72 Глубина: 10 AUC: 0.9882346774385095\n"
     ]
    },
    {
     "name": "stderr",
     "output_type": "stream",
     "text": [
      "C:\\Users\\theli\\AppData\\Local\\Temp\\ipykernel_6936\\3474906490.py:10: DataConversionWarning: A column-vector y was passed when a 1d array was expected. Please change the shape of y to (n_samples,), for example using ravel().\n",
      "  model_rf_balance.fit(features_train, target_train)\n"
     ]
    },
    {
     "name": "stdout",
     "output_type": "stream",
     "text": [
      "N estimators: 72 Глубина: 11 AUC: 0.9891331500350954\n"
     ]
    },
    {
     "name": "stderr",
     "output_type": "stream",
     "text": [
      "C:\\Users\\theli\\AppData\\Local\\Temp\\ipykernel_6936\\3474906490.py:10: DataConversionWarning: A column-vector y was passed when a 1d array was expected. Please change the shape of y to (n_samples,), for example using ravel().\n",
      "  model_rf_balance.fit(features_train, target_train)\n"
     ]
    },
    {
     "name": "stdout",
     "output_type": "stream",
     "text": [
      "N estimators: 72 Глубина: 12 AUC: 0.9940747493163172\n"
     ]
    },
    {
     "name": "stderr",
     "output_type": "stream",
     "text": [
      "C:\\Users\\theli\\AppData\\Local\\Temp\\ipykernel_6936\\3474906490.py:10: DataConversionWarning: A column-vector y was passed when a 1d array was expected. Please change the shape of y to (n_samples,), for example using ravel().\n",
      "  model_rf_balance.fit(features_train, target_train)\n"
     ]
    },
    {
     "name": "stdout",
     "output_type": "stream",
     "text": [
      "N estimators: 72 Глубина: 13 AUC: 0.9949863263445762\n"
     ]
    },
    {
     "name": "stderr",
     "output_type": "stream",
     "text": [
      "C:\\Users\\theli\\AppData\\Local\\Temp\\ipykernel_6936\\3474906490.py:10: DataConversionWarning: A column-vector y was passed when a 1d array was expected. Please change the shape of y to (n_samples,), for example using ravel().\n",
      "  model_rf_balance.fit(features_train, target_train)\n"
     ]
    },
    {
     "name": "stdout",
     "output_type": "stream",
     "text": [
      "N estimators: 72 Глубина: 14 AUC: 0.9949863263445762\n"
     ]
    },
    {
     "name": "stderr",
     "output_type": "stream",
     "text": [
      "C:\\Users\\theli\\AppData\\Local\\Temp\\ipykernel_6936\\3474906490.py:10: DataConversionWarning: A column-vector y was passed when a 1d array was expected. Please change the shape of y to (n_samples,), for example using ravel().\n",
      "  model_rf_balance.fit(features_train, target_train)\n"
     ]
    },
    {
     "name": "stdout",
     "output_type": "stream",
     "text": [
      "N estimators: 72 Глубина: 15 AUC: 0.9949863263445762\n"
     ]
    },
    {
     "name": "stderr",
     "output_type": "stream",
     "text": [
      "C:\\Users\\theli\\AppData\\Local\\Temp\\ipykernel_6936\\3474906490.py:10: DataConversionWarning: A column-vector y was passed when a 1d array was expected. Please change the shape of y to (n_samples,), for example using ravel().\n",
      "  model_rf_balance.fit(features_train, target_train)\n"
     ]
    },
    {
     "name": "stdout",
     "output_type": "stream",
     "text": [
      "N estimators: 72 Глубина: 16 AUC: 0.9949863263445762\n"
     ]
    },
    {
     "name": "stderr",
     "output_type": "stream",
     "text": [
      "C:\\Users\\theli\\AppData\\Local\\Temp\\ipykernel_6936\\3474906490.py:10: DataConversionWarning: A column-vector y was passed when a 1d array was expected. Please change the shape of y to (n_samples,), for example using ravel().\n",
      "  model_rf_balance.fit(features_train, target_train)\n"
     ]
    },
    {
     "name": "stdout",
     "output_type": "stream",
     "text": [
      "N estimators: 72 Глубина: 17 AUC: 0.9949863263445762\n"
     ]
    },
    {
     "name": "stderr",
     "output_type": "stream",
     "text": [
      "C:\\Users\\theli\\AppData\\Local\\Temp\\ipykernel_6936\\3474906490.py:10: DataConversionWarning: A column-vector y was passed when a 1d array was expected. Please change the shape of y to (n_samples,), for example using ravel().\n",
      "  model_rf_balance.fit(features_train, target_train)\n"
     ]
    },
    {
     "name": "stdout",
     "output_type": "stream",
     "text": [
      "N estimators: 72 Глубина: 18 AUC: 0.9949863263445762\n"
     ]
    },
    {
     "name": "stderr",
     "output_type": "stream",
     "text": [
      "C:\\Users\\theli\\AppData\\Local\\Temp\\ipykernel_6936\\3474906490.py:10: DataConversionWarning: A column-vector y was passed when a 1d array was expected. Please change the shape of y to (n_samples,), for example using ravel().\n",
      "  model_rf_balance.fit(features_train, target_train)\n",
      " 71%|███████   | 32/45 [01:34<01:01,  4.76s/it]"
     ]
    },
    {
     "name": "stdout",
     "output_type": "stream",
     "text": [
      "N estimators: 72 Глубина: 19 AUC: 0.9949863263445762\n"
     ]
    },
    {
     "name": "stderr",
     "output_type": "stream",
     "text": [
      "C:\\Users\\theli\\AppData\\Local\\Temp\\ipykernel_6936\\3474906490.py:10: DataConversionWarning: A column-vector y was passed when a 1d array was expected. Please change the shape of y to (n_samples,), for example using ravel().\n",
      "  model_rf_balance.fit(features_train, target_train)\n"
     ]
    },
    {
     "name": "stdout",
     "output_type": "stream",
     "text": [
      "N estimators: 74 Глубина: 10 AUC: 0.9882346774385095\n"
     ]
    },
    {
     "name": "stderr",
     "output_type": "stream",
     "text": [
      "C:\\Users\\theli\\AppData\\Local\\Temp\\ipykernel_6936\\3474906490.py:10: DataConversionWarning: A column-vector y was passed when a 1d array was expected. Please change the shape of y to (n_samples,), for example using ravel().\n",
      "  model_rf_balance.fit(features_train, target_train)\n"
     ]
    },
    {
     "name": "stdout",
     "output_type": "stream",
     "text": [
      "N estimators: 74 Глубина: 11 AUC: 0.9909300952282669\n"
     ]
    },
    {
     "name": "stderr",
     "output_type": "stream",
     "text": [
      "C:\\Users\\theli\\AppData\\Local\\Temp\\ipykernel_6936\\3474906490.py:10: DataConversionWarning: A column-vector y was passed when a 1d array was expected. Please change the shape of y to (n_samples,), for example using ravel().\n",
      "  model_rf_balance.fit(features_train, target_train)\n"
     ]
    },
    {
     "name": "stdout",
     "output_type": "stream",
     "text": [
      "N estimators: 74 Глубина: 12 AUC: 0.9940747493163172\n"
     ]
    },
    {
     "name": "stderr",
     "output_type": "stream",
     "text": [
      "C:\\Users\\theli\\AppData\\Local\\Temp\\ipykernel_6936\\3474906490.py:10: DataConversionWarning: A column-vector y was passed when a 1d array was expected. Please change the shape of y to (n_samples,), for example using ravel().\n",
      "  model_rf_balance.fit(features_train, target_train)\n"
     ]
    },
    {
     "name": "stdout",
     "output_type": "stream",
     "text": [
      "N estimators: 74 Глубина: 13 AUC: 0.9949863263445762\n"
     ]
    },
    {
     "name": "stderr",
     "output_type": "stream",
     "text": [
      "C:\\Users\\theli\\AppData\\Local\\Temp\\ipykernel_6936\\3474906490.py:10: DataConversionWarning: A column-vector y was passed when a 1d array was expected. Please change the shape of y to (n_samples,), for example using ravel().\n",
      "  model_rf_balance.fit(features_train, target_train)\n"
     ]
    },
    {
     "name": "stdout",
     "output_type": "stream",
     "text": [
      "N estimators: 74 Глубина: 14 AUC: 0.9949863263445762\n"
     ]
    },
    {
     "name": "stderr",
     "output_type": "stream",
     "text": [
      "C:\\Users\\theli\\AppData\\Local\\Temp\\ipykernel_6936\\3474906490.py:10: DataConversionWarning: A column-vector y was passed when a 1d array was expected. Please change the shape of y to (n_samples,), for example using ravel().\n",
      "  model_rf_balance.fit(features_train, target_train)\n"
     ]
    },
    {
     "name": "stdout",
     "output_type": "stream",
     "text": [
      "N estimators: 74 Глубина: 15 AUC: 0.9949863263445762\n"
     ]
    },
    {
     "name": "stderr",
     "output_type": "stream",
     "text": [
      "C:\\Users\\theli\\AppData\\Local\\Temp\\ipykernel_6936\\3474906490.py:10: DataConversionWarning: A column-vector y was passed when a 1d array was expected. Please change the shape of y to (n_samples,), for example using ravel().\n",
      "  model_rf_balance.fit(features_train, target_train)\n"
     ]
    },
    {
     "name": "stdout",
     "output_type": "stream",
     "text": [
      "N estimators: 74 Глубина: 16 AUC: 0.9949863263445762\n"
     ]
    },
    {
     "name": "stderr",
     "output_type": "stream",
     "text": [
      "C:\\Users\\theli\\AppData\\Local\\Temp\\ipykernel_6936\\3474906490.py:10: DataConversionWarning: A column-vector y was passed when a 1d array was expected. Please change the shape of y to (n_samples,), for example using ravel().\n",
      "  model_rf_balance.fit(features_train, target_train)\n"
     ]
    },
    {
     "name": "stdout",
     "output_type": "stream",
     "text": [
      "N estimators: 74 Глубина: 17 AUC: 0.9949863263445762\n"
     ]
    },
    {
     "name": "stderr",
     "output_type": "stream",
     "text": [
      "C:\\Users\\theli\\AppData\\Local\\Temp\\ipykernel_6936\\3474906490.py:10: DataConversionWarning: A column-vector y was passed when a 1d array was expected. Please change the shape of y to (n_samples,), for example using ravel().\n",
      "  model_rf_balance.fit(features_train, target_train)\n"
     ]
    },
    {
     "name": "stdout",
     "output_type": "stream",
     "text": [
      "N estimators: 74 Глубина: 18 AUC: 0.9949863263445762\n"
     ]
    },
    {
     "name": "stderr",
     "output_type": "stream",
     "text": [
      "C:\\Users\\theli\\AppData\\Local\\Temp\\ipykernel_6936\\3474906490.py:10: DataConversionWarning: A column-vector y was passed when a 1d array was expected. Please change the shape of y to (n_samples,), for example using ravel().\n",
      "  model_rf_balance.fit(features_train, target_train)\n",
      " 73%|███████▎  | 33/45 [01:39<00:58,  4.91s/it]"
     ]
    },
    {
     "name": "stdout",
     "output_type": "stream",
     "text": [
      "N estimators: 74 Глубина: 19 AUC: 0.9949863263445762\n"
     ]
    },
    {
     "name": "stderr",
     "output_type": "stream",
     "text": [
      "C:\\Users\\theli\\AppData\\Local\\Temp\\ipykernel_6936\\3474906490.py:10: DataConversionWarning: A column-vector y was passed when a 1d array was expected. Please change the shape of y to (n_samples,), for example using ravel().\n",
      "  model_rf_balance.fit(features_train, target_train)\n"
     ]
    },
    {
     "name": "stdout",
     "output_type": "stream",
     "text": [
      "N estimators: 76 Глубина: 10 AUC: 0.985988495947045\n"
     ]
    },
    {
     "name": "stderr",
     "output_type": "stream",
     "text": [
      "C:\\Users\\theli\\AppData\\Local\\Temp\\ipykernel_6936\\3474906490.py:10: DataConversionWarning: A column-vector y was passed when a 1d array was expected. Please change the shape of y to (n_samples,), for example using ravel().\n",
      "  model_rf_balance.fit(features_train, target_train)\n"
     ]
    },
    {
     "name": "stdout",
     "output_type": "stream",
     "text": [
      "N estimators: 76 Глубина: 11 AUC: 0.9909300952282669\n"
     ]
    },
    {
     "name": "stderr",
     "output_type": "stream",
     "text": [
      "C:\\Users\\theli\\AppData\\Local\\Temp\\ipykernel_6936\\3474906490.py:10: DataConversionWarning: A column-vector y was passed when a 1d array was expected. Please change the shape of y to (n_samples,), for example using ravel().\n",
      "  model_rf_balance.fit(features_train, target_train)\n"
     ]
    },
    {
     "name": "stdout",
     "output_type": "stream",
     "text": [
      "N estimators: 76 Глубина: 12 AUC: 0.9940747493163172\n"
     ]
    },
    {
     "name": "stderr",
     "output_type": "stream",
     "text": [
      "C:\\Users\\theli\\AppData\\Local\\Temp\\ipykernel_6936\\3474906490.py:10: DataConversionWarning: A column-vector y was passed when a 1d array was expected. Please change the shape of y to (n_samples,), for example using ravel().\n",
      "  model_rf_balance.fit(features_train, target_train)\n"
     ]
    },
    {
     "name": "stdout",
     "output_type": "stream",
     "text": [
      "N estimators: 76 Глубина: 13 AUC: 0.9949863263445762\n"
     ]
    },
    {
     "name": "stderr",
     "output_type": "stream",
     "text": [
      "C:\\Users\\theli\\AppData\\Local\\Temp\\ipykernel_6936\\3474906490.py:10: DataConversionWarning: A column-vector y was passed when a 1d array was expected. Please change the shape of y to (n_samples,), for example using ravel().\n",
      "  model_rf_balance.fit(features_train, target_train)\n"
     ]
    },
    {
     "name": "stdout",
     "output_type": "stream",
     "text": [
      "N estimators: 76 Глубина: 14 AUC: 0.9949863263445762\n"
     ]
    },
    {
     "name": "stderr",
     "output_type": "stream",
     "text": [
      "C:\\Users\\theli\\AppData\\Local\\Temp\\ipykernel_6936\\3474906490.py:10: DataConversionWarning: A column-vector y was passed when a 1d array was expected. Please change the shape of y to (n_samples,), for example using ravel().\n",
      "  model_rf_balance.fit(features_train, target_train)\n"
     ]
    },
    {
     "name": "stdout",
     "output_type": "stream",
     "text": [
      "N estimators: 76 Глубина: 15 AUC: 0.9949863263445762\n"
     ]
    },
    {
     "name": "stderr",
     "output_type": "stream",
     "text": [
      "C:\\Users\\theli\\AppData\\Local\\Temp\\ipykernel_6936\\3474906490.py:10: DataConversionWarning: A column-vector y was passed when a 1d array was expected. Please change the shape of y to (n_samples,), for example using ravel().\n",
      "  model_rf_balance.fit(features_train, target_train)\n"
     ]
    },
    {
     "name": "stdout",
     "output_type": "stream",
     "text": [
      "N estimators: 76 Глубина: 16 AUC: 0.9949863263445762\n"
     ]
    },
    {
     "name": "stderr",
     "output_type": "stream",
     "text": [
      "C:\\Users\\theli\\AppData\\Local\\Temp\\ipykernel_6936\\3474906490.py:10: DataConversionWarning: A column-vector y was passed when a 1d array was expected. Please change the shape of y to (n_samples,), for example using ravel().\n",
      "  model_rf_balance.fit(features_train, target_train)\n"
     ]
    },
    {
     "name": "stdout",
     "output_type": "stream",
     "text": [
      "N estimators: 76 Глубина: 17 AUC: 0.9949863263445762\n"
     ]
    },
    {
     "name": "stderr",
     "output_type": "stream",
     "text": [
      "C:\\Users\\theli\\AppData\\Local\\Temp\\ipykernel_6936\\3474906490.py:10: DataConversionWarning: A column-vector y was passed when a 1d array was expected. Please change the shape of y to (n_samples,), for example using ravel().\n",
      "  model_rf_balance.fit(features_train, target_train)\n"
     ]
    },
    {
     "name": "stdout",
     "output_type": "stream",
     "text": [
      "N estimators: 76 Глубина: 18 AUC: 0.9949863263445762\n"
     ]
    },
    {
     "name": "stderr",
     "output_type": "stream",
     "text": [
      "C:\\Users\\theli\\AppData\\Local\\Temp\\ipykernel_6936\\3474906490.py:10: DataConversionWarning: A column-vector y was passed when a 1d array was expected. Please change the shape of y to (n_samples,), for example using ravel().\n",
      "  model_rf_balance.fit(features_train, target_train)\n",
      " 76%|███████▌  | 34/45 [01:45<00:55,  5.04s/it]"
     ]
    },
    {
     "name": "stdout",
     "output_type": "stream",
     "text": [
      "N estimators: 76 Глубина: 19 AUC: 0.9949863263445762\n"
     ]
    },
    {
     "name": "stderr",
     "output_type": "stream",
     "text": [
      "C:\\Users\\theli\\AppData\\Local\\Temp\\ipykernel_6936\\3474906490.py:10: DataConversionWarning: A column-vector y was passed when a 1d array was expected. Please change the shape of y to (n_samples,), for example using ravel().\n",
      "  model_rf_balance.fit(features_train, target_train)\n"
     ]
    },
    {
     "name": "stdout",
     "output_type": "stream",
     "text": [
      "N estimators: 78 Глубина: 10 AUC: 0.9868869685436308\n"
     ]
    },
    {
     "name": "stderr",
     "output_type": "stream",
     "text": [
      "C:\\Users\\theli\\AppData\\Local\\Temp\\ipykernel_6936\\3474906490.py:10: DataConversionWarning: A column-vector y was passed when a 1d array was expected. Please change the shape of y to (n_samples,), for example using ravel().\n",
      "  model_rf_balance.fit(features_train, target_train)\n"
     ]
    },
    {
     "name": "stdout",
     "output_type": "stream",
     "text": [
      "N estimators: 78 Глубина: 11 AUC: 0.9909300952282669\n"
     ]
    },
    {
     "name": "stderr",
     "output_type": "stream",
     "text": [
      "C:\\Users\\theli\\AppData\\Local\\Temp\\ipykernel_6936\\3474906490.py:10: DataConversionWarning: A column-vector y was passed when a 1d array was expected. Please change the shape of y to (n_samples,), for example using ravel().\n",
      "  model_rf_balance.fit(features_train, target_train)\n"
     ]
    },
    {
     "name": "stdout",
     "output_type": "stream",
     "text": [
      "N estimators: 78 Глубина: 12 AUC: 0.9940747493163172\n"
     ]
    },
    {
     "name": "stderr",
     "output_type": "stream",
     "text": [
      "C:\\Users\\theli\\AppData\\Local\\Temp\\ipykernel_6936\\3474906490.py:10: DataConversionWarning: A column-vector y was passed when a 1d array was expected. Please change the shape of y to (n_samples,), for example using ravel().\n",
      "  model_rf_balance.fit(features_train, target_train)\n"
     ]
    },
    {
     "name": "stdout",
     "output_type": "stream",
     "text": [
      "N estimators: 78 Глубина: 13 AUC: 0.9949863263445762\n"
     ]
    },
    {
     "name": "stderr",
     "output_type": "stream",
     "text": [
      "C:\\Users\\theli\\AppData\\Local\\Temp\\ipykernel_6936\\3474906490.py:10: DataConversionWarning: A column-vector y was passed when a 1d array was expected. Please change the shape of y to (n_samples,), for example using ravel().\n",
      "  model_rf_balance.fit(features_train, target_train)\n"
     ]
    },
    {
     "name": "stdout",
     "output_type": "stream",
     "text": [
      "N estimators: 78 Глубина: 14 AUC: 0.9949863263445762\n"
     ]
    },
    {
     "name": "stderr",
     "output_type": "stream",
     "text": [
      "C:\\Users\\theli\\AppData\\Local\\Temp\\ipykernel_6936\\3474906490.py:10: DataConversionWarning: A column-vector y was passed when a 1d array was expected. Please change the shape of y to (n_samples,), for example using ravel().\n",
      "  model_rf_balance.fit(features_train, target_train)\n"
     ]
    },
    {
     "name": "stdout",
     "output_type": "stream",
     "text": [
      "N estimators: 78 Глубина: 15 AUC: 0.9949863263445762\n"
     ]
    },
    {
     "name": "stderr",
     "output_type": "stream",
     "text": [
      "C:\\Users\\theli\\AppData\\Local\\Temp\\ipykernel_6936\\3474906490.py:10: DataConversionWarning: A column-vector y was passed when a 1d array was expected. Please change the shape of y to (n_samples,), for example using ravel().\n",
      "  model_rf_balance.fit(features_train, target_train)\n"
     ]
    },
    {
     "name": "stdout",
     "output_type": "stream",
     "text": [
      "N estimators: 78 Глубина: 16 AUC: 0.9949863263445762\n"
     ]
    },
    {
     "name": "stderr",
     "output_type": "stream",
     "text": [
      "C:\\Users\\theli\\AppData\\Local\\Temp\\ipykernel_6936\\3474906490.py:10: DataConversionWarning: A column-vector y was passed when a 1d array was expected. Please change the shape of y to (n_samples,), for example using ravel().\n",
      "  model_rf_balance.fit(features_train, target_train)\n"
     ]
    },
    {
     "name": "stdout",
     "output_type": "stream",
     "text": [
      "N estimators: 78 Глубина: 17 AUC: 0.9949863263445762\n"
     ]
    },
    {
     "name": "stderr",
     "output_type": "stream",
     "text": [
      "C:\\Users\\theli\\AppData\\Local\\Temp\\ipykernel_6936\\3474906490.py:10: DataConversionWarning: A column-vector y was passed when a 1d array was expected. Please change the shape of y to (n_samples,), for example using ravel().\n",
      "  model_rf_balance.fit(features_train, target_train)\n"
     ]
    },
    {
     "name": "stdout",
     "output_type": "stream",
     "text": [
      "N estimators: 78 Глубина: 18 AUC: 0.9949863263445762\n"
     ]
    },
    {
     "name": "stderr",
     "output_type": "stream",
     "text": [
      "C:\\Users\\theli\\AppData\\Local\\Temp\\ipykernel_6936\\3474906490.py:10: DataConversionWarning: A column-vector y was passed when a 1d array was expected. Please change the shape of y to (n_samples,), for example using ravel().\n",
      "  model_rf_balance.fit(features_train, target_train)\n",
      " 78%|███████▊  | 35/45 [01:50<00:51,  5.17s/it]"
     ]
    },
    {
     "name": "stdout",
     "output_type": "stream",
     "text": [
      "N estimators: 78 Глубина: 19 AUC: 0.9949863263445762\n"
     ]
    },
    {
     "name": "stderr",
     "output_type": "stream",
     "text": [
      "C:\\Users\\theli\\AppData\\Local\\Temp\\ipykernel_6936\\3474906490.py:10: DataConversionWarning: A column-vector y was passed when a 1d array was expected. Please change the shape of y to (n_samples,), for example using ravel().\n",
      "  model_rf_balance.fit(features_train, target_train)\n"
     ]
    },
    {
     "name": "stdout",
     "output_type": "stream",
     "text": [
      "N estimators: 80 Глубина: 10 AUC: 0.9868869685436308\n"
     ]
    },
    {
     "name": "stderr",
     "output_type": "stream",
     "text": [
      "C:\\Users\\theli\\AppData\\Local\\Temp\\ipykernel_6936\\3474906490.py:10: DataConversionWarning: A column-vector y was passed when a 1d array was expected. Please change the shape of y to (n_samples,), for example using ravel().\n",
      "  model_rf_balance.fit(features_train, target_train)\n"
     ]
    },
    {
     "name": "stdout",
     "output_type": "stream",
     "text": [
      "N estimators: 80 Глубина: 11 AUC: 0.9909300952282669\n"
     ]
    },
    {
     "name": "stderr",
     "output_type": "stream",
     "text": [
      "C:\\Users\\theli\\AppData\\Local\\Temp\\ipykernel_6936\\3474906490.py:10: DataConversionWarning: A column-vector y was passed when a 1d array was expected. Please change the shape of y to (n_samples,), for example using ravel().\n",
      "  model_rf_balance.fit(features_train, target_train)\n"
     ]
    },
    {
     "name": "stdout",
     "output_type": "stream",
     "text": [
      "N estimators: 80 Глубина: 12 AUC: 0.9940747493163172\n"
     ]
    },
    {
     "name": "stderr",
     "output_type": "stream",
     "text": [
      "C:\\Users\\theli\\AppData\\Local\\Temp\\ipykernel_6936\\3474906490.py:10: DataConversionWarning: A column-vector y was passed when a 1d array was expected. Please change the shape of y to (n_samples,), for example using ravel().\n",
      "  model_rf_balance.fit(features_train, target_train)\n"
     ]
    },
    {
     "name": "stdout",
     "output_type": "stream",
     "text": [
      "N estimators: 80 Глубина: 13 AUC: 0.9949863263445762\n"
     ]
    },
    {
     "name": "stderr",
     "output_type": "stream",
     "text": [
      "C:\\Users\\theli\\AppData\\Local\\Temp\\ipykernel_6936\\3474906490.py:10: DataConversionWarning: A column-vector y was passed when a 1d array was expected. Please change the shape of y to (n_samples,), for example using ravel().\n",
      "  model_rf_balance.fit(features_train, target_train)\n"
     ]
    },
    {
     "name": "stdout",
     "output_type": "stream",
     "text": [
      "N estimators: 80 Глубина: 14 AUC: 0.9949863263445762\n"
     ]
    },
    {
     "name": "stderr",
     "output_type": "stream",
     "text": [
      "C:\\Users\\theli\\AppData\\Local\\Temp\\ipykernel_6936\\3474906490.py:10: DataConversionWarning: A column-vector y was passed when a 1d array was expected. Please change the shape of y to (n_samples,), for example using ravel().\n",
      "  model_rf_balance.fit(features_train, target_train)\n"
     ]
    },
    {
     "name": "stdout",
     "output_type": "stream",
     "text": [
      "N estimators: 80 Глубина: 15 AUC: 0.9949863263445762\n"
     ]
    },
    {
     "name": "stderr",
     "output_type": "stream",
     "text": [
      "C:\\Users\\theli\\AppData\\Local\\Temp\\ipykernel_6936\\3474906490.py:10: DataConversionWarning: A column-vector y was passed when a 1d array was expected. Please change the shape of y to (n_samples,), for example using ravel().\n",
      "  model_rf_balance.fit(features_train, target_train)\n"
     ]
    },
    {
     "name": "stdout",
     "output_type": "stream",
     "text": [
      "N estimators: 80 Глубина: 16 AUC: 0.9949863263445762\n"
     ]
    },
    {
     "name": "stderr",
     "output_type": "stream",
     "text": [
      "C:\\Users\\theli\\AppData\\Local\\Temp\\ipykernel_6936\\3474906490.py:10: DataConversionWarning: A column-vector y was passed when a 1d array was expected. Please change the shape of y to (n_samples,), for example using ravel().\n",
      "  model_rf_balance.fit(features_train, target_train)\n"
     ]
    },
    {
     "name": "stdout",
     "output_type": "stream",
     "text": [
      "N estimators: 80 Глубина: 17 AUC: 0.9949863263445762\n"
     ]
    },
    {
     "name": "stderr",
     "output_type": "stream",
     "text": [
      "C:\\Users\\theli\\AppData\\Local\\Temp\\ipykernel_6936\\3474906490.py:10: DataConversionWarning: A column-vector y was passed when a 1d array was expected. Please change the shape of y to (n_samples,), for example using ravel().\n",
      "  model_rf_balance.fit(features_train, target_train)\n"
     ]
    },
    {
     "name": "stdout",
     "output_type": "stream",
     "text": [
      "N estimators: 80 Глубина: 18 AUC: 0.9949863263445762\n"
     ]
    },
    {
     "name": "stderr",
     "output_type": "stream",
     "text": [
      "C:\\Users\\theli\\AppData\\Local\\Temp\\ipykernel_6936\\3474906490.py:10: DataConversionWarning: A column-vector y was passed when a 1d array was expected. Please change the shape of y to (n_samples,), for example using ravel().\n",
      "  model_rf_balance.fit(features_train, target_train)\n",
      " 80%|████████  | 36/45 [01:56<00:47,  5.33s/it]"
     ]
    },
    {
     "name": "stdout",
     "output_type": "stream",
     "text": [
      "N estimators: 80 Глубина: 19 AUC: 0.9949863263445762\n"
     ]
    },
    {
     "name": "stderr",
     "output_type": "stream",
     "text": [
      "C:\\Users\\theli\\AppData\\Local\\Temp\\ipykernel_6936\\3474906490.py:10: DataConversionWarning: A column-vector y was passed when a 1d array was expected. Please change the shape of y to (n_samples,), for example using ravel().\n",
      "  model_rf_balance.fit(features_train, target_train)\n"
     ]
    },
    {
     "name": "stdout",
     "output_type": "stream",
     "text": [
      "N estimators: 82 Глубина: 10 AUC: 0.9850900233504593\n"
     ]
    },
    {
     "name": "stderr",
     "output_type": "stream",
     "text": [
      "C:\\Users\\theli\\AppData\\Local\\Temp\\ipykernel_6936\\3474906490.py:10: DataConversionWarning: A column-vector y was passed when a 1d array was expected. Please change the shape of y to (n_samples,), for example using ravel().\n",
      "  model_rf_balance.fit(features_train, target_train)\n"
     ]
    },
    {
     "name": "stdout",
     "output_type": "stream",
     "text": [
      "N estimators: 82 Глубина: 11 AUC: 0.9909300952282669\n"
     ]
    },
    {
     "name": "stderr",
     "output_type": "stream",
     "text": [
      "C:\\Users\\theli\\AppData\\Local\\Temp\\ipykernel_6936\\3474906490.py:10: DataConversionWarning: A column-vector y was passed when a 1d array was expected. Please change the shape of y to (n_samples,), for example using ravel().\n",
      "  model_rf_balance.fit(features_train, target_train)\n"
     ]
    },
    {
     "name": "stdout",
     "output_type": "stream",
     "text": [
      "N estimators: 82 Глубина: 12 AUC: 0.9940747493163172\n"
     ]
    },
    {
     "name": "stderr",
     "output_type": "stream",
     "text": [
      "C:\\Users\\theli\\AppData\\Local\\Temp\\ipykernel_6936\\3474906490.py:10: DataConversionWarning: A column-vector y was passed when a 1d array was expected. Please change the shape of y to (n_samples,), for example using ravel().\n",
      "  model_rf_balance.fit(features_train, target_train)\n"
     ]
    },
    {
     "name": "stdout",
     "output_type": "stream",
     "text": [
      "N estimators: 82 Глубина: 13 AUC: 0.9949863263445762\n"
     ]
    },
    {
     "name": "stderr",
     "output_type": "stream",
     "text": [
      "C:\\Users\\theli\\AppData\\Local\\Temp\\ipykernel_6936\\3474906490.py:10: DataConversionWarning: A column-vector y was passed when a 1d array was expected. Please change the shape of y to (n_samples,), for example using ravel().\n",
      "  model_rf_balance.fit(features_train, target_train)\n"
     ]
    },
    {
     "name": "stdout",
     "output_type": "stream",
     "text": [
      "N estimators: 82 Глубина: 14 AUC: 0.9949863263445762\n"
     ]
    },
    {
     "name": "stderr",
     "output_type": "stream",
     "text": [
      "C:\\Users\\theli\\AppData\\Local\\Temp\\ipykernel_6936\\3474906490.py:10: DataConversionWarning: A column-vector y was passed when a 1d array was expected. Please change the shape of y to (n_samples,), for example using ravel().\n",
      "  model_rf_balance.fit(features_train, target_train)\n"
     ]
    },
    {
     "name": "stdout",
     "output_type": "stream",
     "text": [
      "N estimators: 82 Глубина: 15 AUC: 0.9949863263445762\n"
     ]
    },
    {
     "name": "stderr",
     "output_type": "stream",
     "text": [
      "C:\\Users\\theli\\AppData\\Local\\Temp\\ipykernel_6936\\3474906490.py:10: DataConversionWarning: A column-vector y was passed when a 1d array was expected. Please change the shape of y to (n_samples,), for example using ravel().\n",
      "  model_rf_balance.fit(features_train, target_train)\n"
     ]
    },
    {
     "name": "stdout",
     "output_type": "stream",
     "text": [
      "N estimators: 82 Глубина: 16 AUC: 0.9949863263445762\n"
     ]
    },
    {
     "name": "stderr",
     "output_type": "stream",
     "text": [
      "C:\\Users\\theli\\AppData\\Local\\Temp\\ipykernel_6936\\3474906490.py:10: DataConversionWarning: A column-vector y was passed when a 1d array was expected. Please change the shape of y to (n_samples,), for example using ravel().\n",
      "  model_rf_balance.fit(features_train, target_train)\n"
     ]
    },
    {
     "name": "stdout",
     "output_type": "stream",
     "text": [
      "N estimators: 82 Глубина: 17 AUC: 0.9949863263445762\n"
     ]
    },
    {
     "name": "stderr",
     "output_type": "stream",
     "text": [
      "C:\\Users\\theli\\AppData\\Local\\Temp\\ipykernel_6936\\3474906490.py:10: DataConversionWarning: A column-vector y was passed when a 1d array was expected. Please change the shape of y to (n_samples,), for example using ravel().\n",
      "  model_rf_balance.fit(features_train, target_train)\n"
     ]
    },
    {
     "name": "stdout",
     "output_type": "stream",
     "text": [
      "N estimators: 82 Глубина: 18 AUC: 0.9949863263445762\n"
     ]
    },
    {
     "name": "stderr",
     "output_type": "stream",
     "text": [
      "C:\\Users\\theli\\AppData\\Local\\Temp\\ipykernel_6936\\3474906490.py:10: DataConversionWarning: A column-vector y was passed when a 1d array was expected. Please change the shape of y to (n_samples,), for example using ravel().\n",
      "  model_rf_balance.fit(features_train, target_train)\n",
      " 82%|████████▏ | 37/45 [02:02<00:43,  5.48s/it]"
     ]
    },
    {
     "name": "stdout",
     "output_type": "stream",
     "text": [
      "N estimators: 82 Глубина: 19 AUC: 0.9949863263445762\n"
     ]
    },
    {
     "name": "stderr",
     "output_type": "stream",
     "text": [
      "C:\\Users\\theli\\AppData\\Local\\Temp\\ipykernel_6936\\3474906490.py:10: DataConversionWarning: A column-vector y was passed when a 1d array was expected. Please change the shape of y to (n_samples,), for example using ravel().\n",
      "  model_rf_balance.fit(features_train, target_train)\n"
     ]
    },
    {
     "name": "stdout",
     "output_type": "stream",
     "text": [
      "N estimators: 84 Глубина: 10 AUC: 0.9868869685436308\n"
     ]
    },
    {
     "name": "stderr",
     "output_type": "stream",
     "text": [
      "C:\\Users\\theli\\AppData\\Local\\Temp\\ipykernel_6936\\3474906490.py:10: DataConversionWarning: A column-vector y was passed when a 1d array was expected. Please change the shape of y to (n_samples,), for example using ravel().\n",
      "  model_rf_balance.fit(features_train, target_train)\n"
     ]
    },
    {
     "name": "stdout",
     "output_type": "stream",
     "text": [
      "N estimators: 84 Глубина: 11 AUC: 0.9918285678248527\n"
     ]
    },
    {
     "name": "stderr",
     "output_type": "stream",
     "text": [
      "C:\\Users\\theli\\AppData\\Local\\Temp\\ipykernel_6936\\3474906490.py:10: DataConversionWarning: A column-vector y was passed when a 1d array was expected. Please change the shape of y to (n_samples,), for example using ravel().\n",
      "  model_rf_balance.fit(features_train, target_train)\n"
     ]
    },
    {
     "name": "stdout",
     "output_type": "stream",
     "text": [
      "N estimators: 84 Глубина: 12 AUC: 0.9940747493163172\n"
     ]
    },
    {
     "name": "stderr",
     "output_type": "stream",
     "text": [
      "C:\\Users\\theli\\AppData\\Local\\Temp\\ipykernel_6936\\3474906490.py:10: DataConversionWarning: A column-vector y was passed when a 1d array was expected. Please change the shape of y to (n_samples,), for example using ravel().\n",
      "  model_rf_balance.fit(features_train, target_train)\n"
     ]
    },
    {
     "name": "stdout",
     "output_type": "stream",
     "text": [
      "N estimators: 84 Глубина: 13 AUC: 0.9949863263445762\n"
     ]
    },
    {
     "name": "stderr",
     "output_type": "stream",
     "text": [
      "C:\\Users\\theli\\AppData\\Local\\Temp\\ipykernel_6936\\3474906490.py:10: DataConversionWarning: A column-vector y was passed when a 1d array was expected. Please change the shape of y to (n_samples,), for example using ravel().\n",
      "  model_rf_balance.fit(features_train, target_train)\n"
     ]
    },
    {
     "name": "stdout",
     "output_type": "stream",
     "text": [
      "N estimators: 84 Глубина: 14 AUC: 0.9949863263445762\n"
     ]
    },
    {
     "name": "stderr",
     "output_type": "stream",
     "text": [
      "C:\\Users\\theli\\AppData\\Local\\Temp\\ipykernel_6936\\3474906490.py:10: DataConversionWarning: A column-vector y was passed when a 1d array was expected. Please change the shape of y to (n_samples,), for example using ravel().\n",
      "  model_rf_balance.fit(features_train, target_train)\n"
     ]
    },
    {
     "name": "stdout",
     "output_type": "stream",
     "text": [
      "N estimators: 84 Глубина: 15 AUC: 0.9949863263445762\n"
     ]
    },
    {
     "name": "stderr",
     "output_type": "stream",
     "text": [
      "C:\\Users\\theli\\AppData\\Local\\Temp\\ipykernel_6936\\3474906490.py:10: DataConversionWarning: A column-vector y was passed when a 1d array was expected. Please change the shape of y to (n_samples,), for example using ravel().\n",
      "  model_rf_balance.fit(features_train, target_train)\n"
     ]
    },
    {
     "name": "stdout",
     "output_type": "stream",
     "text": [
      "N estimators: 84 Глубина: 16 AUC: 0.9949863263445762\n"
     ]
    },
    {
     "name": "stderr",
     "output_type": "stream",
     "text": [
      "C:\\Users\\theli\\AppData\\Local\\Temp\\ipykernel_6936\\3474906490.py:10: DataConversionWarning: A column-vector y was passed when a 1d array was expected. Please change the shape of y to (n_samples,), for example using ravel().\n",
      "  model_rf_balance.fit(features_train, target_train)\n"
     ]
    },
    {
     "name": "stdout",
     "output_type": "stream",
     "text": [
      "N estimators: 84 Глубина: 17 AUC: 0.9949863263445762\n"
     ]
    },
    {
     "name": "stderr",
     "output_type": "stream",
     "text": [
      "C:\\Users\\theli\\AppData\\Local\\Temp\\ipykernel_6936\\3474906490.py:10: DataConversionWarning: A column-vector y was passed when a 1d array was expected. Please change the shape of y to (n_samples,), for example using ravel().\n",
      "  model_rf_balance.fit(features_train, target_train)\n"
     ]
    },
    {
     "name": "stdout",
     "output_type": "stream",
     "text": [
      "N estimators: 84 Глубина: 18 AUC: 0.9949863263445762\n"
     ]
    },
    {
     "name": "stderr",
     "output_type": "stream",
     "text": [
      "C:\\Users\\theli\\AppData\\Local\\Temp\\ipykernel_6936\\3474906490.py:10: DataConversionWarning: A column-vector y was passed when a 1d array was expected. Please change the shape of y to (n_samples,), for example using ravel().\n",
      "  model_rf_balance.fit(features_train, target_train)\n",
      " 84%|████████▍ | 38/45 [02:08<00:39,  5.61s/it]"
     ]
    },
    {
     "name": "stdout",
     "output_type": "stream",
     "text": [
      "N estimators: 84 Глубина: 19 AUC: 0.9949863263445762\n"
     ]
    },
    {
     "name": "stderr",
     "output_type": "stream",
     "text": [
      "C:\\Users\\theli\\AppData\\Local\\Temp\\ipykernel_6936\\3474906490.py:10: DataConversionWarning: A column-vector y was passed when a 1d array was expected. Please change the shape of y to (n_samples,), for example using ravel().\n",
      "  model_rf_balance.fit(features_train, target_train)\n"
     ]
    },
    {
     "name": "stdout",
     "output_type": "stream",
     "text": [
      "N estimators: 86 Глубина: 10 AUC: 0.9850900233504593\n"
     ]
    },
    {
     "name": "stderr",
     "output_type": "stream",
     "text": [
      "C:\\Users\\theli\\AppData\\Local\\Temp\\ipykernel_6936\\3474906490.py:10: DataConversionWarning: A column-vector y was passed when a 1d array was expected. Please change the shape of y to (n_samples,), for example using ravel().\n",
      "  model_rf_balance.fit(features_train, target_train)\n"
     ]
    },
    {
     "name": "stdout",
     "output_type": "stream",
     "text": [
      "N estimators: 86 Глубина: 11 AUC: 0.9918285678248527\n"
     ]
    },
    {
     "name": "stderr",
     "output_type": "stream",
     "text": [
      "C:\\Users\\theli\\AppData\\Local\\Temp\\ipykernel_6936\\3474906490.py:10: DataConversionWarning: A column-vector y was passed when a 1d array was expected. Please change the shape of y to (n_samples,), for example using ravel().\n",
      "  model_rf_balance.fit(features_train, target_train)\n"
     ]
    },
    {
     "name": "stdout",
     "output_type": "stream",
     "text": [
      "N estimators: 86 Глубина: 12 AUC: 0.9940747493163172\n"
     ]
    },
    {
     "name": "stderr",
     "output_type": "stream",
     "text": [
      "C:\\Users\\theli\\AppData\\Local\\Temp\\ipykernel_6936\\3474906490.py:10: DataConversionWarning: A column-vector y was passed when a 1d array was expected. Please change the shape of y to (n_samples,), for example using ravel().\n",
      "  model_rf_balance.fit(features_train, target_train)\n"
     ]
    },
    {
     "name": "stdout",
     "output_type": "stream",
     "text": [
      "N estimators: 86 Глубина: 13 AUC: 0.9949863263445762\n"
     ]
    },
    {
     "name": "stderr",
     "output_type": "stream",
     "text": [
      "C:\\Users\\theli\\AppData\\Local\\Temp\\ipykernel_6936\\3474906490.py:10: DataConversionWarning: A column-vector y was passed when a 1d array was expected. Please change the shape of y to (n_samples,), for example using ravel().\n",
      "  model_rf_balance.fit(features_train, target_train)\n"
     ]
    },
    {
     "name": "stdout",
     "output_type": "stream",
     "text": [
      "N estimators: 86 Глубина: 14 AUC: 0.9949863263445762\n"
     ]
    },
    {
     "name": "stderr",
     "output_type": "stream",
     "text": [
      "C:\\Users\\theli\\AppData\\Local\\Temp\\ipykernel_6936\\3474906490.py:10: DataConversionWarning: A column-vector y was passed when a 1d array was expected. Please change the shape of y to (n_samples,), for example using ravel().\n",
      "  model_rf_balance.fit(features_train, target_train)\n"
     ]
    },
    {
     "name": "stdout",
     "output_type": "stream",
     "text": [
      "N estimators: 86 Глубина: 15 AUC: 0.9949863263445762\n"
     ]
    },
    {
     "name": "stderr",
     "output_type": "stream",
     "text": [
      "C:\\Users\\theli\\AppData\\Local\\Temp\\ipykernel_6936\\3474906490.py:10: DataConversionWarning: A column-vector y was passed when a 1d array was expected. Please change the shape of y to (n_samples,), for example using ravel().\n",
      "  model_rf_balance.fit(features_train, target_train)\n"
     ]
    },
    {
     "name": "stdout",
     "output_type": "stream",
     "text": [
      "N estimators: 86 Глубина: 16 AUC: 0.9949863263445762\n"
     ]
    },
    {
     "name": "stderr",
     "output_type": "stream",
     "text": [
      "C:\\Users\\theli\\AppData\\Local\\Temp\\ipykernel_6936\\3474906490.py:10: DataConversionWarning: A column-vector y was passed when a 1d array was expected. Please change the shape of y to (n_samples,), for example using ravel().\n",
      "  model_rf_balance.fit(features_train, target_train)\n"
     ]
    },
    {
     "name": "stdout",
     "output_type": "stream",
     "text": [
      "N estimators: 86 Глубина: 17 AUC: 0.9949863263445762\n"
     ]
    },
    {
     "name": "stderr",
     "output_type": "stream",
     "text": [
      "C:\\Users\\theli\\AppData\\Local\\Temp\\ipykernel_6936\\3474906490.py:10: DataConversionWarning: A column-vector y was passed when a 1d array was expected. Please change the shape of y to (n_samples,), for example using ravel().\n",
      "  model_rf_balance.fit(features_train, target_train)\n"
     ]
    },
    {
     "name": "stdout",
     "output_type": "stream",
     "text": [
      "N estimators: 86 Глубина: 18 AUC: 0.9949863263445762\n"
     ]
    },
    {
     "name": "stderr",
     "output_type": "stream",
     "text": [
      "C:\\Users\\theli\\AppData\\Local\\Temp\\ipykernel_6936\\3474906490.py:10: DataConversionWarning: A column-vector y was passed when a 1d array was expected. Please change the shape of y to (n_samples,), for example using ravel().\n",
      "  model_rf_balance.fit(features_train, target_train)\n",
      " 87%|████████▋ | 39/45 [02:14<00:34,  5.77s/it]"
     ]
    },
    {
     "name": "stdout",
     "output_type": "stream",
     "text": [
      "N estimators: 86 Глубина: 19 AUC: 0.9949863263445762\n"
     ]
    },
    {
     "name": "stderr",
     "output_type": "stream",
     "text": [
      "C:\\Users\\theli\\AppData\\Local\\Temp\\ipykernel_6936\\3474906490.py:10: DataConversionWarning: A column-vector y was passed when a 1d array was expected. Please change the shape of y to (n_samples,), for example using ravel().\n",
      "  model_rf_balance.fit(features_train, target_train)\n"
     ]
    },
    {
     "name": "stdout",
     "output_type": "stream",
     "text": [
      "N estimators: 88 Глубина: 10 AUC: 0.9891331500350954\n"
     ]
    },
    {
     "name": "stderr",
     "output_type": "stream",
     "text": [
      "C:\\Users\\theli\\AppData\\Local\\Temp\\ipykernel_6936\\3474906490.py:10: DataConversionWarning: A column-vector y was passed when a 1d array was expected. Please change the shape of y to (n_samples,), for example using ravel().\n",
      "  model_rf_balance.fit(features_train, target_train)\n"
     ]
    },
    {
     "name": "stdout",
     "output_type": "stream",
     "text": [
      "N estimators: 88 Глубина: 11 AUC: 0.9909300952282669\n"
     ]
    },
    {
     "name": "stderr",
     "output_type": "stream",
     "text": [
      "C:\\Users\\theli\\AppData\\Local\\Temp\\ipykernel_6936\\3474906490.py:10: DataConversionWarning: A column-vector y was passed when a 1d array was expected. Please change the shape of y to (n_samples,), for example using ravel().\n",
      "  model_rf_balance.fit(features_train, target_train)\n"
     ]
    },
    {
     "name": "stdout",
     "output_type": "stream",
     "text": [
      "N estimators: 88 Глубина: 12 AUC: 0.9940747493163172\n"
     ]
    },
    {
     "name": "stderr",
     "output_type": "stream",
     "text": [
      "C:\\Users\\theli\\AppData\\Local\\Temp\\ipykernel_6936\\3474906490.py:10: DataConversionWarning: A column-vector y was passed when a 1d array was expected. Please change the shape of y to (n_samples,), for example using ravel().\n",
      "  model_rf_balance.fit(features_train, target_train)\n"
     ]
    },
    {
     "name": "stdout",
     "output_type": "stream",
     "text": [
      "N estimators: 88 Глубина: 13 AUC: 0.9949863263445762\n"
     ]
    },
    {
     "name": "stderr",
     "output_type": "stream",
     "text": [
      "C:\\Users\\theli\\AppData\\Local\\Temp\\ipykernel_6936\\3474906490.py:10: DataConversionWarning: A column-vector y was passed when a 1d array was expected. Please change the shape of y to (n_samples,), for example using ravel().\n",
      "  model_rf_balance.fit(features_train, target_train)\n"
     ]
    },
    {
     "name": "stdout",
     "output_type": "stream",
     "text": [
      "N estimators: 88 Глубина: 14 AUC: 0.9949863263445762\n"
     ]
    },
    {
     "name": "stderr",
     "output_type": "stream",
     "text": [
      "C:\\Users\\theli\\AppData\\Local\\Temp\\ipykernel_6936\\3474906490.py:10: DataConversionWarning: A column-vector y was passed when a 1d array was expected. Please change the shape of y to (n_samples,), for example using ravel().\n",
      "  model_rf_balance.fit(features_train, target_train)\n"
     ]
    },
    {
     "name": "stdout",
     "output_type": "stream",
     "text": [
      "N estimators: 88 Глубина: 15 AUC: 0.9949863263445762\n"
     ]
    },
    {
     "name": "stderr",
     "output_type": "stream",
     "text": [
      "C:\\Users\\theli\\AppData\\Local\\Temp\\ipykernel_6936\\3474906490.py:10: DataConversionWarning: A column-vector y was passed when a 1d array was expected. Please change the shape of y to (n_samples,), for example using ravel().\n",
      "  model_rf_balance.fit(features_train, target_train)\n"
     ]
    },
    {
     "name": "stdout",
     "output_type": "stream",
     "text": [
      "N estimators: 88 Глубина: 16 AUC: 0.9949863263445762\n"
     ]
    },
    {
     "name": "stderr",
     "output_type": "stream",
     "text": [
      "C:\\Users\\theli\\AppData\\Local\\Temp\\ipykernel_6936\\3474906490.py:10: DataConversionWarning: A column-vector y was passed when a 1d array was expected. Please change the shape of y to (n_samples,), for example using ravel().\n",
      "  model_rf_balance.fit(features_train, target_train)\n"
     ]
    },
    {
     "name": "stdout",
     "output_type": "stream",
     "text": [
      "N estimators: 88 Глубина: 17 AUC: 0.9949863263445762\n"
     ]
    },
    {
     "name": "stderr",
     "output_type": "stream",
     "text": [
      "C:\\Users\\theli\\AppData\\Local\\Temp\\ipykernel_6936\\3474906490.py:10: DataConversionWarning: A column-vector y was passed when a 1d array was expected. Please change the shape of y to (n_samples,), for example using ravel().\n",
      "  model_rf_balance.fit(features_train, target_train)\n"
     ]
    },
    {
     "name": "stdout",
     "output_type": "stream",
     "text": [
      "N estimators: 88 Глубина: 18 AUC: 0.9949863263445762\n"
     ]
    },
    {
     "name": "stderr",
     "output_type": "stream",
     "text": [
      "C:\\Users\\theli\\AppData\\Local\\Temp\\ipykernel_6936\\3474906490.py:10: DataConversionWarning: A column-vector y was passed when a 1d array was expected. Please change the shape of y to (n_samples,), for example using ravel().\n",
      "  model_rf_balance.fit(features_train, target_train)\n",
      " 89%|████████▉ | 40/45 [02:20<00:29,  5.90s/it]"
     ]
    },
    {
     "name": "stdout",
     "output_type": "stream",
     "text": [
      "N estimators: 88 Глубина: 19 AUC: 0.9949863263445762\n"
     ]
    },
    {
     "name": "stderr",
     "output_type": "stream",
     "text": [
      "C:\\Users\\theli\\AppData\\Local\\Temp\\ipykernel_6936\\3474906490.py:10: DataConversionWarning: A column-vector y was passed when a 1d array was expected. Please change the shape of y to (n_samples,), for example using ravel().\n",
      "  model_rf_balance.fit(features_train, target_train)\n"
     ]
    },
    {
     "name": "stdout",
     "output_type": "stream",
     "text": [
      "N estimators: 90 Глубина: 10 AUC: 0.9850900233504593\n"
     ]
    },
    {
     "name": "stderr",
     "output_type": "stream",
     "text": [
      "C:\\Users\\theli\\AppData\\Local\\Temp\\ipykernel_6936\\3474906490.py:10: DataConversionWarning: A column-vector y was passed when a 1d array was expected. Please change the shape of y to (n_samples,), for example using ravel().\n",
      "  model_rf_balance.fit(features_train, target_train)\n"
     ]
    },
    {
     "name": "stdout",
     "output_type": "stream",
     "text": [
      "N estimators: 90 Глубина: 11 AUC: 0.9891331500350954\n"
     ]
    },
    {
     "name": "stderr",
     "output_type": "stream",
     "text": [
      "C:\\Users\\theli\\AppData\\Local\\Temp\\ipykernel_6936\\3474906490.py:10: DataConversionWarning: A column-vector y was passed when a 1d array was expected. Please change the shape of y to (n_samples,), for example using ravel().\n",
      "  model_rf_balance.fit(features_train, target_train)\n"
     ]
    },
    {
     "name": "stdout",
     "output_type": "stream",
     "text": [
      "N estimators: 90 Глубина: 12 AUC: 0.9940747493163172\n"
     ]
    },
    {
     "name": "stderr",
     "output_type": "stream",
     "text": [
      "C:\\Users\\theli\\AppData\\Local\\Temp\\ipykernel_6936\\3474906490.py:10: DataConversionWarning: A column-vector y was passed when a 1d array was expected. Please change the shape of y to (n_samples,), for example using ravel().\n",
      "  model_rf_balance.fit(features_train, target_train)\n"
     ]
    },
    {
     "name": "stdout",
     "output_type": "stream",
     "text": [
      "N estimators: 90 Глубина: 13 AUC: 0.9949863263445762\n"
     ]
    },
    {
     "name": "stderr",
     "output_type": "stream",
     "text": [
      "C:\\Users\\theli\\AppData\\Local\\Temp\\ipykernel_6936\\3474906490.py:10: DataConversionWarning: A column-vector y was passed when a 1d array was expected. Please change the shape of y to (n_samples,), for example using ravel().\n",
      "  model_rf_balance.fit(features_train, target_train)\n"
     ]
    },
    {
     "name": "stdout",
     "output_type": "stream",
     "text": [
      "N estimators: 90 Глубина: 14 AUC: 0.9949863263445762\n"
     ]
    },
    {
     "name": "stderr",
     "output_type": "stream",
     "text": [
      "C:\\Users\\theli\\AppData\\Local\\Temp\\ipykernel_6936\\3474906490.py:10: DataConversionWarning: A column-vector y was passed when a 1d array was expected. Please change the shape of y to (n_samples,), for example using ravel().\n",
      "  model_rf_balance.fit(features_train, target_train)\n"
     ]
    },
    {
     "name": "stdout",
     "output_type": "stream",
     "text": [
      "N estimators: 90 Глубина: 15 AUC: 0.9949863263445762\n"
     ]
    },
    {
     "name": "stderr",
     "output_type": "stream",
     "text": [
      "C:\\Users\\theli\\AppData\\Local\\Temp\\ipykernel_6936\\3474906490.py:10: DataConversionWarning: A column-vector y was passed when a 1d array was expected. Please change the shape of y to (n_samples,), for example using ravel().\n",
      "  model_rf_balance.fit(features_train, target_train)\n"
     ]
    },
    {
     "name": "stdout",
     "output_type": "stream",
     "text": [
      "N estimators: 90 Глубина: 16 AUC: 0.9949863263445762\n"
     ]
    },
    {
     "name": "stderr",
     "output_type": "stream",
     "text": [
      "C:\\Users\\theli\\AppData\\Local\\Temp\\ipykernel_6936\\3474906490.py:10: DataConversionWarning: A column-vector y was passed when a 1d array was expected. Please change the shape of y to (n_samples,), for example using ravel().\n",
      "  model_rf_balance.fit(features_train, target_train)\n"
     ]
    },
    {
     "name": "stdout",
     "output_type": "stream",
     "text": [
      "N estimators: 90 Глубина: 17 AUC: 0.9949863263445762\n"
     ]
    },
    {
     "name": "stderr",
     "output_type": "stream",
     "text": [
      "C:\\Users\\theli\\AppData\\Local\\Temp\\ipykernel_6936\\3474906490.py:10: DataConversionWarning: A column-vector y was passed when a 1d array was expected. Please change the shape of y to (n_samples,), for example using ravel().\n",
      "  model_rf_balance.fit(features_train, target_train)\n"
     ]
    },
    {
     "name": "stdout",
     "output_type": "stream",
     "text": [
      "N estimators: 90 Глубина: 18 AUC: 0.9949863263445762\n"
     ]
    },
    {
     "name": "stderr",
     "output_type": "stream",
     "text": [
      "C:\\Users\\theli\\AppData\\Local\\Temp\\ipykernel_6936\\3474906490.py:10: DataConversionWarning: A column-vector y was passed when a 1d array was expected. Please change the shape of y to (n_samples,), for example using ravel().\n",
      "  model_rf_balance.fit(features_train, target_train)\n",
      " 91%|█████████ | 41/45 [02:26<00:24,  6.04s/it]"
     ]
    },
    {
     "name": "stdout",
     "output_type": "stream",
     "text": [
      "N estimators: 90 Глубина: 19 AUC: 0.9949863263445762\n"
     ]
    },
    {
     "name": "stderr",
     "output_type": "stream",
     "text": [
      "C:\\Users\\theli\\AppData\\Local\\Temp\\ipykernel_6936\\3474906490.py:10: DataConversionWarning: A column-vector y was passed when a 1d array was expected. Please change the shape of y to (n_samples,), for example using ravel().\n",
      "  model_rf_balance.fit(features_train, target_train)\n"
     ]
    },
    {
     "name": "stdout",
     "output_type": "stream",
     "text": [
      "N estimators: 92 Глубина: 10 AUC: 0.9873362048419237\n"
     ]
    },
    {
     "name": "stderr",
     "output_type": "stream",
     "text": [
      "C:\\Users\\theli\\AppData\\Local\\Temp\\ipykernel_6936\\3474906490.py:10: DataConversionWarning: A column-vector y was passed when a 1d array was expected. Please change the shape of y to (n_samples,), for example using ravel().\n",
      "  model_rf_balance.fit(features_train, target_train)\n"
     ]
    },
    {
     "name": "stdout",
     "output_type": "stream",
     "text": [
      "N estimators: 92 Глубина: 11 AUC: 0.9918285678248527\n"
     ]
    },
    {
     "name": "stderr",
     "output_type": "stream",
     "text": [
      "C:\\Users\\theli\\AppData\\Local\\Temp\\ipykernel_6936\\3474906490.py:10: DataConversionWarning: A column-vector y was passed when a 1d array was expected. Please change the shape of y to (n_samples,), for example using ravel().\n",
      "  model_rf_balance.fit(features_train, target_train)\n"
     ]
    },
    {
     "name": "stdout",
     "output_type": "stream",
     "text": [
      "N estimators: 92 Глубина: 12 AUC: 0.9940747493163172\n"
     ]
    },
    {
     "name": "stderr",
     "output_type": "stream",
     "text": [
      "C:\\Users\\theli\\AppData\\Local\\Temp\\ipykernel_6936\\3474906490.py:10: DataConversionWarning: A column-vector y was passed when a 1d array was expected. Please change the shape of y to (n_samples,), for example using ravel().\n",
      "  model_rf_balance.fit(features_train, target_train)\n"
     ]
    },
    {
     "name": "stdout",
     "output_type": "stream",
     "text": [
      "N estimators: 92 Глубина: 13 AUC: 0.9949863263445762\n"
     ]
    },
    {
     "name": "stderr",
     "output_type": "stream",
     "text": [
      "C:\\Users\\theli\\AppData\\Local\\Temp\\ipykernel_6936\\3474906490.py:10: DataConversionWarning: A column-vector y was passed when a 1d array was expected. Please change the shape of y to (n_samples,), for example using ravel().\n",
      "  model_rf_balance.fit(features_train, target_train)\n"
     ]
    },
    {
     "name": "stdout",
     "output_type": "stream",
     "text": [
      "N estimators: 92 Глубина: 14 AUC: 0.9949863263445762\n"
     ]
    },
    {
     "name": "stderr",
     "output_type": "stream",
     "text": [
      "C:\\Users\\theli\\AppData\\Local\\Temp\\ipykernel_6936\\3474906490.py:10: DataConversionWarning: A column-vector y was passed when a 1d array was expected. Please change the shape of y to (n_samples,), for example using ravel().\n",
      "  model_rf_balance.fit(features_train, target_train)\n"
     ]
    },
    {
     "name": "stdout",
     "output_type": "stream",
     "text": [
      "N estimators: 92 Глубина: 15 AUC: 0.9949863263445762\n"
     ]
    },
    {
     "name": "stderr",
     "output_type": "stream",
     "text": [
      "C:\\Users\\theli\\AppData\\Local\\Temp\\ipykernel_6936\\3474906490.py:10: DataConversionWarning: A column-vector y was passed when a 1d array was expected. Please change the shape of y to (n_samples,), for example using ravel().\n",
      "  model_rf_balance.fit(features_train, target_train)\n"
     ]
    },
    {
     "name": "stdout",
     "output_type": "stream",
     "text": [
      "N estimators: 92 Глубина: 16 AUC: 0.9949863263445762\n"
     ]
    },
    {
     "name": "stderr",
     "output_type": "stream",
     "text": [
      "C:\\Users\\theli\\AppData\\Local\\Temp\\ipykernel_6936\\3474906490.py:10: DataConversionWarning: A column-vector y was passed when a 1d array was expected. Please change the shape of y to (n_samples,), for example using ravel().\n",
      "  model_rf_balance.fit(features_train, target_train)\n"
     ]
    },
    {
     "name": "stdout",
     "output_type": "stream",
     "text": [
      "N estimators: 92 Глубина: 17 AUC: 0.9949863263445762\n"
     ]
    },
    {
     "name": "stderr",
     "output_type": "stream",
     "text": [
      "C:\\Users\\theli\\AppData\\Local\\Temp\\ipykernel_6936\\3474906490.py:10: DataConversionWarning: A column-vector y was passed when a 1d array was expected. Please change the shape of y to (n_samples,), for example using ravel().\n",
      "  model_rf_balance.fit(features_train, target_train)\n"
     ]
    },
    {
     "name": "stdout",
     "output_type": "stream",
     "text": [
      "N estimators: 92 Глубина: 18 AUC: 0.9949863263445762\n"
     ]
    },
    {
     "name": "stderr",
     "output_type": "stream",
     "text": [
      "C:\\Users\\theli\\AppData\\Local\\Temp\\ipykernel_6936\\3474906490.py:10: DataConversionWarning: A column-vector y was passed when a 1d array was expected. Please change the shape of y to (n_samples,), for example using ravel().\n",
      "  model_rf_balance.fit(features_train, target_train)\n",
      " 93%|█████████▎| 42/45 [02:33<00:18,  6.17s/it]"
     ]
    },
    {
     "name": "stdout",
     "output_type": "stream",
     "text": [
      "N estimators: 92 Глубина: 19 AUC: 0.9949863263445762\n"
     ]
    },
    {
     "name": "stderr",
     "output_type": "stream",
     "text": [
      "C:\\Users\\theli\\AppData\\Local\\Temp\\ipykernel_6936\\3474906490.py:10: DataConversionWarning: A column-vector y was passed when a 1d array was expected. Please change the shape of y to (n_samples,), for example using ravel().\n",
      "  model_rf_balance.fit(features_train, target_train)\n"
     ]
    },
    {
     "name": "stdout",
     "output_type": "stream",
     "text": [
      "N estimators: 94 Глубина: 10 AUC: 0.9832930781572876\n"
     ]
    },
    {
     "name": "stderr",
     "output_type": "stream",
     "text": [
      "C:\\Users\\theli\\AppData\\Local\\Temp\\ipykernel_6936\\3474906490.py:10: DataConversionWarning: A column-vector y was passed when a 1d array was expected. Please change the shape of y to (n_samples,), for example using ravel().\n",
      "  model_rf_balance.fit(features_train, target_train)\n"
     ]
    },
    {
     "name": "stdout",
     "output_type": "stream",
     "text": [
      "N estimators: 94 Глубина: 11 AUC: 0.9918285678248527\n"
     ]
    },
    {
     "name": "stderr",
     "output_type": "stream",
     "text": [
      "C:\\Users\\theli\\AppData\\Local\\Temp\\ipykernel_6936\\3474906490.py:10: DataConversionWarning: A column-vector y was passed when a 1d array was expected. Please change the shape of y to (n_samples,), for example using ravel().\n",
      "  model_rf_balance.fit(features_train, target_train)\n"
     ]
    },
    {
     "name": "stdout",
     "output_type": "stream",
     "text": [
      "N estimators: 94 Глубина: 12 AUC: 0.9940747493163172\n"
     ]
    },
    {
     "name": "stderr",
     "output_type": "stream",
     "text": [
      "C:\\Users\\theli\\AppData\\Local\\Temp\\ipykernel_6936\\3474906490.py:10: DataConversionWarning: A column-vector y was passed when a 1d array was expected. Please change the shape of y to (n_samples,), for example using ravel().\n",
      "  model_rf_balance.fit(features_train, target_train)\n"
     ]
    },
    {
     "name": "stdout",
     "output_type": "stream",
     "text": [
      "N estimators: 94 Глубина: 13 AUC: 0.9949863263445762\n"
     ]
    },
    {
     "name": "stderr",
     "output_type": "stream",
     "text": [
      "C:\\Users\\theli\\AppData\\Local\\Temp\\ipykernel_6936\\3474906490.py:10: DataConversionWarning: A column-vector y was passed when a 1d array was expected. Please change the shape of y to (n_samples,), for example using ravel().\n",
      "  model_rf_balance.fit(features_train, target_train)\n"
     ]
    },
    {
     "name": "stdout",
     "output_type": "stream",
     "text": [
      "N estimators: 94 Глубина: 14 AUC: 0.9949863263445762\n"
     ]
    },
    {
     "name": "stderr",
     "output_type": "stream",
     "text": [
      "C:\\Users\\theli\\AppData\\Local\\Temp\\ipykernel_6936\\3474906490.py:10: DataConversionWarning: A column-vector y was passed when a 1d array was expected. Please change the shape of y to (n_samples,), for example using ravel().\n",
      "  model_rf_balance.fit(features_train, target_train)\n"
     ]
    },
    {
     "name": "stdout",
     "output_type": "stream",
     "text": [
      "N estimators: 94 Глубина: 15 AUC: 0.9949863263445762\n"
     ]
    },
    {
     "name": "stderr",
     "output_type": "stream",
     "text": [
      "C:\\Users\\theli\\AppData\\Local\\Temp\\ipykernel_6936\\3474906490.py:10: DataConversionWarning: A column-vector y was passed when a 1d array was expected. Please change the shape of y to (n_samples,), for example using ravel().\n",
      "  model_rf_balance.fit(features_train, target_train)\n"
     ]
    },
    {
     "name": "stdout",
     "output_type": "stream",
     "text": [
      "N estimators: 94 Глубина: 16 AUC: 0.9949863263445762\n"
     ]
    },
    {
     "name": "stderr",
     "output_type": "stream",
     "text": [
      "C:\\Users\\theli\\AppData\\Local\\Temp\\ipykernel_6936\\3474906490.py:10: DataConversionWarning: A column-vector y was passed when a 1d array was expected. Please change the shape of y to (n_samples,), for example using ravel().\n",
      "  model_rf_balance.fit(features_train, target_train)\n"
     ]
    },
    {
     "name": "stdout",
     "output_type": "stream",
     "text": [
      "N estimators: 94 Глубина: 17 AUC: 0.9949863263445762\n"
     ]
    },
    {
     "name": "stderr",
     "output_type": "stream",
     "text": [
      "C:\\Users\\theli\\AppData\\Local\\Temp\\ipykernel_6936\\3474906490.py:10: DataConversionWarning: A column-vector y was passed when a 1d array was expected. Please change the shape of y to (n_samples,), for example using ravel().\n",
      "  model_rf_balance.fit(features_train, target_train)\n"
     ]
    },
    {
     "name": "stdout",
     "output_type": "stream",
     "text": [
      "N estimators: 94 Глубина: 18 AUC: 0.9949863263445762\n"
     ]
    },
    {
     "name": "stderr",
     "output_type": "stream",
     "text": [
      "C:\\Users\\theli\\AppData\\Local\\Temp\\ipykernel_6936\\3474906490.py:10: DataConversionWarning: A column-vector y was passed when a 1d array was expected. Please change the shape of y to (n_samples,), for example using ravel().\n",
      "  model_rf_balance.fit(features_train, target_train)\n",
      " 96%|█████████▌| 43/45 [02:40<00:12,  6.31s/it]"
     ]
    },
    {
     "name": "stdout",
     "output_type": "stream",
     "text": [
      "N estimators: 94 Глубина: 19 AUC: 0.9949863263445762\n"
     ]
    },
    {
     "name": "stderr",
     "output_type": "stream",
     "text": [
      "C:\\Users\\theli\\AppData\\Local\\Temp\\ipykernel_6936\\3474906490.py:10: DataConversionWarning: A column-vector y was passed when a 1d array was expected. Please change the shape of y to (n_samples,), for example using ravel().\n",
      "  model_rf_balance.fit(features_train, target_train)\n"
     ]
    },
    {
     "name": "stdout",
     "output_type": "stream",
     "text": [
      "N estimators: 96 Глубина: 10 AUC: 0.9855392596487521\n"
     ]
    },
    {
     "name": "stderr",
     "output_type": "stream",
     "text": [
      "C:\\Users\\theli\\AppData\\Local\\Temp\\ipykernel_6936\\3474906490.py:10: DataConversionWarning: A column-vector y was passed when a 1d array was expected. Please change the shape of y to (n_samples,), for example using ravel().\n",
      "  model_rf_balance.fit(features_train, target_train)\n"
     ]
    },
    {
     "name": "stdout",
     "output_type": "stream",
     "text": [
      "N estimators: 96 Глубина: 11 AUC: 0.9918285678248527\n"
     ]
    },
    {
     "name": "stderr",
     "output_type": "stream",
     "text": [
      "C:\\Users\\theli\\AppData\\Local\\Temp\\ipykernel_6936\\3474906490.py:10: DataConversionWarning: A column-vector y was passed when a 1d array was expected. Please change the shape of y to (n_samples,), for example using ravel().\n",
      "  model_rf_balance.fit(features_train, target_train)\n"
     ]
    },
    {
     "name": "stdout",
     "output_type": "stream",
     "text": [
      "N estimators: 96 Глубина: 12 AUC: 0.9940747493163172\n"
     ]
    },
    {
     "name": "stderr",
     "output_type": "stream",
     "text": [
      "C:\\Users\\theli\\AppData\\Local\\Temp\\ipykernel_6936\\3474906490.py:10: DataConversionWarning: A column-vector y was passed when a 1d array was expected. Please change the shape of y to (n_samples,), for example using ravel().\n",
      "  model_rf_balance.fit(features_train, target_train)\n"
     ]
    },
    {
     "name": "stdout",
     "output_type": "stream",
     "text": [
      "N estimators: 96 Глубина: 13 AUC: 0.9949863263445762\n"
     ]
    },
    {
     "name": "stderr",
     "output_type": "stream",
     "text": [
      "C:\\Users\\theli\\AppData\\Local\\Temp\\ipykernel_6936\\3474906490.py:10: DataConversionWarning: A column-vector y was passed when a 1d array was expected. Please change the shape of y to (n_samples,), for example using ravel().\n",
      "  model_rf_balance.fit(features_train, target_train)\n"
     ]
    },
    {
     "name": "stdout",
     "output_type": "stream",
     "text": [
      "N estimators: 96 Глубина: 14 AUC: 0.9949863263445762\n"
     ]
    },
    {
     "name": "stderr",
     "output_type": "stream",
     "text": [
      "C:\\Users\\theli\\AppData\\Local\\Temp\\ipykernel_6936\\3474906490.py:10: DataConversionWarning: A column-vector y was passed when a 1d array was expected. Please change the shape of y to (n_samples,), for example using ravel().\n",
      "  model_rf_balance.fit(features_train, target_train)\n"
     ]
    },
    {
     "name": "stdout",
     "output_type": "stream",
     "text": [
      "N estimators: 96 Глубина: 15 AUC: 0.9949863263445762\n"
     ]
    },
    {
     "name": "stderr",
     "output_type": "stream",
     "text": [
      "C:\\Users\\theli\\AppData\\Local\\Temp\\ipykernel_6936\\3474906490.py:10: DataConversionWarning: A column-vector y was passed when a 1d array was expected. Please change the shape of y to (n_samples,), for example using ravel().\n",
      "  model_rf_balance.fit(features_train, target_train)\n"
     ]
    },
    {
     "name": "stdout",
     "output_type": "stream",
     "text": [
      "N estimators: 96 Глубина: 16 AUC: 0.9949863263445762\n"
     ]
    },
    {
     "name": "stderr",
     "output_type": "stream",
     "text": [
      "C:\\Users\\theli\\AppData\\Local\\Temp\\ipykernel_6936\\3474906490.py:10: DataConversionWarning: A column-vector y was passed when a 1d array was expected. Please change the shape of y to (n_samples,), for example using ravel().\n",
      "  model_rf_balance.fit(features_train, target_train)\n"
     ]
    },
    {
     "name": "stdout",
     "output_type": "stream",
     "text": [
      "N estimators: 96 Глубина: 17 AUC: 0.9949863263445762\n"
     ]
    },
    {
     "name": "stderr",
     "output_type": "stream",
     "text": [
      "C:\\Users\\theli\\AppData\\Local\\Temp\\ipykernel_6936\\3474906490.py:10: DataConversionWarning: A column-vector y was passed when a 1d array was expected. Please change the shape of y to (n_samples,), for example using ravel().\n",
      "  model_rf_balance.fit(features_train, target_train)\n"
     ]
    },
    {
     "name": "stdout",
     "output_type": "stream",
     "text": [
      "N estimators: 96 Глубина: 18 AUC: 0.9949863263445762\n"
     ]
    },
    {
     "name": "stderr",
     "output_type": "stream",
     "text": [
      "C:\\Users\\theli\\AppData\\Local\\Temp\\ipykernel_6936\\3474906490.py:10: DataConversionWarning: A column-vector y was passed when a 1d array was expected. Please change the shape of y to (n_samples,), for example using ravel().\n",
      "  model_rf_balance.fit(features_train, target_train)\n",
      " 98%|█████████▊| 44/45 [02:46<00:06,  6.46s/it]"
     ]
    },
    {
     "name": "stdout",
     "output_type": "stream",
     "text": [
      "N estimators: 96 Глубина: 19 AUC: 0.9949863263445762\n"
     ]
    },
    {
     "name": "stderr",
     "output_type": "stream",
     "text": [
      "C:\\Users\\theli\\AppData\\Local\\Temp\\ipykernel_6936\\3474906490.py:10: DataConversionWarning: A column-vector y was passed when a 1d array was expected. Please change the shape of y to (n_samples,), for example using ravel().\n",
      "  model_rf_balance.fit(features_train, target_train)\n"
     ]
    },
    {
     "name": "stdout",
     "output_type": "stream",
     "text": [
      "N estimators: 98 Глубина: 10 AUC: 0.9873362048419237\n"
     ]
    },
    {
     "name": "stderr",
     "output_type": "stream",
     "text": [
      "C:\\Users\\theli\\AppData\\Local\\Temp\\ipykernel_6936\\3474906490.py:10: DataConversionWarning: A column-vector y was passed when a 1d array was expected. Please change the shape of y to (n_samples,), for example using ravel().\n",
      "  model_rf_balance.fit(features_train, target_train)\n"
     ]
    },
    {
     "name": "stdout",
     "output_type": "stream",
     "text": [
      "N estimators: 98 Глубина: 11 AUC: 0.9918285678248527\n"
     ]
    },
    {
     "name": "stderr",
     "output_type": "stream",
     "text": [
      "C:\\Users\\theli\\AppData\\Local\\Temp\\ipykernel_6936\\3474906490.py:10: DataConversionWarning: A column-vector y was passed when a 1d array was expected. Please change the shape of y to (n_samples,), for example using ravel().\n",
      "  model_rf_balance.fit(features_train, target_train)\n"
     ]
    },
    {
     "name": "stdout",
     "output_type": "stream",
     "text": [
      "N estimators: 98 Глубина: 12 AUC: 0.9940747493163172\n"
     ]
    },
    {
     "name": "stderr",
     "output_type": "stream",
     "text": [
      "C:\\Users\\theli\\AppData\\Local\\Temp\\ipykernel_6936\\3474906490.py:10: DataConversionWarning: A column-vector y was passed when a 1d array was expected. Please change the shape of y to (n_samples,), for example using ravel().\n",
      "  model_rf_balance.fit(features_train, target_train)\n"
     ]
    },
    {
     "name": "stdout",
     "output_type": "stream",
     "text": [
      "N estimators: 98 Глубина: 13 AUC: 0.9949863263445762\n"
     ]
    },
    {
     "name": "stderr",
     "output_type": "stream",
     "text": [
      "C:\\Users\\theli\\AppData\\Local\\Temp\\ipykernel_6936\\3474906490.py:10: DataConversionWarning: A column-vector y was passed when a 1d array was expected. Please change the shape of y to (n_samples,), for example using ravel().\n",
      "  model_rf_balance.fit(features_train, target_train)\n"
     ]
    },
    {
     "name": "stdout",
     "output_type": "stream",
     "text": [
      "N estimators: 98 Глубина: 14 AUC: 0.9949863263445762\n"
     ]
    },
    {
     "name": "stderr",
     "output_type": "stream",
     "text": [
      "C:\\Users\\theli\\AppData\\Local\\Temp\\ipykernel_6936\\3474906490.py:10: DataConversionWarning: A column-vector y was passed when a 1d array was expected. Please change the shape of y to (n_samples,), for example using ravel().\n",
      "  model_rf_balance.fit(features_train, target_train)\n"
     ]
    },
    {
     "name": "stdout",
     "output_type": "stream",
     "text": [
      "N estimators: 98 Глубина: 15 AUC: 0.9949863263445762\n"
     ]
    },
    {
     "name": "stderr",
     "output_type": "stream",
     "text": [
      "C:\\Users\\theli\\AppData\\Local\\Temp\\ipykernel_6936\\3474906490.py:10: DataConversionWarning: A column-vector y was passed when a 1d array was expected. Please change the shape of y to (n_samples,), for example using ravel().\n",
      "  model_rf_balance.fit(features_train, target_train)\n"
     ]
    },
    {
     "name": "stdout",
     "output_type": "stream",
     "text": [
      "N estimators: 98 Глубина: 16 AUC: 0.9949863263445762\n"
     ]
    },
    {
     "name": "stderr",
     "output_type": "stream",
     "text": [
      "C:\\Users\\theli\\AppData\\Local\\Temp\\ipykernel_6936\\3474906490.py:10: DataConversionWarning: A column-vector y was passed when a 1d array was expected. Please change the shape of y to (n_samples,), for example using ravel().\n",
      "  model_rf_balance.fit(features_train, target_train)\n"
     ]
    },
    {
     "name": "stdout",
     "output_type": "stream",
     "text": [
      "N estimators: 98 Глубина: 17 AUC: 0.9949863263445762\n"
     ]
    },
    {
     "name": "stderr",
     "output_type": "stream",
     "text": [
      "C:\\Users\\theli\\AppData\\Local\\Temp\\ipykernel_6936\\3474906490.py:10: DataConversionWarning: A column-vector y was passed when a 1d array was expected. Please change the shape of y to (n_samples,), for example using ravel().\n",
      "  model_rf_balance.fit(features_train, target_train)\n"
     ]
    },
    {
     "name": "stdout",
     "output_type": "stream",
     "text": [
      "N estimators: 98 Глубина: 18 AUC: 0.9949863263445762\n"
     ]
    },
    {
     "name": "stderr",
     "output_type": "stream",
     "text": [
      "C:\\Users\\theli\\AppData\\Local\\Temp\\ipykernel_6936\\3474906490.py:10: DataConversionWarning: A column-vector y was passed when a 1d array was expected. Please change the shape of y to (n_samples,), for example using ravel().\n",
      "  model_rf_balance.fit(features_train, target_train)\n",
      "100%|██████████| 45/45 [02:53<00:00,  3.86s/it]"
     ]
    },
    {
     "name": "stdout",
     "output_type": "stream",
     "text": [
      "N estimators: 98 Глубина: 19 AUC: 0.9949863263445762\n",
      "Лучшая AUC-мера 0.9954486670745422 при глубине = 16 и количестве деревьев = 18\n"
     ]
    },
    {
     "name": "stderr",
     "output_type": "stream",
     "text": [
      "\n"
     ]
    }
   ],
   "source": [
    "best_model_rf_balance = None\n",
    "best_result_balance = 0\n",
    "best_depth_balance = 0\n",
    "best_est_balance = 0\n",
    "\n",
    "for estimator in tqdm(range(10, 100, 2)):\n",
    "    for depth in range(10, 20):\n",
    "        model_rf_balance =  RandomForestClassifier(random_state=12345, n_estimators=estimator, \n",
    "                                                   max_depth = depth, class_weight='balanced')\n",
    "        model_rf_balance.fit(features_train, target_train)\n",
    "        predicted_valid = model_rf_balance.predict(features_valid)\n",
    "        print('N estimators:', estimator, 'Глубина:', depth, 'AUC:', roc_auc_score(target_valid, predicted_valid))\n",
    "        result = roc_auc_score(target_valid, predicted_valid) \n",
    "        \n",
    "        if result > best_result_balance:\n",
    "            best_model_rf_balance = model_rf_balance\n",
    "            best_result_balance = result\n",
    "            best_depth_balance = depth\n",
    "            best_est_balance = estimator\n",
    "\n",
    "print(\"Лучшая AUC-мера\", best_result_balance, 'при глубине = {0} и количестве деревьев = {1}'.format(best_depth_balance,\n",
    "                                                                                           best_est_balance))\n"
   ]
  },
  {
   "cell_type": "code",
   "execution_count": 32,
   "id": "69a4b43a",
   "metadata": {
    "scrolled": true
   },
   "outputs": [
    {
     "data": {
      "text/html": [
       "<div>\n",
       "<style scoped>\n",
       "    .dataframe tbody tr th:only-of-type {\n",
       "        vertical-align: middle;\n",
       "    }\n",
       "\n",
       "    .dataframe tbody tr th {\n",
       "        vertical-align: top;\n",
       "    }\n",
       "\n",
       "    .dataframe thead th {\n",
       "        text-align: right;\n",
       "    }\n",
       "</style>\n",
       "<table border=\"1\" class=\"dataframe\">\n",
       "  <thead>\n",
       "    <tr style=\"text-align: right;\">\n",
       "      <th></th>\n",
       "      <th>p1_id</th>\n",
       "      <th>p1_total_kills</th>\n",
       "      <th>p1_headshots</th>\n",
       "      <th>p1_total_deaths</th>\n",
       "      <th>p1_kd_ratio</th>\n",
       "      <th>p1_damage_per_round</th>\n",
       "      <th>p1_grenade_damage_per_round</th>\n",
       "      <th>p1_maps_played</th>\n",
       "      <th>p1_rounds_played</th>\n",
       "      <th>p1_kills_per_round</th>\n",
       "      <th>p1_assists_per_round</th>\n",
       "      <th>p1_deaths_per_round</th>\n",
       "      <th>p1_saved_by_teammate_per_round</th>\n",
       "      <th>p1_saved_teammates_per_round</th>\n",
       "      <th>p1_rating</th>\n",
       "      <th>p1_kill_death</th>\n",
       "      <th>p1_kill_round</th>\n",
       "      <th>p1_rounds_with_kills</th>\n",
       "      <th>p1_kill_death_difference</th>\n",
       "      <th>p1_total_opening_kills</th>\n",
       "      <th>p1_total_opening_deaths</th>\n",
       "      <th>p1_opening_kill_ratio</th>\n",
       "      <th>p1_opening_kill_rating</th>\n",
       "      <th>p1_team_win_percent_after_first_kill</th>\n",
       "      <th>p1_first_kill_in_won_rounds</th>\n",
       "      <th>p2_id</th>\n",
       "      <th>p2_total_kills</th>\n",
       "      <th>p2_headshots</th>\n",
       "      <th>p2_total_deaths</th>\n",
       "      <th>p2_kd_ratio</th>\n",
       "      <th>p2_damage_per_round</th>\n",
       "      <th>p2_grenade_damage_per_round</th>\n",
       "      <th>p2_maps_played</th>\n",
       "      <th>p2_rounds_played</th>\n",
       "      <th>p2_kills_per_round</th>\n",
       "      <th>p2_assists_per_round</th>\n",
       "      <th>p2_deaths_per_round</th>\n",
       "      <th>p2_saved_by_teammate_per_round</th>\n",
       "      <th>p2_saved_teammates_per_round</th>\n",
       "      <th>p2_rating</th>\n",
       "      <th>p2_kill_death</th>\n",
       "      <th>p2_kill_round</th>\n",
       "      <th>p2_rounds_with_kills</th>\n",
       "      <th>p2_kill_death_difference</th>\n",
       "      <th>p2_total_opening_kills</th>\n",
       "      <th>p2_total_opening_deaths</th>\n",
       "      <th>p2_opening_kill_ratio</th>\n",
       "      <th>p2_opening_kill_rating</th>\n",
       "      <th>p2_team_win_percent_after_first_kill</th>\n",
       "      <th>p2_first_kill_in_won_rounds</th>\n",
       "      <th>p3_id</th>\n",
       "      <th>p3_total_kills</th>\n",
       "      <th>p3_headshots</th>\n",
       "      <th>p3_total_deaths</th>\n",
       "      <th>p3_kd_ratio</th>\n",
       "      <th>p3_damage_per_round</th>\n",
       "      <th>p3_grenade_damage_per_round</th>\n",
       "      <th>p3_maps_played</th>\n",
       "      <th>p3_rounds_played</th>\n",
       "      <th>p3_kills_per_round</th>\n",
       "      <th>p3_assists_per_round</th>\n",
       "      <th>p3_deaths_per_round</th>\n",
       "      <th>p3_saved_by_teammate_per_round</th>\n",
       "      <th>p3_saved_teammates_per_round</th>\n",
       "      <th>p3_rating</th>\n",
       "      <th>p3_kill_death</th>\n",
       "      <th>p3_kill_round</th>\n",
       "      <th>p3_rounds_with_kills</th>\n",
       "      <th>p3_kill_death_difference</th>\n",
       "      <th>p3_total_opening_kills</th>\n",
       "      <th>p3_total_opening_deaths</th>\n",
       "      <th>p3_opening_kill_ratio</th>\n",
       "      <th>p3_opening_kill_rating</th>\n",
       "      <th>p3_team_win_percent_after_first_kill</th>\n",
       "      <th>p3_first_kill_in_won_rounds</th>\n",
       "      <th>p4_id</th>\n",
       "      <th>p4_total_kills</th>\n",
       "      <th>p4_headshots</th>\n",
       "      <th>p4_total_deaths</th>\n",
       "      <th>p4_kd_ratio</th>\n",
       "      <th>p4_damage_per_round</th>\n",
       "      <th>p4_grenade_damage_per_round</th>\n",
       "      <th>p4_maps_played</th>\n",
       "      <th>p4_rounds_played</th>\n",
       "      <th>p4_kills_per_round</th>\n",
       "      <th>p4_assists_per_round</th>\n",
       "      <th>p4_deaths_per_round</th>\n",
       "      <th>p4_saved_by_teammate_per_round</th>\n",
       "      <th>p4_saved_teammates_per_round</th>\n",
       "      <th>p4_rating</th>\n",
       "      <th>p4_kill_death</th>\n",
       "      <th>p4_kill_round</th>\n",
       "      <th>p4_rounds_with_kills</th>\n",
       "      <th>p4_kill_death_difference</th>\n",
       "      <th>p4_total_opening_kills</th>\n",
       "      <th>p4_total_opening_deaths</th>\n",
       "      <th>p4_opening_kill_ratio</th>\n",
       "      <th>p4_opening_kill_rating</th>\n",
       "      <th>p4_team_win_percent_after_first_kill</th>\n",
       "      <th>p4_first_kill_in_won_rounds</th>\n",
       "      <th>p5_id</th>\n",
       "      <th>p5_total_kills</th>\n",
       "      <th>p5_headshots</th>\n",
       "      <th>p5_total_deaths</th>\n",
       "      <th>p5_kd_ratio</th>\n",
       "      <th>p5_damage_per_round</th>\n",
       "      <th>p5_grenade_damage_per_round</th>\n",
       "      <th>p5_maps_played</th>\n",
       "      <th>p5_rounds_played</th>\n",
       "      <th>p5_kills_per_round</th>\n",
       "      <th>p5_assists_per_round</th>\n",
       "      <th>p5_deaths_per_round</th>\n",
       "      <th>p5_saved_by_teammate_per_round</th>\n",
       "      <th>p5_saved_teammates_per_round</th>\n",
       "      <th>p5_rating</th>\n",
       "      <th>p5_kill_death</th>\n",
       "      <th>p5_kill_round</th>\n",
       "      <th>p5_rounds_with_kills</th>\n",
       "      <th>p5_kill_death_difference</th>\n",
       "      <th>p5_total_opening_kills</th>\n",
       "      <th>p5_total_opening_deaths</th>\n",
       "      <th>p5_opening_kill_ratio</th>\n",
       "      <th>p5_opening_kill_rating</th>\n",
       "      <th>p5_team_win_percent_after_first_kill</th>\n",
       "      <th>p5_first_kill_in_won_rounds</th>\n",
       "      <th>team_id</th>\n",
       "      <th>map_name_x</th>\n",
       "      <th>map_id_x</th>\n",
       "      <th>team1_id_x</th>\n",
       "      <th>team2_id</th>\n",
       "      <th>map_name_y</th>\n",
       "      <th>who_win_x</th>\n",
       "      <th>map_id_y</th>\n",
       "      <th>team1_id_y</th>\n",
       "      <th>map_name</th>\n",
       "      <th>who_win_y</th>\n",
       "    </tr>\n",
       "  </thead>\n",
       "  <tbody>\n",
       "    <tr>\n",
       "      <th>0</th>\n",
       "      <td>4954</td>\n",
       "      <td>90</td>\n",
       "      <td>42.2</td>\n",
       "      <td>112</td>\n",
       "      <td>0.8</td>\n",
       "      <td>76.3</td>\n",
       "      <td>5.9</td>\n",
       "      <td>6</td>\n",
       "      <td>156</td>\n",
       "      <td>0.58</td>\n",
       "      <td>0.24</td>\n",
       "      <td>0.72</td>\n",
       "      <td>0.13</td>\n",
       "      <td>0.05</td>\n",
       "      <td>0.98</td>\n",
       "      <td>0.8</td>\n",
       "      <td>0.58</td>\n",
       "      <td>62</td>\n",
       "      <td>-22</td>\n",
       "      <td>10</td>\n",
       "      <td>13</td>\n",
       "      <td>0.77</td>\n",
       "      <td>0.85</td>\n",
       "      <td>60.0</td>\n",
       "      <td>8.2</td>\n",
       "      <td>7412</td>\n",
       "      <td>106</td>\n",
       "      <td>35.8</td>\n",
       "      <td>119</td>\n",
       "      <td>0.89</td>\n",
       "      <td>66.8</td>\n",
       "      <td>5.6</td>\n",
       "      <td>7</td>\n",
       "      <td>181</td>\n",
       "      <td>0.59</td>\n",
       "      <td>0.09</td>\n",
       "      <td>0.66</td>\n",
       "      <td>0.07</td>\n",
       "      <td>0.06</td>\n",
       "      <td>0.91</td>\n",
       "      <td>0.89</td>\n",
       "      <td>0.59</td>\n",
       "      <td>75</td>\n",
       "      <td>-13</td>\n",
       "      <td>17</td>\n",
       "      <td>27</td>\n",
       "      <td>0.63</td>\n",
       "      <td>0.89</td>\n",
       "      <td>82.4</td>\n",
       "      <td>15.4</td>\n",
       "      <td>9078</td>\n",
       "      <td>46</td>\n",
       "      <td>65.2</td>\n",
       "      <td>54</td>\n",
       "      <td>0.85</td>\n",
       "      <td>76.9</td>\n",
       "      <td>4.5</td>\n",
       "      <td>3</td>\n",
       "      <td>75</td>\n",
       "      <td>0.61</td>\n",
       "      <td>0.16</td>\n",
       "      <td>0.72</td>\n",
       "      <td>0.07</td>\n",
       "      <td>0.07</td>\n",
       "      <td>0.93</td>\n",
       "      <td>0.85</td>\n",
       "      <td>0.61</td>\n",
       "      <td>34</td>\n",
       "      <td>-8</td>\n",
       "      <td>4</td>\n",
       "      <td>14</td>\n",
       "      <td>0.29</td>\n",
       "      <td>0.62</td>\n",
       "      <td>50.0</td>\n",
       "      <td>5.0</td>\n",
       "      <td>13843</td>\n",
       "      <td>110</td>\n",
       "      <td>40.9</td>\n",
       "      <td>139</td>\n",
       "      <td>0.79</td>\n",
       "      <td>53.8</td>\n",
       "      <td>3.0</td>\n",
       "      <td>8</td>\n",
       "      <td>204</td>\n",
       "      <td>0.54</td>\n",
       "      <td>0.06</td>\n",
       "      <td>0.68</td>\n",
       "      <td>0.06</td>\n",
       "      <td>0.09</td>\n",
       "      <td>0.83</td>\n",
       "      <td>0.79</td>\n",
       "      <td>0.54</td>\n",
       "      <td>80</td>\n",
       "      <td>-29</td>\n",
       "      <td>15</td>\n",
       "      <td>20</td>\n",
       "      <td>0.75</td>\n",
       "      <td>0.87</td>\n",
       "      <td>53.3</td>\n",
       "      <td>8.2</td>\n",
       "      <td>15165</td>\n",
       "      <td>140</td>\n",
       "      <td>40.7</td>\n",
       "      <td>133</td>\n",
       "      <td>1.05</td>\n",
       "      <td>83.9</td>\n",
       "      <td>9.2</td>\n",
       "      <td>8</td>\n",
       "      <td>198</td>\n",
       "      <td>0.71</td>\n",
       "      <td>0.17</td>\n",
       "      <td>0.67</td>\n",
       "      <td>0.07</td>\n",
       "      <td>0.07</td>\n",
       "      <td>1.16</td>\n",
       "      <td>1.04</td>\n",
       "      <td>0.7</td>\n",
       "      <td>84</td>\n",
       "      <td>5</td>\n",
       "      <td>25</td>\n",
       "      <td>12</td>\n",
       "      <td>2.08</td>\n",
       "      <td>1.28</td>\n",
       "      <td>84.0</td>\n",
       "      <td>25.0</td>\n",
       "      <td>6665</td>\n",
       "      <td>Ancient</td>\n",
       "      <td>635</td>\n",
       "      <td>6665</td>\n",
       "      <td>7532</td>\n",
       "      <td>Ancient</td>\n",
       "      <td>1</td>\n",
       "      <td>524</td>\n",
       "      <td>4608</td>\n",
       "      <td>Mirage</td>\n",
       "      <td>0</td>\n",
       "    </tr>\n",
       "    <tr>\n",
       "      <th>1</th>\n",
       "      <td>4954</td>\n",
       "      <td>90</td>\n",
       "      <td>42.2</td>\n",
       "      <td>112</td>\n",
       "      <td>0.8</td>\n",
       "      <td>76.3</td>\n",
       "      <td>5.9</td>\n",
       "      <td>6</td>\n",
       "      <td>156</td>\n",
       "      <td>0.58</td>\n",
       "      <td>0.24</td>\n",
       "      <td>0.72</td>\n",
       "      <td>0.13</td>\n",
       "      <td>0.05</td>\n",
       "      <td>0.98</td>\n",
       "      <td>0.8</td>\n",
       "      <td>0.58</td>\n",
       "      <td>62</td>\n",
       "      <td>-22</td>\n",
       "      <td>10</td>\n",
       "      <td>13</td>\n",
       "      <td>0.77</td>\n",
       "      <td>0.85</td>\n",
       "      <td>60.0</td>\n",
       "      <td>8.2</td>\n",
       "      <td>7412</td>\n",
       "      <td>106</td>\n",
       "      <td>35.8</td>\n",
       "      <td>119</td>\n",
       "      <td>0.89</td>\n",
       "      <td>66.8</td>\n",
       "      <td>5.6</td>\n",
       "      <td>7</td>\n",
       "      <td>181</td>\n",
       "      <td>0.59</td>\n",
       "      <td>0.09</td>\n",
       "      <td>0.66</td>\n",
       "      <td>0.07</td>\n",
       "      <td>0.06</td>\n",
       "      <td>0.91</td>\n",
       "      <td>0.89</td>\n",
       "      <td>0.59</td>\n",
       "      <td>75</td>\n",
       "      <td>-13</td>\n",
       "      <td>17</td>\n",
       "      <td>27</td>\n",
       "      <td>0.63</td>\n",
       "      <td>0.89</td>\n",
       "      <td>82.4</td>\n",
       "      <td>15.4</td>\n",
       "      <td>9078</td>\n",
       "      <td>46</td>\n",
       "      <td>65.2</td>\n",
       "      <td>54</td>\n",
       "      <td>0.85</td>\n",
       "      <td>76.9</td>\n",
       "      <td>4.5</td>\n",
       "      <td>3</td>\n",
       "      <td>75</td>\n",
       "      <td>0.61</td>\n",
       "      <td>0.16</td>\n",
       "      <td>0.72</td>\n",
       "      <td>0.07</td>\n",
       "      <td>0.07</td>\n",
       "      <td>0.93</td>\n",
       "      <td>0.85</td>\n",
       "      <td>0.61</td>\n",
       "      <td>34</td>\n",
       "      <td>-8</td>\n",
       "      <td>4</td>\n",
       "      <td>14</td>\n",
       "      <td>0.29</td>\n",
       "      <td>0.62</td>\n",
       "      <td>50.0</td>\n",
       "      <td>5.0</td>\n",
       "      <td>13843</td>\n",
       "      <td>110</td>\n",
       "      <td>40.9</td>\n",
       "      <td>139</td>\n",
       "      <td>0.79</td>\n",
       "      <td>53.8</td>\n",
       "      <td>3.0</td>\n",
       "      <td>8</td>\n",
       "      <td>204</td>\n",
       "      <td>0.54</td>\n",
       "      <td>0.06</td>\n",
       "      <td>0.68</td>\n",
       "      <td>0.06</td>\n",
       "      <td>0.09</td>\n",
       "      <td>0.83</td>\n",
       "      <td>0.79</td>\n",
       "      <td>0.54</td>\n",
       "      <td>80</td>\n",
       "      <td>-29</td>\n",
       "      <td>15</td>\n",
       "      <td>20</td>\n",
       "      <td>0.75</td>\n",
       "      <td>0.87</td>\n",
       "      <td>53.3</td>\n",
       "      <td>8.2</td>\n",
       "      <td>15165</td>\n",
       "      <td>140</td>\n",
       "      <td>40.7</td>\n",
       "      <td>133</td>\n",
       "      <td>1.05</td>\n",
       "      <td>83.9</td>\n",
       "      <td>9.2</td>\n",
       "      <td>8</td>\n",
       "      <td>198</td>\n",
       "      <td>0.71</td>\n",
       "      <td>0.17</td>\n",
       "      <td>0.67</td>\n",
       "      <td>0.07</td>\n",
       "      <td>0.07</td>\n",
       "      <td>1.16</td>\n",
       "      <td>1.04</td>\n",
       "      <td>0.7</td>\n",
       "      <td>84</td>\n",
       "      <td>5</td>\n",
       "      <td>25</td>\n",
       "      <td>12</td>\n",
       "      <td>2.08</td>\n",
       "      <td>1.28</td>\n",
       "      <td>84.0</td>\n",
       "      <td>25.0</td>\n",
       "      <td>6665</td>\n",
       "      <td>Ancient</td>\n",
       "      <td>635</td>\n",
       "      <td>6665</td>\n",
       "      <td>7532</td>\n",
       "      <td>Ancient</td>\n",
       "      <td>1</td>\n",
       "      <td>98</td>\n",
       "      <td>9215</td>\n",
       "      <td>Mirage</td>\n",
       "      <td>1</td>\n",
       "    </tr>\n",
       "    <tr>\n",
       "      <th>2</th>\n",
       "      <td>4954</td>\n",
       "      <td>90</td>\n",
       "      <td>42.2</td>\n",
       "      <td>112</td>\n",
       "      <td>0.8</td>\n",
       "      <td>76.3</td>\n",
       "      <td>5.9</td>\n",
       "      <td>6</td>\n",
       "      <td>156</td>\n",
       "      <td>0.58</td>\n",
       "      <td>0.24</td>\n",
       "      <td>0.72</td>\n",
       "      <td>0.13</td>\n",
       "      <td>0.05</td>\n",
       "      <td>0.98</td>\n",
       "      <td>0.8</td>\n",
       "      <td>0.58</td>\n",
       "      <td>62</td>\n",
       "      <td>-22</td>\n",
       "      <td>10</td>\n",
       "      <td>13</td>\n",
       "      <td>0.77</td>\n",
       "      <td>0.85</td>\n",
       "      <td>60.0</td>\n",
       "      <td>8.2</td>\n",
       "      <td>7412</td>\n",
       "      <td>106</td>\n",
       "      <td>35.8</td>\n",
       "      <td>119</td>\n",
       "      <td>0.89</td>\n",
       "      <td>66.8</td>\n",
       "      <td>5.6</td>\n",
       "      <td>7</td>\n",
       "      <td>181</td>\n",
       "      <td>0.59</td>\n",
       "      <td>0.09</td>\n",
       "      <td>0.66</td>\n",
       "      <td>0.07</td>\n",
       "      <td>0.06</td>\n",
       "      <td>0.91</td>\n",
       "      <td>0.89</td>\n",
       "      <td>0.59</td>\n",
       "      <td>75</td>\n",
       "      <td>-13</td>\n",
       "      <td>17</td>\n",
       "      <td>27</td>\n",
       "      <td>0.63</td>\n",
       "      <td>0.89</td>\n",
       "      <td>82.4</td>\n",
       "      <td>15.4</td>\n",
       "      <td>9078</td>\n",
       "      <td>46</td>\n",
       "      <td>65.2</td>\n",
       "      <td>54</td>\n",
       "      <td>0.85</td>\n",
       "      <td>76.9</td>\n",
       "      <td>4.5</td>\n",
       "      <td>3</td>\n",
       "      <td>75</td>\n",
       "      <td>0.61</td>\n",
       "      <td>0.16</td>\n",
       "      <td>0.72</td>\n",
       "      <td>0.07</td>\n",
       "      <td>0.07</td>\n",
       "      <td>0.93</td>\n",
       "      <td>0.85</td>\n",
       "      <td>0.61</td>\n",
       "      <td>34</td>\n",
       "      <td>-8</td>\n",
       "      <td>4</td>\n",
       "      <td>14</td>\n",
       "      <td>0.29</td>\n",
       "      <td>0.62</td>\n",
       "      <td>50.0</td>\n",
       "      <td>5.0</td>\n",
       "      <td>13843</td>\n",
       "      <td>110</td>\n",
       "      <td>40.9</td>\n",
       "      <td>139</td>\n",
       "      <td>0.79</td>\n",
       "      <td>53.8</td>\n",
       "      <td>3.0</td>\n",
       "      <td>8</td>\n",
       "      <td>204</td>\n",
       "      <td>0.54</td>\n",
       "      <td>0.06</td>\n",
       "      <td>0.68</td>\n",
       "      <td>0.06</td>\n",
       "      <td>0.09</td>\n",
       "      <td>0.83</td>\n",
       "      <td>0.79</td>\n",
       "      <td>0.54</td>\n",
       "      <td>80</td>\n",
       "      <td>-29</td>\n",
       "      <td>15</td>\n",
       "      <td>20</td>\n",
       "      <td>0.75</td>\n",
       "      <td>0.87</td>\n",
       "      <td>53.3</td>\n",
       "      <td>8.2</td>\n",
       "      <td>15165</td>\n",
       "      <td>140</td>\n",
       "      <td>40.7</td>\n",
       "      <td>133</td>\n",
       "      <td>1.05</td>\n",
       "      <td>83.9</td>\n",
       "      <td>9.2</td>\n",
       "      <td>8</td>\n",
       "      <td>198</td>\n",
       "      <td>0.71</td>\n",
       "      <td>0.17</td>\n",
       "      <td>0.67</td>\n",
       "      <td>0.07</td>\n",
       "      <td>0.07</td>\n",
       "      <td>1.16</td>\n",
       "      <td>1.04</td>\n",
       "      <td>0.7</td>\n",
       "      <td>84</td>\n",
       "      <td>5</td>\n",
       "      <td>25</td>\n",
       "      <td>12</td>\n",
       "      <td>2.08</td>\n",
       "      <td>1.28</td>\n",
       "      <td>84.0</td>\n",
       "      <td>25.0</td>\n",
       "      <td>6665</td>\n",
       "      <td>Ancient</td>\n",
       "      <td>635</td>\n",
       "      <td>6665</td>\n",
       "      <td>7532</td>\n",
       "      <td>Ancient</td>\n",
       "      <td>1</td>\n",
       "      <td>297</td>\n",
       "      <td>8297</td>\n",
       "      <td>Nuke</td>\n",
       "      <td>1</td>\n",
       "    </tr>\n",
       "    <tr>\n",
       "      <th>3</th>\n",
       "      <td>4954</td>\n",
       "      <td>90</td>\n",
       "      <td>42.2</td>\n",
       "      <td>112</td>\n",
       "      <td>0.8</td>\n",
       "      <td>76.3</td>\n",
       "      <td>5.9</td>\n",
       "      <td>6</td>\n",
       "      <td>156</td>\n",
       "      <td>0.58</td>\n",
       "      <td>0.24</td>\n",
       "      <td>0.72</td>\n",
       "      <td>0.13</td>\n",
       "      <td>0.05</td>\n",
       "      <td>0.98</td>\n",
       "      <td>0.8</td>\n",
       "      <td>0.58</td>\n",
       "      <td>62</td>\n",
       "      <td>-22</td>\n",
       "      <td>10</td>\n",
       "      <td>13</td>\n",
       "      <td>0.77</td>\n",
       "      <td>0.85</td>\n",
       "      <td>60.0</td>\n",
       "      <td>8.2</td>\n",
       "      <td>7412</td>\n",
       "      <td>106</td>\n",
       "      <td>35.8</td>\n",
       "      <td>119</td>\n",
       "      <td>0.89</td>\n",
       "      <td>66.8</td>\n",
       "      <td>5.6</td>\n",
       "      <td>7</td>\n",
       "      <td>181</td>\n",
       "      <td>0.59</td>\n",
       "      <td>0.09</td>\n",
       "      <td>0.66</td>\n",
       "      <td>0.07</td>\n",
       "      <td>0.06</td>\n",
       "      <td>0.91</td>\n",
       "      <td>0.89</td>\n",
       "      <td>0.59</td>\n",
       "      <td>75</td>\n",
       "      <td>-13</td>\n",
       "      <td>17</td>\n",
       "      <td>27</td>\n",
       "      <td>0.63</td>\n",
       "      <td>0.89</td>\n",
       "      <td>82.4</td>\n",
       "      <td>15.4</td>\n",
       "      <td>9078</td>\n",
       "      <td>46</td>\n",
       "      <td>65.2</td>\n",
       "      <td>54</td>\n",
       "      <td>0.85</td>\n",
       "      <td>76.9</td>\n",
       "      <td>4.5</td>\n",
       "      <td>3</td>\n",
       "      <td>75</td>\n",
       "      <td>0.61</td>\n",
       "      <td>0.16</td>\n",
       "      <td>0.72</td>\n",
       "      <td>0.07</td>\n",
       "      <td>0.07</td>\n",
       "      <td>0.93</td>\n",
       "      <td>0.85</td>\n",
       "      <td>0.61</td>\n",
       "      <td>34</td>\n",
       "      <td>-8</td>\n",
       "      <td>4</td>\n",
       "      <td>14</td>\n",
       "      <td>0.29</td>\n",
       "      <td>0.62</td>\n",
       "      <td>50.0</td>\n",
       "      <td>5.0</td>\n",
       "      <td>13843</td>\n",
       "      <td>110</td>\n",
       "      <td>40.9</td>\n",
       "      <td>139</td>\n",
       "      <td>0.79</td>\n",
       "      <td>53.8</td>\n",
       "      <td>3.0</td>\n",
       "      <td>8</td>\n",
       "      <td>204</td>\n",
       "      <td>0.54</td>\n",
       "      <td>0.06</td>\n",
       "      <td>0.68</td>\n",
       "      <td>0.06</td>\n",
       "      <td>0.09</td>\n",
       "      <td>0.83</td>\n",
       "      <td>0.79</td>\n",
       "      <td>0.54</td>\n",
       "      <td>80</td>\n",
       "      <td>-29</td>\n",
       "      <td>15</td>\n",
       "      <td>20</td>\n",
       "      <td>0.75</td>\n",
       "      <td>0.87</td>\n",
       "      <td>53.3</td>\n",
       "      <td>8.2</td>\n",
       "      <td>15165</td>\n",
       "      <td>140</td>\n",
       "      <td>40.7</td>\n",
       "      <td>133</td>\n",
       "      <td>1.05</td>\n",
       "      <td>83.9</td>\n",
       "      <td>9.2</td>\n",
       "      <td>8</td>\n",
       "      <td>198</td>\n",
       "      <td>0.71</td>\n",
       "      <td>0.17</td>\n",
       "      <td>0.67</td>\n",
       "      <td>0.07</td>\n",
       "      <td>0.07</td>\n",
       "      <td>1.16</td>\n",
       "      <td>1.04</td>\n",
       "      <td>0.7</td>\n",
       "      <td>84</td>\n",
       "      <td>5</td>\n",
       "      <td>25</td>\n",
       "      <td>12</td>\n",
       "      <td>2.08</td>\n",
       "      <td>1.28</td>\n",
       "      <td>84.0</td>\n",
       "      <td>25.0</td>\n",
       "      <td>6665</td>\n",
       "      <td>Ancient</td>\n",
       "      <td>635</td>\n",
       "      <td>6665</td>\n",
       "      <td>7532</td>\n",
       "      <td>Ancient</td>\n",
       "      <td>1</td>\n",
       "      <td>58</td>\n",
       "      <td>4991</td>\n",
       "      <td>Vertigo</td>\n",
       "      <td>1</td>\n",
       "    </tr>\n",
       "    <tr>\n",
       "      <th>4</th>\n",
       "      <td>4954</td>\n",
       "      <td>90</td>\n",
       "      <td>42.2</td>\n",
       "      <td>112</td>\n",
       "      <td>0.8</td>\n",
       "      <td>76.3</td>\n",
       "      <td>5.9</td>\n",
       "      <td>6</td>\n",
       "      <td>156</td>\n",
       "      <td>0.58</td>\n",
       "      <td>0.24</td>\n",
       "      <td>0.72</td>\n",
       "      <td>0.13</td>\n",
       "      <td>0.05</td>\n",
       "      <td>0.98</td>\n",
       "      <td>0.8</td>\n",
       "      <td>0.58</td>\n",
       "      <td>62</td>\n",
       "      <td>-22</td>\n",
       "      <td>10</td>\n",
       "      <td>13</td>\n",
       "      <td>0.77</td>\n",
       "      <td>0.85</td>\n",
       "      <td>60.0</td>\n",
       "      <td>8.2</td>\n",
       "      <td>7412</td>\n",
       "      <td>106</td>\n",
       "      <td>35.8</td>\n",
       "      <td>119</td>\n",
       "      <td>0.89</td>\n",
       "      <td>66.8</td>\n",
       "      <td>5.6</td>\n",
       "      <td>7</td>\n",
       "      <td>181</td>\n",
       "      <td>0.59</td>\n",
       "      <td>0.09</td>\n",
       "      <td>0.66</td>\n",
       "      <td>0.07</td>\n",
       "      <td>0.06</td>\n",
       "      <td>0.91</td>\n",
       "      <td>0.89</td>\n",
       "      <td>0.59</td>\n",
       "      <td>75</td>\n",
       "      <td>-13</td>\n",
       "      <td>17</td>\n",
       "      <td>27</td>\n",
       "      <td>0.63</td>\n",
       "      <td>0.89</td>\n",
       "      <td>82.4</td>\n",
       "      <td>15.4</td>\n",
       "      <td>9078</td>\n",
       "      <td>46</td>\n",
       "      <td>65.2</td>\n",
       "      <td>54</td>\n",
       "      <td>0.85</td>\n",
       "      <td>76.9</td>\n",
       "      <td>4.5</td>\n",
       "      <td>3</td>\n",
       "      <td>75</td>\n",
       "      <td>0.61</td>\n",
       "      <td>0.16</td>\n",
       "      <td>0.72</td>\n",
       "      <td>0.07</td>\n",
       "      <td>0.07</td>\n",
       "      <td>0.93</td>\n",
       "      <td>0.85</td>\n",
       "      <td>0.61</td>\n",
       "      <td>34</td>\n",
       "      <td>-8</td>\n",
       "      <td>4</td>\n",
       "      <td>14</td>\n",
       "      <td>0.29</td>\n",
       "      <td>0.62</td>\n",
       "      <td>50.0</td>\n",
       "      <td>5.0</td>\n",
       "      <td>13843</td>\n",
       "      <td>110</td>\n",
       "      <td>40.9</td>\n",
       "      <td>139</td>\n",
       "      <td>0.79</td>\n",
       "      <td>53.8</td>\n",
       "      <td>3.0</td>\n",
       "      <td>8</td>\n",
       "      <td>204</td>\n",
       "      <td>0.54</td>\n",
       "      <td>0.06</td>\n",
       "      <td>0.68</td>\n",
       "      <td>0.06</td>\n",
       "      <td>0.09</td>\n",
       "      <td>0.83</td>\n",
       "      <td>0.79</td>\n",
       "      <td>0.54</td>\n",
       "      <td>80</td>\n",
       "      <td>-29</td>\n",
       "      <td>15</td>\n",
       "      <td>20</td>\n",
       "      <td>0.75</td>\n",
       "      <td>0.87</td>\n",
       "      <td>53.3</td>\n",
       "      <td>8.2</td>\n",
       "      <td>15165</td>\n",
       "      <td>140</td>\n",
       "      <td>40.7</td>\n",
       "      <td>133</td>\n",
       "      <td>1.05</td>\n",
       "      <td>83.9</td>\n",
       "      <td>9.2</td>\n",
       "      <td>8</td>\n",
       "      <td>198</td>\n",
       "      <td>0.71</td>\n",
       "      <td>0.17</td>\n",
       "      <td>0.67</td>\n",
       "      <td>0.07</td>\n",
       "      <td>0.07</td>\n",
       "      <td>1.16</td>\n",
       "      <td>1.04</td>\n",
       "      <td>0.7</td>\n",
       "      <td>84</td>\n",
       "      <td>5</td>\n",
       "      <td>25</td>\n",
       "      <td>12</td>\n",
       "      <td>2.08</td>\n",
       "      <td>1.28</td>\n",
       "      <td>84.0</td>\n",
       "      <td>25.0</td>\n",
       "      <td>6665</td>\n",
       "      <td>Ancient</td>\n",
       "      <td>635</td>\n",
       "      <td>6665</td>\n",
       "      <td>7532</td>\n",
       "      <td>Ancient</td>\n",
       "      <td>1</td>\n",
       "      <td>448</td>\n",
       "      <td>6665</td>\n",
       "      <td>Ancient</td>\n",
       "      <td>0</td>\n",
       "    </tr>\n",
       "  </tbody>\n",
       "</table>\n",
       "</div>"
      ],
      "text/plain": [
       "   p1_id  p1_total_kills  p1_headshots  p1_total_deaths  p1_kd_ratio  p1_damage_per_round  p1_grenade_damage_per_round  p1_maps_played  p1_rounds_played  p1_kills_per_round  p1_assists_per_round  p1_deaths_per_round  p1_saved_by_teammate_per_round  p1_saved_teammates_per_round  p1_rating  p1_kill_death  p1_kill_round  p1_rounds_with_kills  p1_kill_death_difference  p1_total_opening_kills  p1_total_opening_deaths  p1_opening_kill_ratio  p1_opening_kill_rating  p1_team_win_percent_after_first_kill  p1_first_kill_in_won_rounds  p2_id  p2_total_kills  p2_headshots  p2_total_deaths  p2_kd_ratio  p2_damage_per_round  p2_grenade_damage_per_round  p2_maps_played  p2_rounds_played  p2_kills_per_round  p2_assists_per_round  p2_deaths_per_round  p2_saved_by_teammate_per_round  p2_saved_teammates_per_round  p2_rating  p2_kill_death  p2_kill_round  p2_rounds_with_kills  p2_kill_death_difference  p2_total_opening_kills  p2_total_opening_deaths  p2_opening_kill_ratio  p2_opening_kill_rating  \\\n",
       "0   4954              90          42.2              112          0.8                 76.3                          5.9               6               156                0.58                  0.24                 0.72                            0.13                          0.05       0.98            0.8           0.58                    62                       -22                      10                       13                   0.77                    0.85                                  60.0                          8.2   7412             106          35.8              119         0.89                 66.8                          5.6               7               181                0.59                  0.09                 0.66                            0.07                          0.06       0.91           0.89           0.59                    75                       -13                      17                       27                   0.63                    0.89   \n",
       "1   4954              90          42.2              112          0.8                 76.3                          5.9               6               156                0.58                  0.24                 0.72                            0.13                          0.05       0.98            0.8           0.58                    62                       -22                      10                       13                   0.77                    0.85                                  60.0                          8.2   7412             106          35.8              119         0.89                 66.8                          5.6               7               181                0.59                  0.09                 0.66                            0.07                          0.06       0.91           0.89           0.59                    75                       -13                      17                       27                   0.63                    0.89   \n",
       "2   4954              90          42.2              112          0.8                 76.3                          5.9               6               156                0.58                  0.24                 0.72                            0.13                          0.05       0.98            0.8           0.58                    62                       -22                      10                       13                   0.77                    0.85                                  60.0                          8.2   7412             106          35.8              119         0.89                 66.8                          5.6               7               181                0.59                  0.09                 0.66                            0.07                          0.06       0.91           0.89           0.59                    75                       -13                      17                       27                   0.63                    0.89   \n",
       "3   4954              90          42.2              112          0.8                 76.3                          5.9               6               156                0.58                  0.24                 0.72                            0.13                          0.05       0.98            0.8           0.58                    62                       -22                      10                       13                   0.77                    0.85                                  60.0                          8.2   7412             106          35.8              119         0.89                 66.8                          5.6               7               181                0.59                  0.09                 0.66                            0.07                          0.06       0.91           0.89           0.59                    75                       -13                      17                       27                   0.63                    0.89   \n",
       "4   4954              90          42.2              112          0.8                 76.3                          5.9               6               156                0.58                  0.24                 0.72                            0.13                          0.05       0.98            0.8           0.58                    62                       -22                      10                       13                   0.77                    0.85                                  60.0                          8.2   7412             106          35.8              119         0.89                 66.8                          5.6               7               181                0.59                  0.09                 0.66                            0.07                          0.06       0.91           0.89           0.59                    75                       -13                      17                       27                   0.63                    0.89   \n",
       "\n",
       "   p2_team_win_percent_after_first_kill  p2_first_kill_in_won_rounds  p3_id  p3_total_kills  p3_headshots  p3_total_deaths  p3_kd_ratio  p3_damage_per_round  p3_grenade_damage_per_round  p3_maps_played  p3_rounds_played  p3_kills_per_round  p3_assists_per_round  p3_deaths_per_round  p3_saved_by_teammate_per_round  p3_saved_teammates_per_round  p3_rating  p3_kill_death  p3_kill_round  p3_rounds_with_kills  p3_kill_death_difference  p3_total_opening_kills  p3_total_opening_deaths  p3_opening_kill_ratio  p3_opening_kill_rating  p3_team_win_percent_after_first_kill  p3_first_kill_in_won_rounds  p4_id  p4_total_kills  p4_headshots  p4_total_deaths  p4_kd_ratio  p4_damage_per_round  p4_grenade_damage_per_round  p4_maps_played  p4_rounds_played  p4_kills_per_round  p4_assists_per_round  p4_deaths_per_round  p4_saved_by_teammate_per_round  p4_saved_teammates_per_round  p4_rating  p4_kill_death  p4_kill_round  p4_rounds_with_kills  p4_kill_death_difference  p4_total_opening_kills  \\\n",
       "0                                  82.4                         15.4   9078              46          65.2               54         0.85                 76.9                          4.5               3                75                0.61                  0.16                 0.72                            0.07                          0.07       0.93           0.85           0.61                    34                        -8                       4                       14                   0.29                    0.62                                  50.0                          5.0  13843             110          40.9              139         0.79                 53.8                          3.0               8               204                0.54                  0.06                 0.68                            0.06                          0.09       0.83           0.79           0.54                    80                       -29                      15   \n",
       "1                                  82.4                         15.4   9078              46          65.2               54         0.85                 76.9                          4.5               3                75                0.61                  0.16                 0.72                            0.07                          0.07       0.93           0.85           0.61                    34                        -8                       4                       14                   0.29                    0.62                                  50.0                          5.0  13843             110          40.9              139         0.79                 53.8                          3.0               8               204                0.54                  0.06                 0.68                            0.06                          0.09       0.83           0.79           0.54                    80                       -29                      15   \n",
       "2                                  82.4                         15.4   9078              46          65.2               54         0.85                 76.9                          4.5               3                75                0.61                  0.16                 0.72                            0.07                          0.07       0.93           0.85           0.61                    34                        -8                       4                       14                   0.29                    0.62                                  50.0                          5.0  13843             110          40.9              139         0.79                 53.8                          3.0               8               204                0.54                  0.06                 0.68                            0.06                          0.09       0.83           0.79           0.54                    80                       -29                      15   \n",
       "3                                  82.4                         15.4   9078              46          65.2               54         0.85                 76.9                          4.5               3                75                0.61                  0.16                 0.72                            0.07                          0.07       0.93           0.85           0.61                    34                        -8                       4                       14                   0.29                    0.62                                  50.0                          5.0  13843             110          40.9              139         0.79                 53.8                          3.0               8               204                0.54                  0.06                 0.68                            0.06                          0.09       0.83           0.79           0.54                    80                       -29                      15   \n",
       "4                                  82.4                         15.4   9078              46          65.2               54         0.85                 76.9                          4.5               3                75                0.61                  0.16                 0.72                            0.07                          0.07       0.93           0.85           0.61                    34                        -8                       4                       14                   0.29                    0.62                                  50.0                          5.0  13843             110          40.9              139         0.79                 53.8                          3.0               8               204                0.54                  0.06                 0.68                            0.06                          0.09       0.83           0.79           0.54                    80                       -29                      15   \n",
       "\n",
       "   p4_total_opening_deaths  p4_opening_kill_ratio  p4_opening_kill_rating  p4_team_win_percent_after_first_kill  p4_first_kill_in_won_rounds  p5_id  p5_total_kills  p5_headshots  p5_total_deaths  p5_kd_ratio  p5_damage_per_round  p5_grenade_damage_per_round  p5_maps_played  p5_rounds_played  p5_kills_per_round  p5_assists_per_round  p5_deaths_per_round  p5_saved_by_teammate_per_round  p5_saved_teammates_per_round  p5_rating  p5_kill_death  p5_kill_round  p5_rounds_with_kills  p5_kill_death_difference  p5_total_opening_kills  p5_total_opening_deaths  p5_opening_kill_ratio  p5_opening_kill_rating  p5_team_win_percent_after_first_kill  p5_first_kill_in_won_rounds  team_id map_name_x  map_id_x  team1_id_x  team2_id map_name_y  who_win_x  map_id_y  team1_id_y map_name  who_win_y  \n",
       "0                       20                   0.75                    0.87                                  53.3                          8.2  15165             140          40.7              133         1.05                 83.9                          9.2               8               198                0.71                  0.17                 0.67                            0.07                          0.07       1.16           1.04            0.7                    84                         5                      25                       12                   2.08                    1.28                                  84.0                         25.0     6665    Ancient       635        6665      7532    Ancient          1       524        4608   Mirage          0  \n",
       "1                       20                   0.75                    0.87                                  53.3                          8.2  15165             140          40.7              133         1.05                 83.9                          9.2               8               198                0.71                  0.17                 0.67                            0.07                          0.07       1.16           1.04            0.7                    84                         5                      25                       12                   2.08                    1.28                                  84.0                         25.0     6665    Ancient       635        6665      7532    Ancient          1        98        9215   Mirage          1  \n",
       "2                       20                   0.75                    0.87                                  53.3                          8.2  15165             140          40.7              133         1.05                 83.9                          9.2               8               198                0.71                  0.17                 0.67                            0.07                          0.07       1.16           1.04            0.7                    84                         5                      25                       12                   2.08                    1.28                                  84.0                         25.0     6665    Ancient       635        6665      7532    Ancient          1       297        8297     Nuke          1  \n",
       "3                       20                   0.75                    0.87                                  53.3                          8.2  15165             140          40.7              133         1.05                 83.9                          9.2               8               198                0.71                  0.17                 0.67                            0.07                          0.07       1.16           1.04            0.7                    84                         5                      25                       12                   2.08                    1.28                                  84.0                         25.0     6665    Ancient       635        6665      7532    Ancient          1        58        4991  Vertigo          1  \n",
       "4                       20                   0.75                    0.87                                  53.3                          8.2  15165             140          40.7              133         1.05                 83.9                          9.2               8               198                0.71                  0.17                 0.67                            0.07                          0.07       1.16           1.04            0.7                    84                         5                      25                       12                   2.08                    1.28                                  84.0                         25.0     6665    Ancient       635        6665      7532    Ancient          1       448        6665  Ancient          0  "
      ]
     },
     "execution_count": 32,
     "metadata": {},
     "output_type": "execute_result"
    }
   ],
   "source": [
    "merge_ord.head()"
   ]
  },
  {
   "cell_type": "markdown",
   "id": "499802a0",
   "metadata": {},
   "source": [
    "**XGBoost**"
   ]
  },
  {
   "cell_type": "code",
   "execution_count": 33,
   "id": "de11a7f4",
   "metadata": {},
   "outputs": [],
   "source": [
    "merge_ord = cs.merge(cs_train, left_on=['map_id','team_id'], right_on=['map_id','team1_id'], how='inner' ).merge(cs_train, on='team2_id', how='left')"
   ]
  },
  {
   "cell_type": "code",
   "execution_count": 34,
   "id": "8746cd2c",
   "metadata": {},
   "outputs": [],
   "source": [
    "X = merge_ord[FEATURES]\n",
    "y = merge_ord[TARGET]  "
   ]
  },
  {
   "cell_type": "code",
   "execution_count": 35,
   "id": "d450450e",
   "metadata": {},
   "outputs": [],
   "source": [
    "categorical_pipeline = Pipeline(\n",
    "    steps=[\n",
    "        (\"impute\", SimpleImputer(strategy=\"most_frequent\")),\n",
    "        (\"oh-encode\", OneHotEncoder(handle_unknown=\"ignore\", sparse=False)),\n",
    "    ]\n",
    ")"
   ]
  },
  {
   "cell_type": "code",
   "execution_count": 36,
   "id": "178508c6",
   "metadata": {},
   "outputs": [],
   "source": [
    "numeric_pipeline = Pipeline(\n",
    "    steps=[(\"impute\", SimpleImputer(strategy=\"mean\")), \n",
    "           (\"scale\", StandardScaler())]\n",
    ")"
   ]
  },
  {
   "cell_type": "code",
   "execution_count": 37,
   "id": "ae8d560d",
   "metadata": {},
   "outputs": [],
   "source": [
    "cat_cols = X.select_dtypes(exclude=\"number\").columns\n",
    "num_cols = X.select_dtypes(include=\"number\").columns"
   ]
  },
  {
   "cell_type": "code",
   "execution_count": 38,
   "id": "679fa3dc",
   "metadata": {},
   "outputs": [],
   "source": [
    "full_processor = ColumnTransformer(\n",
    "    transformers=[\n",
    "        (\"numeric\", numeric_pipeline, num_cols),\n",
    "        (\"categorical\", categorical_pipeline, cat_cols),\n",
    "    ]\n",
    ")"
   ]
  },
  {
   "cell_type": "code",
   "execution_count": 39,
   "id": "6d426900",
   "metadata": {},
   "outputs": [],
   "source": [
    "xgb_cl = xgb.XGBClassifier()\n"
   ]
  },
  {
   "cell_type": "code",
   "execution_count": 40,
   "id": "4b5a3551",
   "metadata": {},
   "outputs": [],
   "source": [
    "X_processed = full_processor.fit_transform(X)\n",
    "y_processed = SimpleImputer(strategy=\"most_frequent\").fit_transform(\n",
    "    y.values.reshape(-1, 1)\n",
    ")\n",
    "\n",
    "\n",
    "X_train, X_test, y_train, y_test = train_test_split(\n",
    "    X_processed, y_processed, stratify=y_processed, random_state=12345\n",
    ")"
   ]
  },
  {
   "cell_type": "code",
   "execution_count": 41,
   "id": "a65cd96f",
   "metadata": {},
   "outputs": [
    {
     "data": {
      "text/plain": [
       "0.9954128440366973"
      ]
     },
     "execution_count": 41,
     "metadata": {},
     "output_type": "execute_result"
    }
   ],
   "source": [
    "xgb_cl = xgb.XGBClassifier()\n",
    "\n",
    "xgb_cl.fit(X_train, y_train)\n",
    "\n",
    "preds = xgb_cl.predict(X_test)\n",
    "\n",
    "accuracy_score(y_test, preds)"
   ]
  },
  {
   "cell_type": "code",
   "execution_count": 42,
   "id": "fcf4d02d",
   "metadata": {},
   "outputs": [],
   "source": [
    "param_grid = {\n",
    "    \"max_depth\": [3, 4, 5, 7],\n",
    "    \"learning_rate\": [0.1, 0.01, 0.05],\n",
    "    \"gamma\": [0, 0.25, 1],\n",
    "    \"reg_lambda\": [0, 1, 10],\n",
    "    \"scale_pos_weight\": [1, 3, 5],\n",
    "    \"subsample\": [0.8],\n",
    "    \"colsample_bytree\": [0.5],\n",
    "}"
   ]
  },
  {
   "cell_type": "code",
   "execution_count": 43,
   "id": "f857b30b",
   "metadata": {},
   "outputs": [
    {
     "data": {
      "text/plain": [
       "{'colsample_bytree': 0.5,\n",
       " 'gamma': 0,\n",
       " 'learning_rate': 0.1,\n",
       " 'max_depth': 3,\n",
       " 'reg_lambda': 0,\n",
       " 'scale_pos_weight': 1,\n",
       " 'subsample': 0.8}"
      ]
     },
     "execution_count": 43,
     "metadata": {},
     "output_type": "execute_result"
    }
   ],
   "source": [
    "# XGB классифиер\n",
    "xgb_cl = xgb.XGBClassifier(objective=\"binary:logistic\")\n",
    "\n",
    "# подбираем гиперпараметры Grid Search\n",
    "grid_cv = GridSearchCV(xgb_cl, param_grid, n_jobs=-1, cv=3, scoring=\"roc_auc\")\n",
    "\n",
    "_ = grid_cv.fit(X_processed, y_processed)\n",
    "\n",
    "grid_cv.best_score_\n",
    "grid_cv.best_params_"
   ]
  },
  {
   "cell_type": "markdown",
   "id": "7d62fd64",
   "metadata": {},
   "source": [
    "# Тестирование модели"
   ]
  },
  {
   "cell_type": "code",
   "execution_count": 44,
   "id": "7bbce141",
   "metadata": {},
   "outputs": [],
   "source": [
    "final_cl = xgb.XGBClassifier(\n",
    "    gamma=5,\n",
    "    learning_rate=0.1,\n",
    "    max_depth=3,\n",
    "    reg_lambda=0,\n",
    "    scale_pos_weight=1,\n",
    "    objective=\"binary:logistic\",\n",
    "    colsample_bytree=0.5,\n",
    "    subsample=0.8\n",
    ")"
   ]
  },
  {
   "cell_type": "code",
   "execution_count": 45,
   "id": "dffa0e01",
   "metadata": {},
   "outputs": [
    {
     "name": "stdout",
     "output_type": "stream",
     "text": [
      "0.8936859147328656\n"
     ]
    }
   ],
   "source": [
    "_ = final_cl.fit(X_train, y_train)\n",
    "\n",
    "preds = final_cl.predict(X_test)\n",
    "print(accuracy_score(y_test, preds))"
   ]
  },
  {
   "cell_type": "code",
   "execution_count": 46,
   "id": "2a71b8ea",
   "metadata": {},
   "outputs": [],
   "source": [
    "def my_plot_importance(booster, figsize, **kwargs):\n",
    "    from matplotlib import pyplot as plt\n",
    "    from xgboost import plot_importance\n",
    "    fig, ax = plt.subplots(1,1,figsize=figsize)\n",
    "    return plot_importance(booster=booster, ax=ax, **kwargs)"
   ]
  },
  {
   "cell_type": "code",
   "execution_count": 47,
   "id": "4c89acf5",
   "metadata": {},
   "outputs": [
    {
     "data": {
      "text/plain": [
       "<AxesSubplot:title={'center':'Feature importance'}, xlabel='F score', ylabel='Features'>"
      ]
     },
     "execution_count": 47,
     "metadata": {},
     "output_type": "execute_result"
    },
    {
     "data": {
      "image/png": "[encoded data removed]",
      "text/plain": [
       "<Figure size 1008x504 with 1 Axes>"
      ]
     },
     "metadata": {},
     "output_type": "display_data"
    }
   ],
   "source": [
    "my_plot_importance(final_cl, figsize=(14, 7))"
   ]
  },
  {
   "cell_type": "markdown",
   "id": "7481255a",
   "metadata": {},
   "source": [
    "**Вывод**"
   ]
  },
  {
   "cell_type": "markdown",
   "id": "1fe1948a",
   "metadata": {},
   "source": [
    "Результат Моделей\n",
    "\n",
    "\n",
    "* AUC Случайный лес: 0.7724198668714798 на валидионной выборке\n",
    "\n",
    "\n",
    "*  AUC XGBoost 0.8936859147328656\n",
    "\n"
   ]
  },
  {
   "cell_type": "code",
   "execution_count": null,
   "id": "392264ed",
   "metadata": {},
   "outputs": [],
   "source": []
  }
 ],
 "metadata": {
  "kernelspec": {
   "display_name": "Python 3 (ipykernel)",
   "language": "python",
   "name": "python3"
  },
  "language_info": {
   "codemirror_mode": {
    "name": "ipython",
    "version": 3
   },
   "file_extension": ".py",
   "mimetype": "text/x-python",
   "name": "python",
   "nbconvert_exporter": "python",
   "pygments_lexer": "ipython3",
   "version": "3.9.12"
  }
 },
 "nbformat": 4,
 "nbformat_minor": 5
}
